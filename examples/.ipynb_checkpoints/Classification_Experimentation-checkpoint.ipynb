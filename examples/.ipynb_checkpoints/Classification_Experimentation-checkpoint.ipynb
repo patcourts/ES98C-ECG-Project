{
 "cells": [
  {
   "cell_type": "markdown",
   "metadata": {},
   "source": [
    "This notebook exists to experiment with different methods for classification"
   ]
  },
  {
   "cell_type": "code",
   "execution_count": 1,
   "metadata": {},
   "outputs": [
    {
     "name": "stderr",
     "output_type": "stream",
     "text": [
      "100%|████████████████████████████████████████████████████████████████████████████████| 549/549 [00:08<00:00, 64.48it/s]\n",
      "100%|███████████████████████████████████████████████████████████████████████████████| 202/202 [00:00<00:00, 237.05it/s]\n"
     ]
    }
   ],
   "source": [
    "%run \"Feature_Selection.ipynb\" "
   ]
  },
  {
   "cell_type": "code",
   "execution_count": 2,
   "metadata": {},
   "outputs": [],
   "source": [
    "from sklearn.model_selection import train_test_split\n",
    "from sklearn.svm import SVC\n",
    "from sklearn.metrics import accuracy_score, classification_report\n",
    "from sklearn.preprocessing import StandardScaler\n",
    "from sklearn.decomposition import PCA"
   ]
  },
  {
   "cell_type": "code",
   "execution_count": 3,
   "metadata": {},
   "outputs": [
    {
     "name": "stdout",
     "output_type": "stream",
     "text": [
      "202\n"
     ]
    }
   ],
   "source": [
    "health_state = allowed_patients.get_diagnoses()\n",
    "\n",
    "encoded_health_state = [True if label == 'Unhealthy' else False for label in health_state]\n",
    "\n",
    "print(len(health_state))"
   ]
  },
  {
   "cell_type": "markdown",
   "metadata": {},
   "source": [
    "## SVM"
   ]
  },
  {
   "cell_type": "code",
   "execution_count": 4,
   "metadata": {
    "code_folding": []
   },
   "outputs": [
    {
     "name": "stdout",
     "output_type": "stream",
     "text": [
      "[[ 3.59814926e+00]\n",
      " [ 3.40976803e+00]\n",
      " [ 2.09016303e+00]\n",
      " [ 8.59284492e+00]\n",
      " [ 6.84643085e+00]\n",
      " [ 1.41721106e+01]\n",
      " [ 1.83739075e+01]\n",
      " [ 3.30304554e+00]\n",
      " [ 6.34594992e+00]\n",
      " [ 1.79516388e+01]\n",
      " [ 1.65761481e+01]\n",
      " [ 1.80630309e+01]\n",
      " [ 2.51633679e+01]\n",
      " [ 9.42859279e+00]\n",
      " [ 1.57471829e+01]\n",
      " [ 9.63279317e+00]\n",
      " [ 5.52476317e+00]\n",
      " [ 1.38431217e+01]\n",
      " [ 1.72186198e+01]\n",
      " [ 1.23860823e+01]\n",
      " [ 1.68937720e+01]\n",
      " [ 1.42008653e+01]\n",
      " [ 1.26775316e+01]\n",
      " [ 1.98349474e+01]\n",
      " [ 9.44022765e+00]\n",
      " [ 1.22941937e+01]\n",
      " [ 7.47302836e+00]\n",
      " [ 1.12364574e+01]\n",
      " [ 1.31506514e+01]\n",
      " [ 9.95356105e+00]\n",
      " [ 1.45779778e+01]\n",
      " [ 1.90225555e+01]\n",
      " [ 2.47351608e+01]\n",
      " [ 2.24477170e+01]\n",
      " [ 1.26269813e+01]\n",
      " [ 1.53567284e+01]\n",
      " [ 1.12440616e+01]\n",
      " [ 1.23078099e+01]\n",
      " [ 9.28140205e+00]\n",
      " [ 4.20085398e+00]\n",
      " [ 1.44510943e+01]\n",
      " [ 5.40146750e+00]\n",
      " [ 9.72382279e+00]\n",
      " [ 1.81259084e+01]\n",
      " [ 2.06150498e+01]\n",
      " [ 1.39247441e+01]\n",
      " [ 2.96907204e+00]\n",
      " [ 1.55597593e+01]\n",
      " [ 1.08377665e+01]\n",
      " [ 1.90860085e+01]\n",
      " [ 1.56418283e+01]\n",
      " [ 1.40067642e+01]\n",
      " [ 1.16932950e+01]\n",
      " [ 1.54997721e+01]\n",
      " [ 1.48707516e+01]\n",
      " [ 1.53159794e+01]\n",
      " [ 1.18645896e+01]\n",
      " [ 5.27704724e-01]\n",
      " [ 1.95511905e+00]\n",
      " [ 5.80955909e+00]\n",
      " [ 1.65813552e+01]\n",
      " [ 4.04425427e+00]\n",
      " [ 1.67181980e+01]\n",
      " [ 1.08678657e+01]\n",
      " [ 9.21615227e+00]\n",
      " [ 2.51570211e+01]\n",
      " [ 4.10441632e+00]\n",
      " [ 2.24312221e+01]\n",
      " [ 1.61479216e+01]\n",
      " [ 1.26070207e+01]\n",
      " [ 1.58859093e+01]\n",
      " [ 1.52825922e+01]\n",
      " [ 1.95494870e+01]\n",
      " [ 2.38597240e+01]\n",
      " [ 1.99288913e+01]\n",
      " [ 2.31426754e+01]\n",
      " [ 3.17796542e+01]\n",
      " [ 1.64116622e+01]\n",
      " [ 3.38499540e+00]\n",
      " [ 1.66620682e+01]\n",
      " [ 5.97498259e+00]\n",
      " [ 9.35250205e+00]\n",
      " [ 1.40222798e+01]\n",
      " [ 9.70241980e+00]\n",
      " [ 6.60655190e+00]\n",
      " [ 1.35187645e+01]\n",
      " [ 2.13123379e+01]\n",
      " [ 1.17563479e+01]\n",
      " [ 8.52985433e+00]\n",
      " [ 3.20749701e+01]\n",
      " [ 1.21537729e+01]\n",
      " [ 1.71164142e+01]\n",
      " [ 1.15192783e+01]\n",
      " [ 1.94564810e+01]\n",
      " [ 1.75334143e+01]\n",
      " [ 1.63275798e+01]\n",
      " [ 1.50414450e+01]\n",
      " [ 9.75011387e+00]\n",
      " [ 1.26253476e+01]\n",
      " [ 1.44845732e+01]\n",
      " [ 1.22405232e+01]\n",
      " [ 8.66685647e+00]\n",
      " [ 2.00985076e+01]\n",
      " [ 2.11414065e+01]\n",
      " [ 2.35612338e+01]\n",
      " [ 1.80467071e+01]\n",
      " [ 1.61313860e+01]\n",
      " [ 2.61925255e+01]\n",
      " [ 2.64049661e+01]\n",
      " [ 6.08991738e+00]\n",
      " [ 2.29938739e+01]\n",
      " [ 2.75612138e+01]\n",
      " [ 1.28119726e+01]\n",
      " [ 1.57827790e+01]\n",
      " [ 2.20197838e+01]\n",
      " [ 1.89166548e+01]\n",
      " [ 2.82223246e+00]\n",
      " [ 1.60016522e+01]\n",
      " [ 7.89885846e+00]\n",
      " [ 2.23735718e+01]\n",
      " [ 1.95745341e+01]\n",
      " [ 8.33200079e+00]\n",
      " [ 1.47472338e+01]\n",
      " [ 2.71247941e+01]\n",
      " [ 1.40359794e+01]\n",
      " [ 7.88337514e+00]\n",
      " [ 9.33368756e+00]\n",
      " [ 5.20935652e+00]\n",
      " [ 5.29960292e+00]\n",
      " [ 7.42405707e+00]\n",
      " [ 1.93933778e+01]\n",
      " [ 1.64269986e+01]\n",
      " [ 1.08382089e+01]\n",
      " [ 8.82230824e+00]\n",
      " [ 4.92283047e+00]\n",
      " [ 2.34405456e+01]\n",
      " [ 8.31458339e+00]\n",
      " [ 1.12698374e+01]\n",
      " [-6.90067751e-03]\n",
      " [ 1.05810746e+01]\n",
      " [ 1.73408658e+01]\n",
      " [ 1.97137054e+01]\n",
      " [ 2.73931744e+01]\n",
      " [ 4.77300704e+00]\n",
      " [ 1.93730082e+00]\n",
      " [ 1.41307673e+01]\n",
      " [ 1.77749051e+01]\n",
      " [ 3.57172755e+01]\n",
      " [ 1.88034187e+01]\n",
      " [ 4.10151134e+00]\n",
      " [ 3.85617765e+00]\n",
      " [ 2.36045343e+00]\n",
      " [ 2.07398965e+01]\n",
      " [ 2.61528664e+01]\n",
      " [ 2.07284517e+01]\n",
      " [ 2.07258144e+01]\n",
      " [ 1.94027445e+01]\n",
      " [ 1.63736772e+01]\n",
      " [ 2.28547930e+01]\n",
      " [ 2.08377417e+01]\n",
      " [ 2.46962838e+01]\n",
      " [ 4.92128499e+00]\n",
      " [ 1.04911581e+01]\n",
      " [ 1.38113856e+01]\n",
      " [ 2.16967192e+01]\n",
      " [ 2.38363732e+01]\n",
      " [ 1.46330647e+01]\n",
      " [ 2.21120457e+01]\n",
      " [ 1.94928721e+01]\n",
      " [ 1.98921583e+01]\n",
      " [ 1.17319718e+01]\n",
      " [ 2.35870619e+01]\n",
      " [ 2.60796389e+01]\n",
      " [ 1.60607332e+01]\n",
      " [ 6.17655305e+00]\n",
      " [ 1.69626941e+01]\n",
      " [ 1.54095882e+01]\n",
      " [ 2.33651924e+01]\n",
      " [ 1.38154353e+01]\n",
      " [ 2.23799199e+01]\n",
      " [ 1.58796576e+01]\n",
      " [ 2.05074774e+01]\n",
      " [ 1.38750565e+01]\n",
      " [ 1.65101475e+01]\n",
      " [ 2.25269348e+01]\n",
      " [ 1.09800700e+01]\n",
      " [ 8.80563459e+00]\n",
      " [ 2.01081592e+01]\n",
      " [ 5.97873934e+00]\n",
      " [ 2.13700446e+01]\n",
      " [ 3.62474997e+01]\n",
      " [ 7.62465658e+00]\n",
      " [ 2.10138480e+01]\n",
      " [ 1.46735744e+01]\n",
      " [ 2.62565063e+01]\n",
      " [ 1.22358482e+01]\n",
      " [ 1.77562426e+01]\n",
      " [ 1.67593118e+01]\n",
      " [ 1.33694818e+01]\n",
      " [ 1.39065528e+01]\n",
      " [ 1.03140261e+01]\n",
      " [ 1.84349631e+01]]\n"
     ]
    }
   ],
   "source": [
    "def convert_dict_to_array(selected_params):\n",
    "    no_features = len(selected_params)\n",
    "    selected_params_array = np.zeros((no_patients, no_features))\n",
    "    \n",
    "    for i, values in enumerate(selected_params.values()):\n",
    "        selected_params_array[:, i] = values\n",
    "    return selected_params_array, no_features\n",
    "        \n",
    "selected_params_array, no_features = convert_dict_to_array(selected_params)\n",
    "print(selected_params_array)"
   ]
  },
  {
   "cell_type": "markdown",
   "metadata": {},
   "source": [
    "need to weight the train and test sets to cope with difference with numbers of healthy and unhealthy, stratified k-fold validation"
   ]
  },
  {
   "cell_type": "code",
   "execution_count": 6,
   "metadata": {
    "scrolled": true
   },
   "outputs": [
    {
     "name": "stdout",
     "output_type": "stream",
     "text": [
      "[[0.30086271 0.69913729]\n",
      " [0.23360425 0.76639575]\n",
      " [0.21455691 0.78544309]\n",
      " [0.21472765 0.78527235]\n",
      " [0.31071249 0.68928751]\n",
      " [0.28279619 0.71720381]\n",
      " [0.22607311 0.77392689]\n",
      " [0.21466043 0.78533957]\n",
      " [0.21469077 0.78530923]\n",
      " [0.21426438 0.78573562]\n",
      " [0.21409692 0.78590308]\n",
      " [0.21466313 0.78533687]\n",
      " [0.26472496 0.73527504]\n",
      " [0.2145474  0.7854526 ]\n",
      " [0.21463023 0.78536977]\n",
      " [0.25555711 0.74444289]\n",
      " [0.2146893  0.7853107 ]\n",
      " [0.21474601 0.78525399]\n",
      " [0.21442512 0.78557488]\n",
      " [0.21467715 0.78532285]\n",
      " [0.22137009 0.77862991]\n",
      " [0.22311064 0.77688936]\n",
      " [0.30165406 0.69834594]\n",
      " [0.21475888 0.78524112]\n",
      " [0.21474331 0.78525669]\n",
      " [0.21470243 0.78529757]\n",
      " [0.214671   0.785329  ]\n",
      " [0.21475462 0.78524538]\n",
      " [0.21473822 0.78526178]\n",
      " [0.2156903  0.7843097 ]\n",
      " [0.2147006  0.7852994 ]\n",
      " [0.26904475 0.73095525]\n",
      " [0.21393304 0.78606696]\n",
      " [0.21470966 0.78529034]\n",
      " [0.21462155 0.78537845]\n",
      " [0.2487424  0.7512576 ]\n",
      " [0.21475826 0.78524174]\n",
      " [0.21475282 0.78524718]\n",
      " [0.22304525 0.77695475]\n",
      " [0.21399066 0.78600934]\n",
      " [0.21469318 0.78530682]\n",
      " [0.2147466  0.7852534 ]\n",
      " [0.22171578 0.77828422]\n",
      " [0.21476652 0.78523348]\n",
      " [0.21476606 0.78523394]\n",
      " [0.21467615 0.78532385]\n",
      " [0.21396695 0.78603305]\n",
      " [0.2199188  0.7800812 ]\n",
      " [0.24669537 0.75330463]\n",
      " [0.21422971 0.78577029]\n",
      " [0.21462459 0.78537541]\n",
      " [0.21978957 0.78021043]\n",
      " [0.23793117 0.76206883]\n",
      " [0.21474644 0.78525356]\n",
      " [0.2139283  0.7860717 ]\n",
      " [0.21470691 0.78529309]\n",
      " [0.21671276 0.78328724]\n",
      " [0.21470603 0.78529397]\n",
      " [0.214503   0.785497  ]\n",
      " [0.21462117 0.78537883]\n",
      " [0.30951194 0.69048806]]\n",
      "Accuracy: 0.7704918032786885\n",
      "['Unhealthy', 'Healthy', 'Unhealthy', 'Unhealthy', 'Unhealthy', 'Unhealthy', 'Healthy', 'Unhealthy', 'Unhealthy', 'Unhealthy', 'Healthy', 'Unhealthy', 'Healthy', 'Unhealthy', 'Unhealthy', 'Healthy', 'Unhealthy', 'Unhealthy', 'Unhealthy', 'Unhealthy', 'Unhealthy', 'Unhealthy', 'Healthy', 'Unhealthy', 'Unhealthy', 'Unhealthy', 'Unhealthy', 'Unhealthy', 'Unhealthy', 'Unhealthy', 'Unhealthy', 'Unhealthy', 'Unhealthy', 'Unhealthy', 'Unhealthy', 'Healthy', 'Unhealthy', 'Unhealthy', 'Healthy', 'Unhealthy', 'Unhealthy', 'Unhealthy', 'Unhealthy', 'Unhealthy', 'Unhealthy', 'Healthy', 'Unhealthy', 'Unhealthy', 'Unhealthy', 'Unhealthy', 'Unhealthy', 'Unhealthy', 'Healthy', 'Healthy', 'Unhealthy', 'Unhealthy', 'Healthy', 'Healthy', 'Healthy', 'Unhealthy', 'Unhealthy'] ['Unhealthy' 'Unhealthy' 'Unhealthy' 'Unhealthy' 'Unhealthy' 'Unhealthy'\n",
      " 'Unhealthy' 'Unhealthy' 'Unhealthy' 'Unhealthy' 'Unhealthy' 'Unhealthy'\n",
      " 'Unhealthy' 'Unhealthy' 'Unhealthy' 'Unhealthy' 'Unhealthy' 'Unhealthy'\n",
      " 'Unhealthy' 'Unhealthy' 'Unhealthy' 'Unhealthy' 'Unhealthy' 'Unhealthy'\n",
      " 'Unhealthy' 'Unhealthy' 'Unhealthy' 'Unhealthy' 'Unhealthy' 'Unhealthy'\n",
      " 'Unhealthy' 'Unhealthy' 'Unhealthy' 'Unhealthy' 'Unhealthy' 'Unhealthy'\n",
      " 'Unhealthy' 'Unhealthy' 'Unhealthy' 'Unhealthy' 'Unhealthy' 'Unhealthy'\n",
      " 'Unhealthy' 'Unhealthy' 'Unhealthy' 'Unhealthy' 'Unhealthy' 'Unhealthy'\n",
      " 'Unhealthy' 'Unhealthy' 'Unhealthy' 'Unhealthy' 'Unhealthy' 'Unhealthy'\n",
      " 'Unhealthy' 'Unhealthy' 'Unhealthy' 'Unhealthy' 'Unhealthy' 'Unhealthy'\n",
      " 'Unhealthy']\n"
     ]
    }
   ],
   "source": [
    "#splitting the data into train and test sets\n",
    "X_train, X_test, y_train, y_test = train_test_split(selected_params_array, health_state, test_size=0.3, stratify=health_state)\n",
    "\n",
    "#init and train model, using radial basis functions\n",
    "svm_model = SVC(kernel='rbf', gamma='scale', probability=True)  #'scale' normalises data, prevents overfitting\n",
    "#probability = True allows calculation of probabilities through 5-fold CV\n",
    "\n",
    "svm_model.fit(X_train, y_train)\n",
    "\n",
    "#predicting probabilities\n",
    "probabilities = svm_model.predict_proba(X_test)\n",
    "print(probabilities)\n",
    "\n",
    "\n",
    "#predictions\n",
    "y_pred = svm_model.predict(X_test)\n",
    "\n",
    "#evaluating accuracy of the model\n",
    "accuracy = accuracy_score(y_test, y_pred)\n",
    "print(\"Accuracy:\", accuracy)\n",
    "\n",
    "print(y_test, y_pred)\n",
    "\n",
    "#view a classification report\n",
    "# print(\"Classification Report:\")\n",
    "# print(classification_report(y_test, y_pred))"
   ]
  },
  {
   "cell_type": "markdown",
   "metadata": {},
   "source": []
  },
  {
   "cell_type": "markdown",
   "metadata": {},
   "source": [
    "### Hyper Parameter Tuning\n",
    "- c is inversely proportional to l2 regularisation parameter\n",
    "- gamma determines scaling of features\n"
   ]
  },
  {
   "cell_type": "code",
   "execution_count": 7,
   "metadata": {},
   "outputs": [
    {
     "name": "stdout",
     "output_type": "stream",
     "text": [
      "{'C': 1, 'gamma': 'auto', 'kernel': 'rbf'}\n"
     ]
    },
    {
     "data": {
      "text/html": [
       "<style>#sk-container-id-1 {color: black;}#sk-container-id-1 pre{padding: 0;}#sk-container-id-1 div.sk-toggleable {background-color: white;}#sk-container-id-1 label.sk-toggleable__label {cursor: pointer;display: block;width: 100%;margin-bottom: 0;padding: 0.3em;box-sizing: border-box;text-align: center;}#sk-container-id-1 label.sk-toggleable__label-arrow:before {content: \"▸\";float: left;margin-right: 0.25em;color: #696969;}#sk-container-id-1 label.sk-toggleable__label-arrow:hover:before {color: black;}#sk-container-id-1 div.sk-estimator:hover label.sk-toggleable__label-arrow:before {color: black;}#sk-container-id-1 div.sk-toggleable__content {max-height: 0;max-width: 0;overflow: hidden;text-align: left;background-color: #f0f8ff;}#sk-container-id-1 div.sk-toggleable__content pre {margin: 0.2em;color: black;border-radius: 0.25em;background-color: #f0f8ff;}#sk-container-id-1 input.sk-toggleable__control:checked~div.sk-toggleable__content {max-height: 200px;max-width: 100%;overflow: auto;}#sk-container-id-1 input.sk-toggleable__control:checked~label.sk-toggleable__label-arrow:before {content: \"▾\";}#sk-container-id-1 div.sk-estimator input.sk-toggleable__control:checked~label.sk-toggleable__label {background-color: #d4ebff;}#sk-container-id-1 div.sk-label input.sk-toggleable__control:checked~label.sk-toggleable__label {background-color: #d4ebff;}#sk-container-id-1 input.sk-hidden--visually {border: 0;clip: rect(1px 1px 1px 1px);clip: rect(1px, 1px, 1px, 1px);height: 1px;margin: -1px;overflow: hidden;padding: 0;position: absolute;width: 1px;}#sk-container-id-1 div.sk-estimator {font-family: monospace;background-color: #f0f8ff;border: 1px dotted black;border-radius: 0.25em;box-sizing: border-box;margin-bottom: 0.5em;}#sk-container-id-1 div.sk-estimator:hover {background-color: #d4ebff;}#sk-container-id-1 div.sk-parallel-item::after {content: \"\";width: 100%;border-bottom: 1px solid gray;flex-grow: 1;}#sk-container-id-1 div.sk-label:hover label.sk-toggleable__label {background-color: #d4ebff;}#sk-container-id-1 div.sk-serial::before {content: \"\";position: absolute;border-left: 1px solid gray;box-sizing: border-box;top: 0;bottom: 0;left: 50%;z-index: 0;}#sk-container-id-1 div.sk-serial {display: flex;flex-direction: column;align-items: center;background-color: white;padding-right: 0.2em;padding-left: 0.2em;position: relative;}#sk-container-id-1 div.sk-item {position: relative;z-index: 1;}#sk-container-id-1 div.sk-parallel {display: flex;align-items: stretch;justify-content: center;background-color: white;position: relative;}#sk-container-id-1 div.sk-item::before, #sk-container-id-1 div.sk-parallel-item::before {content: \"\";position: absolute;border-left: 1px solid gray;box-sizing: border-box;top: 0;bottom: 0;left: 50%;z-index: -1;}#sk-container-id-1 div.sk-parallel-item {display: flex;flex-direction: column;z-index: 1;position: relative;background-color: white;}#sk-container-id-1 div.sk-parallel-item:first-child::after {align-self: flex-end;width: 50%;}#sk-container-id-1 div.sk-parallel-item:last-child::after {align-self: flex-start;width: 50%;}#sk-container-id-1 div.sk-parallel-item:only-child::after {width: 0;}#sk-container-id-1 div.sk-dashed-wrapped {border: 1px dashed gray;margin: 0 0.4em 0.5em 0.4em;box-sizing: border-box;padding-bottom: 0.4em;background-color: white;}#sk-container-id-1 div.sk-label label {font-family: monospace;font-weight: bold;display: inline-block;line-height: 1.2em;}#sk-container-id-1 div.sk-label-container {text-align: center;}#sk-container-id-1 div.sk-container {/* jupyter's `normalize.less` sets `[hidden] { display: none; }` but bootstrap.min.css set `[hidden] { display: none !important; }` so we also need the `!important` here to be able to override the default hidden behavior on the sphinx rendered scikit-learn.org. See: https://github.com/scikit-learn/scikit-learn/issues/21755 */display: inline-block !important;position: relative;}#sk-container-id-1 div.sk-text-repr-fallback {display: none;}</style><div id=\"sk-container-id-1\" class=\"sk-top-container\"><div class=\"sk-text-repr-fallback\"><pre>SVC(C=1, gamma=&#x27;auto&#x27;)</pre><b>In a Jupyter environment, please rerun this cell to show the HTML representation or trust the notebook. <br />On GitHub, the HTML representation is unable to render, please try loading this page with nbviewer.org.</b></div><div class=\"sk-container\" hidden><div class=\"sk-item\"><div class=\"sk-estimator sk-toggleable\"><input class=\"sk-toggleable__control sk-hidden--visually\" id=\"sk-estimator-id-1\" type=\"checkbox\" checked><label for=\"sk-estimator-id-1\" class=\"sk-toggleable__label sk-toggleable__label-arrow\">SVC</label><div class=\"sk-toggleable__content\"><pre>SVC(C=1, gamma=&#x27;auto&#x27;)</pre></div></div></div></div></div>"
      ],
      "text/plain": [
       "SVC(C=1, gamma='auto')"
      ]
     },
     "execution_count": 7,
     "metadata": {},
     "output_type": "execute_result"
    }
   ],
   "source": [
    "from sklearn.model_selection import GridSearchCV\n",
    "\n",
    "# Define parameter grid\n",
    "param_grid = {\n",
    "    'C': [0.01, 0.1, 1, 10],\n",
    "    'kernel': ['linear', 'rbf'],\n",
    "    'gamma': ['scale', 'auto']\n",
    "}\n",
    "\n",
    "# Initialize SVM\n",
    "svc = SVC()\n",
    "\n",
    "# Perform grid search\n",
    "grid_search = GridSearchCV(svc, param_grid, cv=5)\n",
    "grid_search.fit(X_train, y_train)\n",
    "\n",
    "# Best parameters\n",
    "print(grid_search.best_params_)\n",
    "\n",
    "# Train with best parameters\n",
    "best_svc = grid_search.best_estimator_\n",
    "best_svc.fit(X_train, y_train)"
   ]
  },
  {
   "cell_type": "code",
   "execution_count": 8,
   "metadata": {},
   "outputs": [
    {
     "name": "stdout",
     "output_type": "stream",
     "text": [
      "Accuracy: 0.7868852459016393\n"
     ]
    }
   ],
   "source": [
    "#predictions\n",
    "y_pred = best_svc.predict(X_test)\n",
    "\n",
    "#evaluating accuracy of the model\n",
    "accuracy = accuracy_score(y_test, y_pred)\n",
    "print(\"Accuracy:\", accuracy)"
   ]
  },
  {
   "cell_type": "code",
   "execution_count": 11,
   "metadata": {},
   "outputs": [
    {
     "name": "stdout",
     "output_type": "stream",
     "text": [
      "['Unhealthy' 'Healthy' 'Unhealthy' 'Unhealthy' 'Healthy' 'Unhealthy'\n",
      " 'Healthy' 'Unhealthy' 'Unhealthy' 'Unhealthy' 'Unhealthy' 'Unhealthy'\n",
      " 'Unhealthy' 'Unhealthy' 'Unhealthy' 'Unhealthy' 'Unhealthy' 'Unhealthy'\n",
      " 'Unhealthy' 'Unhealthy' 'Unhealthy' 'Unhealthy' 'Unhealthy' 'Unhealthy'\n",
      " 'Unhealthy' 'Unhealthy' 'Unhealthy' 'Unhealthy' 'Unhealthy' 'Unhealthy'\n",
      " 'Unhealthy' 'Unhealthy' 'Unhealthy' 'Unhealthy' 'Unhealthy' 'Unhealthy'\n",
      " 'Unhealthy' 'Unhealthy' 'Unhealthy' 'Unhealthy' 'Unhealthy' 'Unhealthy'\n",
      " 'Unhealthy' 'Unhealthy' 'Unhealthy' 'Unhealthy' 'Unhealthy' 'Unhealthy'\n",
      " 'Unhealthy' 'Unhealthy' 'Unhealthy' 'Unhealthy' 'Healthy' 'Unhealthy'\n",
      " 'Unhealthy' 'Unhealthy' 'Unhealthy' 'Unhealthy' 'Unhealthy' 'Unhealthy'\n",
      " 'Healthy'] ['Unhealthy', 'Healthy', 'Unhealthy', 'Unhealthy', 'Unhealthy', 'Unhealthy', 'Healthy', 'Unhealthy', 'Unhealthy', 'Unhealthy', 'Healthy', 'Unhealthy', 'Healthy', 'Unhealthy', 'Unhealthy', 'Healthy', 'Unhealthy', 'Unhealthy', 'Unhealthy', 'Unhealthy', 'Unhealthy', 'Unhealthy', 'Healthy', 'Unhealthy', 'Unhealthy', 'Unhealthy', 'Unhealthy', 'Unhealthy', 'Unhealthy', 'Unhealthy', 'Unhealthy', 'Unhealthy', 'Unhealthy', 'Unhealthy', 'Unhealthy', 'Healthy', 'Unhealthy', 'Unhealthy', 'Healthy', 'Unhealthy', 'Unhealthy', 'Unhealthy', 'Unhealthy', 'Unhealthy', 'Unhealthy', 'Healthy', 'Unhealthy', 'Unhealthy', 'Unhealthy', 'Unhealthy', 'Unhealthy', 'Unhealthy', 'Healthy', 'Healthy', 'Unhealthy', 'Unhealthy', 'Healthy', 'Healthy', 'Healthy', 'Unhealthy', 'Unhealthy']\n"
     ]
    }
   ],
   "source": [
    "print(y_pred, y_test)"
   ]
  },
  {
   "cell_type": "code",
   "execution_count": 10,
   "metadata": {},
   "outputs": [
    {
     "name": "stdout",
     "output_type": "stream",
     "text": [
      "Classification Report:\n",
      "              precision    recall  f1-score   support\n",
      "\n",
      "     Healthy       0.60      0.21      0.32        14\n",
      "   Unhealthy       0.80      0.96      0.87        47\n",
      "\n",
      "    accuracy                           0.79        61\n",
      "   macro avg       0.70      0.59      0.59        61\n",
      "weighted avg       0.76      0.79      0.75        61\n",
      "\n"
     ]
    }
   ],
   "source": [
    "print(\"Classification Report:\")\n",
    "print(classification_report(y_test, y_pred))"
   ]
  },
  {
   "cell_type": "markdown",
   "metadata": {},
   "source": [
    "## Comparing Accuracy\n",
    "- MSE - average between true and predicted values\n",
    "- R2 score - measure of proportion of variance in dependent variable (target) that is explained by independent variables (features), indicates how well the model captures the variations in the data"
   ]
  },
  {
   "cell_type": "code",
   "execution_count": 9,
   "metadata": {},
   "outputs": [
    {
     "ename": "NameError",
     "evalue": "name 'y_pred_lasso' is not defined",
     "output_type": "error",
     "traceback": [
      "\u001b[1;31m---------------------------------------------------------------------------\u001b[0m",
      "\u001b[1;31mNameError\u001b[0m                                 Traceback (most recent call last)",
      "\u001b[1;32m<ipython-input-9-25dbe9e8c786>\u001b[0m in \u001b[0;36m<module>\u001b[1;34m\u001b[0m\n\u001b[0;32m      2\u001b[0m \u001b[1;33m\u001b[0m\u001b[0m\n\u001b[0;32m      3\u001b[0m \u001b[1;31m#calculate MSE\u001b[0m\u001b[1;33m\u001b[0m\u001b[1;33m\u001b[0m\u001b[1;33m\u001b[0m\u001b[0m\n\u001b[1;32m----> 4\u001b[1;33m \u001b[0mmse_lasso\u001b[0m \u001b[1;33m=\u001b[0m \u001b[0mmean_squared_error\u001b[0m\u001b[1;33m(\u001b[0m\u001b[0my_test\u001b[0m\u001b[1;33m,\u001b[0m \u001b[0my_pred_lasso\u001b[0m\u001b[1;33m)\u001b[0m\u001b[1;33m\u001b[0m\u001b[1;33m\u001b[0m\u001b[0m\n\u001b[0m\u001b[0;32m      5\u001b[0m \u001b[0mmse_ridge\u001b[0m \u001b[1;33m=\u001b[0m \u001b[0mmean_squared_error\u001b[0m\u001b[1;33m(\u001b[0m\u001b[0my_test\u001b[0m\u001b[1;33m,\u001b[0m \u001b[0my_pred_ridge\u001b[0m\u001b[1;33m)\u001b[0m\u001b[1;33m\u001b[0m\u001b[1;33m\u001b[0m\u001b[0m\n\u001b[0;32m      6\u001b[0m \u001b[1;33m\u001b[0m\u001b[0m\n",
      "\u001b[1;31mNameError\u001b[0m: name 'y_pred_lasso' is not defined"
     ]
    }
   ],
   "source": [
    "from sklearn.metrics import mean_squared_error, r2_score\n",
    "\n",
    "#calculate MSE\n",
    "mse_lasso = mean_squared_error(y_test, y_pred_lasso)\n",
    "mse_ridge = mean_squared_error(y_test, y_pred_ridge)\n",
    "\n",
    "#calculate R2\n",
    "r2_lasso = r2_score(y_test, y_pred_lasso)\n",
    "r2_ridge = r2_score(y_test, y_pred_ridge)\n",
    "\n",
    "print(\"LASSO Regression:\")\n",
    "print(\"MSE:\", mse_lasso)\n",
    "print(\"R2 Score:\", r2_lasso)\n",
    "print()\n",
    "print(\"Ridge Regression:\")\n",
    "print(\"MSE:\", mse_ridge)\n",
    "print(\"R2 Score:\", r2_ridge)"
   ]
  }
 ],
 "metadata": {
  "kernelspec": {
   "display_name": "Python 3",
   "language": "python",
   "name": "python3"
  },
  "language_info": {
   "codemirror_mode": {
    "name": "ipython",
    "version": 3
   },
   "file_extension": ".py",
   "mimetype": "text/x-python",
   "name": "python",
   "nbconvert_exporter": "python",
   "pygments_lexer": "ipython3",
   "version": "3.8.3"
  }
 },
 "nbformat": 4,
 "nbformat_minor": 4
}
