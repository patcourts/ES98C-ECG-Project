{
 "cells": [
  {
   "cell_type": "markdown",
   "metadata": {},
   "source": [
    "This notebook exists too experiment with the different methods seen to perform feature selection. Methods include:\n",
    "- Statistical Measures\n",
    "- PCA\n",
    "- Wrapper Methods"
   ]
  },
  {
   "cell_type": "code",
   "execution_count": 1,
   "metadata": {},
   "outputs": [
    {
     "name": "stderr",
     "output_type": "stream",
     "text": [
      "100%|████████████████████████████████████████████████████████████████████████████████| 549/549 [00:16<00:00, 33.15it/s]\n",
      "100%|████████████████████████████████████████████████████████████████████████████████| 223/223 [00:03<00:00, 73.67it/s]\n"
     ]
    }
   ],
   "source": [
    "%run \"Parameter_Estimation.ipynb\" #allowing access to parameters"
   ]
  },
  {
   "cell_type": "code",
   "execution_count": 2,
   "metadata": {},
   "outputs": [],
   "source": [
    "from sklearn.preprocessing import StandardScaler\n",
    "from sklearn.decomposition import PCA\n",
    "from sklearn.model_selection import train_test_split\n",
    "from sklearn.metrics import accuracy_score, classification_report\n",
    "from sklearn.svm import SVC"
   ]
  },
  {
   "cell_type": "code",
   "execution_count": 3,
   "metadata": {},
   "outputs": [],
   "source": [
    "health_state = allowed_patients.get_diagnoses()\n",
    "\n",
    "encoded_health_state = [1 if label == 'Unhealthy' else -1 for label in health_state]"
   ]
  },
  {
   "cell_type": "code",
   "execution_count": 4,
   "metadata": {},
   "outputs": [],
   "source": [
    "def get_balanced_accuracy(y_test, y_pred):\n",
    "    \"\"\"\n",
    "    balanced accuracy....\n",
    "    \"\"\"\n",
    "    num_healthy_true = np.sum([x=='Healthy' for x in y_test])\n",
    "    num_unhealthy_true = len(y_test) - num_healthy_true\n",
    "    count_healthy_accurate = 0\n",
    "    count_unhealthy_accurate = 0\n",
    "    for i in range(0, len(y_test)):\n",
    "        if y_pred[i] == y_test[i] == 'Unhealthy':\n",
    "            count_unhealthy_accurate +=1\n",
    "        elif y_pred[i] == y_test[i] == 'Healthy':\n",
    "            count_healthy_accurate +=1\n",
    "    healthy_percentage = count_healthy_accurate/num_healthy_true\n",
    "    unhealthy_percentage = count_unhealthy_accurate/num_unhealthy_true\n",
    "    balanced_accuracy = (healthy_percentage + unhealthy_percentage) * 0.5\n",
    "    return balanced_accuracy\n",
    "\n",
    "def get_specificity(y_test, y_pred):\n",
    "    \"\"\"\n",
    "    true negative rate\n",
    "    \"\"\"\n",
    "    true_negative = 0\n",
    "    false_positive = 0\n",
    "    for i in range(0, len(y_test)):\n",
    "        if y_pred[i] == y_test[i] == 'Healthy':\n",
    "            true_negative += 1\n",
    "        elif y_pred[i] != y_test[i] and y_test[i] == 'Healthy':\n",
    "            false_positive += 1\n",
    "    \n",
    "    return true_negative / (true_negative+false_positive)\n",
    "            \n",
    "def get_f1_score(y_test, y_pred):\n",
    "    \"\"\"\n",
    "    balance between precision and recall\n",
    "    \"\"\"\n",
    "    true_positive = 0\n",
    "    false_positive = 0\n",
    "    false_negative = 0\n",
    "    for i in range(0, len(y_test)):\n",
    "        if y_pred[i] == y_test[i] == 'Unhealthy':\n",
    "            true_positive += 1\n",
    "        elif y_pred[i] != y_test[i] and y_test[i] == 'Healthy':\n",
    "            false_positive += 1\n",
    "        elif y_pred[i] != y_test[i] and y_test[i] == 'Unhealthy':\n",
    "            false_negative += 1\n",
    "    return (2*true_positive)/(2*true_positive+false_positive+false_negative)\n",
    "\n",
    "\n",
    "def get_av_confusion_matrix(y_test, y_pred):\n",
    "    av_confusion_mat = np.zeros(shape = (len(y_test), 2, 2))\n",
    "    for i in range(0, len(y_test)):\n",
    "        av_confusion_mat[i] = confusion_matrix(y_test[i], y_pred[i])\n",
    "    return np.mean(av_confusion_mat, axis=0)\n",
    "\n",
    "def scoring_function(model, X, y):\n",
    "    \"\"\"\n",
    "    change to incorporate balanced accuracy \n",
    "    \"\"\"\n",
    "    \n",
    "    y_pred = model.predict(X)\n",
    "    y_test = y\n",
    "    balanced_acc = get_balanced_accuracy(y_test, y_pred)\n",
    "    #specificity = get_specificity(y_test, y_pred)\n",
    "    f1 = get_f1_score(y_test, y_pred)\n",
    "    \n",
    "    \n",
    "    return f1*0.7 + balanced_acc*0.3"
   ]
  },
  {
   "cell_type": "markdown",
   "metadata": {},
   "source": [
    "## Parameter Selection"
   ]
  },
  {
   "cell_type": "markdown",
   "metadata": {},
   "source": [
    "### correlation \n",
    "#### pmcc\n"
   ]
  },
  {
   "cell_type": "code",
   "execution_count": 5,
   "metadata": {},
   "outputs": [
    {
     "name": "stdout",
     "output_type": "stream",
     "text": [
      "parameter rr_mean and parameter rr_std are significantly correlated, p = 0.000238443360345165, corr = 0.24370301196548685\n",
      "parameter rr_mean and parameter RMSSD are significantly correlated, p = 0.0006189867955319877, corr = 0.22749680121375307\n",
      "parameter rr_mean and parameter pNN50 are significantly correlated, p = 0.033465100891719654, corr = 0.14247166502037645\n",
      "parameter rr_mean and parameter std are significantly correlated, p = 4.627133195304087e-10, corr = -0.4018144280421302\n",
      "parameter rr_mean and parameter kurtosis are significantly correlated, p = 2.3144532569582885e-12, corr = 0.44718174643936054\n",
      "parameter rr_mean and parameter hf are significantly correlated, p = 0.012325952282112045, corr = -0.16734828595993997\n",
      "parameter rr_mean and parameter shannon_en are significantly correlated, p = 6.763833043118903e-06, corr = -0.29627865853054497\n",
      "parameter rr_mean and parameter sd_ratio are significantly correlated, p = 9.587019537425523e-07, corr = -0.32119299513357796\n",
      "parameter rr_std and parameter RMSSD are significantly correlated, p = 3.293238218684991e-153, corr = 0.9783639693046406\n",
      "parameter rr_std and parameter pNN50 are significantly correlated, p = 1.2951709759743578e-41, corr = 0.7504141020690784\n",
      "parameter rr_std and parameter std are significantly correlated, p = 1.0189603478078873e-05, corr = -0.29074841872344837\n",
      "parameter rr_std and parameter hf are significantly correlated, p = 4.517141362006869e-05, corr = 0.2696097412830053\n",
      "parameter rr_std and parameter lf are significantly correlated, p = 6.067499451022017e-06, corr = 0.2977258458864471\n",
      "parameter rr_std and parameter sd_ratio are significantly correlated, p = 1.6258334719506247e-08, corr = -0.3669836634188621\n",
      "parameter RMSSD and parameter pNN50 are significantly correlated, p = 3.0196543057386865e-45, corr = 0.7712778847749406\n",
      "parameter RMSSD and parameter std are significantly correlated, p = 9.617129019207231e-05, corr = -0.258176385264278\n",
      "parameter RMSSD and parameter hf are significantly correlated, p = 7.579332151002865e-06, corr = 0.29475385701762785\n",
      "parameter RMSSD and parameter lf are significantly correlated, p = 2.0525294593907107e-05, corr = 0.28102101805263296\n",
      "parameter RMSSD and parameter power_ratio are significantly correlated, p = 0.02431628682093008, corr = -0.15079545521253918\n",
      "parameter RMSSD and parameter sd_ratio are significantly correlated, p = 2.259723022139434e-10, corr = -0.4083627115796589\n",
      "parameter pNN50 and parameter std are significantly correlated, p = 0.0006738947227926513, corr = -0.2259971217090844\n",
      "parameter pNN50 and parameter hf are significantly correlated, p = 9.624429324600079e-09, corr = 0.37237872267288263\n",
      "parameter pNN50 and parameter lf are significantly correlated, p = 0.00015625613667710465, corr = 0.2505463039114142\n",
      "parameter pNN50 and parameter power_ratio are significantly correlated, p = 0.005595616469636755, corr = -0.18496776974066903\n",
      "parameter pNN50 and parameter sd_ratio are significantly correlated, p = 4.764263289944287e-15, corr = -0.4928347048364327\n",
      "parameter mean and parameter std are significantly correlated, p = 0.007038905888232006, corr = 0.18000550835725687\n",
      "parameter mean and parameter skews are significantly correlated, p = 5.797204019885024e-74, corr = -0.8814969707252096\n",
      "parameter mean and parameter kurtosis are significantly correlated, p = 3.2512911064217163e-14, corr = 0.4793730985032462\n",
      "parameter mean and parameter power_ratio are significantly correlated, p = 0.03535604500379886, corr = -0.14099913708053158\n",
      "parameter mean and parameter shannon_en are significantly correlated, p = 8.551121998999607e-06, corr = -0.2931283699807569\n",
      "parameter std and parameter kurtosis are significantly correlated, p = 1.0879795314948303e-15, corr = -0.5027989007368008\n",
      "parameter std and parameter shannon_en are significantly correlated, p = 5.2177870999804965e-24, corr = 0.6088277368263424\n",
      "parameter std and parameter sd_ratio are significantly correlated, p = 0.0006577453413932916, corr = 0.22642612161355635\n",
      "parameter skews and parameter kurtosis are significantly correlated, p = 4.866076840397494e-31, corr = -0.6752274224498169\n",
      "parameter skews and parameter shannon_en are significantly correlated, p = 2.2651885120667302e-14, corr = 0.4819517631509866\n",
      "parameter kurtosis and parameter shannon_en are significantly correlated, p = 1.3349427481064915e-37, corr = -0.7246818017624658\n",
      "parameter kurtosis and parameter sd_ratio are significantly correlated, p = 0.021516106818294897, corr = -0.15388600711822237\n",
      "parameter hf and parameter lf are significantly correlated, p = 2.0202696759587796e-17, corr = 0.5281762656817455\n",
      "parameter hf and parameter power_ratio are significantly correlated, p = 0.0016516377613148424, corr = -0.20954722999835323\n",
      "parameter power_ratio and parameter sd_ratio are significantly correlated, p = 2.87548871710701e-06, corr = 0.3074675313342724\n",
      "parameter shannon_en and parameter sd_ratio are significantly correlated, p = 0.003491870462313191, corr = 0.194805567697879\n"
     ]
    }
   ],
   "source": [
    "from scipy.stats import pearsonr\n",
    "import itertools\n",
    "\n",
    "for key1, key2 in itertools.combinations(params.keys(), 2):\n",
    "    corr, p_value = pearsonr(params[key1], params[key2])\n",
    "    if p_value < 0.05:\n",
    "        print(f\"parameter {key1} and parameter {key2} are significantly correlated, p = {p_value}, corr = {corr}\")\n"
   ]
  },
  {
   "cell_type": "markdown",
   "metadata": {},
   "source": [
    "#### wilcoxon \n",
    "compare the medians of two related samples or to compare repeated measurements of the same sample under different conditions. Should be used to test wether a parameter has provided a significant difference to the model."
   ]
  },
  {
   "cell_type": "code",
   "execution_count": null,
   "metadata": {},
   "outputs": [],
   "source": []
  },
  {
   "cell_type": "markdown",
   "metadata": {},
   "source": [
    "compare above results with papers"
   ]
  },
  {
   "cell_type": "markdown",
   "metadata": {},
   "source": [
    "## PCA\n",
    "- loses the knowledge of features, less intuitive\n",
    "- will experiment with it anyway"
   ]
  },
  {
   "cell_type": "code",
   "execution_count": 6,
   "metadata": {},
   "outputs": [],
   "source": [
    "# Initialize the array\n",
    "X = np.zeros((no_patients, 6))#need no. samples as rows, no. features as columns for machine learning analysis\n",
    "\n",
    "# Populate the array with values from the dictionary\n",
    "X[:, 0] = params['rr_mean']\n",
    "X[:, 1] = params['kurtosis']\n",
    "X[:, 2] = params['std']\n",
    "X[:, 3] = params['power_ratio']\n",
    "X[:, 4] = params['shannon_en']\n",
    "X[:, 5] = params['skews']\n",
    "    \n",
    "#standardize data\n",
    "scaler = StandardScaler()\n",
    "X_scaled = scaler.fit_transform(X)\n",
    "\n",
    "#set desired number of principle components\n",
    "num_components = 2\n",
    "\n",
    "#using sklearn PCA\n",
    "pca = PCA(n_components=num_components)\n",
    "X_pca = pca.fit_transform(X_scaled)"
   ]
  },
  {
   "cell_type": "code",
   "execution_count": 7,
   "metadata": {},
   "outputs": [
    {
     "name": "stdout",
     "output_type": "stream",
     "text": [
      "['Unhealthy' 'Healthy' 'Healthy' 'Unhealthy' 'Unhealthy' 'Unhealthy'\n",
      " 'Unhealthy' 'Unhealthy' 'Healthy' 'Unhealthy' 'Unhealthy' 'Unhealthy'\n",
      " 'Healthy' 'Unhealthy' 'Healthy' 'Unhealthy' 'Unhealthy' 'Unhealthy'\n",
      " 'Healthy' 'Unhealthy' 'Unhealthy' 'Unhealthy' 'Unhealthy' 'Unhealthy'\n",
      " 'Healthy' 'Healthy' 'Unhealthy' 'Healthy' 'Healthy' 'Unhealthy'\n",
      " 'Unhealthy' 'Unhealthy' 'Healthy' 'Unhealthy' 'Unhealthy' 'Healthy'\n",
      " 'Healthy' 'Unhealthy' 'Unhealthy' 'Unhealthy' 'Unhealthy' 'Unhealthy'\n",
      " 'Healthy' 'Unhealthy' 'Healthy' 'Healthy' 'Unhealthy' 'Healthy'\n",
      " 'Unhealthy' 'Unhealthy' 'Healthy' 'Unhealthy' 'Unhealthy' 'Unhealthy'\n",
      " 'Healthy' 'Healthy' 'Unhealthy' 'Healthy' 'Unhealthy' 'Unhealthy'\n",
      " 'Healthy' 'Unhealthy' 'Healthy' 'Healthy' 'Unhealthy' 'Healthy'\n",
      " 'Unhealthy']\n",
      "Accuracy: 0.6865671641791045\n"
     ]
    }
   ],
   "source": [
    "#using principle components to do ML\n",
    "\n",
    "#splitting the data into train and test sets\n",
    "X_train, X_test, y_train, y_test = train_test_split(X_pca, health_state, test_size=0.3, stratify = health_state)\n",
    "\n",
    "#init and train model, using radial basis functions\n",
    "svm_classifier = SVC(kernel='rbf', gamma='scale', class_weight='balanced')  #'scale' normalises data, prevents overfitting\n",
    "svm_classifier.fit(X_train, y_train)\n",
    "\n",
    "#predictions\n",
    "y_pred = svm_classifier.predict(X_test)\n",
    "\n",
    "#evaluating accuracy of the model\n",
    "accuracy = accuracy_score(y_test, y_pred)\n",
    "print(y_pred)\n",
    "print(\"Accuracy:\", accuracy)"
   ]
  },
  {
   "cell_type": "markdown",
   "metadata": {},
   "source": [
    "## Wrapper Methods:\n",
    "\n",
    "These methods do feature selection whilst using the model\n",
    "\n",
    " - Forward Selection: Features are sequentially added to the model, starting with an empty set and adding the feature that improves model performance the most at each step.\n",
    " - Backward Elimination: Features are sequentially removed from the model, starting with the full set of features and removing the feature that decreases model performance the least at each step.\n",
    " - Recursive Feature Elimination (RFE): Features are recursively pruned based on the importance assigned to them by the model. Less important features are eliminated iteratively until the desired number of features is reached."
   ]
  },
  {
   "cell_type": "markdown",
   "metadata": {},
   "source": [
    "### RFE"
   ]
  },
  {
   "cell_type": "code",
   "execution_count": 8,
   "metadata": {},
   "outputs": [
    {
     "data": {
      "text/html": [
       "<style>#sk-container-id-1 {color: black;}#sk-container-id-1 pre{padding: 0;}#sk-container-id-1 div.sk-toggleable {background-color: white;}#sk-container-id-1 label.sk-toggleable__label {cursor: pointer;display: block;width: 100%;margin-bottom: 0;padding: 0.3em;box-sizing: border-box;text-align: center;}#sk-container-id-1 label.sk-toggleable__label-arrow:before {content: \"▸\";float: left;margin-right: 0.25em;color: #696969;}#sk-container-id-1 label.sk-toggleable__label-arrow:hover:before {color: black;}#sk-container-id-1 div.sk-estimator:hover label.sk-toggleable__label-arrow:before {color: black;}#sk-container-id-1 div.sk-toggleable__content {max-height: 0;max-width: 0;overflow: hidden;text-align: left;background-color: #f0f8ff;}#sk-container-id-1 div.sk-toggleable__content pre {margin: 0.2em;color: black;border-radius: 0.25em;background-color: #f0f8ff;}#sk-container-id-1 input.sk-toggleable__control:checked~div.sk-toggleable__content {max-height: 200px;max-width: 100%;overflow: auto;}#sk-container-id-1 input.sk-toggleable__control:checked~label.sk-toggleable__label-arrow:before {content: \"▾\";}#sk-container-id-1 div.sk-estimator input.sk-toggleable__control:checked~label.sk-toggleable__label {background-color: #d4ebff;}#sk-container-id-1 div.sk-label input.sk-toggleable__control:checked~label.sk-toggleable__label {background-color: #d4ebff;}#sk-container-id-1 input.sk-hidden--visually {border: 0;clip: rect(1px 1px 1px 1px);clip: rect(1px, 1px, 1px, 1px);height: 1px;margin: -1px;overflow: hidden;padding: 0;position: absolute;width: 1px;}#sk-container-id-1 div.sk-estimator {font-family: monospace;background-color: #f0f8ff;border: 1px dotted black;border-radius: 0.25em;box-sizing: border-box;margin-bottom: 0.5em;}#sk-container-id-1 div.sk-estimator:hover {background-color: #d4ebff;}#sk-container-id-1 div.sk-parallel-item::after {content: \"\";width: 100%;border-bottom: 1px solid gray;flex-grow: 1;}#sk-container-id-1 div.sk-label:hover label.sk-toggleable__label {background-color: #d4ebff;}#sk-container-id-1 div.sk-serial::before {content: \"\";position: absolute;border-left: 1px solid gray;box-sizing: border-box;top: 0;bottom: 0;left: 50%;z-index: 0;}#sk-container-id-1 div.sk-serial {display: flex;flex-direction: column;align-items: center;background-color: white;padding-right: 0.2em;padding-left: 0.2em;position: relative;}#sk-container-id-1 div.sk-item {position: relative;z-index: 1;}#sk-container-id-1 div.sk-parallel {display: flex;align-items: stretch;justify-content: center;background-color: white;position: relative;}#sk-container-id-1 div.sk-item::before, #sk-container-id-1 div.sk-parallel-item::before {content: \"\";position: absolute;border-left: 1px solid gray;box-sizing: border-box;top: 0;bottom: 0;left: 50%;z-index: -1;}#sk-container-id-1 div.sk-parallel-item {display: flex;flex-direction: column;z-index: 1;position: relative;background-color: white;}#sk-container-id-1 div.sk-parallel-item:first-child::after {align-self: flex-end;width: 50%;}#sk-container-id-1 div.sk-parallel-item:last-child::after {align-self: flex-start;width: 50%;}#sk-container-id-1 div.sk-parallel-item:only-child::after {width: 0;}#sk-container-id-1 div.sk-dashed-wrapped {border: 1px dashed gray;margin: 0 0.4em 0.5em 0.4em;box-sizing: border-box;padding-bottom: 0.4em;background-color: white;}#sk-container-id-1 div.sk-label label {font-family: monospace;font-weight: bold;display: inline-block;line-height: 1.2em;}#sk-container-id-1 div.sk-label-container {text-align: center;}#sk-container-id-1 div.sk-container {/* jupyter's `normalize.less` sets `[hidden] { display: none; }` but bootstrap.min.css set `[hidden] { display: none !important; }` so we also need the `!important` here to be able to override the default hidden behavior on the sphinx rendered scikit-learn.org. See: https://github.com/scikit-learn/scikit-learn/issues/21755 */display: inline-block !important;position: relative;}#sk-container-id-1 div.sk-text-repr-fallback {display: none;}</style><div id=\"sk-container-id-1\" class=\"sk-top-container\"><div class=\"sk-text-repr-fallback\"><pre>RFE(estimator=SVC(class_weight=&#x27;balanced&#x27;, kernel=&#x27;linear&#x27;),\n",
       "    n_features_to_select=3)</pre><b>In a Jupyter environment, please rerun this cell to show the HTML representation or trust the notebook. <br />On GitHub, the HTML representation is unable to render, please try loading this page with nbviewer.org.</b></div><div class=\"sk-container\" hidden><div class=\"sk-item sk-dashed-wrapped\"><div class=\"sk-label-container\"><div class=\"sk-label sk-toggleable\"><input class=\"sk-toggleable__control sk-hidden--visually\" id=\"sk-estimator-id-1\" type=\"checkbox\" ><label for=\"sk-estimator-id-1\" class=\"sk-toggleable__label sk-toggleable__label-arrow\">RFE</label><div class=\"sk-toggleable__content\"><pre>RFE(estimator=SVC(class_weight=&#x27;balanced&#x27;, kernel=&#x27;linear&#x27;),\n",
       "    n_features_to_select=3)</pre></div></div></div><div class=\"sk-parallel\"><div class=\"sk-parallel-item\"><div class=\"sk-item\"><div class=\"sk-label-container\"><div class=\"sk-label sk-toggleable\"><input class=\"sk-toggleable__control sk-hidden--visually\" id=\"sk-estimator-id-2\" type=\"checkbox\" ><label for=\"sk-estimator-id-2\" class=\"sk-toggleable__label sk-toggleable__label-arrow\">estimator: SVC</label><div class=\"sk-toggleable__content\"><pre>SVC(class_weight=&#x27;balanced&#x27;, kernel=&#x27;linear&#x27;)</pre></div></div></div><div class=\"sk-serial\"><div class=\"sk-item\"><div class=\"sk-estimator sk-toggleable\"><input class=\"sk-toggleable__control sk-hidden--visually\" id=\"sk-estimator-id-3\" type=\"checkbox\" ><label for=\"sk-estimator-id-3\" class=\"sk-toggleable__label sk-toggleable__label-arrow\">SVC</label><div class=\"sk-toggleable__content\"><pre>SVC(class_weight=&#x27;balanced&#x27;, kernel=&#x27;linear&#x27;)</pre></div></div></div></div></div></div></div></div></div></div>"
      ],
      "text/plain": [
       "RFE(estimator=SVC(class_weight='balanced', kernel='linear'),\n",
       "    n_features_to_select=3)"
      ]
     },
     "execution_count": 8,
     "metadata": {},
     "output_type": "execute_result"
    }
   ],
   "source": [
    "from sklearn.feature_selection import RFE\n",
    "\n",
    "# initializing parameter array\n",
    "X = np.zeros((no_patients, 6))#need no. samples as rows, no. features as columns for machine learning analysis\n",
    "\n",
    "X[:, 0] = params['rr_mean']\n",
    "X[:, 1] = params['kurtosis']\n",
    "X[:, 2] = params['shannon_en']\n",
    "X[:, 3] = params['power_ratio']\n",
    "X[:, 4] = params['std']\n",
    "X[:, 5] = params['skews']\n",
    "\n",
    "#splitting data into test and train sets\n",
    "X_train, X_test, y_train, y_test = train_test_split(X, health_state, test_size=0.3, stratify=health_state)\n",
    "\n",
    "#initialise SVM -- have to use a linear kernel for rfe\n",
    "svm = SVC(kernel=\"linear\", class_weight='balanced')\n",
    "\n",
    "#initialize RFE with the SVM model and desired number of feauters\n",
    "rfe = RFE(estimator=svm, n_features_to_select=3)\n",
    "\n",
    "rfe.fit(X_train, y_train)"
   ]
  },
  {
   "cell_type": "code",
   "execution_count": 9,
   "metadata": {},
   "outputs": [
    {
     "name": "stdout",
     "output_type": "stream",
     "text": [
      "Selected features: [False  True  True False  True False]\n",
      "Feature ranking: [4 1 1 2 1 3]\n"
     ]
    }
   ],
   "source": [
    "print(\"Selected features:\", rfe.support_)\n",
    "print(\"Feature ranking:\", rfe.ranking_)"
   ]
  },
  {
   "cell_type": "code",
   "execution_count": 10,
   "metadata": {},
   "outputs": [
    {
     "name": "stdout",
     "output_type": "stream",
     "text": [
      "Accuracy with selected features: 0.5671641791044776\n"
     ]
    }
   ],
   "source": [
    "# transform the dataset to include only the selected features\n",
    "X_train_rfe = rfe.transform(X_train)\n",
    "X_test_rfe = rfe.transform(X_test)\n",
    "\n",
    "# train the SVM on the selected features\n",
    "svm.fit(X_train_rfe, y_train)\n",
    "\n",
    "# Make predictions on the test set\n",
    "y_pred = svm.predict(X_test_rfe)\n",
    "\n",
    "# Evaluate the model performance\n",
    "accuracy = accuracy_score(y_test, y_pred)\n",
    "print(\"Accuracy with selected features:\", accuracy)"
   ]
  },
  {
   "cell_type": "markdown",
   "metadata": {},
   "source": [
    "### RFE with CV"
   ]
  },
  {
   "cell_type": "code",
   "execution_count": 11,
   "metadata": {},
   "outputs": [
    {
     "data": {
      "text/html": [
       "<style>#sk-container-id-2 {color: black;}#sk-container-id-2 pre{padding: 0;}#sk-container-id-2 div.sk-toggleable {background-color: white;}#sk-container-id-2 label.sk-toggleable__label {cursor: pointer;display: block;width: 100%;margin-bottom: 0;padding: 0.3em;box-sizing: border-box;text-align: center;}#sk-container-id-2 label.sk-toggleable__label-arrow:before {content: \"▸\";float: left;margin-right: 0.25em;color: #696969;}#sk-container-id-2 label.sk-toggleable__label-arrow:hover:before {color: black;}#sk-container-id-2 div.sk-estimator:hover label.sk-toggleable__label-arrow:before {color: black;}#sk-container-id-2 div.sk-toggleable__content {max-height: 0;max-width: 0;overflow: hidden;text-align: left;background-color: #f0f8ff;}#sk-container-id-2 div.sk-toggleable__content pre {margin: 0.2em;color: black;border-radius: 0.25em;background-color: #f0f8ff;}#sk-container-id-2 input.sk-toggleable__control:checked~div.sk-toggleable__content {max-height: 200px;max-width: 100%;overflow: auto;}#sk-container-id-2 input.sk-toggleable__control:checked~label.sk-toggleable__label-arrow:before {content: \"▾\";}#sk-container-id-2 div.sk-estimator input.sk-toggleable__control:checked~label.sk-toggleable__label {background-color: #d4ebff;}#sk-container-id-2 div.sk-label input.sk-toggleable__control:checked~label.sk-toggleable__label {background-color: #d4ebff;}#sk-container-id-2 input.sk-hidden--visually {border: 0;clip: rect(1px 1px 1px 1px);clip: rect(1px, 1px, 1px, 1px);height: 1px;margin: -1px;overflow: hidden;padding: 0;position: absolute;width: 1px;}#sk-container-id-2 div.sk-estimator {font-family: monospace;background-color: #f0f8ff;border: 1px dotted black;border-radius: 0.25em;box-sizing: border-box;margin-bottom: 0.5em;}#sk-container-id-2 div.sk-estimator:hover {background-color: #d4ebff;}#sk-container-id-2 div.sk-parallel-item::after {content: \"\";width: 100%;border-bottom: 1px solid gray;flex-grow: 1;}#sk-container-id-2 div.sk-label:hover label.sk-toggleable__label {background-color: #d4ebff;}#sk-container-id-2 div.sk-serial::before {content: \"\";position: absolute;border-left: 1px solid gray;box-sizing: border-box;top: 0;bottom: 0;left: 50%;z-index: 0;}#sk-container-id-2 div.sk-serial {display: flex;flex-direction: column;align-items: center;background-color: white;padding-right: 0.2em;padding-left: 0.2em;position: relative;}#sk-container-id-2 div.sk-item {position: relative;z-index: 1;}#sk-container-id-2 div.sk-parallel {display: flex;align-items: stretch;justify-content: center;background-color: white;position: relative;}#sk-container-id-2 div.sk-item::before, #sk-container-id-2 div.sk-parallel-item::before {content: \"\";position: absolute;border-left: 1px solid gray;box-sizing: border-box;top: 0;bottom: 0;left: 50%;z-index: -1;}#sk-container-id-2 div.sk-parallel-item {display: flex;flex-direction: column;z-index: 1;position: relative;background-color: white;}#sk-container-id-2 div.sk-parallel-item:first-child::after {align-self: flex-end;width: 50%;}#sk-container-id-2 div.sk-parallel-item:last-child::after {align-self: flex-start;width: 50%;}#sk-container-id-2 div.sk-parallel-item:only-child::after {width: 0;}#sk-container-id-2 div.sk-dashed-wrapped {border: 1px dashed gray;margin: 0 0.4em 0.5em 0.4em;box-sizing: border-box;padding-bottom: 0.4em;background-color: white;}#sk-container-id-2 div.sk-label label {font-family: monospace;font-weight: bold;display: inline-block;line-height: 1.2em;}#sk-container-id-2 div.sk-label-container {text-align: center;}#sk-container-id-2 div.sk-container {/* jupyter's `normalize.less` sets `[hidden] { display: none; }` but bootstrap.min.css set `[hidden] { display: none !important; }` so we also need the `!important` here to be able to override the default hidden behavior on the sphinx rendered scikit-learn.org. See: https://github.com/scikit-learn/scikit-learn/issues/21755 */display: inline-block !important;position: relative;}#sk-container-id-2 div.sk-text-repr-fallback {display: none;}</style><div id=\"sk-container-id-2\" class=\"sk-top-container\"><div class=\"sk-text-repr-fallback\"><pre>RFE(estimator=SVC(class_weight=&#x27;balanced&#x27;, kernel=&#x27;linear&#x27;),\n",
       "    n_features_to_select=3)</pre><b>In a Jupyter environment, please rerun this cell to show the HTML representation or trust the notebook. <br />On GitHub, the HTML representation is unable to render, please try loading this page with nbviewer.org.</b></div><div class=\"sk-container\" hidden><div class=\"sk-item sk-dashed-wrapped\"><div class=\"sk-label-container\"><div class=\"sk-label sk-toggleable\"><input class=\"sk-toggleable__control sk-hidden--visually\" id=\"sk-estimator-id-4\" type=\"checkbox\" ><label for=\"sk-estimator-id-4\" class=\"sk-toggleable__label sk-toggleable__label-arrow\">RFE</label><div class=\"sk-toggleable__content\"><pre>RFE(estimator=SVC(class_weight=&#x27;balanced&#x27;, kernel=&#x27;linear&#x27;),\n",
       "    n_features_to_select=3)</pre></div></div></div><div class=\"sk-parallel\"><div class=\"sk-parallel-item\"><div class=\"sk-item\"><div class=\"sk-label-container\"><div class=\"sk-label sk-toggleable\"><input class=\"sk-toggleable__control sk-hidden--visually\" id=\"sk-estimator-id-5\" type=\"checkbox\" ><label for=\"sk-estimator-id-5\" class=\"sk-toggleable__label sk-toggleable__label-arrow\">estimator: SVC</label><div class=\"sk-toggleable__content\"><pre>SVC(class_weight=&#x27;balanced&#x27;, kernel=&#x27;linear&#x27;)</pre></div></div></div><div class=\"sk-serial\"><div class=\"sk-item\"><div class=\"sk-estimator sk-toggleable\"><input class=\"sk-toggleable__control sk-hidden--visually\" id=\"sk-estimator-id-6\" type=\"checkbox\" ><label for=\"sk-estimator-id-6\" class=\"sk-toggleable__label sk-toggleable__label-arrow\">SVC</label><div class=\"sk-toggleable__content\"><pre>SVC(class_weight=&#x27;balanced&#x27;, kernel=&#x27;linear&#x27;)</pre></div></div></div></div></div></div></div></div></div></div>"
      ],
      "text/plain": [
       "RFE(estimator=SVC(class_weight='balanced', kernel='linear'),\n",
       "    n_features_to_select=3)"
      ]
     },
     "execution_count": 11,
     "metadata": {},
     "output_type": "execute_result"
    }
   ],
   "source": [
    "from sklearn.feature_selection import RFECV\n",
    "\n",
    "#splitting data into test and train sets\n",
    "X_train, X_test, y_train, y_test = train_test_split(X, health_state, test_size=0.3, stratify=health_state)\n",
    "\n",
    "#initialise SVM \n",
    "svm = SVC(class_weight='balanced', kernel='linear')\n",
    "\n",
    "\n",
    "#initialize RFE with the SVM model and desired number of feauters\n",
    "rfe_cv = RFECV(estimator=rfe, min_features_to_select=2, scoring=scoring_function)\n",
    "\n",
    "rfe.fit(X_train, y_train)"
   ]
  },
  {
   "cell_type": "code",
   "execution_count": 12,
   "metadata": {},
   "outputs": [
    {
     "name": "stdout",
     "output_type": "stream",
     "text": [
      "Selected features: [False False  True False  True  True]\n",
      "Feature ranking: [4 3 1 2 1 1]\n"
     ]
    }
   ],
   "source": [
    "print(\"Selected features:\", rfe.support_)\n",
    "print(\"Feature ranking:\", rfe.ranking_)"
   ]
  },
  {
   "cell_type": "code",
   "execution_count": 13,
   "metadata": {},
   "outputs": [
    {
     "name": "stdout",
     "output_type": "stream",
     "text": [
      "Accuracy with selected features: 0.5223880597014925\n"
     ]
    }
   ],
   "source": [
    "# transform the dataset to include only the selected features\n",
    "X_train_rfe = rfe.transform(X_train)\n",
    "X_test_rfe = rfe.transform(X_test)\n",
    "\n",
    "# train the SVM on the selected features\n",
    "svm.fit(X_train_rfe, y_train)\n",
    "\n",
    "# Make predictions on the test set\n",
    "y_pred = svm.predict(X_test_rfe)\n",
    "\n",
    "# Evaluate the model performance\n",
    "accuracy = accuracy_score(y_test, y_pred)\n",
    "print(\"Accuracy with selected features:\", accuracy)"
   ]
  },
  {
   "cell_type": "markdown",
   "metadata": {},
   "source": [
    "### Forward/Backward Elimination\n",
    "\n",
    "May be slower than RFE but does not need to have coefficients i.e. a linear kernel."
   ]
  },
  {
   "cell_type": "code",
   "execution_count": 14,
   "metadata": {},
   "outputs": [
    {
     "data": {
      "text/plain": [
       "array([False,  True,  True, False,  True, False])"
      ]
     },
     "execution_count": 14,
     "metadata": {},
     "output_type": "execute_result"
    }
   ],
   "source": [
    "from sklearn.feature_selection import SequentialFeatureSelector \n",
    "\n",
    "svm_rbf = SVC(class_weight='balanced')\n",
    "\n",
    "SFS_forward = SequentialFeatureSelector(estimator=svm_rbf, scoring=scoring_function, cv=3)\n",
    "\n",
    "SFS_forward.fit(X_train, y_train)\n",
    "\n",
    "SFS_forward.get_support()"
   ]
  },
  {
   "cell_type": "code",
   "execution_count": 15,
   "metadata": {},
   "outputs": [
    {
     "data": {
      "text/plain": [
       "array([False,  True,  True, False,  True, False])"
      ]
     },
     "execution_count": 15,
     "metadata": {},
     "output_type": "execute_result"
    }
   ],
   "source": [
    "SFS_backward = SequentialFeatureSelector(estimator=svm_rbf, tol=-1, direction='backward', scoring=scoring_function)\n",
    "\n",
    "SFS_backward.fit(X_train, y_train)\n",
    "\n",
    "SFS_forward.get_support()"
   ]
  },
  {
   "cell_type": "code",
   "execution_count": 16,
   "metadata": {},
   "outputs": [],
   "source": [
    "#these agree but disagrees with RFE???"
   ]
  },
  {
   "cell_type": "markdown",
   "metadata": {},
   "source": [
    "## Embedded Methods:\n",
    "\n",
    "Also done whilst using the model\n",
    "\n",
    "- Regularization: Techniques like LASSO (L1 regularization) and Ridge (L2 regularization) penalize the magnitude of feature coefficients, forcing less important features to have coefficients close to zero."
   ]
  },
  {
   "cell_type": "code",
   "execution_count": 17,
   "metadata": {},
   "outputs": [
    {
     "name": "stdout",
     "output_type": "stream",
     "text": [
      "Selected feature indices: [0 1 2 3 5]\n",
      "Feature importance: [5.65476498e-04 3.02560295e-05 4.08241126e-01 3.58472704e-02\n",
      " 1.28235068e-01]\n"
     ]
    },
    {
     "data": {
      "image/png": "[encoded data removed]",
      "text/plain": [
       "<Figure size 720x432 with 1 Axes>"
      ]
     },
     "metadata": {
      "needs_background": "light"
     },
     "output_type": "display_data"
    }
   ],
   "source": [
    "#try do this properly\n",
    "#LASSO/Ridge Regression\n",
    "\n",
    "from sklearn.svm import LinearSVC\n",
    "from sklearn.feature_selection import SelectFromModel\n",
    "\n",
    "# Fit the model using L1 regularization\n",
    "model = LinearSVC(C=1.0, penalty='l1', dual=False, class_weight='balanced').fit(X_train, y_train)\n",
    "\n",
    "# Get feature importance (coefficients)\n",
    "feature_importance = np.abs(model.coef_[0])\n",
    "\n",
    "# Select features with non-zero coefficients\n",
    "model_selector = SelectFromModel(model, prefit=True)\n",
    "X_train_selected = model_selector.transform(X_train)\n",
    "X_test_selected = model_selector.transform(X_test)\n",
    "\n",
    "# Get indices of selected features\n",
    "selected_indices = np.where(feature_importance > 0)[0]\n",
    "\n",
    "# Print selected feature indices and their importance\n",
    "print(\"Selected feature indices:\", selected_indices)\n",
    "print(\"Feature importance:\", feature_importance[selected_indices])\n",
    "\n",
    "# Plot feature importance\n",
    "plt.figure(figsize=(10, 6))\n",
    "plt.bar(range(len(selected_indices)), feature_importance[selected_indices])\n",
    "plt.xticks(range(len(selected_indices)), selected_indices, rotation=90)\n",
    "plt.xlabel('Feature Index')\n",
    "plt.ylabel('Importance')\n",
    "plt.title('Feature Importance using L1 Regularization in SVM')\n",
    "plt.show()\n",
    "\n",
    "# If you want to use the selected features for another model\n",
    "# You can use X_train_selected and X_test_selected\n",
    "\n"
   ]
  },
  {
   "cell_type": "code",
   "execution_count": null,
   "metadata": {},
   "outputs": [],
   "source": []
  }
 ],
 "metadata": {
  "kernelspec": {
   "display_name": "Python 3",
   "language": "python",
   "name": "python3"
  },
  "language_info": {
   "codemirror_mode": {
    "name": "ipython",
    "version": 3
   },
   "file_extension": ".py",
   "mimetype": "text/x-python",
   "name": "python",
   "nbconvert_exporter": "python",
   "pygments_lexer": "ipython3",
   "version": "3.8.3"
  }
 },
 "nbformat": 4,
 "nbformat_minor": 4
}
