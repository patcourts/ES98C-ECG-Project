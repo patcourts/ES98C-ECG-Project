{
 "cells": [
  {
   "cell_type": "markdown",
   "metadata": {},
   "source": [
    "This notebook exists to experiment with different methods for classification"
   ]
  },
  {
   "cell_type": "code",
   "execution_count": 1,
   "metadata": {},
   "outputs": [
    {
     "name": "stderr",
     "output_type": "stream",
     "text": [
      "100%|████████████████████████████████████████████████████████████████████████████████| 549/549 [00:15<00:00, 35.00it/s]\n",
      "100%|████████████████████████████████████████████████████████████████████████████████| 229/229 [00:02<00:00, 81.60it/s]\n"
     ]
    }
   ],
   "source": [
    "%run \"Parameter_Estimation.ipynb\" #allowing access to parameters"
   ]
  },
  {
   "cell_type": "code",
   "execution_count": 2,
   "metadata": {},
   "outputs": [],
   "source": [
    "from sklearn.model_selection import train_test_split\n",
    "from sklearn.svm import SVC\n",
    "from sklearn.metrics import accuracy_score, classification_report\n",
    "from sklearn.preprocessing import StandardScaler\n",
    "from sklearn.decomposition import PCA"
   ]
  },
  {
   "cell_type": "code",
   "execution_count": 3,
   "metadata": {},
   "outputs": [
    {
     "name": "stdout",
     "output_type": "stream",
     "text": [
      "229\n"
     ]
    }
   ],
   "source": [
    "health_state = allowed_patients.get_diagnoses()\n",
    "\n",
    "encoded_health_state = [True if label == 'Unhealthy' else False for label in health_state]\n",
    "\n",
    "print(len(health_state))\n",
    "# unhealthy_peak_to_peak_averages = peak_to_peak_averages[encoded_health_state]\n",
    "# healthy_peak_to_peak_averages = peak_to_peak_averages[~np.array(encoded_health_state)]\n",
    "\n",
    "# unhealthy_peak_amp = peak_amp_average[encoded_health_state]\n",
    "# healthy_peak_amp = peak_amp_average[~np.array(encoded_health_state)]\n"
   ]
  },
  {
   "cell_type": "markdown",
   "metadata": {},
   "source": [
    "## Parameter Selection"
   ]
  },
  {
   "cell_type": "markdown",
   "metadata": {},
   "source": [
    "factor analysis"
   ]
  },
  {
   "cell_type": "markdown",
   "metadata": {},
   "source": [
    "### investigating correlation \n",
    "- currently using peason r (pmcc)"
   ]
  },
  {
   "cell_type": "code",
   "execution_count": 5,
   "metadata": {},
   "outputs": [],
   "source": [
    "from scipy.stats import pearsonr\n",
    "\n",
    "\n",
    "corr, p_value = pearsonr(params['rr_mean'], params['rr_std'])\n"
   ]
  },
  {
   "cell_type": "code",
   "execution_count": 6,
   "metadata": {},
   "outputs": [
    {
     "name": "stdout",
     "output_type": "stream",
     "text": [
      "0.13617674637503555 0.039489188328994965\n"
     ]
    }
   ],
   "source": [
    "print(corr, p_value)"
   ]
  },
  {
   "cell_type": "markdown",
   "metadata": {},
   "source": [
    "## PCA\n"
   ]
  },
  {
   "cell_type": "markdown",
   "metadata": {},
   "source": [
    "- loses the knowledge of features, less intuitive\n",
    "- will experiment with it anyway"
   ]
  },
  {
   "cell_type": "code",
   "execution_count": 19,
   "metadata": {},
   "outputs": [],
   "source": [
    "\n",
    "\n",
    "# Initialize the array\n",
    "X = np.zeros((no_patients, 4))#need no. samples as rows, no. features as columns for machine learning analysis\n",
    "\n",
    "# Populate the array with values from the dictionary\n",
    "X[:, 0] = params['rr_mean']\n",
    "X[:, 1] = params['rr_std']\n",
    "X[:, 2] = params['RMSSD']\n",
    "X[:, 3] = params['pNN50']\n",
    "    \n",
    "#standardize data\n",
    "scaler = StandardScaler()\n",
    "X_scaled = scaler.fit_transform(X)\n",
    "\n",
    "#set desired number of principle components\n",
    "num_components = 2\n",
    "\n",
    "#using sklearn PCA\n",
    "pca = PCA(n_components=num_components)\n",
    "X_pca = pca.fit_transform(X_scaled)"
   ]
  },
  {
   "cell_type": "code",
   "execution_count": 21,
   "metadata": {},
   "outputs": [
    {
     "name": "stdout",
     "output_type": "stream",
     "text": [
      "['Healthy', 'Unhealthy', 'Unhealthy', 'Unhealthy', 'Healthy', 'Unhealthy', 'Unhealthy', 'Unhealthy', 'Unhealthy', 'Healthy', 'Unhealthy', 'Unhealthy', 'Healthy', 'Unhealthy', 'Unhealthy', 'Unhealthy', 'Unhealthy', 'Unhealthy', 'Unhealthy', 'Healthy', 'Unhealthy', 'Healthy', 'Unhealthy', 'Healthy', 'Unhealthy', 'Unhealthy', 'Unhealthy', 'Healthy', 'Unhealthy', 'Unhealthy', 'Healthy', 'Unhealthy', 'Unhealthy', 'Unhealthy', 'Unhealthy', 'Unhealthy', 'Unhealthy', 'Unhealthy', 'Unhealthy', 'Unhealthy', 'Unhealthy', 'Unhealthy', 'Unhealthy', 'Unhealthy', 'Unhealthy', 'Healthy', 'Unhealthy', 'Unhealthy', 'Unhealthy', 'Unhealthy', 'Unhealthy', 'Unhealthy', 'Unhealthy', 'Healthy', 'Unhealthy', 'Unhealthy', 'Unhealthy', 'Healthy', 'Unhealthy', 'Healthy', 'Unhealthy', 'Unhealthy', 'Unhealthy', 'Healthy', 'Unhealthy', 'Healthy', 'Unhealthy', 'Unhealthy', 'Unhealthy'] ['Unhealthy' 'Unhealthy' 'Unhealthy' 'Unhealthy' 'Unhealthy' 'Unhealthy'\n",
      " 'Unhealthy' 'Unhealthy' 'Unhealthy' 'Unhealthy' 'Unhealthy' 'Unhealthy'\n",
      " 'Unhealthy' 'Unhealthy' 'Unhealthy' 'Unhealthy' 'Unhealthy' 'Unhealthy'\n",
      " 'Unhealthy' 'Unhealthy' 'Unhealthy' 'Unhealthy' 'Unhealthy' 'Unhealthy'\n",
      " 'Unhealthy' 'Unhealthy' 'Unhealthy' 'Unhealthy' 'Unhealthy' 'Unhealthy'\n",
      " 'Unhealthy' 'Unhealthy' 'Unhealthy' 'Unhealthy' 'Unhealthy' 'Unhealthy'\n",
      " 'Unhealthy' 'Unhealthy' 'Unhealthy' 'Unhealthy' 'Unhealthy' 'Unhealthy'\n",
      " 'Unhealthy' 'Unhealthy' 'Unhealthy' 'Unhealthy' 'Unhealthy' 'Unhealthy'\n",
      " 'Unhealthy' 'Unhealthy' 'Unhealthy' 'Unhealthy' 'Unhealthy' 'Unhealthy'\n",
      " 'Unhealthy' 'Unhealthy' 'Unhealthy' 'Unhealthy' 'Unhealthy' 'Unhealthy'\n",
      " 'Unhealthy' 'Unhealthy' 'Unhealthy' 'Unhealthy' 'Unhealthy' 'Unhealthy'\n",
      " 'Unhealthy' 'Unhealthy' 'Unhealthy']\n",
      "Accuracy: 0.782608695652174\n"
     ]
    }
   ],
   "source": [
    "#using principle components to do ML\n",
    "#splitting the data into train and test sets\n",
    "X_train, X_test, y_train, y_test = train_test_split(X_pca, health_state, test_size=0.3)#reshape needs to be fixed \n",
    "\n",
    "#init and train model, using radial basis functions\n",
    "svm_classifier = SVC(kernel='rbf', gamma='scale')  #'scale' normalises data, prevents overfitting\n",
    "svm_classifier.fit(X_train, y_train)\n",
    "\n",
    "#predictions\n",
    "y_pred = svm_classifier.predict(X_test)\n",
    "\n",
    "#evaluating accuracy of the model\n",
    "accuracy = accuracy_score(y_test, y_pred)\n",
    "print(y_test, y_pred)\n",
    "print(\"Accuracy:\", accuracy)"
   ]
  },
  {
   "cell_type": "markdown",
   "metadata": {},
   "source": [
    "## Wrapper Methods:\n",
    "\n",
    "These methods do feature selection whilst using the model\n",
    "\n",
    " - Forward Selection: Features are sequentially added to the model, starting with an empty set and adding the feature that improves model performance the most at each step.\n",
    " - Backward Elimination: Features are sequentially removed from the model, starting with the full set of features and removing the feature that decreases model performance the least at each step.\n",
    " - Recursive Feature Elimination (RFE): Features are recursively pruned based on the importance assigned to them by the model. Less important features are eliminated iteratively until the desired number of features is reached."
   ]
  },
  {
   "cell_type": "markdown",
   "metadata": {},
   "source": [
    "## Embedded Methods:\n",
    "\n",
    "Also done whilst using the model\n",
    "\n",
    "- Regularization: Techniques like LASSO (L1 regularization) and Ridge (L2 regularization) penalize the magnitude of feature coefficients, forcing less important features to have coefficients close to zero."
   ]
  },
  {
   "cell_type": "code",
   "execution_count": null,
   "metadata": {},
   "outputs": [],
   "source": [
    "#LASSO/Ridge Regression\n",
    "from sklearn.linear_model import Lasso\n",
    "from sklearn.linear_model import Ridge\n",
    "\n",
    "#changing health_state to binary for use in regression\n",
    "binary_health_state = [1 if label == 'Unhealthy' else 0 for label in health_state]\n",
    "\n",
    "#splitting the data into train and test sets\n",
    "X_train, X_test, y_train, y_test = train_test_split(X, binary_health_state, test_size=0.3)\n",
    "\n",
    "scaler = StandardScaler()\n",
    "X_train_scaled = scaler.fit_transform(X_train)\n",
    "\n",
    "#create and fit regression models\n",
    "lasso_alpha = 0.1  # Regularization strength (hyperparameter)\n",
    "lasso = Lasso(alpha=lasso_alpha)\n",
    "lasso.fit(X_train_scaled, y_train)\n",
    "\n",
    "ridge_alpha = 0.1 \n",
    "ridge = Ridge(alpha=ridge_alpha)\n",
    "ridge.fit(X_train_scaled, y_train)\n",
    "\n",
    "#use the trained models for prediction\n",
    "X_test_scaled = scaler.fit_transform(X_test)\n",
    "\n",
    "y_pred_ridge = ridge.predict(X_test_scaled)\n",
    "y_pred_lasso = lasso.predict(X_test_scaled)\n",
    "\n"
   ]
  },
  {
   "cell_type": "markdown",
   "metadata": {},
   "source": [
    "## Comparing Accuracy\n",
    "- MSE - average between true and predicted values\n",
    "- R2 score - measure of proportion of variance in dependent variable (target) that is explained by independent variables (features), indicates how well the model captures the variations in the data"
   ]
  },
  {
   "cell_type": "code",
   "execution_count": null,
   "metadata": {},
   "outputs": [],
   "source": [
    "from sklearn.metrics import mean_squared_error, r2_score\n",
    "\n",
    "#calculate MSE\n",
    "mse_lasso = mean_squared_error(y_test, y_pred_lasso)\n",
    "mse_ridge = mean_squared_error(y_test, y_pred_ridge)\n",
    "\n",
    "#calculate R2\n",
    "r2_lasso = r2_score(y_test, y_pred_lasso)\n",
    "r2_ridge = r2_score(y_test, y_pred_ridge)\n",
    "\n",
    "print(\"LASSO Regression:\")\n",
    "print(\"MSE:\", mse_lasso)\n",
    "print(\"R2 Score:\", r2_lasso)\n",
    "print()\n",
    "print(\"Ridge Regression:\")\n",
    "print(\"MSE:\", mse_ridge)\n",
    "print(\"R2 Score:\", r2_ridge)"
   ]
  },
  {
   "cell_type": "markdown",
   "metadata": {},
   "source": [
    "## SVM"
   ]
  },
  {
   "cell_type": "code",
   "execution_count": 23,
   "metadata": {},
   "outputs": [
    {
     "name": "stdout",
     "output_type": "stream",
     "text": [
      "[[ 696.15662651]\n",
      " [ 760.53246753]\n",
      " [ 831.97101449]\n",
      " [ 727.95      ]\n",
      " [ 685.23809524]\n",
      " [ 666.72413793]\n",
      " [ 808.54166667]\n",
      " [1012.52631579]\n",
      " [ 672.81395349]\n",
      " [ 670.12643678]\n",
      " [1150.8       ]\n",
      " [ 703.37804878]\n",
      " [ 703.        ]\n",
      " [ 917.68253968]\n",
      " [1010.63157895]\n",
      " [ 712.07407407]\n",
      " [ 787.28767123]\n",
      " [ 671.91954023]\n",
      " [ 912.21875   ]\n",
      " [ 811.73239437]\n",
      " [ 912.15873016]\n",
      " [ 833.71014493]\n",
      " [ 884.16923077]\n",
      " [ 817.74285714]\n",
      " [ 799.34722222]\n",
      " [1009.64912281]\n",
      " [1013.92982456]\n",
      " [ 699.31325301]\n",
      " [ 729.58227848]\n",
      " [ 635.76086957]\n",
      " [ 926.33333333]\n",
      " [ 763.59210526]\n",
      " [ 905.84375   ]\n",
      " [ 666.72413793]\n",
      " [ 816.16901408]\n",
      " [ 844.63235294]\n",
      " [ 820.70422535]\n",
      " [ 686.64285714]\n",
      " [ 659.21590909]\n",
      " [ 739.38461538]\n",
      " [ 632.17391304]\n",
      " [ 693.89285714]\n",
      " [ 725.9875    ]\n",
      " [1018.875     ]\n",
      " [ 855.67647059]\n",
      " [ 728.125     ]\n",
      " [ 612.12631579]\n",
      " [ 778.89189189]\n",
      " [ 753.5       ]\n",
      " [ 748.76623377]\n",
      " [ 772.54666667]\n",
      " [ 747.2987013 ]\n",
      " [ 739.73417722]\n",
      " [1029.55357143]\n",
      " [ 900.15625   ]\n",
      " [ 817.70422535]\n",
      " [ 742.34615385]\n",
      " [ 680.22093023]\n",
      " [ 704.52439024]\n",
      " [ 754.12987013]\n",
      " [ 758.5974026 ]\n",
      " [ 825.92857143]\n",
      " [ 663.28409091]\n",
      " [ 881.60606061]\n",
      " [ 786.89189189]\n",
      " [ 736.39240506]\n",
      " [ 692.60714286]\n",
      " [ 962.15      ]\n",
      " [ 769.32894737]\n",
      " [ 950.42622951]\n",
      " [ 749.88311688]\n",
      " [ 877.31818182]\n",
      " [ 918.79365079]\n",
      " [ 708.90243902]\n",
      " [ 927.44444444]\n",
      " [ 891.92307692]\n",
      " [ 968.93220339]\n",
      " [ 746.45454545]\n",
      " [ 754.51948052]\n",
      " [ 745.66666667]\n",
      " [ 837.98550725]\n",
      " [ 761.75      ]\n",
      " [ 787.31506849]\n",
      " [ 805.36111111]\n",
      " [ 683.71764706]\n",
      " [ 883.04545455]\n",
      " [ 795.30136986]\n",
      " [ 906.875     ]\n",
      " [ 891.55384615]\n",
      " [ 688.27058824]\n",
      " [ 765.39473684]\n",
      " [ 662.95402299]\n",
      " [ 913.96825397]\n",
      " [ 740.58227848]\n",
      " [1036.78181818]\n",
      " [ 783.02739726]\n",
      " [ 815.74647887]\n",
      " [ 831.64285714]\n",
      " [ 814.23943662]\n",
      " [ 993.33898305]\n",
      " [ 802.01388889]\n",
      " [1146.04      ]\n",
      " [ 975.86440678]\n",
      " [ 793.16438356]\n",
      " [ 738.4556962 ]\n",
      " [ 876.15151515]\n",
      " [ 982.86440678]\n",
      " [ 896.546875  ]\n",
      " [ 782.55405405]\n",
      " [ 696.63855422]\n",
      " [ 904.625     ]\n",
      " [ 851.42647059]\n",
      " [ 891.828125  ]\n",
      " [ 850.88235294]\n",
      " [ 810.77777778]\n",
      " [ 924.57142857]\n",
      " [ 760.45454545]\n",
      " [ 697.60240964]\n",
      " [ 739.70512821]\n",
      " [ 875.96969697]\n",
      " [ 823.63380282]\n",
      " [ 771.69333333]\n",
      " [ 848.91176471]\n",
      " [ 770.02702703]\n",
      " [ 822.5       ]\n",
      " [ 679.        ]\n",
      " [1031.58928571]\n",
      " [1051.72727273]\n",
      " [ 784.95945946]\n",
      " [ 894.953125  ]\n",
      " [ 899.1875    ]\n",
      " [ 787.60273973]\n",
      " [ 801.23611111]\n",
      " [ 879.81818182]\n",
      " [ 826.58571429]\n",
      " [ 702.80487805]\n",
      " [ 950.62295082]\n",
      " [ 700.39759036]\n",
      " [ 865.89552239]\n",
      " [ 908.890625  ]\n",
      " [ 746.49350649]\n",
      " [ 897.046875  ]\n",
      " [ 810.83098592]\n",
      " [ 686.01176471]\n",
      " [1098.73076923]\n",
      " [ 677.74418605]\n",
      " [ 883.40909091]\n",
      " [ 858.29850746]\n",
      " [ 874.09090909]\n",
      " [ 882.44615385]\n",
      " [1000.98275862]\n",
      " [ 873.6969697 ]\n",
      " [ 945.27868852]\n",
      " [ 842.58823529]\n",
      " [ 700.14457831]\n",
      " [ 840.2173913 ]\n",
      " [ 654.28089888]\n",
      " [ 862.01470588]\n",
      " [ 922.51612903]\n",
      " [ 845.72463768]\n",
      " [ 816.4       ]\n",
      " [ 815.32394366]\n",
      " [ 994.51724138]\n",
      " [ 787.67567568]\n",
      " [ 848.63235294]\n",
      " [ 821.69014085]\n",
      " [ 621.22340426]\n",
      " [1025.98245614]\n",
      " [ 748.11688312]\n",
      " [ 948.1147541 ]\n",
      " [1026.22807018]\n",
      " [1030.39285714]\n",
      " [ 815.49295775]\n",
      " [ 654.17045455]\n",
      " [1063.2037037 ]\n",
      " [1057.37037037]\n",
      " [ 911.66666667]\n",
      " [ 972.88135593]\n",
      " [ 976.96610169]\n",
      " [ 779.14864865]\n",
      " [ 746.15584416]\n",
      " [ 769.14666667]\n",
      " [1035.85454545]\n",
      " [ 827.61428571]\n",
      " [ 647.70786517]\n",
      " [ 808.05633803]\n",
      " [ 766.34210526]\n",
      " [1044.76363636]\n",
      " [ 691.09638554]\n",
      " [ 936.61290323]\n",
      " [1057.90740741]\n",
      " [1075.77777778]\n",
      " [ 782.21621622]\n",
      " [ 989.57627119]\n",
      " [ 818.15714286]\n",
      " [ 778.87837838]\n",
      " [ 913.74603175]\n",
      " [ 853.42647059]\n",
      " [ 772.2       ]\n",
      " [1087.24528302]\n",
      " [1010.75438596]\n",
      " [ 856.13235294]\n",
      " [ 987.54237288]\n",
      " [ 778.64      ]\n",
      " [ 978.55932203]\n",
      " [ 898.        ]\n",
      " [ 818.17142857]\n",
      " [1103.51923077]\n",
      " [ 889.61538462]\n",
      " [1053.30909091]\n",
      " [ 838.55072464]\n",
      " [1064.25925926]\n",
      " [ 876.60606061]\n",
      " [ 688.        ]\n",
      " [1095.8490566 ]\n",
      " [ 935.67741935]\n",
      " [ 962.33333333]\n",
      " [ 995.12068966]\n",
      " [ 883.10769231]\n",
      " [ 783.5       ]\n",
      " [ 794.93150685]\n",
      " [ 645.15555556]\n",
      " [ 892.6       ]\n",
      " [ 777.97297297]\n",
      " [ 794.68493151]\n",
      " [ 711.23170732]\n",
      " [ 875.62121212]\n",
      " [ 812.58333333]\n",
      " [ 805.56944444]]\n"
     ]
    }
   ],
   "source": [
    "#will have feature selection to decide this number\n",
    "no_features = 1\n",
    "\n",
    "# Initialize the array\n",
    "selected_params = np.zeros((no_patients, no_features))#need no. samples as rows, no. features as columns for machine learning analysis\n",
    "\n",
    "# Populate the array with values from the dictionary\n",
    "selected_params[:, 0] = params['rr_mean']\n",
    "#selected_params[:, 1] = params['rr_std']\n",
    "#selected_params[:, 2] = params['RMSSD']\n",
    "#selected_params[:, 3] = params['pNN50']#fix this\n",
    "\n",
    "print(selected_params)"
   ]
  },
  {
   "cell_type": "code",
   "execution_count": 26,
   "metadata": {
    "scrolled": true
   },
   "outputs": [
    {
     "name": "stdout",
     "output_type": "stream",
     "text": [
      "[[0.19758798 0.80241202]\n",
      " [0.19884666 0.80115334]\n",
      " [0.19204283 0.80795717]\n",
      " [0.19934955 0.80065045]\n",
      " [0.19977362 0.80022638]\n",
      " [0.20014535 0.79985465]\n",
      " [0.19932222 0.80067778]\n",
      " [0.19738977 0.80261023]\n",
      " [0.20098918 0.79901082]\n",
      " [0.20121703 0.79878297]\n",
      " [0.19483109 0.80516891]\n",
      " [0.20188335 0.79811665]\n",
      " [0.19566098 0.80433902]\n",
      " [0.20099974 0.79900026]\n",
      " [0.19576888 0.80423112]\n",
      " [0.20095919 0.79904081]\n",
      " [0.19701857 0.80298143]\n",
      " [0.20097035 0.79902965]\n",
      " [0.19736104 0.80263896]\n",
      " [0.19831199 0.80168801]\n",
      " [0.2001466  0.7998534 ]\n",
      " [0.20163578 0.79836422]\n",
      " [0.20111364 0.79888636]\n",
      " [0.19736122 0.80263878]\n",
      " [0.20204918 0.79795082]\n",
      " [0.19827909 0.80172091]\n",
      " [0.1993153  0.8006847 ]\n",
      " [0.20100158 0.79899842]\n",
      " [0.19897968 0.80102032]\n",
      " [0.1986154  0.8013846 ]\n",
      " [0.19874393 0.80125607]\n",
      " [0.20099883 0.79900117]\n",
      " [0.19855938 0.80144062]\n",
      " [0.20200128 0.79799872]\n",
      " [0.1974113  0.8025887 ]\n",
      " [0.20108163 0.79891837]\n",
      " [0.20259157 0.79740843]\n",
      " [0.20109608 0.79890392]\n",
      " [0.19903041 0.80096959]\n",
      " [0.20090345 0.79909655]\n",
      " [0.20201815 0.79798185]\n",
      " [0.20058072 0.79941928]\n",
      " [0.19740966 0.80259034]\n",
      " [0.19810956 0.80189044]\n",
      " [0.19767272 0.80232728]\n",
      " [0.19756526 0.80243474]\n",
      " [0.19606645 0.80393355]\n",
      " [0.19760305 0.80239695]\n",
      " [0.20093501 0.79906499]\n",
      " [0.19725989 0.80274011]\n",
      " [0.19822834 0.80177166]\n",
      " [0.2009373  0.7990627 ]\n",
      " [0.19407283 0.80592717]\n",
      " [0.20038562 0.79961438]\n",
      " [0.20096299 0.79903701]\n",
      " [0.2009324  0.7990676 ]\n",
      " [0.19415546 0.80584454]\n",
      " [0.20201353 0.79798647]\n",
      " [0.20109938 0.79890062]\n",
      " [0.19735839 0.80264161]\n",
      " [0.20312303 0.79687697]\n",
      " [0.19739451 0.80260549]\n",
      " [0.20111912 0.79888088]\n",
      " [0.19866934 0.80133066]\n",
      " [0.20070286 0.79929714]\n",
      " [0.20099393 0.79900607]\n",
      " [0.19739625 0.80260375]\n",
      " [0.19908169 0.80091831]\n",
      " [0.19756753 0.80243247]]\n",
      "Accuracy: 0.7971014492753623\n",
      "Unhealthy\n",
      "Unhealthy\n"
     ]
    }
   ],
   "source": [
    "#splitting the data into train and test sets\n",
    "X_train, X_test, y_train, y_test = train_test_split(selected_params.reshape(229, no_features), health_state, test_size=0.3)#reshape needs to be fixed \n",
    "\n",
    "#init and train model, using radial basis functions\n",
    "svm_model = SVC(kernel='rbf', gamma='scale', probability=True)  #'scale' normalises data, prevents overfitting\n",
    "svm_model.fit(X_train, y_train)\n",
    "\n",
    "#predicting probabilities\n",
    "probabilities = svm_model.predict_proba(X_test)\n",
    "print(probabilities)\n",
    "\n",
    "\n",
    "#predictions\n",
    "y_pred = svm_model.predict(X_test)\n",
    "\n",
    "#evaluating accuracy of the model\n",
    "accuracy = accuracy_score(y_test, y_pred)\n",
    "print(\"Accuracy:\", accuracy)\n",
    "\n",
    "print(y_train)\n",
    "print(y_pred)\n",
    "\n",
    "#view a classification report\n",
    "# print(\"Classification Report:\")\n",
    "# print(classification_report(y_test, y_pred))"
   ]
  },
  {
   "cell_type": "code",
   "execution_count": 22,
   "metadata": {},
   "outputs": [
    {
     "name": "stdout",
     "output_type": "stream",
     "text": [
      "Unhealthy\n",
      "Unhealthy\n"
     ]
    }
   ],
   "source": [
    "print(y_train[1])\n",
    "print(y_pred[1])"
   ]
  },
  {
   "cell_type": "code",
   "execution_count": null,
   "metadata": {},
   "outputs": [],
   "source": []
  }
 ],
 "metadata": {
  "kernelspec": {
   "display_name": "Python 3",
   "language": "python",
   "name": "python3"
  },
  "language_info": {
   "codemirror_mode": {
    "name": "ipython",
    "version": 3
   },
   "file_extension": ".py",
   "mimetype": "text/x-python",
   "name": "python",
   "nbconvert_exporter": "python",
   "pygments_lexer": "ipython3",
   "version": "3.10.13"
  }
 },
 "nbformat": 4,
 "nbformat_minor": 4
}
