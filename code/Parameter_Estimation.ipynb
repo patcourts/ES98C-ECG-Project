{
 "cells": [
  {
   "cell_type": "markdown",
   "metadata": {},
   "source": [
    "This notebook assumes access to denoised, detrended signals and calculates the appropriate parameters for the signal."
   ]
  },
  {
   "cell_type": "code",
   "execution_count": 1,
   "metadata": {},
   "outputs": [
    {
     "ename": "SyntaxError",
     "evalue": "EOL while scanning string literal (<ipython-input-1-7f1697f55622>, line 31)",
     "output_type": "error",
     "traceback": [
      "\u001b[1;36m  File \u001b[1;32m\"<ipython-input-1-7f1697f55622>\"\u001b[1;36m, line \u001b[1;32m31\u001b[0m\n\u001b[1;33m    signals, fields = wfdb.rdsamp('C:\\\\Users\\\\court\\\\Documents\\\\masters\\\\solo project\\\\ES98C-ECG-Project\\\\ptb-diagnostic-ecg-database-1.0.0\\\\ptb-diagnostic-ecg-database-1.0.0\\\\ + patients[i], sampto = new_Patient.get_desired_sample_length(), channel_names = new_Patient.get_channel_names())\u001b[0m\n\u001b[1;37m                                                                                                                                                                                                                                                                                                  ^\u001b[0m\n\u001b[1;31mSyntaxError\u001b[0m\u001b[1;31m:\u001b[0m EOL while scanning string literal\n"
     ]
    },
    {
     "ename": "SyntaxError",
     "evalue": "EOL while scanning string literal (<ipython-input-1-7f1697f55622>, line 31)",
     "output_type": "error",
     "traceback": [
      "Traceback \u001b[1;36m(most recent call last)\u001b[0m:\n",
      "  File \u001b[0;32m\"C:\\Users\\court\\Documents\\anaconda\\lib\\site-packages\\IPython\\core\\interactiveshell.py\"\u001b[0m, line \u001b[0;32m3343\u001b[0m, in \u001b[0;35mrun_code\u001b[0m\n    exec(code_obj, self.user_global_ns, self.user_ns)\n",
      "  File \u001b[0;32m\"<ipython-input-1-4b1cd1362e03>\"\u001b[0m, line \u001b[0;32m1\u001b[0m, in \u001b[0;35m<module>\u001b[0m\n    get_ipython().run_line_magic('run', '\"Database_Filtering.ipynb\" #allowing access to the filtered database')\n",
      "  File \u001b[0;32m\"C:\\Users\\court\\Documents\\anaconda\\lib\\site-packages\\IPython\\core\\interactiveshell.py\"\u001b[0m, line \u001b[0;32m2326\u001b[0m, in \u001b[0;35mrun_line_magic\u001b[0m\n    result = fn(*args, **kwargs)\n",
      "  File \u001b[0;32m\"<decorator-gen-60>\"\u001b[0m, line \u001b[0;32m2\u001b[0m, in \u001b[0;35mrun\u001b[0m\n",
      "  File \u001b[0;32m\"C:\\Users\\court\\Documents\\anaconda\\lib\\site-packages\\IPython\\core\\magic.py\"\u001b[0m, line \u001b[0;32m187\u001b[0m, in \u001b[0;35m<lambda>\u001b[0m\n    call = lambda f, *a, **k: f(*a, **k)\n",
      "  File \u001b[0;32m\"C:\\Users\\court\\Documents\\anaconda\\lib\\site-packages\\IPython\\core\\magics\\execution.py\"\u001b[0m, line \u001b[0;32m718\u001b[0m, in \u001b[0;35mrun\u001b[0m\n    self.shell.safe_execfile_ipy(filename, raise_exceptions=True)\n",
      "  File \u001b[0;32m\"C:\\Users\\court\\Documents\\anaconda\\lib\\site-packages\\IPython\\core\\interactiveshell.py\"\u001b[0m, line \u001b[0;32m2803\u001b[0m, in \u001b[0;35msafe_execfile_ipy\u001b[0m\n    result.raise_error()\n",
      "  File \u001b[0;32m\"C:\\Users\\court\\Documents\\anaconda\\lib\\site-packages\\IPython\\core\\interactiveshell.py\"\u001b[0m, line \u001b[0;32m329\u001b[0m, in \u001b[0;35mraise_error\u001b[0m\n    raise self.error_before_exec\n",
      "  File \u001b[0;32m\"C:\\Users\\court\\Documents\\anaconda\\lib\\site-packages\\IPython\\core\\interactiveshell.py\"\u001b[0m, line \u001b[0;32m3042\u001b[0m, in \u001b[0;35mrun_cell_async\u001b[0m\n    code_ast = compiler.ast_parse(cell, filename=cell_name)\n",
      "\u001b[1;36m  File \u001b[1;32m\"C:\\Users\\court\\Documents\\anaconda\\lib\\site-packages\\IPython\\core\\compilerop.py\"\u001b[1;36m, line \u001b[1;32m101\u001b[1;36m, in \u001b[1;35mast_parse\u001b[1;36m\u001b[0m\n\u001b[1;33m    return compile(source, filename, symbol, self.flags | PyCF_ONLY_AST, 1)\u001b[0m\n",
      "\u001b[1;36m  File \u001b[1;32m\"<ipython-input-1-7f1697f55622>\"\u001b[1;36m, line \u001b[1;32m31\u001b[0m\n\u001b[1;33m    signals, fields = wfdb.rdsamp('C:\\\\Users\\\\court\\\\Documents\\\\masters\\\\solo project\\\\ES98C-ECG-Project\\\\ptb-diagnostic-ecg-database-1.0.0\\\\ptb-diagnostic-ecg-database-1.0.0\\\\ + patients[i], sampto = new_Patient.get_desired_sample_length(), channel_names = new_Patient.get_channel_names())\u001b[0m\n\u001b[1;37m                                                                                                                                                                                                                                                                                                  ^\u001b[0m\n\u001b[1;31mSyntaxError\u001b[0m\u001b[1;31m:\u001b[0m EOL while scanning string literal\n"
     ]
    },
    {
     "ename": "SyntaxError",
     "evalue": "EOL while scanning string literal (<ipython-input-1-7f1697f55622>, line 31)",
     "output_type": "error",
     "traceback": [
      "Traceback \u001b[1;36m(most recent call last)\u001b[0m:\n",
      "  File \u001b[0;32m\"C:\\Users\\court\\Documents\\anaconda\\lib\\site-packages\\IPython\\core\\interactiveshell.py\"\u001b[0m, line \u001b[0;32m3343\u001b[0m, in \u001b[0;35mrun_code\u001b[0m\n    exec(code_obj, self.user_global_ns, self.user_ns)\n",
      "  File \u001b[0;32m\"<ipython-input-1-cd12f8d0dd96>\"\u001b[0m, line \u001b[0;32m1\u001b[0m, in \u001b[0;35m<module>\u001b[0m\n    get_ipython().run_line_magic('run', '\"Data_PreProcessing.ipynb\" #allowing access to the filtered database with preprocessed signals')\n",
      "  File \u001b[0;32m\"C:\\Users\\court\\Documents\\anaconda\\lib\\site-packages\\IPython\\core\\interactiveshell.py\"\u001b[0m, line \u001b[0;32m2326\u001b[0m, in \u001b[0;35mrun_line_magic\u001b[0m\n    result = fn(*args, **kwargs)\n",
      "  File \u001b[0;32m\"<decorator-gen-60>\"\u001b[0m, line \u001b[0;32m2\u001b[0m, in \u001b[0;35mrun\u001b[0m\n",
      "  File \u001b[0;32m\"C:\\Users\\court\\Documents\\anaconda\\lib\\site-packages\\IPython\\core\\magic.py\"\u001b[0m, line \u001b[0;32m187\u001b[0m, in \u001b[0;35m<lambda>\u001b[0m\n    call = lambda f, *a, **k: f(*a, **k)\n",
      "  File \u001b[0;32m\"C:\\Users\\court\\Documents\\anaconda\\lib\\site-packages\\IPython\\core\\magics\\execution.py\"\u001b[0m, line \u001b[0;32m718\u001b[0m, in \u001b[0;35mrun\u001b[0m\n    self.shell.safe_execfile_ipy(filename, raise_exceptions=True)\n",
      "  File \u001b[0;32m\"C:\\Users\\court\\Documents\\anaconda\\lib\\site-packages\\IPython\\core\\interactiveshell.py\"\u001b[0m, line \u001b[0;32m2803\u001b[0m, in \u001b[0;35msafe_execfile_ipy\u001b[0m\n    result.raise_error()\n",
      "  File \u001b[0;32m\"C:\\Users\\court\\Documents\\anaconda\\lib\\site-packages\\IPython\\core\\interactiveshell.py\"\u001b[0m, line \u001b[0;32m331\u001b[0m, in \u001b[0;35mraise_error\u001b[0m\n    raise self.error_in_exec\n",
      "  File \u001b[0;32m\"C:\\Users\\court\\Documents\\anaconda\\lib\\site-packages\\IPython\\core\\interactiveshell.py\"\u001b[0m, line \u001b[0;32m3343\u001b[0m, in \u001b[0;35mrun_code\u001b[0m\n    exec(code_obj, self.user_global_ns, self.user_ns)\n",
      "  File \u001b[0;32m\"<ipython-input-1-4b1cd1362e03>\"\u001b[0m, line \u001b[0;32m1\u001b[0m, in \u001b[0;35m<module>\u001b[0m\n    get_ipython().run_line_magic('run', '\"Database_Filtering.ipynb\" #allowing access to the filtered database')\n",
      "  File \u001b[0;32m\"C:\\Users\\court\\Documents\\anaconda\\lib\\site-packages\\IPython\\core\\interactiveshell.py\"\u001b[0m, line \u001b[0;32m2326\u001b[0m, in \u001b[0;35mrun_line_magic\u001b[0m\n    result = fn(*args, **kwargs)\n",
      "  File \u001b[0;32m\"<decorator-gen-60>\"\u001b[0m, line \u001b[0;32m2\u001b[0m, in \u001b[0;35mrun\u001b[0m\n",
      "  File \u001b[0;32m\"C:\\Users\\court\\Documents\\anaconda\\lib\\site-packages\\IPython\\core\\magic.py\"\u001b[0m, line \u001b[0;32m187\u001b[0m, in \u001b[0;35m<lambda>\u001b[0m\n    call = lambda f, *a, **k: f(*a, **k)\n",
      "  File \u001b[0;32m\"C:\\Users\\court\\Documents\\anaconda\\lib\\site-packages\\IPython\\core\\magics\\execution.py\"\u001b[0m, line \u001b[0;32m718\u001b[0m, in \u001b[0;35mrun\u001b[0m\n    self.shell.safe_execfile_ipy(filename, raise_exceptions=True)\n",
      "  File \u001b[0;32m\"C:\\Users\\court\\Documents\\anaconda\\lib\\site-packages\\IPython\\core\\interactiveshell.py\"\u001b[0m, line \u001b[0;32m2803\u001b[0m, in \u001b[0;35msafe_execfile_ipy\u001b[0m\n    result.raise_error()\n",
      "  File \u001b[0;32m\"C:\\Users\\court\\Documents\\anaconda\\lib\\site-packages\\IPython\\core\\interactiveshell.py\"\u001b[0m, line \u001b[0;32m329\u001b[0m, in \u001b[0;35mraise_error\u001b[0m\n    raise self.error_before_exec\n",
      "  File \u001b[0;32m\"C:\\Users\\court\\Documents\\anaconda\\lib\\site-packages\\IPython\\core\\interactiveshell.py\"\u001b[0m, line \u001b[0;32m3042\u001b[0m, in \u001b[0;35mrun_cell_async\u001b[0m\n    code_ast = compiler.ast_parse(cell, filename=cell_name)\n",
      "\u001b[1;36m  File \u001b[1;32m\"C:\\Users\\court\\Documents\\anaconda\\lib\\site-packages\\IPython\\core\\compilerop.py\"\u001b[1;36m, line \u001b[1;32m101\u001b[1;36m, in \u001b[1;35mast_parse\u001b[1;36m\u001b[0m\n\u001b[1;33m    return compile(source, filename, symbol, self.flags | PyCF_ONLY_AST, 1)\u001b[0m\n",
      "\u001b[1;36m  File \u001b[1;32m\"<ipython-input-1-7f1697f55622>\"\u001b[1;36m, line \u001b[1;32m31\u001b[0m\n\u001b[1;33m    signals, fields = wfdb.rdsamp('C:\\\\Users\\\\court\\\\Documents\\\\masters\\\\solo project\\\\ES98C-ECG-Project\\\\ptb-diagnostic-ecg-database-1.0.0\\\\ptb-diagnostic-ecg-database-1.0.0\\\\ + patients[i], sampto = new_Patient.get_desired_sample_length(), channel_names = new_Patient.get_channel_names())\u001b[0m\n\u001b[1;37m                                                                                                                                                                                                                                                                                                  ^\u001b[0m\n\u001b[1;31mSyntaxError\u001b[0m\u001b[1;31m:\u001b[0m EOL while scanning string literal\n"
     ]
    }
   ],
   "source": [
    "%run \"Data_PreProcessing.ipynb\" #allowing access to the filtered database with preprocessed signals"
   ]
  },
  {
   "cell_type": "code",
   "execution_count": null,
   "metadata": {},
   "outputs": [],
   "source": [
    "from scipy.signal import find_peaks #for peak finding"
   ]
  },
  {
   "cell_type": "code",
   "execution_count": null,
   "metadata": {},
   "outputs": [],
   "source": [
    "def peak_to_peak(signal, distance):\n",
    "    peaks, _ = find_peaks(signal, distance = distance)\n",
    "    peak_to_peaks = peaks[1:-1]\n",
    "\n",
    "    # Calculate differences between adjacent peak indices\n",
    "    peak_distances = np.diff(peak_to_peaks)\n",
    "\n",
    "    # Compute the average distance between peaks\n",
    "    peak_av = np.mean(peak_distances)\n",
    "    #peak_std = np.std(peak_distances) dont think we want this??\n",
    "    \n",
    "    return peak_av\n",
    "\n",
    "peak_to_peak_averages = np.zeros(shape = no_patients)\n",
    "for i, signal in enumerate(butterworth_detrended_signals):\n",
    "    peak_av = peak_to_peak(signal, 600)\n",
    "    peak_to_peak_averages[i] = peak_av"
   ]
  },
  {
   "cell_type": "code",
   "execution_count": null,
   "metadata": {},
   "outputs": [],
   "source": []
  }
 ],
 "metadata": {
  "kernelspec": {
   "display_name": "Python 3",
   "language": "python",
   "name": "python3"
  },
  "language_info": {
   "codemirror_mode": {
    "name": "ipython",
    "version": 3
   },
   "file_extension": ".py",
   "mimetype": "text/x-python",
   "name": "python",
   "nbconvert_exporter": "python",
   "pygments_lexer": "ipython3",
   "version": "3.10.13"
  }
 },
 "nbformat": 4,
 "nbformat_minor": 4
}
