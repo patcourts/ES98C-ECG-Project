{
 "cells": [
  {
   "cell_type": "markdown",
   "metadata": {},
   "source": [
    "This notebook assumes access to denoised, detrended signals and calculates the appropriate parameters for the signal."
   ]
  },
  {
   "cell_type": "code",
   "execution_count": 2,
   "metadata": {},
   "outputs": [
    {
     "name": "stderr",
     "output_type": "stream",
     "text": [
      "100%|████████████████████████████████████████████████████████████████████████████████| 549/549 [00:15<00:00, 34.57it/s]\n",
      "100%|████████████████████████████████████████████████████████████████████████████████| 229/229 [00:02<00:00, 98.94it/s]\n"
     ]
    }
   ],
   "source": [
    "%run \"Data_PreProcessing.ipynb\" #allowing access to the filtered database with preprocessed signals"
   ]
  },
  {
   "cell_type": "code",
   "execution_count": 3,
   "metadata": {},
   "outputs": [],
   "source": [
    "from scipy.signal import find_peaks #for peak finding"
   ]
  },
  {
   "cell_type": "code",
   "execution_count": 13,
   "metadata": {},
   "outputs": [],
   "source": [
    "def peak_eval(signal, distance):\n",
    "    peaks, _ = find_peaks(signal, distance = distance)\n",
    "    peak_to_peaks = peaks[1:-1]\n",
    "\n",
    "    # Calculate differences between adjacent peak indices\n",
    "    peak_distances = np.diff(peak_to_peaks)\n",
    "\n",
    "    # average/std distance between peaks - basically equivalent to heart rate\n",
    "    peak_av = np.mean(peak_distances)\n",
    "    #peak_std = np.std(peak_distances) dont think we want this?? - can check later when do feature selection\n",
    "    \n",
    "    #calculating amplitude of R peak\n",
    "    peak_amp = signal[peak_to_peaks] - np.median(signal) #median used as baseline\n",
    "    \n",
    "    peak_amp_av = np.mean(peak_amp)\n",
    "    #peak_amp_std = np.std(peak_amp)\n",
    "    \n",
    "    return peak_amp_av, peak_av\n",
    "\n",
    "\n",
    "peak_amp_av = np.zeros(shape = (no_patients))\n",
    "peak_av = np.zeros(shape = (no_patients))\n",
    "for i, signal in enumerate(denoised_signals):\n",
    "    peak_amp_av[i], peak_av[i] = peak_eval(signal, 600)\n"
   ]
  },
  {
   "cell_type": "code",
   "execution_count": 11,
   "metadata": {},
   "outputs": [],
   "source": [
    "\n",
    "#create dictionary with parameters\n",
    "params = {}\n",
    "\n",
    "params['peak_amp_av'] = peak_amp_av\n",
    "params['peak_to_peak_av'] = peak_av\n"
   ]
  },
  {
   "cell_type": "code",
   "execution_count": null,
   "metadata": {},
   "outputs": [],
   "source": []
  }
 ],
 "metadata": {
  "kernelspec": {
   "display_name": "Python 3",
   "language": "python",
   "name": "python3"
  },
  "language_info": {
   "codemirror_mode": {
    "name": "ipython",
    "version": 3
   },
   "file_extension": ".py",
   "mimetype": "text/x-python",
   "name": "python",
   "nbconvert_exporter": "python",
   "pygments_lexer": "ipython3",
   "version": "3.8.3"
  }
 },
 "nbformat": 4,
 "nbformat_minor": 4
}
