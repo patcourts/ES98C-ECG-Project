{
 "cells": [
  {
   "cell_type": "markdown",
   "metadata": {},
   "source": [
    "This notebook assumes that the database has been filtered and has access to this filtered dataset. The notebook performs the relevant denoising and preprocessing on the signals in the database. In line with literature this notebook has provides functionality for both the butterworth filter and the Discrete Wavelet Transfrom (DWT) as methods to remove noise and baseline wander from the raw data."
   ]
  },
  {
   "cell_type": "code",
   "execution_count": 1,
   "metadata": {},
   "outputs": [
    {
     "name": "stderr",
     "output_type": "stream",
     "text": [
      "100%|████████████████████████████████████████████████████████████████████████████████| 549/549 [01:19<00:00,  6.89it/s]\n"
     ]
    }
   ],
   "source": [
    "%run \"Database_Filtering.ipynb\" #allowing access to the filtered database"
   ]
  },
  {
   "cell_type": "code",
   "execution_count": 2,
   "metadata": {},
   "outputs": [],
   "source": [
    "from scipy.signal import butter, filtfilt #for the butterworth filter\n",
    "import pywt #for DWT\n",
    "import neurokit2 as nk"
   ]
  },
  {
   "cell_type": "code",
   "execution_count": 3,
   "metadata": {},
   "outputs": [
    {
     "name": "stderr",
     "output_type": "stream",
     "text": [
      "100%|███████████████████████████████████████████████████████████████████████████████| 221/221 [00:00<00:00, 308.03it/s]\n"
     ]
    }
   ],
   "source": [
    "#accessing signals within the allowed list of patients\n",
    "channel_list = ['v1', 'v2', 'v3', 'v4', 'v5', 'v6']\n",
    "no_channels = len(channel_list)\n",
    "no_patients = allowed_patients.count_patients()\n",
    "health_state = allowed_patients.get_diagnoses()\n",
    "\n",
    "#looping over all patients in database\n",
    "signals = np.zeros(shape=(no_patients, no_channels, sample_length))\n",
    "for i in tqdm(range(0, no_patients)):\n",
    "    #looping over each channel investigated\n",
    "    channels = np.zeros(shape=(no_channels, sample_length))\n",
    "    for j, channel in enumerate(channel_list):\n",
    "        channels[j] = allowed_patients.get_patients(i).get_signal()[:, j]\n",
    "        #signal = allowed_patients.get_patients(i).read_signal([channel]).reshape(-1)\n",
    "\n",
    "        #channels[j] = signal\n",
    "    \n",
    "        #flips signals in need of inverting\n",
    "        #inversion_corrected_signal = nk.ecg_invert(signal)[0]\n",
    "        #channels[j] = inversion_corrected_signal\n",
    "    \n",
    "    signals[i] = channels"
   ]
  },
  {
   "cell_type": "code",
   "execution_count": 4,
   "metadata": {},
   "outputs": [],
   "source": [
    "#high-pass butterworth filter removes baseline wander\n",
    "def butter_highpass(cutoff, fs, order=5):\n",
    "    nyquist = 0.5 * fs\n",
    "    normal_cutoff = cutoff / nyquist\n",
    "    b, a = butter(order, normal_cutoff, btype='high', analog=False)\n",
    "    return b, a\n",
    "\n",
    "#band-pass butterworth filter to remove noise\n",
    "def butter_bandpass(lowcut, highcut, fs, order=5):\n",
    "    nyquist = 0.5 * fs\n",
    "    low = lowcut / nyquist\n",
    "    high = highcut / nyquist\n",
    "    b, a = butter(order, [low, high], btype='band')\n",
    "    return b, a\n",
    "\n",
    "def denoise(signal, butter=False, DWT=False, nk_filt=False, normalise=False):\n",
    "    \n",
    "    sample_freq = 1000\n",
    "    \n",
    "    if butter and DWT:\n",
    "        print('only one filter can be applied to the data')\n",
    "        return None\n",
    "        \n",
    "    if butter:\n",
    "        cutoff_frequency = 0.5  # Cutoff frequency in Hz (remove frequencies below this)\n",
    "        b, a = butter_highpass(cutoff_frequency, sample_freq)\n",
    "        baseline_removed_signal = filtfilt(b, a, signal)\n",
    "        \n",
    "        lowcut = 1 # Lower bound of the band-pass filter\n",
    "        highcut = 50  # Upper bound of the band-pass filter\n",
    "        b, a = butter_bandpass(lowcut, highcut, sample_freq)\n",
    "        denoised_signal = filtfilt(b, a, baseline_removed_signal)\n",
    "        \n",
    "    elif DWT:\n",
    "        coeffs = pywt.wavedec(signal, wavelet='db4')\n",
    "        set_to_zero = [0, 1, 2, 3, 4]\n",
    "        level_to_zero = 9\n",
    "        for i in range(0, len(coeffs)):\n",
    "            if i in set_to_zero or i > level_to_zero:\n",
    "                coeffs[i] = np.zeros_like(coeffs[i])\n",
    "        denoised_signal = pywt.waverec(coeffs, wavelet='db4')\n",
    "        \n",
    "    elif nk_filt:\n",
    "        denoised_signal = nk.ecg_clean(signal)\n",
    "        \n",
    "    if normalise:\n",
    "        norm_denoised_signal = (denoised_signal - denoised_signal.min())/(denoised_signal.max()-denoised_signal.min())\n",
    "        return norm_denoised_signal\n",
    "    return denoised_signal\n",
    "    "
   ]
  },
  {
   "cell_type": "code",
   "execution_count": 5,
   "metadata": {},
   "outputs": [],
   "source": [
    "denoised_signals = np.zeros(shape=(no_patients, no_channels, sample_length))\n",
    "for i, signal in enumerate(signals):\n",
    "    for j in range(0, no_channels):\n",
    "        denoised_signals[i][j] = denoise(signal[j], butter=False, DWT=True, nk_filt=False, normalise=False)"
   ]
  },
  {
   "cell_type": "code",
   "execution_count": null,
   "metadata": {},
   "outputs": [],
   "source": []
  }
 ],
 "metadata": {
  "kernelspec": {
   "display_name": "Python 3",
   "language": "python",
   "name": "python3"
  },
  "language_info": {
   "codemirror_mode": {
    "name": "ipython",
    "version": 3
   },
   "file_extension": ".py",
   "mimetype": "text/x-python",
   "name": "python",
   "nbconvert_exporter": "python",
   "pygments_lexer": "ipython3",
   "version": "3.8.3"
  }
 },
 "nbformat": 4,
 "nbformat_minor": 4
}
