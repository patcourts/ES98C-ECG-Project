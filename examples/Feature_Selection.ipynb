{
 "cells": [
  {
   "cell_type": "markdown",
   "metadata": {},
   "source": [
    "This notebook exists to investigate the need of the parameters included in the dataset. Each parameter is tested against the others to see if they are statistically correlated....\n",
    "Then wrapper methods are used to determine which ones are most important....\n",
    "Want to reduce number of parameters needed to produce a good output so to reduce the cahnce of overfitting and increase the generalisation of the model."
   ]
  },
  {
   "cell_type": "code",
   "execution_count": 1,
   "metadata": {},
   "outputs": [
    {
     "name": "stderr",
     "output_type": "stream",
     "text": [
      "100%|████████████████████████████████████████████████████████████████████████████████| 549/549 [00:15<00:00, 34.50it/s]\n",
      "100%|████████████████████████████████████████████████████████████████████████████████| 229/229 [00:02<00:00, 99.93it/s]\n"
     ]
    }
   ],
   "source": [
    "%run \"Parameter_Estimation.ipynb\" #allowing access to parameters"
   ]
  },
  {
   "cell_type": "code",
   "execution_count": 2,
   "metadata": {},
   "outputs": [],
   "source": [
    "import itertools\n",
    "from scipy.stats import pearsonr"
   ]
  },
  {
   "cell_type": "code",
   "execution_count": 5,
   "metadata": {},
   "outputs": [
    {
     "name": "stdout",
     "output_type": "stream",
     "text": [
      "parameter rr_mean and parameter rr_std are significantly correlated, p = 0.039489188328994965, corr = 0.13617674637503555\n",
      "parameter rr_std and parameter RMSSD are significantly correlated, p = 1.2749464219281778e-144, corr = 0.9719160832903705\n",
      "parameter rr_std and parameter pNN50 are significantly correlated, p = 1.1416599922946515e-48, corr = 0.7828240601001586\n",
      "parameter RMSSD and parameter pNN50 are significantly correlated, p = 2.3293072298245995e-63, corr = 0.84404355794199\n"
     ]
    }
   ],
   "source": [
    "def investigate_corr(params):\n",
    "    \"\"\"\n",
    "    uses pearson correlation test to determine wether too parameters are correlated at the 5% significance level\n",
    "    \n",
    "    \"\"\"\n",
    "    for key1, key2 in itertools.combinations(params.keys(), 2):\n",
    "        corr, p_value = pearsonr(params[key1], params[key2])\n",
    "        if p_value < 0.05:\n",
    "            print(f\"parameter {key1} and parameter {key2} are significantly correlated, p = {p_value}, corr = {corr}\")\n",
    "    return None\n",
    "\n",
    "#investigate_corr(params)"
   ]
  },
  {
   "cell_type": "markdown",
   "metadata": {},
   "source": [
    "The above suggests that rr_std is not neccessary to be included, aswell as either pNN50 and RMSSD"
   ]
  },
  {
   "cell_type": "code",
   "execution_count": 11,
   "metadata": {},
   "outputs": [],
   "source": [
    "removed_params = ['rr_std', 'RMSSD', 'pNN50', 'mean', 'std', 'skews', 'rr_mean', 'shannon_en'] #convert to a set?\n",
    "\n",
    "selected_params = {}\n",
    "for key in params.keys():\n",
    "    if key not in removed_params:\n",
    "        selected_params[key] = params[key]\n",
    "        "
   ]
  },
  {
   "cell_type": "code",
   "execution_count": null,
   "metadata": {},
   "outputs": [],
   "source": []
  }
 ],
 "metadata": {
  "kernelspec": {
   "display_name": "Python 3",
   "language": "python",
   "name": "python3"
  },
  "language_info": {
   "codemirror_mode": {
    "name": "ipython",
    "version": 3
   },
   "file_extension": ".py",
   "mimetype": "text/x-python",
   "name": "python",
   "nbconvert_exporter": "python",
   "pygments_lexer": "ipython3",
   "version": "3.8.3"
  }
 },
 "nbformat": 4,
 "nbformat_minor": 4
}
