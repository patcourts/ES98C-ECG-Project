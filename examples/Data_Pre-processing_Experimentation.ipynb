{
 "cells": [
  {
   "cell_type": "markdown",
   "metadata": {},
   "source": [
    "This notebook includes code to work with the filtered database to pre-process the signals within the filtered database so that the signals are ready for analysis"
   ]
  },
  {
   "cell_type": "code",
   "execution_count": 1,
   "metadata": {},
   "outputs": [
    {
     "name": "stderr",
     "output_type": "stream",
     "text": [
      "100%|████████████████████████████████████████████████████████████████████████████████| 549/549 [01:29<00:00,  6.13it/s]\n"
     ]
    }
   ],
   "source": [
    "%run \"Database_Filtering.ipynb\" #allowing access to the filtered database"
   ]
  },
  {
   "cell_type": "markdown",
   "metadata": {},
   "source": [
    "First we need to access all the signals within the filtered database"
   ]
  },
  {
   "cell_type": "code",
   "execution_count": 2,
   "metadata": {},
   "outputs": [
    {
     "name": "stderr",
     "output_type": "stream",
     "text": [
      "100%|████████████████████████████████████████████████████████████████████████████████| 221/221 [00:02<00:00, 83.74it/s]\n"
     ]
    }
   ],
   "source": [
    "no_patients = allowed_patients.count_patients()\n",
    "\n",
    "#currently only does v1\n",
    "signals = np.zeros(shape=(no_patients, sample_length))\n",
    "for i in tqdm(range(0, no_patients)):\n",
    "    signal = allowed_patients.get_patients(i).read_signal(['v1']).reshape(-1)\n",
    "    signals[i] = signal"
   ]
  },
  {
   "cell_type": "code",
   "execution_count": 3,
   "metadata": {},
   "outputs": [],
   "source": [
    "#stating the signal to be used throughout this notebook for easy comparisson\n",
    "experimental_signal_indice = 37\n",
    "experminetal_channel_indice = 0"
   ]
  },
  {
   "cell_type": "markdown",
   "metadata": {},
   "source": [
    "Before the reduction of noise can begin we need to ensure all the signals are inverted correctly. To do this I have used...."
   ]
  },
  {
   "cell_type": "code",
   "execution_count": 4,
   "metadata": {},
   "outputs": [
    {
     "ename": "KeyboardInterrupt",
     "evalue": "",
     "output_type": "error",
     "traceback": [
      "\u001b[1;31m---------------------------------------------------------------------------\u001b[0m",
      "\u001b[1;31mKeyboardInterrupt\u001b[0m                         Traceback (most recent call last)",
      "\u001b[1;32m<ipython-input-4-74ec9f403c73>\u001b[0m in \u001b[0;36m<module>\u001b[1;34m\u001b[0m\n\u001b[0;32m      2\u001b[0m \u001b[0mflip_state_list\u001b[0m \u001b[1;33m=\u001b[0m \u001b[1;33m[\u001b[0m\u001b[1;33m]\u001b[0m\u001b[1;33m\u001b[0m\u001b[1;33m\u001b[0m\u001b[0m\n\u001b[0;32m      3\u001b[0m \u001b[1;32mfor\u001b[0m \u001b[0mi\u001b[0m \u001b[1;32min\u001b[0m \u001b[0mrange\u001b[0m\u001b[1;33m(\u001b[0m\u001b[1;36m0\u001b[0m\u001b[1;33m,\u001b[0m \u001b[0mlen\u001b[0m\u001b[1;33m(\u001b[0m\u001b[0msignals\u001b[0m\u001b[1;33m)\u001b[0m\u001b[1;33m)\u001b[0m\u001b[1;33m:\u001b[0m\u001b[1;33m\u001b[0m\u001b[1;33m\u001b[0m\u001b[0m\n\u001b[1;32m----> 4\u001b[1;33m     \u001b[0minversion_corrected_signals\u001b[0m\u001b[1;33m[\u001b[0m\u001b[0mi\u001b[0m\u001b[1;33m]\u001b[0m\u001b[1;33m,\u001b[0m \u001b[0mflip_state\u001b[0m \u001b[1;33m=\u001b[0m \u001b[0mnk\u001b[0m\u001b[1;33m.\u001b[0m\u001b[0mecg_invert\u001b[0m\u001b[1;33m(\u001b[0m\u001b[0msignals\u001b[0m\u001b[1;33m[\u001b[0m\u001b[0mi\u001b[0m\u001b[1;33m]\u001b[0m\u001b[1;33m)\u001b[0m\u001b[1;33m\u001b[0m\u001b[1;33m\u001b[0m\u001b[0m\n\u001b[0m\u001b[0;32m      5\u001b[0m     \u001b[0mflip_state_list\u001b[0m\u001b[1;33m.\u001b[0m\u001b[0mappend\u001b[0m\u001b[1;33m(\u001b[0m\u001b[0mflip_state\u001b[0m\u001b[1;33m)\u001b[0m\u001b[1;33m\u001b[0m\u001b[1;33m\u001b[0m\u001b[0m\n",
      "\u001b[1;32m~\\Documents\\anaconda\\lib\\site-packages\\neurokit2\\ecg\\ecg_invert.py\u001b[0m in \u001b[0;36mecg_invert\u001b[1;34m(ecg_signal, sampling_rate, force, show)\u001b[0m\n\u001b[0;32m     61\u001b[0m         \u001b[0mwas_inverted\u001b[0m \u001b[1;33m=\u001b[0m \u001b[1;32mTrue\u001b[0m\u001b[1;33m\u001b[0m\u001b[1;33m\u001b[0m\u001b[0m\n\u001b[0;32m     62\u001b[0m     \u001b[1;32melse\u001b[0m\u001b[1;33m:\u001b[0m\u001b[1;33m\u001b[0m\u001b[1;33m\u001b[0m\u001b[0m\n\u001b[1;32m---> 63\u001b[1;33m         \u001b[1;32mif\u001b[0m \u001b[0m_ecg_inverted\u001b[0m\u001b[1;33m(\u001b[0m\u001b[0mecg_signal\u001b[0m\u001b[1;33m,\u001b[0m \u001b[0msampling_rate\u001b[0m\u001b[1;33m=\u001b[0m\u001b[0msampling_rate\u001b[0m\u001b[1;33m)\u001b[0m\u001b[1;33m:\u001b[0m\u001b[1;33m\u001b[0m\u001b[1;33m\u001b[0m\u001b[0m\n\u001b[0m\u001b[0;32m     64\u001b[0m             \u001b[0mwas_inverted\u001b[0m \u001b[1;33m=\u001b[0m \u001b[1;32mTrue\u001b[0m\u001b[1;33m\u001b[0m\u001b[1;33m\u001b[0m\u001b[0m\n\u001b[0;32m     65\u001b[0m         \u001b[1;32melse\u001b[0m\u001b[1;33m:\u001b[0m\u001b[1;33m\u001b[0m\u001b[1;33m\u001b[0m\u001b[0m\n",
      "\u001b[1;32m~\\Documents\\anaconda\\lib\\site-packages\\neurokit2\\ecg\\ecg_invert.py\u001b[0m in \u001b[0;36m_ecg_inverted\u001b[1;34m(ecg_signal, sampling_rate, window_time)\u001b[0m\n\u001b[0;32m     72\u001b[0m \u001b[1;32mdef\u001b[0m \u001b[0m_ecg_inverted\u001b[0m\u001b[1;33m(\u001b[0m\u001b[0mecg_signal\u001b[0m\u001b[1;33m,\u001b[0m \u001b[0msampling_rate\u001b[0m\u001b[1;33m=\u001b[0m\u001b[1;36m1000\u001b[0m\u001b[1;33m,\u001b[0m \u001b[0mwindow_time\u001b[0m\u001b[1;33m=\u001b[0m\u001b[1;36m2.0\u001b[0m\u001b[1;33m)\u001b[0m\u001b[1;33m:\u001b[0m\u001b[1;33m\u001b[0m\u001b[1;33m\u001b[0m\u001b[0m\n\u001b[0;32m     73\u001b[0m     \u001b[1;34m\"\"\"Checks whether an ECG signal is inverted.\"\"\"\u001b[0m\u001b[1;33m\u001b[0m\u001b[1;33m\u001b[0m\u001b[0m\n\u001b[1;32m---> 74\u001b[1;33m     \u001b[0mecg_cleaned\u001b[0m \u001b[1;33m=\u001b[0m \u001b[0mecg_clean\u001b[0m\u001b[1;33m(\u001b[0m\u001b[0mecg_signal\u001b[0m\u001b[1;33m,\u001b[0m \u001b[0msampling_rate\u001b[0m\u001b[1;33m=\u001b[0m\u001b[0msampling_rate\u001b[0m\u001b[1;33m)\u001b[0m\u001b[1;33m\u001b[0m\u001b[1;33m\u001b[0m\u001b[0m\n\u001b[0m\u001b[0;32m     75\u001b[0m     \u001b[1;31m# mean should already be close to zero after filtering but just in case, subtract\u001b[0m\u001b[1;33m\u001b[0m\u001b[1;33m\u001b[0m\u001b[1;33m\u001b[0m\u001b[0m\n\u001b[0;32m     76\u001b[0m     \u001b[0mecg_cleaned_meanzero\u001b[0m \u001b[1;33m=\u001b[0m \u001b[0mecg_cleaned\u001b[0m \u001b[1;33m-\u001b[0m \u001b[0mnp\u001b[0m\u001b[1;33m.\u001b[0m\u001b[0mnanmean\u001b[0m\u001b[1;33m(\u001b[0m\u001b[0mecg_cleaned\u001b[0m\u001b[1;33m)\u001b[0m\u001b[1;33m\u001b[0m\u001b[1;33m\u001b[0m\u001b[0m\n",
      "\u001b[1;32m~\\Documents\\anaconda\\lib\\site-packages\\neurokit2\\ecg\\ecg_clean.py\u001b[0m in \u001b[0;36mecg_clean\u001b[1;34m(ecg_signal, sampling_rate, method, **kwargs)\u001b[0m\n\u001b[0;32m    113\u001b[0m     \u001b[0mmethod\u001b[0m \u001b[1;33m=\u001b[0m \u001b[0mmethod\u001b[0m\u001b[1;33m.\u001b[0m\u001b[0mlower\u001b[0m\u001b[1;33m(\u001b[0m\u001b[1;33m)\u001b[0m  \u001b[1;31m# remove capitalised letters\u001b[0m\u001b[1;33m\u001b[0m\u001b[1;33m\u001b[0m\u001b[0m\n\u001b[0;32m    114\u001b[0m     \u001b[1;32mif\u001b[0m \u001b[0mmethod\u001b[0m \u001b[1;32min\u001b[0m \u001b[1;33m[\u001b[0m\u001b[1;34m\"nk\"\u001b[0m\u001b[1;33m,\u001b[0m \u001b[1;34m\"nk2\"\u001b[0m\u001b[1;33m,\u001b[0m \u001b[1;34m\"neurokit\"\u001b[0m\u001b[1;33m,\u001b[0m \u001b[1;34m\"neurokit2\"\u001b[0m\u001b[1;33m]\u001b[0m\u001b[1;33m:\u001b[0m\u001b[1;33m\u001b[0m\u001b[1;33m\u001b[0m\u001b[0m\n\u001b[1;32m--> 115\u001b[1;33m         \u001b[0mclean\u001b[0m \u001b[1;33m=\u001b[0m \u001b[0m_ecg_clean_nk\u001b[0m\u001b[1;33m(\u001b[0m\u001b[0mecg_signal\u001b[0m\u001b[1;33m,\u001b[0m \u001b[0msampling_rate\u001b[0m\u001b[1;33m,\u001b[0m \u001b[1;33m**\u001b[0m\u001b[0mkwargs\u001b[0m\u001b[1;33m)\u001b[0m\u001b[1;33m\u001b[0m\u001b[1;33m\u001b[0m\u001b[0m\n\u001b[0m\u001b[0;32m    116\u001b[0m     \u001b[1;32melif\u001b[0m \u001b[0mmethod\u001b[0m \u001b[1;32min\u001b[0m \u001b[1;33m[\u001b[0m\u001b[1;34m\"biosppy\"\u001b[0m\u001b[1;33m,\u001b[0m \u001b[1;34m\"gamboa2008\"\u001b[0m\u001b[1;33m]\u001b[0m\u001b[1;33m:\u001b[0m\u001b[1;33m\u001b[0m\u001b[1;33m\u001b[0m\u001b[0m\n\u001b[0;32m    117\u001b[0m         \u001b[0mclean\u001b[0m \u001b[1;33m=\u001b[0m \u001b[0m_ecg_clean_biosppy\u001b[0m\u001b[1;33m(\u001b[0m\u001b[0mecg_signal\u001b[0m\u001b[1;33m,\u001b[0m \u001b[0msampling_rate\u001b[0m\u001b[1;33m)\u001b[0m\u001b[1;33m\u001b[0m\u001b[1;33m\u001b[0m\u001b[0m\n",
      "\u001b[1;32m~\\Documents\\anaconda\\lib\\site-packages\\neurokit2\\ecg\\ecg_clean.py\u001b[0m in \u001b[0;36m_ecg_clean_nk\u001b[1;34m(ecg_signal, sampling_rate, **kwargs)\u001b[0m\n\u001b[0;32m    181\u001b[0m     )\n\u001b[0;32m    182\u001b[0m \u001b[1;33m\u001b[0m\u001b[0m\n\u001b[1;32m--> 183\u001b[1;33m     \u001b[0mclean\u001b[0m \u001b[1;33m=\u001b[0m \u001b[0msignal_filter\u001b[0m\u001b[1;33m(\u001b[0m\u001b[0msignal\u001b[0m\u001b[1;33m=\u001b[0m\u001b[0mclean\u001b[0m\u001b[1;33m,\u001b[0m \u001b[0msampling_rate\u001b[0m\u001b[1;33m=\u001b[0m\u001b[0msampling_rate\u001b[0m\u001b[1;33m,\u001b[0m \u001b[0mmethod\u001b[0m\u001b[1;33m=\u001b[0m\u001b[1;34m\"powerline\"\u001b[0m\u001b[1;33m,\u001b[0m \u001b[1;33m**\u001b[0m\u001b[0mkwargs\u001b[0m\u001b[1;33m)\u001b[0m\u001b[1;33m\u001b[0m\u001b[1;33m\u001b[0m\u001b[0m\n\u001b[0m\u001b[0;32m    184\u001b[0m     \u001b[1;32mreturn\u001b[0m \u001b[0mclean\u001b[0m\u001b[1;33m\u001b[0m\u001b[1;33m\u001b[0m\u001b[0m\n\u001b[0;32m    185\u001b[0m \u001b[1;33m\u001b[0m\u001b[0m\n",
      "\u001b[1;32m~\\Documents\\anaconda\\lib\\site-packages\\neurokit2\\signal\\signal_filter.py\u001b[0m in \u001b[0;36msignal_filter\u001b[1;34m(signal, sampling_rate, lowcut, highcut, method, order, window_size, powerline, show)\u001b[0m\n\u001b[0;32m    150\u001b[0m         \u001b[0mfiltered\u001b[0m \u001b[1;33m=\u001b[0m \u001b[0m_signal_filter_savgol\u001b[0m\u001b[1;33m(\u001b[0m\u001b[0msignal_sanitized\u001b[0m\u001b[1;33m,\u001b[0m \u001b[0msampling_rate\u001b[0m\u001b[1;33m,\u001b[0m \u001b[0morder\u001b[0m\u001b[1;33m,\u001b[0m \u001b[0mwindow_size\u001b[0m\u001b[1;33m=\u001b[0m\u001b[0mwindow_size\u001b[0m\u001b[1;33m)\u001b[0m\u001b[1;33m\u001b[0m\u001b[1;33m\u001b[0m\u001b[0m\n\u001b[0;32m    151\u001b[0m     \u001b[1;32melif\u001b[0m \u001b[0mmethod\u001b[0m \u001b[1;32min\u001b[0m \u001b[1;33m[\u001b[0m\u001b[1;34m\"powerline\"\u001b[0m\u001b[1;33m]\u001b[0m\u001b[1;33m:\u001b[0m\u001b[1;33m\u001b[0m\u001b[1;33m\u001b[0m\u001b[0m\n\u001b[1;32m--> 152\u001b[1;33m         \u001b[0mfiltered\u001b[0m \u001b[1;33m=\u001b[0m \u001b[0m_signal_filter_powerline\u001b[0m\u001b[1;33m(\u001b[0m\u001b[0msignal_sanitized\u001b[0m\u001b[1;33m,\u001b[0m \u001b[0msampling_rate\u001b[0m\u001b[1;33m,\u001b[0m \u001b[0mpowerline\u001b[0m\u001b[1;33m)\u001b[0m\u001b[1;33m\u001b[0m\u001b[1;33m\u001b[0m\u001b[0m\n\u001b[0m\u001b[0;32m    153\u001b[0m     \u001b[1;32melse\u001b[0m\u001b[1;33m:\u001b[0m\u001b[1;33m\u001b[0m\u001b[1;33m\u001b[0m\u001b[0m\n\u001b[0;32m    154\u001b[0m \u001b[1;33m\u001b[0m\u001b[0m\n",
      "\u001b[1;32m~\\Documents\\anaconda\\lib\\site-packages\\neurokit2\\signal\\signal_filter.py\u001b[0m in \u001b[0;36m_signal_filter_powerline\u001b[1;34m(signal, sampling_rate, powerline)\u001b[0m\n\u001b[0;32m    305\u001b[0m         \u001b[0mb\u001b[0m \u001b[1;33m=\u001b[0m \u001b[0mnp\u001b[0m\u001b[1;33m.\u001b[0m\u001b[0mones\u001b[0m\u001b[1;33m(\u001b[0m\u001b[1;36m2\u001b[0m\u001b[1;33m)\u001b[0m\u001b[1;33m\u001b[0m\u001b[1;33m\u001b[0m\u001b[0m\n\u001b[0;32m    306\u001b[0m     \u001b[0ma\u001b[0m \u001b[1;33m=\u001b[0m \u001b[1;33m[\u001b[0m\u001b[0mlen\u001b[0m\u001b[1;33m(\u001b[0m\u001b[0mb\u001b[0m\u001b[1;33m)\u001b[0m\u001b[1;33m]\u001b[0m\u001b[1;33m\u001b[0m\u001b[1;33m\u001b[0m\u001b[0m\n\u001b[1;32m--> 307\u001b[1;33m     \u001b[0my\u001b[0m \u001b[1;33m=\u001b[0m \u001b[0mscipy\u001b[0m\u001b[1;33m.\u001b[0m\u001b[0msignal\u001b[0m\u001b[1;33m.\u001b[0m\u001b[0mfiltfilt\u001b[0m\u001b[1;33m(\u001b[0m\u001b[0mb\u001b[0m\u001b[1;33m,\u001b[0m \u001b[0ma\u001b[0m\u001b[1;33m,\u001b[0m \u001b[0msignal\u001b[0m\u001b[1;33m,\u001b[0m \u001b[0mmethod\u001b[0m\u001b[1;33m=\u001b[0m\u001b[1;34m\"pad\"\u001b[0m\u001b[1;33m)\u001b[0m\u001b[1;33m\u001b[0m\u001b[1;33m\u001b[0m\u001b[0m\n\u001b[0m\u001b[0;32m    308\u001b[0m     \u001b[1;32mreturn\u001b[0m \u001b[0my\u001b[0m\u001b[1;33m\u001b[0m\u001b[1;33m\u001b[0m\u001b[0m\n\u001b[0;32m    309\u001b[0m \u001b[1;33m\u001b[0m\u001b[0m\n",
      "\u001b[1;32m~\\Documents\\anaconda\\lib\\site-packages\\scipy\\signal\\_signaltools.py\u001b[0m in \u001b[0;36mfiltfilt\u001b[1;34m(b, a, x, axis, padtype, padlen, method, irlen)\u001b[0m\n\u001b[0;32m   4128\u001b[0m \u001b[1;33m\u001b[0m\u001b[0m\n\u001b[0;32m   4129\u001b[0m     \u001b[1;31m# method == \"pad\"\u001b[0m\u001b[1;33m\u001b[0m\u001b[1;33m\u001b[0m\u001b[1;33m\u001b[0m\u001b[0m\n\u001b[1;32m-> 4130\u001b[1;33m     edge, ext = _validate_pad(padtype, padlen, x, axis,\n\u001b[0m\u001b[0;32m   4131\u001b[0m                               ntaps=max(len(a), len(b)))\n\u001b[0;32m   4132\u001b[0m \u001b[1;33m\u001b[0m\u001b[0m\n",
      "\u001b[1;32m~\\Documents\\anaconda\\lib\\site-packages\\scipy\\signal\\_signaltools.py\u001b[0m in \u001b[0;36m_validate_pad\u001b[1;34m(padtype, padlen, x, axis, ntaps)\u001b[0m\n\u001b[0;32m   4187\u001b[0m             \u001b[0mext\u001b[0m \u001b[1;33m=\u001b[0m \u001b[0meven_ext\u001b[0m\u001b[1;33m(\u001b[0m\u001b[0mx\u001b[0m\u001b[1;33m,\u001b[0m \u001b[0medge\u001b[0m\u001b[1;33m,\u001b[0m \u001b[0maxis\u001b[0m\u001b[1;33m=\u001b[0m\u001b[0maxis\u001b[0m\u001b[1;33m)\u001b[0m\u001b[1;33m\u001b[0m\u001b[1;33m\u001b[0m\u001b[0m\n\u001b[0;32m   4188\u001b[0m         \u001b[1;32melif\u001b[0m \u001b[0mpadtype\u001b[0m \u001b[1;33m==\u001b[0m \u001b[1;34m'odd'\u001b[0m\u001b[1;33m:\u001b[0m\u001b[1;33m\u001b[0m\u001b[1;33m\u001b[0m\u001b[0m\n\u001b[1;32m-> 4189\u001b[1;33m             \u001b[0mext\u001b[0m \u001b[1;33m=\u001b[0m \u001b[0modd_ext\u001b[0m\u001b[1;33m(\u001b[0m\u001b[0mx\u001b[0m\u001b[1;33m,\u001b[0m \u001b[0medge\u001b[0m\u001b[1;33m,\u001b[0m \u001b[0maxis\u001b[0m\u001b[1;33m=\u001b[0m\u001b[0maxis\u001b[0m\u001b[1;33m)\u001b[0m\u001b[1;33m\u001b[0m\u001b[1;33m\u001b[0m\u001b[0m\n\u001b[0m\u001b[0;32m   4190\u001b[0m         \u001b[1;32melse\u001b[0m\u001b[1;33m:\u001b[0m\u001b[1;33m\u001b[0m\u001b[1;33m\u001b[0m\u001b[0m\n\u001b[0;32m   4191\u001b[0m             \u001b[0mext\u001b[0m \u001b[1;33m=\u001b[0m \u001b[0mconst_ext\u001b[0m\u001b[1;33m(\u001b[0m\u001b[0mx\u001b[0m\u001b[1;33m,\u001b[0m \u001b[0medge\u001b[0m\u001b[1;33m,\u001b[0m \u001b[0maxis\u001b[0m\u001b[1;33m=\u001b[0m\u001b[0maxis\u001b[0m\u001b[1;33m)\u001b[0m\u001b[1;33m\u001b[0m\u001b[1;33m\u001b[0m\u001b[0m\n",
      "\u001b[1;32m~\\Documents\\anaconda\\lib\\site-packages\\scipy\\signal\\_arraytools.py\u001b[0m in \u001b[0;36modd_ext\u001b[1;34m(x, n, axis)\u001b[0m\n\u001b[0;32m     98\u001b[0m     \u001b[0mright_end\u001b[0m \u001b[1;33m=\u001b[0m \u001b[0maxis_slice\u001b[0m\u001b[1;33m(\u001b[0m\u001b[0mx\u001b[0m\u001b[1;33m,\u001b[0m \u001b[0mstart\u001b[0m\u001b[1;33m=\u001b[0m\u001b[1;33m-\u001b[0m\u001b[1;36m1\u001b[0m\u001b[1;33m,\u001b[0m \u001b[0maxis\u001b[0m\u001b[1;33m=\u001b[0m\u001b[0maxis\u001b[0m\u001b[1;33m)\u001b[0m\u001b[1;33m\u001b[0m\u001b[1;33m\u001b[0m\u001b[0m\n\u001b[0;32m     99\u001b[0m     \u001b[0mright_ext\u001b[0m \u001b[1;33m=\u001b[0m \u001b[0maxis_slice\u001b[0m\u001b[1;33m(\u001b[0m\u001b[0mx\u001b[0m\u001b[1;33m,\u001b[0m \u001b[0mstart\u001b[0m\u001b[1;33m=\u001b[0m\u001b[1;33m-\u001b[0m\u001b[1;36m2\u001b[0m\u001b[1;33m,\u001b[0m \u001b[0mstop\u001b[0m\u001b[1;33m=\u001b[0m\u001b[1;33m-\u001b[0m\u001b[1;33m(\u001b[0m\u001b[0mn\u001b[0m \u001b[1;33m+\u001b[0m \u001b[1;36m2\u001b[0m\u001b[1;33m)\u001b[0m\u001b[1;33m,\u001b[0m \u001b[0mstep\u001b[0m\u001b[1;33m=\u001b[0m\u001b[1;33m-\u001b[0m\u001b[1;36m1\u001b[0m\u001b[1;33m,\u001b[0m \u001b[0maxis\u001b[0m\u001b[1;33m=\u001b[0m\u001b[0maxis\u001b[0m\u001b[1;33m)\u001b[0m\u001b[1;33m\u001b[0m\u001b[1;33m\u001b[0m\u001b[0m\n\u001b[1;32m--> 100\u001b[1;33m     ext = np.concatenate((2 * left_end - left_ext,\n\u001b[0m\u001b[0;32m    101\u001b[0m                           \u001b[0mx\u001b[0m\u001b[1;33m,\u001b[0m\u001b[1;33m\u001b[0m\u001b[1;33m\u001b[0m\u001b[0m\n\u001b[0;32m    102\u001b[0m                           2 * right_end - right_ext),\n",
      "\u001b[1;32m~\\Documents\\anaconda\\lib\\site-packages\\numpy\\core\\overrides.py\u001b[0m in \u001b[0;36mconcatenate\u001b[1;34m(*args, **kwargs)\u001b[0m\n",
      "\u001b[1;31mKeyboardInterrupt\u001b[0m: "
     ]
    }
   ],
   "source": [
    "inversion_corrected_signals = np.zeros(shape=(no_patients, sample_length))\n",
    "flip_state_list = []\n",
    "for i in range(0, len(signals)):\n",
    "    inversion_corrected_signals[i], flip_state = nk.ecg_invert(signals[i])\n",
    "    flip_state_list.append(flip_state)"
   ]
  },
  {
   "cell_type": "code",
   "execution_count": null,
   "metadata": {},
   "outputs": [],
   "source": [
    "signals = inversion_corrected_signals"
   ]
  },
  {
   "cell_type": "markdown",
   "metadata": {},
   "source": [
    "The first step is to try to repeat the pre-processing done within the paper mentioned within my proposal:\n",
    "https://www.nature.com/articles/s41598-017-15498-z#Bib1"
   ]
  },
  {
   "cell_type": "markdown",
   "metadata": {},
   "source": [
    "## Polynomial Detrending"
   ]
  },
  {
   "cell_type": "code",
   "execution_count": null,
   "metadata": {},
   "outputs": [],
   "source": [
    "def polynomial_detrending(signal, degree):\n",
    "    x = np.linspace(0, len(signal), len(signal))\n",
    "    \n",
    "    coeffs = np.polyfit(x, signal, degree)\n",
    "    trend = np.polyval(coeffs, x)\n",
    "    \n",
    "    return np.array(signal).reshape(-1) - np.array(trend), trend"
   ]
  },
  {
   "cell_type": "code",
   "execution_count": null,
   "metadata": {},
   "outputs": [],
   "source": [
    "detrended_signals = np.zeros(shape=(no_patients, sample_length))\n",
    "trends = np.zeros(shape=(no_patients, sample_length))\n",
    "for i in range(0, no_patients):\n",
    "    detrended_signals[i], trends[i] = polynomial_detrending(signals[i], 8)\n",
    "    \n",
    "    "
   ]
  },
  {
   "cell_type": "code",
   "execution_count": null,
   "metadata": {},
   "outputs": [],
   "source": [
    "fig, ax = plt.subplots(1, 1, figsize = (10, 6))\n",
    "\n",
    "\n",
    "ax.plot(signals[experimental_signal_indice], color = 'black', label = 'Signal')\n",
    "#ax.plot(detrended_signals[experimental_signal_indice], color = 'red', label = 'detrended sig')\n",
    "#ax.plot(trends[experimental_signal_indice])\n",
    "\n",
    "ax.set_xlabel(r'Time ($ms$)')\n",
    "ax.set_ylabel(r'V1 ($mV$)')\n",
    "ax.set_title('V1 Channel for Patient x')\n",
    "\n",
    "ax.legend()\n",
    "plt.show()"
   ]
  },
  {
   "cell_type": "code",
   "execution_count": null,
   "metadata": {},
   "outputs": [],
   "source": [
    "#can use other methods for the fitting?? rbf etc, always gonna have issues with this as shown above, can increase fitting\n",
    "#degree but comes with other errors"
   ]
  },
  {
   "cell_type": "markdown",
   "metadata": {},
   "source": [
    "## Wavelet Detrending  - Discrete\n",
    "\n",
    "Decomposes the signal into discrete wavelets seperated by different frequency bands, from low frequency to high frequency.\n",
    "Low frequency components include the trend of the signal so setting these to zero is baseline removal\n",
    "High frequency components include more detail, so be removing these may be removing noise associated bands \n",
    "- can do a hard cut off by just not including these levels or a soft threshold where threshold given by : $\\sigma \\sqrt{2*log(n)}$ where $\\sigma$ is the noise std dev ( 6 in A/D units) and n is the sample number."
   ]
  },
  {
   "cell_type": "code",
   "execution_count": null,
   "metadata": {},
   "outputs": [],
   "source": [
    "import pywt"
   ]
  },
  {
   "cell_type": "code",
   "execution_count": null,
   "metadata": {},
   "outputs": [],
   "source": [
    "coeffs = pywt.wavedec(signals[experimental_signal_indice], wavelet='db4')  #does level include only that many or just decompose to that many??\n",
    "\n",
    "set_to_zero = [0, 1, 2, 3, 4]\n",
    "level_to_zero = 9\n",
    "for i in range(0, len(coeffs)):\n",
    "    if i in set_to_zero or i > level_to_zero:\n",
    "        coeffs[i] = np.zeros_like(coeffs[i])\n",
    "\n",
    "\n",
    "detrended_signal_wavelet = pywt.waverec(coeffs, wavelet='db4')"
   ]
  },
  {
   "cell_type": "code",
   "execution_count": null,
   "metadata": {},
   "outputs": [],
   "source": [
    "def soft_thresholding(x, threshold):\n",
    "    return np.sign(x) * np.maximum(np.abs(x) - threshold, 0)\n",
    "\n",
    "\n",
    "#calculating threshold using universal threshold???\n",
    "noise_std_dev = 6 #A/D\n",
    "threshold = noise_std_dev * np.sqrt(2 * np.log(len(signals[0])))\n",
    "threshold = 0.1\n",
    "   \n",
    "#recalculate for comparisson\n",
    "coeffs1 =  pywt.wavedec(signals[experimental_signal_indice], wavelet='db4')\n",
    "\n",
    "# applying soft thresholding to the detail coefficients\n",
    "coeffs1[0] = np.zeros_like(coeffs1[0]) # set to zero to remove baseline\n",
    "for i, detail_coeff in enumerate(coeffs1[1:]):\n",
    "    coeffs1[i+1] = soft_thresholding(detail_coeff, threshold)\n",
    "                                              \n",
    "detrended_signal_wavelet_soft = pywt.waverec(coeffs1, wavelet='db4')"
   ]
  },
  {
   "cell_type": "code",
   "execution_count": null,
   "metadata": {},
   "outputs": [],
   "source": [
    "fig, ax = plt.subplots(1, 1, figsize = (10, 6))\n",
    "\n",
    "\n",
    "splice = (0, 6000)\n",
    "ax.plot(signals[experimental_signal_indice][:60000], color = 'black', label = 'Signal')\n",
    "ax.plot(detrended_signal_wavelet[:60000], color = 'red', label = 'detrended sig - hard threshold')\n",
    "ax.plot(detrended_signal_wavelet_soft[:60000], color = 'blue', label = 'detrended sig - soft threshold')\n",
    "\n",
    "ax.set_xlabel(r'Time ($ms$)')\n",
    "ax.set_ylabel(r'V1 ($mV$)')\n",
    "ax.set_title('V1 Channel for Patient x')\n",
    "\n",
    "ax.legend()\n",
    "plt.show()"
   ]
  },
  {
   "cell_type": "markdown",
   "metadata": {},
   "source": [
    "Need to balance signal denoising with preservation of signal features"
   ]
  },
  {
   "cell_type": "markdown",
   "metadata": {},
   "source": [
    "## Wavelet detrending - continuous\n",
    "\n",
    "need to look into appropriate wavelets and scale ranges cuz large scale range takes long time and alot of memory"
   ]
  },
  {
   "cell_type": "code",
   "execution_count": null,
   "metadata": {},
   "outputs": [],
   "source": [
    "#chose specific wavelet for problem\n",
    "wavelet = 'morl'\n",
    "\n",
    "#define scale range based on frequency range desired currently 1-50 hz \n",
    "scales = np.arange(24, 500)\n",
    "\n",
    "#continous wt - commented out cuz takes ages\n",
    "#coefficients, frequencies = pywt.cwt(signal, scales, wavelet)"
   ]
  },
  {
   "cell_type": "code",
   "execution_count": null,
   "metadata": {},
   "outputs": [],
   "source": [
    "#visualisation\n",
    "# plt.imshow(np.abs(coefficients), extent=[0, len(signal), 24, 500], cmap='PRGn', aspect='auto',\n",
    "#            vmax=abs(coefficients).max(), vmin=-abs(coefficients).max())\n",
    "# plt.colorbar(label='Magnitude')\n",
    "# plt.ylabel('Scale')\n",
    "# plt.xlabel('Time')\n",
    "# plt.title('Continuous Wavelet Transform (CWT)')\n",
    "# plt.show()"
   ]
  },
  {
   "cell_type": "markdown",
   "metadata": {},
   "source": [
    "## Butterworth filter"
   ]
  },
  {
   "cell_type": "code",
   "execution_count": null,
   "metadata": {},
   "outputs": [],
   "source": [
    "from scipy.signal import butter, filtfilt"
   ]
  },
  {
   "cell_type": "code",
   "execution_count": null,
   "metadata": {},
   "outputs": [],
   "source": [
    "# Define the cutoff frequency for the Butterworth filter\n",
    "cutoff_freq = 1# Adjust this value based on the characteristics of your signal\n",
    "\n",
    "# Normalize the cutoff frequency\n",
    "nyquist_freq = 500  # Nyquist frequency is half the sampling frequency\n",
    "normalized_cutoff = cutoff_freq / nyquist_freq\n",
    "\n",
    "# Design a low-pass Butterworth filter\n",
    "order = 3  # Filter order\n",
    "b, a = butter(order, normalized_cutoff, btype='low')\n",
    "\n",
    "# Apply the filter to detrend the signal\n",
    "detrended_signal_butter = filtfilt(b, a, signals[experimental_signal_indice])#thought this would give the detrended signal but gives a very good fit here\n",
    "detrended_signal = signals[experimental_signal_indice]-detrended_signal_butter\n",
    "\n",
    "#normalising signal\n",
    "norm_detrended_signal = (detrended_signal - detrended_signal.min())/(detrended_signal.max()-detrended_signal.min()) "
   ]
  },
  {
   "cell_type": "code",
   "execution_count": null,
   "metadata": {},
   "outputs": [],
   "source": [
    "fig, ax = plt.subplots(1, 1, figsize = (10, 6))\n",
    "\n",
    "\n",
    "ax.plot(signals[experimental_signal_indice], color = 'black', label = 'Signal')\n",
    "ax.plot(detrended_signal_butter, color = 'blue', label = 'fit')\n",
    "ax.plot(norm_detrended_signal, color = 'red', label = 'detrended sig')\n",
    "\n",
    "ax.set_xlabel(r'Time ($ms$)')\n",
    "ax.set_ylabel(r'V1 ($mV$)')\n",
    "ax.set_title('V1 Channel for Patient x')\n",
    "\n",
    "ax.legend()\n",
    "plt.show()"
   ]
  },
  {
   "cell_type": "code",
   "execution_count": null,
   "metadata": {},
   "outputs": [],
   "source": [
    "fig, ax = plt.subplots(1, 1, figsize = (10, 6))\n",
    "\n",
    "\n",
    "ax.plot(signals[experimental_signal_indice][:6000], color = 'black', label = 'Signal')\n",
    "#ax.plot(detrended_signal_butter[:6000], color = 'red', label = 'fit')\n",
    "ax.plot(detrended_signal[:6000], color = 'red', label = 'detrended sig')\n",
    "\n",
    "ax.set_xlabel(r'Time ($ms$)')\n",
    "ax.set_ylabel(r'V1 ($mV$)')\n",
    "ax.set_title('V1 Channel for Patient x')\n",
    "\n",
    "ax.legend()\n",
    "plt.show()"
   ]
  },
  {
   "cell_type": "code",
   "execution_count": null,
   "metadata": {},
   "outputs": [],
   "source": [
    "def butterworth_detrending(signal, cut_off_freq, nyquist_freq, order):\n",
    "    normalised_cut_off = cut_off_freq/nyquist_freq\n",
    "    \n",
    "    b, a = butter(order, normalized_cutoff, btype='low')\n",
    "\n",
    "    baseline = filtfilt(b, a, signal)#thought this would give the detrended signal but gives a very good fit here\n",
    "    detrended_signal = signal-baseline\n",
    "    return detrended_signal, baseline\n",
    "\n",
    "#need to implement a low and high pass filter, high pass removes baseline wander (e.g. cut_off = 0.1)\n",
    "#low pass removes high frequency noise e.g cut_off 1.0"
   ]
  },
  {
   "cell_type": "code",
   "execution_count": null,
   "metadata": {},
   "outputs": [],
   "source": [
    "butterworth_detrended_signals = np.zeros(shape=(no_patients, sample_length))\n",
    "trends = np.zeros(shape=(no_patients, sample_length))\n",
    "\n",
    "for i, signal in enumerate(signals):\n",
    "    butterworth_detrended_signals[i], trends[i] = butterworth_detrending(signal, cutoff_freq, nyquist_freq, order)"
   ]
  },
  {
   "cell_type": "markdown",
   "metadata": {},
   "source": [
    "## Gaussian smoothing"
   ]
  },
  {
   "cell_type": "code",
   "execution_count": null,
   "metadata": {},
   "outputs": [],
   "source": [
    "from scipy.ndimage import gaussian_filter1d"
   ]
  },
  {
   "cell_type": "code",
   "execution_count": null,
   "metadata": {},
   "outputs": [],
   "source": [
    "sigma = 4  # standard dev of the Gaussian kernel - find reason to chose this other than just trial and error\n",
    "smoothed_signal = gaussian_filter1d(signals[experimental_signal_indice], sigma)\n"
   ]
  },
  {
   "cell_type": "code",
   "execution_count": null,
   "metadata": {},
   "outputs": [],
   "source": [
    "plt.figure(figsize=(10, 5))\n",
    "plt.plot(signals[experimental_signal_indice][:10000], label='Original Signal')\n",
    "plt.plot(smoothed_signal[:10000], label='Smoothed Signal', linewidth=2)\n",
    "plt.legend()\n",
    "plt.xlabel('Time')\n",
    "plt.ylabel('Amplitude')\n",
    "plt.title('Gaussian Smoothing of a Noisy Time Series')\n",
    "plt.show()"
   ]
  },
  {
   "cell_type": "markdown",
   "metadata": {},
   "source": [
    "## Power Spectrum Analysis\n",
    "\n",
    "Fast Fourier Transform (FFT) vs Short-time Fourier Transform (STFT)\n",
    "\n",
    "STFT:\n",
    "- provides both time and frequency information, allowing for the analysis of how the frequency content of a signal changes over time - not needed here?\n",
    "- Suitable for non-stationary signals where frequency characteristics change over time - relevant to ECG\n",
    "- more computationally intensive than FFT\n",
    "\n",
    "FFT:\n",
    "- Highly efficient, so used often for large datasets\n",
    "- however assumes the signal is stationary\n",
    "- does not provide specific time information\n"
   ]
  },
  {
   "cell_type": "code",
   "execution_count": null,
   "metadata": {},
   "outputs": [],
   "source": [
    "#fast fourier transform\n",
    "sample_freq = 1000 #Hz, sampling freq in PTB diagnostic database\n",
    "\n",
    "freq_domain = np.fft.fft(signals[experimental_signal_indice])\n",
    "freqs = np.fft.fftfreq(len(signals[experimental_signal_indice]), d=1/sample_freq)\n"
   ]
  },
  {
   "cell_type": "code",
   "execution_count": null,
   "metadata": {},
   "outputs": [],
   "source": [
    "# Plot the power spectrum - plotting just the positive frequencies as is symmetric so negative freqs meaningless\n",
    "plt.figure(figsize=(10, 5))\n",
    "plt.plot(freqs[freqs>0], np.abs(freq_domain[freqs>0]))\n",
    "plt.xlabel('Frequency (Hz)')\n",
    "plt.ylabel('Power')\n",
    "plt.title('Frequency Power Spectrum')\n",
    "plt.show()"
   ]
  },
  {
   "cell_type": "markdown",
   "metadata": {},
   "source": [
    "## Fixed Butterworth"
   ]
  },
  {
   "cell_type": "code",
   "execution_count": null,
   "metadata": {},
   "outputs": [],
   "source": [
    "#high-pass filter removes baseline wander\n",
    "def butter_highpass(cutoff, fs, order=5):\n",
    "    nyquist = 0.5 * fs\n",
    "    normal_cutoff = cutoff / nyquist\n",
    "    b, a = butter(order, normal_cutoff, btype='high', analog=False)\n",
    "    return b, a\n",
    "\n",
    "cutoff_frequency = 0.5  # Cutoff frequency in Hz (remove frequencies below this)\n",
    "b, a = butter_highpass(cutoff_frequency, sample_freq)\n",
    "baseline_removed_signal = filtfilt(b, a, signals[experimental_signal_indice])\n",
    "\n",
    "#band-pass filter to remove noise\n",
    "def butter_bandpass(lowcut, highcut, fs, order=5):\n",
    "    nyquist = 0.5 * fs\n",
    "    low = lowcut / nyquist\n",
    "    high = highcut / nyquist\n",
    "    b, a = butter(order, [low, high], btype='band')\n",
    "    return b, a\n",
    "\n",
    "lowcut = 1 # Lower bound of the band-pass filter\n",
    "highcut = 50  # Upper bound of the band-pass filter\n",
    "b, a = butter_bandpass(lowcut, highcut, sample_freq)\n",
    "denoised_signal = filtfilt(b, a, baseline_removed_signal)"
   ]
  },
  {
   "cell_type": "code",
   "execution_count": null,
   "metadata": {},
   "outputs": [],
   "source": [
    "fig, axes = plt.subplots(figsize = (12,8))\n",
    "\n",
    "axes.plot(detrended_signal[:6000], color = 'red', label = 'butter detrended sig')\n",
    "axes.plot(denoised_signal[:6000], label = 'improved butter')\n",
    "#axes.plot(signals[experimental_signal_indice][:6000])\n",
    "\n",
    "\n",
    "#axes.plot(detrended_signal_wavelet[:6000], color = 'blue', label = 'wavelet detrended sig')\n",
    "axes.legend()\n",
    "plt.show()"
   ]
  },
  {
   "cell_type": "markdown",
   "metadata": {},
   "source": [
    "this butterworth filter works now, can get the bounds from the power spectrum analysis - decide which one to use then write up in report then data preprocessing section done."
   ]
  },
  {
   "cell_type": "markdown",
   "metadata": {},
   "source": [
    "## Comparrison of detrended signals"
   ]
  },
  {
   "cell_type": "code",
   "execution_count": null,
   "metadata": {},
   "outputs": [],
   "source": [
    "fig, ax = plt.subplots(1, 1, figsize = (10, 6))\n",
    "\n",
    "\n",
    "ax.plot(signals[experimental_signal_indice][:1000], color = 'black', label = 'Signal')\n",
    "#ax.plot(detrended_signal[:6000], color = 'red', label = 'butter detrended sig')\n",
    "ax.plot(detrended_signal_wavelet[:1000], color = 'blue', label = 'wavelet detrended sig')\n",
    "ax.plot(denoised_signal[:1000], label = 'improved butter')\n",
    "\n",
    "ax.set_xlabel(r'Time ($ms$)')\n",
    "ax.set_ylabel(r'V1 ($mV$)')\n",
    "ax.set_title('V1 Channel for Patient x')\n",
    "\n",
    "ax.legend()\n",
    "plt.show()"
   ]
  },
  {
   "cell_type": "markdown",
   "metadata": {},
   "source": [
    "can get good denoised signal with DWT but need actual reason to set some to zero and keep some coeffs -- found in paper\n",
    "still only done on one channel"
   ]
  },
  {
   "cell_type": "markdown",
   "metadata": {},
   "source": [
    "### looking at ecg_clean"
   ]
  },
  {
   "cell_type": "code",
   "execution_count": null,
   "metadata": {},
   "outputs": [],
   "source": [
    "import neurokit2 as nk\n",
    "\n",
    "results, info = nk.ecg_process(signals[experimental_signal_indice])\n",
    "\n",
    "nk.ecg_plot(results, info)\n",
    "print(results['ECG_Quality'])\n",
    "clean_signal = results['ECG_Clean']"
   ]
  },
  {
   "cell_type": "code",
   "execution_count": null,
   "metadata": {},
   "outputs": [],
   "source": [
    "fig, ax = plt.subplots(1, 1, figsize = (10, 6))\n",
    "\n",
    "\n",
    "ax.plot(signals[experimental_signal_indice][:1000], color = 'black', label = 'Signal')\n",
    "#ax.plot(detrended_signal[:6000], color = 'red', label = 'butter detrended sig')\n",
    "ax.plot(detrended_signal_wavelet[:1000], color = 'blue', label = 'wavelet detrended sig')\n",
    "ax.plot(denoised_signal[:1000], label = 'improved butter')\n",
    "ax.plot(clean_signal[:1000], label = 'neurokit')\n",
    "\n",
    "ax.set_xlabel(r'Time ($ms$)')\n",
    "ax.set_ylabel(r'V1 ($mV$)')\n",
    "ax.set_title('V1 Channel for Patient x')\n",
    "\n",
    "ax.legend()\n",
    "plt.show()"
   ]
  },
  {
   "cell_type": "markdown",
   "metadata": {},
   "source": [
    "### checking for signal inversion"
   ]
  },
  {
   "cell_type": "code",
   "execution_count": null,
   "metadata": {},
   "outputs": [],
   "source": [
    "nk.ecg_invert(signals[208], show=True)"
   ]
  },
  {
   "cell_type": "code",
   "execution_count": null,
   "metadata": {},
   "outputs": [],
   "source": [
    "inversion_corrected_signals = np.zeros(shape=(no_patients, sample_length))\n",
    "flip_state_list = []\n",
    "for i in range(0, len(signals)):\n",
    "    inversion_corrected_signals[i], flip_state = nk.ecg_invert(signals[i])\n",
    "    flip_state_list.append(flip_state)"
   ]
  },
  {
   "cell_type": "code",
   "execution_count": null,
   "metadata": {},
   "outputs": [],
   "source": [
    "print(flip_state_list)\n",
    "print(len([i for i, state in enumerate(flip_state_list) if state == True]))"
   ]
  },
  {
   "cell_type": "markdown",
   "metadata": {},
   "source": [
    "### checking signal quality"
   ]
  },
  {
   "cell_type": "code",
   "execution_count": null,
   "metadata": {},
   "outputs": [],
   "source": [
    "quality = nk.ecg_quality(clean_signal, method='zhao2018')\n",
    "print(quality)\n",
    "\n",
    "signal_quality = []\n",
    "for i in range(0, len(signals)):\n",
    "    cleaned_signal = nk.ecg_clean(signals[i])\n",
    "    quality = nk.ecg_quality(cleaned_signal, method='zhao2018')\n",
    "    signal_quality.append(quality)"
   ]
  },
  {
   "cell_type": "code",
   "execution_count": null,
   "metadata": {},
   "outputs": [],
   "source": [
    "print(signal_quality)\n",
    "print([i for i, quality in enumerate(signal_quality) if quality == 'Unacceptable'])\n",
    "print(len([i for i, quality in enumerate(signal_quality) if quality == 'Unacceptable']))"
   ]
  },
  {
   "cell_type": "code",
   "execution_count": null,
   "metadata": {},
   "outputs": [],
   "source": [
    "signal_quality = []\n",
    "for i in range(0, len(signals)):\n",
    "    cleaned_signal = nk.ecg_clean(inversion_corrected_signals[i])\n",
    "    quality = nk.ecg_quality(cleaned_signal, method='zhao2018')\n",
    "    signal_quality.append(quality)"
   ]
  },
  {
   "cell_type": "code",
   "execution_count": null,
   "metadata": {},
   "outputs": [],
   "source": [
    "print(signal_quality)\n",
    "print([i for i, quality in enumerate(signal_quality) if quality == 'Unacceptable'])\n",
    "print(len([i for i, quality in enumerate(signal_quality) if quality == 'Unacceptable']))"
   ]
  },
  {
   "cell_type": "markdown",
   "metadata": {},
   "source": [
    "## Investigating Power Spectrum of denoised signal"
   ]
  },
  {
   "cell_type": "code",
   "execution_count": null,
   "metadata": {},
   "outputs": [],
   "source": [
    "#butterworth detrended signals\n",
    "butter_freq_domain = np.fft.fft(denoised_signal)\n",
    "butter_freqs = np.fft.fftfreq(len(denoised_signal), d=1/sample_freq)\n",
    "\n",
    "wavelet_freq_domain = np.fft.fft(detrended_signal_wavelet)\n",
    "wavelet_freqs = np.fft.fftfreq(len(detrended_signal_wavelet), d=1/sample_freq)"
   ]
  },
  {
   "cell_type": "code",
   "execution_count": null,
   "metadata": {},
   "outputs": [],
   "source": [
    "# comparisson of power spectrum \n",
    "plt.figure(figsize=(10, 5))\n",
    "#plt.plot(wavelet_freqs[wavelet_freqs>0], np.abs(wavelet_freq_domain[wavelet_freqs>0]), alpha=0.3)\n",
    "plt.plot(butter_freqs[butter_freqs>0], np.abs(butter_freq_domain[butter_freqs>0]), alpha=0.3)\n",
    "plt.xlabel('Frequency (Hz)')\n",
    "plt.ylabel('Power')\n",
    "plt.title('Frequency Power Spectrum')\n",
    "plt.show()"
   ]
  },
  {
   "cell_type": "markdown",
   "metadata": {},
   "source": [
    "## Recreate violin plot from paper \n",
    "- do on filtered data"
   ]
  },
  {
   "cell_type": "code",
   "execution_count": null,
   "metadata": {},
   "outputs": [],
   "source": [
    "# computing FFT and finding the frequency with the maximum power for each signal\n",
    "max_power_frequencies = np.zeros(shape = no_patients)\n",
    "\n",
    "for i in tqdm(range(0, no_patients)):\n",
    "    fft_domain = np.fft.fft(signals[i])\n",
    "    fft_freq = np.fft.fftfreq(len(signals[i]), 1/sample_freq)\n",
    "    power_spectrum = np.abs(fft_domain)**2\n",
    "    \n",
    "    # Find the frequency with the maximum power\n",
    "    positive_freqs = fft_freq >= 0\n",
    "    max_power_freq = fft_freq[positive_freqs][np.argmax(power_spectrum[positive_freqs])]\n",
    "    max_power_frequencies[i] = max_power_freq\n",
    "    \n",
    "\n",
    "    "
   ]
  },
  {
   "cell_type": "code",
   "execution_count": null,
   "metadata": {},
   "outputs": [],
   "source": [
    "import seaborn as sn #for violin plot, use matplotlib\n",
    "\n",
    "health_state = allowed_patients.get_diagnoses()\n",
    "print(type(max_power_frequencies[0]))\n",
    "encoded_health_state = [True if label == 'Unhealthy' else False for label in health_state]\n",
    "healthy_freq = max_power_frequencies[~np.array(encoded_health_state)]\n",
    "unhealthy_freq = max_power_frequencies[encoded_health_state]\n",
    "\n",
    "fig, ax = plt.subplots(figsize = (8, 6))\n",
    "sn.violinplot(max_power_frequencies, inner=\"points\", orient='v', ax=ax)\n",
    "ax.set_title('Distribution of Frequencies with Maximum Power')\n",
    "ax.set_xlabel('Signal Index')\n",
    "ax.set_ylabel('Frequency [Hz]')\n",
    "plt.show()"
   ]
  },
  {
   "cell_type": "code",
   "execution_count": null,
   "metadata": {
    "scrolled": true
   },
   "outputs": [],
   "source": [
    "import pandas as pd\n",
    "fig, ax = plt.subplots()\n",
    "\n",
    "# Prepare the data for Seaborn\n",
    "df1 = pd.DataFrame({\n",
    "    'frequency': max_power_frequencies,\n",
    "    'health state': health_state\n",
    "})\n",
    "\n",
    "# Create the violin plot\n",
    "#sn.violinplot(data=df1, x=\"health state\", y=\"frequency\")\n",
    "ax.set_title('Distribution of Frequencies with Maximum Power')\n",
    "ax.set_xlabel('Health State')\n",
    "ax.set_ylabel('Frequency [Hz]')\n",
    "plt.show()\n",
    "\n",
    "#violin plot from seaborn very buggy\n"
   ]
  },
  {
   "cell_type": "code",
   "execution_count": null,
   "metadata": {},
   "outputs": [],
   "source": [
    "from scipy.signal import stft\n",
    "\n",
    "# params\n",
    "fs = 1000  # sampling frequency\n",
    "window_size = 256  # Window size - in sample number\n",
    "overlap = 128  # Overlap between windows - in sample number, so 50% trade off between smoothness and computational time\n",
    "#window_type = 'hamming'  # or 'hamming'\n",
    "\n",
    "\n",
    "#returns frequencies, times and complex STFT values\n",
    "frequencies, times, Zxx = stft(signals[experimental_signal_indice], fs, nperseg=window_size, noverlap=overlap)\n",
    "\n",
    "# Plot STFT magnitude\n",
    "plt.figure(figsize=(12, 6))\n",
    "plt.pcolormesh(times, frequencies, np.abs(Zxx), shading='gouraud')\n",
    "plt.title('STFT Magnitude of ECG Signal')\n",
    "plt.ylabel('Frequency [Hz]')\n",
    "plt.xlabel('Time [sec]')\n",
    "plt.colorbar(label='Magnitude')\n",
    "plt.show()\n",
    "\n",
    "#do individual basis and healthy/non healthy\n",
    "#have a look at power spectrum analysis\n",
    "#have a look at R-R interval"
   ]
  },
  {
   "cell_type": "code",
   "execution_count": null,
   "metadata": {},
   "outputs": [],
   "source": [
    "#try and recreate the plot from the paper - do we do this in this file or in parameter one??\n",
    "#try to determine what cutoffs to use for the butterworth filters from the power spectra"
   ]
  },
  {
   "cell_type": "code",
   "execution_count": null,
   "metadata": {},
   "outputs": [],
   "source": [
    "# import matplotlib.animation as animation\n",
    "\n",
    "# %matplotlib notebook\n",
    "# fig, ax = plt.subplots(1, 1, figsize = (10, 6))\n",
    "\n",
    "# def update(index):\n",
    "#     ax.clear()  # Clear the previous plot\n",
    "#     ax.plot(signals[index], color='black', label='Signal')\n",
    "#     ax.plot(denoised_signals[index], color='red', label='Denoised Signal')\n",
    "#     ax.legend()\n",
    "#     ax.set_title(f'Signal {index}')\n",
    "\n",
    "# # Create animation\n",
    "# ani = animation.FuncAnimation(fig, update, frames=no_patients, interval=3000)  # 10000 ms interval (10 seconds)\n",
    "\n",
    "# plt.show()"
   ]
  },
  {
   "cell_type": "code",
   "execution_count": null,
   "metadata": {},
   "outputs": [],
   "source": []
  }
 ],
 "metadata": {
  "kernelspec": {
   "display_name": "Python 3",
   "language": "python",
   "name": "python3"
  },
  "language_info": {
   "codemirror_mode": {
    "name": "ipython",
    "version": 3
   },
   "file_extension": ".py",
   "mimetype": "text/x-python",
   "name": "python",
   "nbconvert_exporter": "python",
   "pygments_lexer": "ipython3",
   "version": "3.8.3"
  }
 },
 "nbformat": 4,
 "nbformat_minor": 4
}
