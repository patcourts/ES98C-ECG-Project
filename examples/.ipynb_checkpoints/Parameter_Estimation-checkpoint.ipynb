{
 "cells": [
  {
   "cell_type": "markdown",
   "metadata": {},
   "source": [
    "This notebook assumes access to denoised, detrended signals and calculates the appropriate parameters for the signal.\n",
    "This notebook assumes access to detrended, denoised signals and calculates various parameters (and uncertainties) from these signals.The parameters estimated within this notebook are split into three different types: time-domain, frequency-domain and non-linear:\n",
    "\n",
    "Time domain:\n",
    " - mean RR intervals\n",
    " - std RR intervals \n",
    " - mean amplitude\n",
    " - RMSSD of differences between successive RR intervals \n",
    " - pNN50 (%) NN50 divided by total number of RR (NN50 is the number of sucessive RR intervals that differ by more than 50ms) \n",
    " \n",
    " \n",
    "Frequency Domain:\n",
    "- absolute power of LF (0.04 - 0.15 Hz) band\n",
    "- absolute power of HF (0.15 to 0.4Hz) band\n",
    "- LF/HF ratio\n",
    "- Total power (0-0.4 Hz)\n",
    "\n",
    "Non-linear:\n",
    "- Fractal dimension of dynamic attractor of signal\n",
    "- std of poincare\n",
    "- Shannon entropy\n",
    "- recurrence rate\n",
    "- detrended fluctuation analysis\n",
    "- correlation dimension\n",
    "- sample entropy\n"
   ]
  },
  {
   "cell_type": "code",
   "execution_count": 1,
   "metadata": {},
   "outputs": [
    {
     "name": "stderr",
     "output_type": "stream",
     "text": [
      "100%|████████████████████████████████████████████████████████████████████████████████| 549/549 [00:11<00:00, 48.68it/s]\n",
      "100%|███████████████████████████████████████████████████████████████████████████████| 202/202 [00:01<00:00, 142.00it/s]\n"
     ]
    }
   ],
   "source": [
    "%run \"Data_PreProcessing.ipynb\" #allowing access to the filtered database with preprocessed signals"
   ]
  },
  {
   "cell_type": "code",
   "execution_count": 35,
   "metadata": {},
   "outputs": [],
   "source": [
    "from scipy.signal import find_peaks #for peak finding\n",
    "from scipy.stats import skew, kurtosis #for signal measures\n",
    "from pyhrv.hrv import hrv #for some automatic feature extraction\n",
    "import biosppy #for rpeak calculation\n",
    "import pyhrv.time_domain as td #for calculation of heart rate\n",
    "from scipy.signal import welch #for frequency band\n",
    "from scipy.interpolate import interp1d #for interpolation of signal"
   ]
  },
  {
   "cell_type": "code",
   "execution_count": 25,
   "metadata": {},
   "outputs": [],
   "source": [
    "def parameter_averages(parameter, health_state):\n",
    "    \"\"\"\n",
    "    calculates healthy and unhealthy means and std of parameter for easy comparisson\n",
    "    returns np.array containing: healthy mean, healthy std, unhealthy mean, unhealhty std\n",
    "    \"\"\"\n",
    "    encoded_health_state = [True if label == 'Unhealthy' else False for label in health_state]\n",
    "    \n",
    "    unhealthy_param = parameter[encoded_health_state]\n",
    "    healthy_param = parameter[~np.array(encoded_health_state)]\n",
    "    \n",
    "    unhealthy_param_av = np.mean(unhealthy_param)\n",
    "    unhealthy_param_std = np.std(unhealthy_param)\n",
    "    \n",
    "    healthy_param_av = np.mean(healthy_param)\n",
    "    healthy_param_std = np.std(healthy_param)\n",
    "    \n",
    "    return np.array([healthy_param_av, healthy_param_std, unhealthy_param_av, unhealthy_param_std])\n",
    "\n",
    "def print_averages(parameter, parameter_name):\n",
    "    health_state = allowed_patients.get_diagnoses()\n",
    "    \n",
    "    means = parameter_averages(parameter, health_state)\n",
    "    \n",
    "    print(f\"Unhealthy {parameter_name}: mean:{means[2]}, std: {means[3]}\")\n",
    "    print(f\"Healthy {parameter_name}: mean:{means[0]}, std:{means[1]}\")\n",
    "    return None"
   ]
  },
  {
   "cell_type": "code",
   "execution_count": 20,
   "metadata": {},
   "outputs": [],
   "source": [
    "#outliers in rr removed automatically in biosppy\n",
    "def outliers_indices_z_score(data, threshold=2):\n",
    "    mean = np.mean(data)\n",
    "    std = np.std(data)\n",
    "    z_scores = [(x - mean) / std for x in data]\n",
    "    indices = np.argwhere([abs(z)<threshold for z in z_scores])\n",
    "    return indices\n",
    "\n",
    "def get_peaks(signal, remove_outliers=False):\n",
    "    peaks, _ = find_peaks(signal, distance = 600)\n",
    "    peak_to_peak = peaks[1:-1]\n",
    "    \n",
    "    if remove_outliers:\n",
    "        amp = signal[peak_to_peak]\n",
    "        amp_outlier_indices = outliers_indices_z_score(amp)\n",
    "        peak_to_peaks = peak_to_peak[amp_outlier_indices]\n",
    "        \n",
    "    else:\n",
    "        peak_to_peaks = peak_to_peak\n",
    "        \n",
    "    return peak_to_peaks\n",
    "        \n",
    "\n",
    "def get_rri(signal, remove_outliers=False):\n",
    "    t, filtered_signal, rpeaks = biosppy.signals.ecg.ecg(signal, show=False)[:3]\n",
    "    \n",
    "    # calculates rr intervals\n",
    "    rri = np.diff(rpeaks)\n",
    "\n",
    "    #removal of outliers\n",
    "    if remove_outliers:\n",
    "        rri_outlier_indices = outliers_indices_z_score(rri).reshape(-1)\n",
    "        rr_intervals = rri[rri_outlier_indices]\n",
    "        \n",
    "    else:\n",
    "        rr_intervals = rri\n",
    "        \n",
    "    return rr_intervals"
   ]
  },
  {
   "cell_type": "code",
   "execution_count": 23,
   "metadata": {},
   "outputs": [],
   "source": [
    "#pre-calculation of rpeaks to save time \n",
    "\n",
    "# Get R-peaks series using biosppy\n",
    "r_peak_list = []\n",
    "for i, signal in enumerate(denoised_signals):\n",
    "    t, filtered_signal, rpeaks = biosppy.signals.ecg.ecg(signal, show=False)[:3]\n",
    "    r_peak_list.append(rpeaks)"
   ]
  },
  {
   "cell_type": "markdown",
   "metadata": {},
   "source": [
    "## Time Domain"
   ]
  },
  {
   "cell_type": "markdown",
   "metadata": {},
   "source": [
    "### RR signal analysis"
   ]
  },
  {
   "cell_type": "code",
   "execution_count": 24,
   "metadata": {},
   "outputs": [],
   "source": [
    "def RR_analysis(rpeaks):\n",
    "    peak_distances = np.diff(rpeaks)\n",
    "    \n",
    "    # stastitical analysis on rr intervals\n",
    "    mean_RR = np.mean(peak_distances)\n",
    "    std_RR = np.std(peak_distances)\n",
    "\n",
    "    #RMSSD\n",
    "    # computes differences between successive RR intervals for RMSSD\n",
    "    diff_RR_intervals = np.diff(peak_distances)\n",
    "    \n",
    "    RMSSD_RR = np.sqrt(np.mean(diff_RR_intervals**2))\n",
    "    \n",
    "    #pNN50\n",
    "    # the number of successive RR intervals that differ by more than 50 ms \n",
    "    NN50 = np.sum(np.abs(diff_RR_intervals) > 50)\n",
    "    # divide by total number of RR intervals\n",
    "    pNN50 = (NN50 / len(peak_distances)) * 100\n",
    "    \n",
    "    return mean_RR, std_RR, RMSSD_RR, pNN50\n"
   ]
  },
  {
   "cell_type": "code",
   "execution_count": 29,
   "metadata": {},
   "outputs": [],
   "source": [
    "rr_means = np.zeros(shape = no_patients)\n",
    "rr_stds = np.zeros(shape = no_patients)\n",
    "rr_RMSSD = np.zeros(shape = no_patients)\n",
    "rr_pNN50s = np.zeros(shape = no_patients)\n",
    "hrs = np.zeros(shape=no_patients)\n",
    "for i, signal in enumerate(denoised_signals):\n",
    "    peaks = r_peak_list[i]\n",
    "    \n",
    "    rr_mean, rr_std, rr_rmssd, rr_pNN50 = RR_analysis(peaks)\n",
    "    \n",
    "    rr_means[i] = rr_mean\n",
    "    rr_stds[i] = rr_std\n",
    "    rr_RMSSD[i] = rr_rmssd\n",
    "    rr_pNN50s[i] = rr_pNN50\n",
    "    \n",
    "    nn_hr = td.hr_parameters(rpeaks=rpeaks)['hr_mean']\n",
    "    hrs[i] = nn_hr"
   ]
  },
  {
   "cell_type": "markdown",
   "metadata": {},
   "source": [
    "### Physiological measures"
   ]
  },
  {
   "cell_type": "code",
   "execution_count": 30,
   "metadata": {},
   "outputs": [],
   "source": [
    "def get_moments(signal):\n",
    "    mean = np.mean(signal)\n",
    "    std = np.std(signal)\n",
    "    skew_ecg = skew(signal)\n",
    "    kurtosis_ecg = kurtosis(signal)\n",
    "    return mean, std, skew_ecg, kurtosis_ecg"
   ]
  },
  {
   "cell_type": "code",
   "execution_count": 31,
   "metadata": {},
   "outputs": [],
   "source": [
    "means = np.zeros(shape = no_patients)\n",
    "stds = np.zeros(shape = no_patients)\n",
    "skews = np.zeros(shape = no_patients)\n",
    "kurtosiss = np.zeros(shape = no_patients)\n",
    "for i, signal in enumerate(denoised_signals):\n",
    "    mean, std, ecg_skew, ecg_kurtosis = get_moments(signal)\n",
    "    means[i] = mean\n",
    "    stds[i] = std\n",
    "    skews[i] = ecg_skew\n",
    "    kurtosiss[i] = ecg_kurtosis"
   ]
  },
  {
   "cell_type": "markdown",
   "metadata": {},
   "source": [
    "## Frequency Domain"
   ]
  },
  {
   "cell_type": "markdown",
   "metadata": {},
   "source": [
    "### Power Bands"
   ]
  },
  {
   "cell_type": "code",
   "execution_count": 40,
   "metadata": {},
   "outputs": [],
   "source": [
    "def power_bands(signal):\n",
    "    fs = 1000 #Hz\n",
    "    fs_interpolate = 3 #Hz\n",
    "    \n",
    "    # define frequency bands\n",
    "    lf_band = (0.04, 0.15)\n",
    "    hf_band = (0.15, 0.40)\n",
    "    \n",
    "    peaks, _ = find_peaks(signal, distance=600)\n",
    "    rr_intervals = np.diff(peaks)/fs # RR intervals in seconds, fs is the sampling frequency of the original signal\n",
    "    \n",
    "    # time points of the RR intervals\n",
    "    rr_times = np.cumsum(rr_intervals)\n",
    "    rr_times = np.insert(rr_times, 0, 0)  # add time zero at the beginning\n",
    "\n",
    "    # Interpolation\n",
    "    interpolated_time = np.arange(0, rr_times[-2], 1/fs_interpolate)  # Interpolated time vector\n",
    "    interpolated_rr = interp1d(rr_times[:-1], rr_intervals, kind='cubic')(interpolated_time)\n",
    "\n",
    "    #welch spectrum\n",
    "    f, psd = welch(interpolated_rr, fs=fs_interpolate, nperseg=128)\n",
    "    \n",
    "    # Integrate the power spectral density over the frequency bands\n",
    "    lf_power = np.trapz(psd[(f >= lf_band[0]) & (f <= lf_band[1])], f[(f >= lf_band[0]) & (f <= lf_band[1])])\n",
    "    hf_power = np.trapz(psd[(f >= hf_band[0]) & (f <= hf_band[1])], f[(f >= hf_band[0]) & (f <= hf_band[1])])\n",
    "    \n",
    "    return lf_power, hf_power, lf_power/hf_power\n",
    "    "
   ]
  },
  {
   "cell_type": "code",
   "execution_count": 41,
   "metadata": {},
   "outputs": [],
   "source": [
    "lfs = np.zeros(shape = no_patients)\n",
    "hfs = np.zeros(shape = no_patients)\n",
    "ratios = np.zeros(shape = no_patients)\n",
    "for i, signal in enumerate(denoised_signals):\n",
    "    lf, hf, ratio = power_bands(signal)\n",
    "    lfs[i] = lf\n",
    "    hfs[i] = hf\n",
    "    ratios[i] = ratio"
   ]
  },
  {
   "cell_type": "code",
   "execution_count": 42,
   "metadata": {},
   "outputs": [
    {
     "name": "stdout",
     "output_type": "stream",
     "text": [
      "Unhealthy lf_power: mean:0.002246771347577131, std: 0.005716348092590171\n",
      "Healthy lf_power: mean:0.001986485016994376, std:0.004750847001099235\n",
      "Unhealthy hf_power: mean:0.004085063574954664, std: 0.00801349983605936\n",
      "Healthy hf_power: mean:0.0029768474608233256, std:0.006931241434845449\n",
      "Unhealthy ratio of power bands: mean:2.1906510706529017, std: 4.5578331544128385\n",
      "Healthy ratio of power bands: mean:3.6707058173199845, std:6.545749052455982\n"
     ]
    }
   ],
   "source": [
    "print_averages(lfs, 'lf_power')\n",
    "print_averages(hfs, 'hf_power')\n",
    "print_averages(ratios, 'ratio of power bands')"
   ]
  },
  {
   "cell_type": "markdown",
   "metadata": {},
   "source": [
    "## Non-Linear"
   ]
  },
  {
   "cell_type": "markdown",
   "metadata": {},
   "source": [
    "### Poincare"
   ]
  },
  {
   "cell_type": "code",
   "execution_count": null,
   "metadata": {},
   "outputs": [],
   "source": []
  },
  {
   "cell_type": "markdown",
   "metadata": {},
   "source": [
    "### Shannon Entropy"
   ]
  },
  {
   "cell_type": "code",
   "execution_count": 15,
   "metadata": {},
   "outputs": [],
   "source": [
    "def calculate_shannon_entropy(rr_intervals, num_bins=10):\n",
    "    # discretize RR intervals into bins and calculate probabilities\n",
    "    hist, bin_edges = np.histogram(rr_intervals, bins=num_bins, density=True)\n",
    "    \n",
    "    probabilities = hist / np.sum(hist)\n",
    "    \n",
    "    # Calculate Shannon Entropy using equation\n",
    "    shannon_entropy = -np.sum(probabilities * np.log2(probabilities + 1e-12))  # adding a small value to avoid log(0)\n",
    "    \n",
    "    return shannon_entropy"
   ]
  },
  {
   "cell_type": "code",
   "execution_count": 16,
   "metadata": {},
   "outputs": [],
   "source": [
    "shannon_ens = np.zeros(shape = no_patients)\n",
    "for i, signal in enumerate(denoised_signals):\n",
    "    shannon_en = calculate_shannon_entropy(signal)\n",
    "    shannon_ens[i] = shannon_en"
   ]
  },
  {
   "cell_type": "markdown",
   "metadata": {},
   "source": [
    "## Creating Parameter Dictionary"
   ]
  },
  {
   "cell_type": "code",
   "execution_count": 43,
   "metadata": {},
   "outputs": [],
   "source": [
    "\n",
    "#create dictionary with parameters\n",
    "params = {}\n",
    "\n",
    "#time components\n",
    "params['rr_mean'] = rr_means\n",
    "params['rr_std'] = rr_stds\n",
    "params['RMSSD'] = rr_RMSSD\n",
    "params['pNN50'] = rr_pNN50s\n",
    "params['mean'] = means\n",
    "params['std'] = stds\n",
    "params['skews'] = skews\n",
    "params['kurtosis'] = kurtosiss\n",
    "#frequency components\n",
    "params['hf'] = hfs\n",
    "params['lf'] = lfs\n",
    "params['power_ratio'] = ratios\n",
    "#nonlinear components\n",
    "params['shannon_en'] = shannon_ens\n",
    "\n",
    "\n"
   ]
  },
  {
   "cell_type": "code",
   "execution_count": null,
   "metadata": {},
   "outputs": [],
   "source": []
  }
 ],
 "metadata": {
  "kernelspec": {
   "display_name": "Python 3",
   "language": "python",
   "name": "python3"
  },
  "language_info": {
   "codemirror_mode": {
    "name": "ipython",
    "version": 3
   },
   "file_extension": ".py",
   "mimetype": "text/x-python",
   "name": "python",
   "nbconvert_exporter": "python",
   "pygments_lexer": "ipython3",
   "version": "3.8.3"
  }
 },
 "nbformat": 4,
 "nbformat_minor": 4
}
