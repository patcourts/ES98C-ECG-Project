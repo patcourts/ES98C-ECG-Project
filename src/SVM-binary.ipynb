{
 "cells": [
  {
   "cell_type": "code",
   "execution_count": 1,
   "metadata": {},
   "outputs": [],
   "source": [
    "from database.utils import reconstruct_probs\n",
    "from models.SVM.binary_classification import tune_hyperparams, perform_skfold, optimise_score_over_channels, average_probabilities\n",
    "from database.data import Data\n",
    "from sklearn.svm import SVC\n",
    "from tqdm import tqdm\n",
    "import numpy as np\n"
   ]
  },
  {
   "cell_type": "code",
   "execution_count": 2,
   "metadata": {},
   "outputs": [],
   "source": [
    "#creating DATA object\n",
    "ptb_binary_SVM = Data(database = 'ptbdb', denoise_method='DWT', estimation_method = 'SVM', train_splits=None, binary = True, parameterisation = True)\n",
    "\n",
    "\n",
    "# define hyperparameter grid to test\n",
    "param_grid = {\n",
    "    'C': [0.01, 0.1, 1, 10],\n",
    "    'kernel': ['linear', 'rbf', 'poly'],\n",
    "    'gamma': ['scale']#including 'auto' aswell takes forever\n",
    "}\n"
   ]
  },
  {
   "cell_type": "code",
   "execution_count": 9,
   "metadata": {},
   "outputs": [
    {
     "name": "stderr",
     "output_type": "stream",
     "text": [
      "  0%|          | 0/3 [00:00<?, ?it/s]"
     ]
    },
    {
     "name": "stdout",
     "output_type": "stream",
     "text": [
      "Filtering Database\n"
     ]
    },
    {
     "name": "stderr",
     "output_type": "stream",
     "text": [
      "100%|██████████| 549/549 [00:59<00:00,  9.29it/s]\n",
      "100%|██████████| 221/221 [00:05<00:00, 38.40it/s]\n"
     ]
    },
    {
     "name": "stdout",
     "output_type": "stream",
     "text": [
      "calculating time domain parameters\n",
      "calculating frequency domain parameters\n",
      "calculating non linear domain parameters\n",
      "selecting 4 most important features\n",
      "Selected features for channel 1:\n",
      "['shannon_en', 'sd_ratio', 'sd2', 'age']\n",
      "Selected features for channel 2:\n",
      "['rr_std', 'rr_amps', 'power_ratio', 'age']\n",
      "Selected features for channel 3:\n",
      "['rr_std', 'rr_amps', 'sd2', 'age']\n",
      "Selected features for channel 4:\n",
      "['skews', 'lf', 'sd2', 'age']\n",
      "Selected features for channel 5:\n",
      "['rr_amps', 'lf', 'shannon_en', 'age']\n",
      "Selected features for channel 6:\n",
      "['rr_std', 'lf', 'sd2', 'age']\n"
     ]
    },
    {
     "name": "stderr",
     "output_type": "stream",
     "text": [
      " 33%|███▎      | 1/3 [02:07<04:15, 127.85s/it]"
     ]
    },
    {
     "name": "stdout",
     "output_type": "stream",
     "text": [
      "Filtering Database\n"
     ]
    },
    {
     "name": "stderr",
     "output_type": "stream",
     "text": [
      "100%|██████████| 549/549 [00:59<00:00,  9.23it/s]\n",
      "100%|██████████| 221/221 [00:02<00:00, 80.78it/s] \n"
     ]
    },
    {
     "name": "stdout",
     "output_type": "stream",
     "text": [
      "calculating time domain parameters\n",
      "calculating frequency domain parameters\n",
      "calculating non linear domain parameters\n",
      "selecting 4 most important features\n",
      "Selected features for channel 1:\n",
      "['rr_std', 'sd1', 'sd2', 'age']\n",
      "Selected features for channel 2:\n",
      "['rr_std', 'rr_amps', 'lf', 'age']\n",
      "Selected features for channel 3:\n",
      "['rr_amps', 'kurtosis', 'sd2', 'age']\n",
      "Selected features for channel 4:\n",
      "['skews', 'lf', 'total_power', 'age']\n",
      "Selected features for channel 5:\n",
      "['rr_std', 'rr_amps', 'lf', 'age']\n",
      "Selected features for channel 6:\n",
      "['rr_std', 'lf', 'total_power', 'age']\n"
     ]
    },
    {
     "name": "stderr",
     "output_type": "stream",
     "text": [
      " 67%|██████▋   | 2/3 [04:06<02:02, 122.52s/it]"
     ]
    },
    {
     "name": "stdout",
     "output_type": "stream",
     "text": [
      "Filtering Database\n"
     ]
    },
    {
     "name": "stderr",
     "output_type": "stream",
     "text": [
      "100%|██████████| 549/549 [01:06<00:00,  8.31it/s]\n",
      "100%|██████████| 221/221 [00:02<00:00, 93.86it/s]\n"
     ]
    },
    {
     "name": "stdout",
     "output_type": "stream",
     "text": [
      "calculating time domain parameters\n",
      "calculating frequency domain parameters\n",
      "calculating non linear domain parameters\n",
      "selecting 4 most important features\n",
      "Selected features for channel 1:\n",
      "['rr_std', 'shannon_en', 'sd1', 'age']\n",
      "Selected features for channel 2:\n",
      "['rr_std', 'lf', 'sd_ratio', 'age']\n",
      "Selected features for channel 3:\n",
      "['rr_amps', 'kurtosis', 'sd2', 'age']\n",
      "Selected features for channel 4:\n",
      "['lf', 'shannon_en', 'sd2', 'age']\n",
      "Selected features for channel 5:\n",
      "['rr_std', 'rr_amps', 'sd2', 'age']\n",
      "Selected features for channel 6:\n",
      "['rr_std', 'lf', 'sd2', 'age']\n"
     ]
    },
    {
     "name": "stderr",
     "output_type": "stream",
     "text": [
      "100%|██████████| 3/3 [06:24<00:00, 128.12s/it]\n"
     ]
    }
   ],
   "source": [
    "repeats = 3\n",
    "\n",
    "best_scores = []\n",
    "best_channels = []\n",
    "\n",
    "optimal_probs = []\n",
    "\n",
    "\n",
    "#nan_indices_list = []\n",
    "av_thresholds_list = []\n",
    "\n",
    "scores_dict_list = []\n",
    "\n",
    "\n",
    "for j in tqdm(range(repeats)):\n",
    "\n",
    "    ptb_binary_SVM.run()\n",
    "\n",
    "    input_data = ptb_binary_SVM.input_data\n",
    "    labels = ptb_binary_SVM.labels\n",
    "    \n",
    "    metrics = {}\n",
    "    \n",
    "    probs_list = []\n",
    "    thresholds_list = []\n",
    "\n",
    "    for i in range(6):\n",
    "        labels_encoded = np.array([0 if label == 'Unhealthy' else 1 for label in labels[i]])\n",
    "\n",
    "        #define classifier\n",
    "        svc = SVC(class_weight='balanced', probability = True)\n",
    "\n",
    "        #find the best set of hyperparameters for each channel, tuned on the desired scoring function\n",
    "        best_svc = tune_hyperparams(input_data[i], labels_encoded, param_grid, svc, scorer='roc_auc')\n",
    "\n",
    "        #perform 3 way skfold to get scores for each channel as well as their probabilities\n",
    "        n_splits = 3\n",
    "        all_score_metrics, thresholds, probabilities, y_tests, test_indices = perform_skfold(input_data[i], labels_encoded, n_splits, best_svc, get_probabilities=True)\n",
    "\n",
    "        #monitoring scores for each channel\n",
    "        metrics[i] = all_score_metrics\n",
    "\n",
    "        #calculating average threshold from all splits\n",
    "        threshold = np.mean(thresholds)\n",
    "\n",
    "        #reconstructing calculated probabilities so can optimise over all channels\n",
    "        reconstructed_probs = reconstruct_probs(probabilities, test_indices, ptb_binary_SVM.nan_indices[i], ptb_binary_SVM.allowed_patients.count_patients(), n_splits)\n",
    "\n",
    "\n",
    "        #need for ROC curve and confusion matrix later\n",
    "        probs_list.append(reconstructed_probs)\n",
    "        thresholds_list.append(threshold)\n",
    "\n",
    "    \n",
    "\n",
    "\n",
    "    #for averaging \n",
    "    scores_dict_list.append(metrics)\n",
    "\n",
    "    #optimising over channels\n",
    "    av_threshold = np.mean(thresholds_list)\n",
    "    best_score, best_channel_indices = optimise_score_over_channels(probs_list, av_threshold, ptb_binary_SVM.health_state)\n",
    "\n",
    "    best_scores.append(best_score)\n",
    "    best_channels.append(best_channel_indices)\n",
    "\n",
    "\n",
    "    #calculating optimal probability\n",
    "    best_prob = average_probabilities(probs_list, best_channel_indices)\n",
    "    optimal_probs.append(best_prob)\n",
    "    av_thresholds_list.append(av_threshold)\n"
   ]
  },
  {
   "cell_type": "markdown",
   "metadata": {},
   "source": [
    "## Averaged Channel Scores"
   ]
  },
  {
   "cell_type": "code",
   "execution_count": 10,
   "metadata": {},
   "outputs": [
    {
     "name": "stdout",
     "output_type": "stream",
     "text": [
      "Channel 1:\n",
      "  F1 score: 0.55 ± 0.06\n",
      "  Objective score: 0.60 ± 0.05\n",
      "  Bal Acc: 0.72 ± 0.04\n",
      "  Accuracy: 0.74 ± 0.06\n",
      "  precision: 0.47 ± 0.09\n",
      "  recall: 0.70 ± 0.05\n",
      "\n",
      "Channel 2:\n",
      "  F1 score: 0.57 ± 0.04\n",
      "  Objective score: 0.62 ± 0.04\n",
      "  Bal Acc: 0.74 ± 0.03\n",
      "  Accuracy: 0.80 ± 0.03\n",
      "  precision: 0.54 ± 0.06\n",
      "  recall: 0.63 ± 0.02\n",
      "\n",
      "Channel 3:\n",
      "  F1 score: 0.58 ± 0.01\n",
      "  Objective score: 0.63 ± 0.01\n",
      "  Bal Acc: 0.75 ± 0.01\n",
      "  Accuracy: 0.78 ± 0.01\n",
      "  precision: 0.52 ± 0.01\n",
      "  recall: 0.70 ± 0.01\n",
      "\n",
      "Channel 4:\n",
      "  F1 score: 0.48 ± 0.01\n",
      "  Objective score: 0.54 ± 0.01\n",
      "  Bal Acc: 0.68 ± 0.01\n",
      "  Accuracy: 0.64 ± 0.03\n",
      "  precision: 0.36 ± 0.02\n",
      "  recall: 0.75 ± 0.07\n",
      "\n",
      "Channel 5:\n",
      "  F1 score: 0.55 ± 0.01\n",
      "  Objective score: 0.61 ± 0.01\n",
      "  Bal Acc: 0.74 ± 0.00\n",
      "  Accuracy: 0.75 ± 0.02\n",
      "  precision: 0.45 ± 0.03\n",
      "  recall: 0.72 ± 0.03\n",
      "\n",
      "Channel 6:\n",
      "  F1 score: 0.51 ± 0.01\n",
      "  Objective score: 0.57 ± 0.01\n",
      "  Bal Acc: 0.71 ± 0.01\n",
      "  Accuracy: 0.72 ± 0.01\n",
      "  precision: 0.41 ± 0.01\n",
      "  recall: 0.69 ± 0.00\n",
      "\n"
     ]
    }
   ],
   "source": [
    "# Initialize an empty dictionary to store averaged scores\n",
    "averaged_scores = {}\n",
    "\n",
    "# Iterate through each channel in the dictionaries\n",
    "for channel in scores_dict_list[0].keys():\n",
    "    averaged_scores[channel] = {}\n",
    "    for metric in scores_dict_list[0][channel].keys():\n",
    "        # Calculate the average of the current metric for the current channel\n",
    "        values = [score[channel][metric] for score in scores_dict_list]\n",
    "        mean_value = np.mean(values)\n",
    "        std_value = np.std(values)\n",
    "        averaged_scores[channel][metric] = (mean_value, std_value)\n",
    "\n",
    "# Print the averaged scores with 2 decimal places\n",
    "for channel, scores in averaged_scores.items():\n",
    "    print(f'Channel {channel + 1}:')\n",
    "    for metric, (mean_value, std_value) in scores.items():\n",
    "        print(f'  {metric}: {mean_value:.2f} ± {std_value:.2f}')\n",
    "    print()\n"
   ]
  },
  {
   "cell_type": "markdown",
   "metadata": {},
   "source": [
    "## Optimised Channel Scores"
   ]
  },
  {
   "cell_type": "code",
   "execution_count": 11,
   "metadata": {},
   "outputs": [
    {
     "name": "stdout",
     "output_type": "stream",
     "text": [
      "0.5889456547351284\n",
      "0.01980770851445553\n",
      "[[0, 1, 2, 4], [0, 2, 4], [1, 2, 4, 5]]\n"
     ]
    }
   ],
   "source": [
    "print(np.mean(best_scores))\n",
    "print(np.std(best_scores))\n",
    "\n",
    "print(best_channels)"
   ]
  },
  {
   "cell_type": "markdown",
   "metadata": {},
   "source": [
    "## Classification Report for best"
   ]
  },
  {
   "cell_type": "code",
   "execution_count": 13,
   "metadata": {},
   "outputs": [
    {
     "name": "stdout",
     "output_type": "stream",
     "text": [
      "              precision    recall  f1-score   support\n",
      "\n",
      "           0       0.92      0.83      0.87       173\n",
      "           1       0.53      0.74      0.62        46\n",
      "\n",
      "    accuracy                           0.81       219\n",
      "   macro avg       0.73      0.78      0.75       219\n",
      "weighted avg       0.84      0.81      0.82       219\n",
      "\n",
      "              precision    recall  f1-score   support\n",
      "\n",
      "           0       0.93      0.80      0.86       173\n",
      "           1       0.51      0.76      0.61        46\n",
      "\n",
      "    accuracy                           0.79       219\n",
      "   macro avg       0.72      0.78      0.73       219\n",
      "weighted avg       0.84      0.79      0.81       219\n",
      "\n",
      "              precision    recall  f1-score   support\n",
      "\n",
      "           0       0.91      0.79      0.85       175\n",
      "           1       0.47      0.70      0.56        46\n",
      "\n",
      "    accuracy                           0.77       221\n",
      "   macro avg       0.69      0.74      0.70       221\n",
      "weighted avg       0.82      0.77      0.79       221\n",
      "\n"
     ]
    }
   ],
   "source": [
    "from sklearn.metrics import classification_report\n",
    "\n",
    "for i in range(repeats):\n",
    "    nan_indices = np.isnan(optimal_probs[i])\n",
    "\n",
    "    health_state = ptb_binary_SVM.health_state\n",
    "    encoded_health_state = np.array([0 if label == 'Unhealthy' else 1 for label in health_state])\n",
    "\n",
    "    y_pred = (optimal_probs[i] > threshold).astype(int)\n",
    "\n",
    "    print(classification_report(encoded_health_state[~nan_indices], y_pred[~nan_indices]))"
   ]
  },
  {
   "cell_type": "markdown",
   "metadata": {},
   "source": [
    "## ROC CURVE"
   ]
  },
  {
   "cell_type": "code",
   "execution_count": 14,
   "metadata": {},
   "outputs": [],
   "source": [
    "import matplotlib.pyplot as plt\n",
    "from sklearn.metrics import roc_curve, auc\n",
    "\n",
    "\n",
    "average_tprs = []\n",
    "average_aucs = []\n",
    "\n",
    "for i in range(repeats):\n",
    "\n",
    "    #first need to find nan values in each optimised prob\n",
    "    nan_indices = np.isnan(optimal_probs[i])\n",
    "\n",
    "    probs_for_roc = optimal_probs[i][~nan_indices]\n",
    "    y_test = health_state[~nan_indices]\n",
    "    \n",
    "\n",
    "    # computing ROC params\n",
    "    fpr, tpr, _ = roc_curve(y_test, probs_for_roc, pos_label='Healthy')\n",
    "\n",
    "\n",
    "    #need to interpolate everything so they are the desired length\n",
    "    mean_fpr = np.linspace(0, 1, 230)#put max length of array in here in a sec\n",
    "\n",
    "    interp_tpr = np.interp(mean_fpr, fpr, tpr)\n",
    "\n",
    "\n",
    "    roc_auc = auc(mean_fpr, interp_tpr)\n",
    "\n",
    "    average_tprs.append(interp_tpr)\n",
    "    average_aucs.append(roc_auc)\n",
    "\n",
    "mean_tpr = np.mean(average_tprs, axis = 0)\n",
    "std_tpr = np.std(average_tprs, axis=0)\n",
    "\n",
    "mean_auc = auc(mean_fpr, mean_tpr)\n",
    "std_auc = np.std(average_aucs)\n",
    "\n"
   ]
  },
  {
   "cell_type": "code",
   "execution_count": 16,
   "metadata": {},
   "outputs": [
    {
     "data": {
      "image/png": "[encoded data removed]",
      "text/plain": [
       "<Figure size 640x480 with 1 Axes>"
      ]
     },
     "metadata": {},
     "output_type": "display_data"
    }
   ],
   "source": [
    "# plotting average ROC curve for all iterations\n",
    "plt.figure()\n",
    "plt.plot(mean_fpr, mean_tpr, color='darkorange', label=r'Mean ROC (AUC = %0.2f $\\pm$ %0.2f)' % (mean_auc, std_auc), lw=2, alpha=.8)\n",
    "plt.fill_between(mean_fpr, mean_tpr - std_tpr, mean_tpr + std_tpr, color='darkorange', alpha=.2, label=r'$\\pm$ 1 std. dev.')\n",
    "plt.plot([0, 1], [0, 1], linestyle='--', lw=2, color='black', alpha=.8)\n",
    "plt.xlim([0.0, 1.0])\n",
    "plt.ylim([0.0, 1.0])\n",
    "plt.xlabel('False Positive Rate')\n",
    "plt.ylabel('True Positive Rate')\n",
    "plt.title(f'Receiver Operating Characteristic (ROC) Curve, {repeats} repeats')\n",
    "plt.legend(loc=\"lower right\")\n",
    "plt.savefig('figures\\\\ROC_curve.png', bbox_inches='tight')\n",
    "plt.show()"
   ]
  },
  {
   "cell_type": "markdown",
   "metadata": {},
   "source": [
    "## Confusion Matrix"
   ]
  },
  {
   "cell_type": "code",
   "execution_count": 17,
   "metadata": {},
   "outputs": [
    {
     "name": "stdout",
     "output_type": "stream",
     "text": [
      "[array([[143,  30],\n",
      "       [ 12,  34]], dtype=int64), array([[139,  34],\n",
      "       [ 11,  35]], dtype=int64), array([[139,  36],\n",
      "       [ 14,  32]], dtype=int64)]\n",
      "[[140.33333333  33.33333333]\n",
      " [ 12.33333333  33.66666667]]\n"
     ]
    }
   ],
   "source": [
    "from sklearn.metrics import confusion_matrix\n",
    "manual_y_preds = []\n",
    "confusion_matrix_list = []\n",
    "y_tests_combined_list = []\n",
    "for j in range(repeats):\n",
    "    #first need to find nan values in each optimised prob\n",
    "    nan_indices = np.isnan(optimal_probs[j])\n",
    "\n",
    "    \n",
    "    encoded_health_state = np.array([0 if label == 'Unhealthy' else 1 for label in health_state])\n",
    "    y_test = encoded_health_state[~nan_indices]\n",
    "\n",
    "    y_pred = (optimal_probs[j] > threshold).astype(int)#will be threshold[j] when do repeats\n",
    "\n",
    "    confusion_matrix_list.append(confusion_matrix(y_test, y_pred[~nan_indices]))\n",
    "\n",
    "print(confusion_matrix_list)\n",
    "average_confusion_matrix = np.mean(confusion_matrix_list, axis=0)\n",
    "print(average_confusion_matrix)\n",
    "\n",
    "# Calculate the variance and standard deviation\n",
    "cm_variance = np.zeros((2, 2), dtype=float)\n",
    "for cm in confusion_matrix_list:\n",
    "    cm_variance += (cm - average_confusion_matrix) ** 2\n",
    "\n",
    "cm_variance /= repeats\n",
    "cm_std_dev = np.sqrt(cm_variance)\n",
    "\n",
    "# rounding to integers\n",
    "cm_avg_rounded = np.round(average_confusion_matrix).astype(int)\n",
    "cm_std_dev_rounded = np.round(cm_std_dev).astype(int)\n"
   ]
  },
  {
   "cell_type": "code",
   "execution_count": 18,
   "metadata": {},
   "outputs": [
    {
     "data": {
      "image/png": "[encoded data removed]",
      "text/plain": [
       "<Figure size 800x600 with 2 Axes>"
      ]
     },
     "metadata": {},
     "output_type": "display_data"
    }
   ],
   "source": [
    "import seaborn as sns\n",
    "\n",
    "# Create the heatmap\n",
    "plt.figure(figsize=(8, 6))\n",
    "ax = sns.heatmap(average_confusion_matrix, annot=False, cmap='Blues', xticklabels=['Unhealthy', 'Healthy'], yticklabels=['Unhealthy', 'Healthy'])\n",
    "\n",
    "# Add annotations for both average values and standard deviation\n",
    "for i in range(average_confusion_matrix.shape[0]):\n",
    "    for j in range(average_confusion_matrix.shape[1]):\n",
    "        plt.text(j + 0.5, i + 0.5, f'{cm_avg_rounded[i, j]}\\n±{cm_std_dev_rounded[i, j]}', \n",
    "                 ha='center', va='center', color='black')\n",
    "\n",
    "plt.xlabel('Predicted Label')\n",
    "plt.ylabel('True Label')\n",
    "plt.title('Average Confusion Matrix with Standard Deviation')\n",
    "plt.savefig('figures\\\\confusion_matrix.png', bbox_inches='tight')\n",
    "plt.show()"
   ]
  },
  {
   "cell_type": "code",
   "execution_count": 19,
   "metadata": {},
   "outputs": [
    {
     "data": {
      "image/png": "[encoded data removed]",
      "text/plain": [
       "<Figure size 1000x600 with 1 Axes>"
      ]
     },
     "metadata": {},
     "output_type": "display_data"
    }
   ],
   "source": [
    "import matplotlib.pyplot as plt\n",
    "from collections import Counter\n",
    "\n",
    "\n",
    "# Flatten the list of lists\n",
    "flattened_list = [number for sublist in best_channels for number in sublist]\n",
    "\n",
    "# Count the occurrences of each number\n",
    "counted_numbers = Counter(flattened_list)\n",
    "\n",
    "# Sort the numbers to maintain a consistent order in the plot\n",
    "sorted_numbers = sorted(counted_numbers.keys())\n",
    "counts = [counted_numbers[number] for number in sorted_numbers]\n",
    "\n",
    "# Plotting the results\n",
    "fig, ax = plt.subplots(figsize=(10, 6))\n",
    "\n",
    "ax.bar(sorted_numbers, counts, color='skyblue')\n",
    "\n",
    "# Adding labels and title\n",
    "ax.set_xlabel('Channels')\n",
    "ax.set_ylabel('Frequency')\n",
    "ax.set_title('Frequency of Channels Used')\n",
    "ax.set_xticks(sorted_numbers)\n",
    "ax.set_xticklabels(counted_numbers.keys())\n",
    "\n",
    "# Show the plot\n",
    "plt.tight_layout()\n",
    "plt.savefig('figures\\\\number_frequency_bar_chart.png', bbox_inches='tight')\n",
    "plt.show()"
   ]
  },
  {
   "cell_type": "markdown",
   "metadata": {},
   "source": [
    "## Different filters:"
   ]
  },
  {
   "cell_type": "code",
   "execution_count": 5,
   "metadata": {},
   "outputs": [
    {
     "name": "stdout",
     "output_type": "stream",
     "text": [
      "Filtering Database\n"
     ]
    },
    {
     "name": "stderr",
     "output_type": "stream",
     "text": [
      "100%|██████████| 549/549 [01:06<00:00,  8.24it/s]\n",
      "100%|██████████| 221/221 [00:02<00:00, 86.31it/s]\n"
     ]
    },
    {
     "name": "stdout",
     "output_type": "stream",
     "text": [
      "denoising signals through butterworth filter method\n",
      "normalising signals\n",
      "calculating time domain parameters\n",
      "calculating frequency domain parameters\n",
      "calculating non linear domain parameters\n",
      "selecting 4 most important features\n",
      "Selected features for channel 1:\n",
      "['rr_amps', 'kurtosis', 'sd2', 'age']\n",
      "Selected features for channel 2:\n",
      "['hf', 'sd1', 'sd2', 'age']\n",
      "Selected features for channel 3:\n",
      "['rr_amps', 'std', 'sd_ratio', 'age']\n",
      "Selected features for channel 4:\n",
      "['lf', 'total_power', 'sd2', 'age']\n",
      "Selected features for channel 5:\n",
      "['rr_std', 'lf', 'total_power', 'age']\n",
      "Selected features for channel 6:\n",
      "['rr_amps', 'skews', 'lf', 'age']\n",
      "Filtering Database\n"
     ]
    },
    {
     "name": "stderr",
     "output_type": "stream",
     "text": [
      "100%|██████████| 549/549 [00:55<00:00,  9.89it/s]\n",
      "100%|██████████| 221/221 [00:00<00:00, 318.70it/s]\n"
     ]
    },
    {
     "name": "stdout",
     "output_type": "stream",
     "text": [
      "denoising signals through Discrete Wavelet Transform\n",
      "normalising signals\n",
      "calculating time domain parameters\n",
      "calculating frequency domain parameters\n",
      "calculating non linear domain parameters\n",
      "selecting 4 most important features\n",
      "Selected features for channel 1:\n",
      "['rr_mean', 'rr_amps', 'shannon_en', 'age']\n",
      "Selected features for channel 2:\n",
      "['rr_amps', 'shannon_en', 'sd_ratio', 'age']\n",
      "Selected features for channel 3:\n",
      "['rr_std', 'sd1', 'sd2', 'age']\n",
      "Selected features for channel 4:\n",
      "['rr_amps', 'std', 'sd_ratio', 'age']\n",
      "Selected features for channel 5:\n",
      "['skews', 'shannon_en', 'sd2', 'age']\n",
      "Selected features for channel 6:\n",
      "['rr_std', 'mean', 'sd1', 'age']\n",
      "Filtering Database\n"
     ]
    },
    {
     "name": "stderr",
     "output_type": "stream",
     "text": [
      "100%|██████████| 549/549 [00:57<00:00,  9.51it/s]\n",
      "100%|██████████| 221/221 [00:00<00:00, 243.64it/s]\n"
     ]
    },
    {
     "name": "stdout",
     "output_type": "stream",
     "text": [
      "calculating time domain parameters\n",
      "calculating frequency domain parameters\n",
      "calculating non linear domain parameters\n",
      "selecting 4 most important features\n",
      "Selected features for channel 1:\n",
      "['rr_amps', 'lf', 'sd2', 'age']\n",
      "Selected features for channel 2:\n",
      "['rr_std', 'rr_amps', 'power_ratio', 'age']\n",
      "Selected features for channel 3:\n",
      "['rr_std', 'rr_amps', 'kurtosis', 'age']\n",
      "Selected features for channel 4:\n",
      "['skews', 'shannon_en', 'sd2', 'age']\n",
      "Selected features for channel 5:\n",
      "['rr_amps', 'lf', 'sd2', 'age']\n",
      "Selected features for channel 6:\n",
      "['lf', 'total_power', 'sd2', 'age']\n"
     ]
    }
   ],
   "source": [
    "different_denoise_methods = ['butterworth', 'DWT', None]\n",
    "\n",
    "best_scores = []\n",
    "best_channels = []\n",
    "\n",
    "optimal_probs = []\n",
    "\n",
    "\n",
    "#nan_indices_list = []\n",
    "av_thresholds_list = []\n",
    "\n",
    "scores_dict_list = []\n",
    "\n",
    "\n",
    "for method in different_denoise_methods:\n",
    "    #creating DATA object\n",
    "    ptb_binary_SVM = Data(database = 'ptbdb', denoise_method=method, estimation_method = 'SVM', train_splits=None, binary = True, parameterisation = True)\n",
    "\n",
    "    ptb_binary_SVM.run()\n",
    "\n",
    "    input_data = ptb_binary_SVM.input_data\n",
    "    labels = ptb_binary_SVM.labels\n",
    "    \n",
    "    metrics = {}\n",
    "    \n",
    "    probs_list = []\n",
    "    thresholds_list = []\n",
    "\n",
    "    for i in range(6):\n",
    "        labels_encoded = np.array([0 if label == 'Unhealthy' else 1 for label in labels[i]])\n",
    "\n",
    "        #define classifier\n",
    "        svc = SVC(class_weight='balanced', probability = True)\n",
    "\n",
    "        #find the best set of hyperparameters for each channel, tuned on the desired scoring function\n",
    "        best_svc = tune_hyperparams(input_data[i], labels_encoded, param_grid, svc, scorer='roc_auc')\n",
    "\n",
    "        #perform 3 way skfold to get scores for each channel as well as their probabilities\n",
    "        n_splits = 3\n",
    "        all_score_metrics, thresholds, probabilities, y_tests, test_indices = perform_skfold(input_data[i], labels_encoded, n_splits, best_svc, get_probabilities=True)\n",
    "\n",
    "        #monitoring scores for each channel\n",
    "        metrics[i] = all_score_metrics\n",
    "\n",
    "        #calculating average threshold from all splits\n",
    "        threshold = np.mean(thresholds)\n",
    "\n",
    "        #reconstructing calculated probabilities so can optimise over all channels\n",
    "        reconstructed_probs = reconstruct_probs(probabilities, test_indices, ptb_binary_SVM.nan_indices[i], ptb_binary_SVM.allowed_patients.count_patients(), n_splits)\n",
    "\n",
    "\n",
    "        #need for ROC curve and confusion matrix later\n",
    "        probs_list.append(reconstructed_probs)\n",
    "        thresholds_list.append(threshold)\n",
    "\n",
    "    \n",
    "\n",
    "\n",
    "    #for averaging \n",
    "    scores_dict_list.append(metrics)\n",
    "\n",
    "    #optimising over channels\n",
    "    av_threshold = np.mean(thresholds_list)\n",
    "    best_score, best_channel_indices = optimise_score_over_channels(probs_list, av_threshold, ptb_binary_SVM.health_state)#should put in here ability to input different score metrics\n",
    "\n",
    "    best_scores.append(best_score)\n",
    "    best_channels.append(best_channel_indices)\n",
    "\n",
    "\n",
    "    #calculating optimal probability\n",
    "    best_prob = average_probabilities(probs_list, best_channel_indices)\n",
    "    optimal_probs.append(best_prob)\n",
    "    av_thresholds_list.append(av_threshold)\n"
   ]
  },
  {
   "cell_type": "code",
   "execution_count": 8,
   "metadata": {},
   "outputs": [
    {
     "name": "stdout",
     "output_type": "stream",
     "text": [
      "[0.5984251968503937, 0.6, 0.6]\n"
     ]
    }
   ],
   "source": [
    "print(best_scores)"
   ]
  },
  {
   "cell_type": "code",
   "execution_count": 7,
   "metadata": {},
   "outputs": [
    {
     "data": {
      "image/png": "[encoded data removed]",
      "text/plain": [
       "<Figure size 640x480 with 1 Axes>"
      ]
     },
     "metadata": {},
     "output_type": "display_data"
    }
   ],
   "source": [
    "import matplotlib.pyplot as plt\n",
    "\n",
    "fig, ax1 = plt.subplots()\n",
    "\n",
    "filter_names = ['Butterworth', 'DWT', 'No Filter']\n",
    "\n",
    "# Define bar width\n",
    "bar_width = 0.35\n",
    "\n",
    "# Define positions for the bars\n",
    "index = np.arange(len(filter_names))\n",
    "\n",
    "# Plotting loss bars\n",
    "accuracy_bars = ax1.bar(index, best_scores, bar_width, label='F1 Score', color='green')\n",
    "\n",
    "# Set axis labels and title\n",
    "ax1.set_xlabel('Filter Type')\n",
    "ax1.set_ylabel('F1 Score')\n",
    "ax1.set_title('F1 Score by Filter Type')\n",
    "ax1.set_xticks(index)\n",
    "ax1.set_xticklabels(filter_names)\n",
    "ax1.legend()\n",
    "\n",
    "plt.savefig('figures/score_vs_filter_type_svm.png', bbox_inches='tight')\n",
    "plt.show()"
   ]
  },
  {
   "cell_type": "code",
   "execution_count": null,
   "metadata": {},
   "outputs": [],
   "source": []
  }
 ],
 "metadata": {
  "kernelspec": {
   "display_name": "ECG-project",
   "language": "python",
   "name": "python3"
  },
  "language_info": {
   "codemirror_mode": {
    "name": "ipython",
    "version": 3
   },
   "file_extension": ".py",
   "mimetype": "text/x-python",
   "name": "python",
   "nbconvert_exporter": "python",
   "pygments_lexer": "ipython3",
   "version": "3.10.13"
  }
 },
 "nbformat": 4,
 "nbformat_minor": 2
}
