{
 "cells": [
  {
   "cell_type": "markdown",
   "metadata": {},
   "source": [
    "This notebook assumes that the database has been filtered and has access to this filtered dataset. The notebook performs the relevant denoising and preprocessing on the signals in the database."
   ]
  },
  {
   "cell_type": "code",
   "execution_count": 1,
   "metadata": {},
   "outputs": [
    {
     "name": "stderr",
     "output_type": "stream",
     "text": [
      "100%|████████████████████████████████████████████████████████████████████████████████| 549/549 [00:13<00:00, 40.09it/s]\n"
     ]
    }
   ],
   "source": [
    "%run \"Database_Filtering.ipynb\" #allowing access to the filtered database"
   ]
  },
  {
   "cell_type": "code",
   "execution_count": 2,
   "metadata": {},
   "outputs": [],
   "source": [
    "from scipy.signal import butter, filtfilt #for the butterworth filter"
   ]
  },
  {
   "cell_type": "code",
   "execution_count": 3,
   "metadata": {},
   "outputs": [
    {
     "name": "stderr",
     "output_type": "stream",
     "text": [
      "100%|████████████████████████████████████████████████████████████████████████████████| 229/229 [00:02<00:00, 90.74it/s]\n"
     ]
    }
   ],
   "source": [
    "no_patients = allowed_patients.count_patients()\n",
    "\n",
    "\n",
    "signals = np.zeros(shape=(no_patients, sample_length))\n",
    "for i in tqdm(range(0, no_patients)):\n",
    "    signal = allowed_patients.get_patients(i).read_signal(['v1']).reshape(-1)\n",
    "    signals[i] = signal"
   ]
  },
  {
   "cell_type": "code",
   "execution_count": 4,
   "metadata": {},
   "outputs": [],
   "source": [
    "# Define the cutoff frequency for the Butterworth filter\n",
    "cutoff_freq = 1  # Adjust this value based on the characteristics of your signal\n",
    "\n",
    "# Normalize the cutoff frequency\n",
    "nyquist_freq = 500  # Nyquist frequency is half the sampling frequency\n",
    "normalized_cutoff = cutoff_freq / nyquist_freq\n",
    "\n",
    "#order\n",
    "order = 3\n",
    "\n",
    "\n",
    "\n",
    "\n",
    "def butterworth_detrending(signal, cut_off_freq, nyquist_freq, order):\n",
    "    normalised_cut_off = cut_off_freq/nyquist_freq\n",
    "    \n",
    "    b, a = butter(order, normalized_cutoff, btype='low')\n",
    "\n",
    "    baseline = filtfilt(b, a, signal)#thought this would give the detrended signal but gives a very good fit here\n",
    "    detrended_signal = signal-baseline\n",
    "    return detrended_signal\n",
    "\n",
    "\n",
    "butterworth_detrended_signals = np.zeros(shape=(no_patients, sample_length))\n",
    "trends = np.zeros(shape=(no_patients, sample_length))\n",
    "\n",
    "for i, signal in enumerate(signals):\n",
    "    butterworth_detrended_signals[i] = butterworth_detrending(signal, cutoff_freq, nyquist_freq, order)"
   ]
  },
  {
   "cell_type": "code",
   "execution_count": null,
   "metadata": {},
   "outputs": [],
   "source": []
  }
 ],
 "metadata": {
  "kernelspec": {
   "display_name": "Python 3",
   "language": "python",
   "name": "python3"
  },
  "language_info": {
   "codemirror_mode": {
    "name": "ipython",
    "version": 3
   },
   "file_extension": ".py",
   "mimetype": "text/x-python",
   "name": "python",
   "nbconvert_exporter": "python",
   "pygments_lexer": "ipython3",
   "version": "3.8.3"
  }
 },
 "nbformat": 4,
 "nbformat_minor": 4
}
