{
 "cells": [
  {
   "cell_type": "markdown",
   "metadata": {},
   "source": [
    "This notebook exists to select the best parameters from the total parameter set calculated from the dataset. Each parameter is tested against the others within a filter method to find any correlations before a wrapper method is used to determine which parameters give the best performance with the classification paradigm.\n",
    "Want to reduce number of parameters needed to produce a good output so to reduce the chance of overfitting and increase the generalisation of the model."
   ]
  },
  {
   "cell_type": "code",
   "execution_count": 1,
   "metadata": {},
   "outputs": [
    {
     "name": "stdout",
     "output_type": "stream",
     "text": [
      "Filtering Database\n"
     ]
    },
    {
     "name": "stderr",
     "output_type": "stream",
     "text": [
      "100%|██████████| 549/549 [01:27<00:00,  6.27it/s]\n"
     ]
    },
    {
     "name": "stdout",
     "output_type": "stream",
     "text": [
      "221 remaining out of 290\n",
      "normalising and preproccessing signals using DWT\n"
     ]
    },
    {
     "name": "stderr",
     "output_type": "stream",
     "text": [
      "100%|██████████| 221/221 [00:00<00:00, 271.79it/s]\n"
     ]
    },
    {
     "name": "stdout",
     "output_type": "stream",
     "text": [
      "6\n",
      "Calculating Time Domain Features\n",
      "Calculating Frequency Domain Features\n",
      "Calculating Non-Linear Domain Features\n"
     ]
    }
   ],
   "source": [
    "%run \"Parameter_Estimation.ipynb\" #allowing access to parameters"
   ]
  },
  {
   "cell_type": "code",
   "execution_count": 2,
   "metadata": {},
   "outputs": [],
   "source": [
    "from scipy.stats import pearsonr #for comparisson of correlations\n",
    "from sklearn.feature_selection import SequentialFeatureSelector, SelectKBest, mutual_info_classif #for forward feature selection\n",
    "from sklearn.model_selection import train_test_split\n",
    "from sklearn.svm import SVC"
   ]
  },
  {
   "cell_type": "code",
   "execution_count": 3,
   "metadata": {},
   "outputs": [],
   "source": [
    "def get_balanced_accuracy(y_test, y_pred):\n",
    "    \"\"\"\n",
    "    balanced accuracy....\n",
    "    \"\"\"\n",
    "    num_healthy_true = np.sum([x=='Healthy' for x in y_test])\n",
    "    num_unhealthy_true = len(y_test) - num_healthy_true\n",
    "    count_healthy_accurate = 0\n",
    "    count_unhealthy_accurate = 0\n",
    "    for i in range(0, len(y_test)):\n",
    "        if y_pred[i] == y_test[i] == 'Unhealthy':\n",
    "            count_unhealthy_accurate +=1\n",
    "        elif y_pred[i] == y_test[i] == 'Healthy':\n",
    "            count_healthy_accurate +=1\n",
    "    healthy_percentage = count_healthy_accurate/num_healthy_true\n",
    "    unhealthy_percentage = count_unhealthy_accurate/num_unhealthy_true\n",
    "    balanced_accuracy = (healthy_percentage + unhealthy_percentage) * 0.5\n",
    "    return balanced_accuracy\n",
    "\n",
    "def get_specificity(y_test, y_pred):\n",
    "    \"\"\"\n",
    "    true negative rate\n",
    "    \"\"\"\n",
    "    true_negative = 0\n",
    "    false_positive = 0\n",
    "    for i in range(0, len(y_test)):\n",
    "        if y_pred[i] == y_test[i] == 'Healthy':\n",
    "            true_negative += 1\n",
    "        elif y_pred[i] != y_test[i] and y_test[i] == 'Healthy':\n",
    "            false_positive += 1\n",
    "    \n",
    "    return true_negative / (true_negative+false_positive)\n",
    "            \n",
    "def get_f1_score(y_test, y_pred):\n",
    "    \"\"\"\n",
    "    balance between precision and recall\n",
    "    \"\"\"\n",
    "    true_positive = 0\n",
    "    false_positive = 0\n",
    "    false_negative = 0\n",
    "    for i in range(0, len(y_test)):\n",
    "        if y_pred[i] == y_test[i] == 'Unhealthy':\n",
    "            true_positive += 1\n",
    "        elif y_pred[i] != y_test[i] and y_test[i] == 'Healthy':\n",
    "            false_positive += 1\n",
    "        elif y_pred[i] != y_test[i] and y_test[i] == 'Unhealthy':\n",
    "            false_negative += 1\n",
    "    return (2*true_positive)/(2*true_positive+false_positive+false_negative)\n",
    "\n",
    "def scoring_function(model, X, y):\n",
    "    \"\"\"\n",
    "    change to incorporate balanced accuracy \n",
    "    \"\"\"\n",
    "    \n",
    "    y_pred = model.predict(X)\n",
    "    y_test = y\n",
    "    balanced_acc = get_balanced_accuracy(y_test, y_pred)\n",
    "    #specificity = get_specificity(y_test, y_pred)\n",
    "    f1 = get_f1_score(y_test, y_pred)\n",
    "    \n",
    "    \n",
    "    return f1*0.7 + balanced_acc*0.3\n",
    "\n",
    "def convert_multi_dict_to_array(params, nan_indices):\n",
    "    no_features = len(params)\n",
    "    params_list = []\n",
    "    for j in range(0, no_channels):\n",
    "        params_array = np.zeros(shape=(len(health_state[nan_indices[j]]), no_features))\n",
    "        for i, values in enumerate(params.values()):\n",
    "            params_array[:, i] = values[j]\n",
    "        params_list.append(params_array)\n",
    "    return params_list, no_features\n",
    "\n",
    "def convert_single_dict_to_array(params, nan_indices):\n",
    "    no_features = len(params)\n",
    "    params_array = np.zeros((len(health_state[nan_indices]), no_features))\n",
    "    for i, values in enumerate(params.values()):\n",
    "        params_array[:, i] = values\n",
    "    return params_array, no_features\n",
    "\n",
    "def reduce_parameter_set(params, selected_indices, channel):\n",
    "    select_params = {}\n",
    "    for i, key in enumerate(params.keys()):\n",
    "        if i in selected_indices:\n",
    "            select_params[key] = params[key][channel]\n",
    "    return select_params\n",
    "        \n",
    "def reduce_parameter_set_single(params, selected_indices):\n",
    "    select_params = {}\n",
    "    for i, key in enumerate(params.keys()):\n",
    "        if i in selected_indices:\n",
    "            select_params[key] = params[key]\n",
    "    return select_params\n",
    "    "
   ]
  },
  {
   "cell_type": "markdown",
   "metadata": {},
   "source": [
    "First convert the parameters to an array for easy investigation."
   ]
  },
  {
   "cell_type": "code",
   "execution_count": 4,
   "metadata": {},
   "outputs": [],
   "source": [
    "#pre-calculation of relevant health array for every channel\n",
    "nan_indices = []\n",
    "health_state = allowed_patients.get_diagnoses()\n",
    "for j in range(0, no_channels):\n",
    "    signal_nan_indices = []\n",
    "    for i, signal in enumerate(denoised_signals[:, j]):\n",
    "        if np.isnan(signal).all():\n",
    "            signal_nan_indices.append(False)\n",
    "        else:\n",
    "            signal_nan_indices.append(True)\n",
    "    nan_indices.append(signal_nan_indices)\n",
    "    \n",
    "health_state = np.array(health_state)\n",
    "nan_indices = np.array(nan_indices)"
   ]
  },
  {
   "cell_type": "code",
   "execution_count": 5,
   "metadata": {},
   "outputs": [],
   "source": [
    "params_array, no_features = convert_multi_dict_to_array(params, nan_indices)\n",
    "\n",
    "desired_no_feats = 4"
   ]
  },
  {
   "cell_type": "code",
   "execution_count": 6,
   "metadata": {},
   "outputs": [
    {
     "name": "stdout",
     "output_type": "stream",
     "text": [
      "Selecting the 4 most important features from 18 for each channel\n"
     ]
    }
   ],
   "source": [
    "print(f'Selecting the {desired_no_feats} most important features from {no_features} for each channel')"
   ]
  },
  {
   "cell_type": "markdown",
   "metadata": {},
   "source": [
    "To select the most important features to be used in analysis used forward sfs"
   ]
  },
  {
   "cell_type": "code",
   "execution_count": 7,
   "metadata": {},
   "outputs": [],
   "source": [
    "def forward_selection(params, health_state, scorer=scoring_function, k=6):\n",
    "    \n",
    "    X_train, X_test, y_train, y_test = train_test_split(params, health_state, test_size=0.3, stratify = health_state)\n",
    "\n",
    "    #initialise svc\n",
    "    svm = SVC(class_weight='balanced')\n",
    "\n",
    "    SFS_forward = SequentialFeatureSelector(estimator=svm, scoring=scoring_function, cv=3, n_features_to_select=k)\n",
    "\n",
    "    SFS_forward.fit(X_train, y_train)\n",
    "\n",
    "    selected_indices = SFS_forward.get_support(indices=True)\n",
    "    \n",
    "    return selected_indices"
   ]
  },
  {
   "cell_type": "markdown",
   "metadata": {},
   "source": [
    "Filter methods"
   ]
  },
  {
   "cell_type": "code",
   "execution_count": 8,
   "metadata": {},
   "outputs": [],
   "source": [
    "def filter_method(params, health_state, k=6, scorer=mutual_info_classif):\n",
    "    # Apply SelectKBest with mutual information\n",
    "    selector = SelectKBest(score_func=scorer, k=k)\n",
    "    \n",
    "    \n",
    "    X_new = selector.fit_transform(params, health_state)\n",
    "    \n",
    "    # Get the indices of selected features\n",
    "    selected_indices = selector.get_support(indices=True)\n",
    "    \n",
    "    return selected_indices"
   ]
  },
  {
   "cell_type": "markdown",
   "metadata": {},
   "source": [
    "Combining approaches"
   ]
  },
  {
   "cell_type": "code",
   "execution_count": 9,
   "metadata": {},
   "outputs": [],
   "source": [
    "def run_feature_selection():\n",
    "    selected_params = {}\n",
    "    for i in range(0, no_channels):\n",
    "        #find indices to keep through filter method\n",
    "\n",
    "        chosen_indices_filt = filter_method(params_array[i], health_state[nan_indices[i]], k=8)#encoded health state?\n",
    "\n",
    "        #reduce the parameter based on these indices\n",
    "        reduced_params = reduce_parameter_set(params, chosen_indices_filt, i)\n",
    "\n",
    "        #convert new params dict back into array\n",
    "        reduced_params_array, no_features = convert_single_dict_to_array(reduced_params, nan_indices[i])\n",
    "\n",
    "        #find 4 best features through sfs\n",
    "        chosen_indices_filt_sfs = forward_selection(reduced_params_array, health_state[nan_indices[i]], scorer=scoring_function, k=desired_no_feats)\n",
    "\n",
    "        selected_params[i] = reduce_parameter_set_single(reduced_params, chosen_indices_filt_sfs)\n",
    "    return selected_params"
   ]
  },
  {
   "cell_type": "code",
   "execution_count": 10,
   "metadata": {},
   "outputs": [
    {
     "name": "stdout",
     "output_type": "stream",
     "text": [
      "Selected features for channel 0:\n",
      "['RR amps', 'RMSSD', 'sd2', 'age']\n",
      "Selected features for channel 1:\n",
      "['RR std', 'RR amps', 'sd2', 'age']\n",
      "Selected features for channel 2:\n",
      "['RR std', 'sd1', 'sd2', 'age']\n",
      "Selected features for channel 3:\n",
      "['RR std', 'RR amps', 'std', 'age']\n",
      "Selected features for channel 4:\n",
      "['skews', 'lf', 'shannon en', 'age']\n",
      "Selected features for channel 5:\n",
      "['mean', 'lf', 'sd2', 'age']\n"
     ]
    }
   ],
   "source": [
    "selected_params = run_feature_selection()\n",
    "for i in range(0, no_channels):\n",
    "    print(f\"Selected features for channel {i}:\")\n",
    "    print(list(selected_params[i].keys()))"
   ]
  },
  {
   "cell_type": "code",
   "execution_count": 11,
   "metadata": {},
   "outputs": [
    {
     "name": "stderr",
     "output_type": "stream",
     "text": [
      "  0%|          | 0/100 [00:00<?, ?it/s]"
     ]
    },
    {
     "name": "stderr",
     "output_type": "stream",
     "text": [
      "100%|██████████| 100/100 [03:59<00:00,  2.40s/it]\n"
     ]
    }
   ],
   "source": [
    "from collections import defaultdict, Counter\n",
    "\n",
    "# initialize dict to count feature selections for each channel\n",
    "feature_counts = defaultdict(Counter)\n",
    "\n",
    "# select features 100 times and update the counts\n",
    "for _ in tqdm(range(100)):\n",
    "    selected_features = run_feature_selection()\n",
    "    for i in range(0, 6):\n",
    "        feature_counts[i].update(selected_features[i].keys())\n",
    "                                 "
   ]
  },
  {
   "cell_type": "code",
   "execution_count": 12,
   "metadata": {},
   "outputs": [
    {
     "data": {
      "image/png": "[encoded data removed]",
      "text/plain": [
       "<Figure size 1500x1000 with 1 Axes>"
      ]
     },
     "metadata": {},
     "output_type": "display_data"
    }
   ],
   "source": [
    "\n",
    "# Combine all features from all channels and calculate their total frequencies\n",
    "total_feature_counts = Counter()\n",
    "for features in feature_counts.values():\n",
    "    total_feature_counts.update(features)\n",
    "\n",
    "# sort features by total frequency\n",
    "sorted_features = [feature for feature, count in total_feature_counts.most_common()]\n",
    "\n",
    "\n",
    "middle_index = len(sorted_features) // 2\n",
    "sorted_features = sorted_features[:middle_index][::-1] + sorted_features[middle_index:]\n",
    "\n",
    "# bar chart of frequencies\n",
    "fig, ax = plt.subplots(figsize=(15, 10))\n",
    "\n",
    "plt.rcParams.update({'font.size': 14})\n",
    "\n",
    "bar_width = 0.1  \n",
    "indices = list(range(len(sorted_features)))\n",
    "\n",
    "# colors for each channel\n",
    "colors = ['b', 'g', 'r', 'c', 'm', 'y']\n",
    "\n",
    "for channel in range(6):\n",
    "    counts = [feature_counts[channel][feature] for feature in sorted_features]\n",
    "    bar_positions = [i + channel * bar_width for i in indices]\n",
    "    ax.bar(bar_positions, counts, bar_width, label=f'Channel {channel+1}', color=colors[channel])\n",
    "\n",
    "\n",
    "ax.set_xticks([i + bar_width * 2.5 for i in indices])\n",
    "ax.set_xticklabels(sorted_features, rotation=90)\n",
    "\n",
    "\n",
    "ax.set_xlabel('Features', fontsize = 14)\n",
    "ax.set_ylabel('Frequency')\n",
    "ax.set_title('Feature Selection Frequencies Across Channels')\n",
    "ax.legend()\n",
    "\n",
    "plt.tight_layout()\n",
    "plt.savefig('feature_selection_frequencies_combined.png', bbox_inches='tight')\n",
    "plt.show()"
   ]
  },
  {
   "cell_type": "code",
   "execution_count": null,
   "metadata": {},
   "outputs": [],
   "source": []
  },
  {
   "cell_type": "code",
   "execution_count": null,
   "metadata": {},
   "outputs": [],
   "source": []
  }
 ],
 "metadata": {
  "kernelspec": {
   "display_name": "Python 3",
   "language": "python",
   "name": "python3"
  },
  "language_info": {
   "codemirror_mode": {
    "name": "ipython",
    "version": 3
   },
   "file_extension": ".py",
   "mimetype": "text/x-python",
   "name": "python",
   "nbconvert_exporter": "python",
   "pygments_lexer": "ipython3",
   "version": "3.10.13"
  }
 },
 "nbformat": 4,
 "nbformat_minor": 4
}
