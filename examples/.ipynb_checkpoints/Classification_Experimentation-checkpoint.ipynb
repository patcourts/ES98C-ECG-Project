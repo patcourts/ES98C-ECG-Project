{
 "cells": [
  {
   "cell_type": "markdown",
   "metadata": {},
   "source": [
    "This notebook exists to experiment with different methods for classification"
   ]
  },
  {
   "cell_type": "code",
   "execution_count": 1,
   "metadata": {},
   "outputs": [
    {
     "name": "stderr",
     "output_type": "stream",
     "text": [
      "100%|████████████████████████████████████████████████████████████████████████████████| 549/549 [00:13<00:00, 40.91it/s]\n",
      "100%|███████████████████████████████████████████████████████████████████████████████| 229/229 [00:01<00:00, 155.64it/s]\n"
     ]
    }
   ],
   "source": [
    "%run \"Parameter_Estimation.ipynb\" #allowing access to parameters"
   ]
  },
  {
   "cell_type": "code",
   "execution_count": 19,
   "metadata": {},
   "outputs": [],
   "source": [
    "from sklearn.model_selection import train_test_split\n",
    "from sklearn.svm import SVC\n",
    "from sklearn.metrics import accuracy_score, classification_report\n",
    "from sklearn.preprocessing import StandardScaler\n",
    "from sklearn.decomposition import PCA"
   ]
  },
  {
   "cell_type": "code",
   "execution_count": 3,
   "metadata": {},
   "outputs": [
    {
     "name": "stdout",
     "output_type": "stream",
     "text": [
      "229\n"
     ]
    }
   ],
   "source": [
    "health_state = allowed_patients.get_diagnoses()\n",
    "\n",
    "encoded_health_state = [True if label == 'Unhealthy' else False for label in health_state]\n",
    "\n",
    "print(len(health_state))\n",
    "# unhealthy_peak_to_peak_averages = peak_to_peak_averages[encoded_health_state]\n",
    "# healthy_peak_to_peak_averages = peak_to_peak_averages[~np.array(encoded_health_state)]\n",
    "\n",
    "# unhealthy_peak_amp = peak_amp_average[encoded_health_state]\n",
    "# healthy_peak_amp = peak_amp_average[~np.array(encoded_health_state)]\n"
   ]
  },
  {
   "cell_type": "markdown",
   "metadata": {},
   "source": [
    "## Parameter Selection"
   ]
  },
  {
   "cell_type": "markdown",
   "metadata": {},
   "source": [
    "### investigating correlation \n",
    "- currently using peason r (pmcc)"
   ]
  },
  {
   "cell_type": "code",
   "execution_count": 17,
   "metadata": {},
   "outputs": [],
   "source": [
    "from scipy.stats import pearsonr\n",
    "\n",
    "\n",
    "corr, p_value = pearsonr(params['peak_amp_av'], params['peak_to_peak_av'])\n"
   ]
  },
  {
   "cell_type": "code",
   "execution_count": 18,
   "metadata": {},
   "outputs": [
    {
     "name": "stdout",
     "output_type": "stream",
     "text": [
      "0.1889952702267807 0.004101092593064013\n"
     ]
    }
   ],
   "source": [
    "print(corr, p_value)"
   ]
  },
  {
   "cell_type": "markdown",
   "metadata": {},
   "source": [
    "## PCA\n"
   ]
  },
  {
   "cell_type": "markdown",
   "metadata": {},
   "source": [
    "- loses the knowledge of features, less intuitive\n",
    "- will experiment with it anyway"
   ]
  },
  {
   "cell_type": "code",
   "execution_count": 24,
   "metadata": {},
   "outputs": [],
   "source": [
    "# Initialize the array\n",
    "X = np.zeros((2, no_patients))\n",
    "\n",
    "# Populate the array with values from the dictionary\n",
    "for i in range(2):\n",
    "    X[i] = params['peak_to_peak_av']\n",
    "    X[i] = params['peak_amp_av']\n",
    "\n",
    "    \n",
    "#standardize data\n",
    "X = X.reshape(no_patients, 2)\n",
    "scaler = StandardScaler()\n",
    "X_scaled = scaler.fit_transform(X)\n",
    "\n",
    "#set desired number of principle components\n",
    "num_components = 2\n",
    "\n",
    "#using sklearn PCA\n",
    "pca = PCA(n_components=num_components)\n",
    "X_pca = pca.fit_transform(X_scaled)"
   ]
  },
  {
   "cell_type": "code",
   "execution_count": 30,
   "metadata": {},
   "outputs": [
    {
     "name": "stdout",
     "output_type": "stream",
     "text": [
      "Accuracy: 0.782608695652174\n"
     ]
    }
   ],
   "source": [
    "#using principle components to do ML\n",
    "#splitting the data into train and test sets\n",
    "X_train, X_test, y_train, y_test = train_test_split(X_pca, health_state, test_size=0.3)#reshape needs to be fixed \n",
    "\n",
    "#init and train model, using radial basis functions\n",
    "svm_classifier = SVC(kernel='rbf', gamma='scale')  #'scale' normalises data, prevents overfitting\n",
    "svm_classifier.fit(X_train, y_train)\n",
    "\n",
    "#predictions\n",
    "y_pred = svm_classifier.predict(X_test)\n",
    "\n",
    "#evaluating accuracy of the model\n",
    "accuracy = accuracy_score(y_test, y_pred)\n",
    "print(\"Accuracy:\", accuracy)"
   ]
  },
  {
   "cell_type": "markdown",
   "metadata": {},
   "source": [
    "## Wrapper Methods:\n",
    "\n",
    "These methods do feature selection whilst using the model\n",
    "\n",
    " - Forward Selection: Features are sequentially added to the model, starting with an empty set and adding the feature that improves model performance the most at each step.\n",
    " - Backward Elimination: Features are sequentially removed from the model, starting with the full set of features and removing the feature that decreases model performance the least at each step.\n",
    " - Recursive Feature Elimination (RFE): Features are recursively pruned based on the importance assigned to them by the model. Less important features are eliminated iteratively until the desired number of features is reached."
   ]
  },
  {
   "cell_type": "markdown",
   "metadata": {},
   "source": [
    "## Embedded Methods:\n",
    "\n",
    "Also done whilst using the model\n",
    "\n",
    "- Regularization: Techniques like LASSO (L1 regularization) and Ridge (L2 regularization) penalize the magnitude of feature coefficients, forcing less important features to have coefficients close to zero."
   ]
  },
  {
   "cell_type": "markdown",
   "metadata": {},
   "source": [
    "## SVM"
   ]
  },
  {
   "cell_type": "code",
   "execution_count": 20,
   "metadata": {},
   "outputs": [
    {
     "ename": "ValueError",
     "evalue": "could not broadcast input array from shape (229,) into shape (2,)",
     "output_type": "error",
     "traceback": [
      "\u001b[1;31m---------------------------------------------------------------------------\u001b[0m",
      "\u001b[1;31mValueError\u001b[0m                                Traceback (most recent call last)",
      "\u001b[1;32m<ipython-input-20-6a2740ca3dac>\u001b[0m in \u001b[0;36m<module>\u001b[1;34m\u001b[0m\n\u001b[0;32m      8\u001b[0m \u001b[1;31m# Populate the array with values from the dictionary\u001b[0m\u001b[1;33m\u001b[0m\u001b[1;33m\u001b[0m\u001b[1;33m\u001b[0m\u001b[0m\n\u001b[0;32m      9\u001b[0m \u001b[1;32mfor\u001b[0m \u001b[0mi\u001b[0m \u001b[1;32min\u001b[0m \u001b[0mrange\u001b[0m\u001b[1;33m(\u001b[0m\u001b[0mno_features\u001b[0m\u001b[1;33m)\u001b[0m\u001b[1;33m:\u001b[0m\u001b[1;33m\u001b[0m\u001b[1;33m\u001b[0m\u001b[0m\n\u001b[1;32m---> 10\u001b[1;33m     \u001b[0mselected_params\u001b[0m\u001b[1;33m[\u001b[0m\u001b[0mi\u001b[0m\u001b[1;33m]\u001b[0m \u001b[1;33m=\u001b[0m \u001b[0mparams\u001b[0m\u001b[1;33m[\u001b[0m\u001b[1;34m'peak_to_peak_av'\u001b[0m\u001b[1;33m]\u001b[0m\u001b[1;33m\u001b[0m\u001b[1;33m\u001b[0m\u001b[0m\n\u001b[0m\u001b[0;32m     11\u001b[0m     \u001b[0mselected_params\u001b[0m\u001b[1;33m[\u001b[0m\u001b[0mi\u001b[0m\u001b[1;33m]\u001b[0m \u001b[1;33m=\u001b[0m \u001b[0mparams\u001b[0m\u001b[1;33m[\u001b[0m\u001b[1;34m'peak_amp_av'\u001b[0m\u001b[1;33m]\u001b[0m\u001b[1;33m\u001b[0m\u001b[1;33m\u001b[0m\u001b[0m\n\u001b[0;32m     12\u001b[0m \u001b[1;33m\u001b[0m\u001b[0m\n",
      "\u001b[1;31mValueError\u001b[0m: could not broadcast input array from shape (229,) into shape (2,)"
     ]
    }
   ],
   "source": [
    "#will have feature selection to decide this number\n",
    "no_features = 2\n",
    "\n",
    "# Initialize the array\n",
    "selected_params = np.zeros((no_features, no_patients))\n",
    "\n",
    "# Populate the array with values from the dictionary\n",
    "for i in range(no_features):\n",
    "    selected_params[i] = params['peak_to_peak_av']\n",
    "    selected_params[i] = params['peak_amp_av']\n",
    "\n",
    "selected_params = selected_params.reshape(no_patients, no_features) #need no. samples as rows, no. features as columns for machine learning analysis"
   ]
  },
  {
   "cell_type": "code",
   "execution_count": 12,
   "metadata": {
    "scrolled": true
   },
   "outputs": [
    {
     "name": "stdout",
     "output_type": "stream",
     "text": [
      "Accuracy: 0.8405797101449275\n"
     ]
    }
   ],
   "source": [
    "#splitting the data into train and test sets\n",
    "X_train, X_test, y_train, y_test = train_test_split(selected_params.reshape(229, 2), health_state, test_size=0.3)#reshape needs to be fixed \n",
    "\n",
    "#init and train model, using radial basis functions\n",
    "svm_classifier = SVC(kernel='rbf', gamma='scale')  #'scale' normalises data, prevents overfitting\n",
    "svm_classifier.fit(X_train, y_train)\n",
    "\n",
    "#predictions\n",
    "y_pred = svm_classifier.predict(X_test)\n",
    "\n",
    "#evaluating accuracy of the model\n",
    "accuracy = accuracy_score(y_test, y_pred)\n",
    "print(\"Accuracy:\", accuracy)\n",
    "\n",
    "#view a classification report\n",
    "# print(\"Classification Report:\")\n",
    "# print(classification_report(y_test, y_pred))"
   ]
  },
  {
   "cell_type": "code",
   "execution_count": null,
   "metadata": {},
   "outputs": [],
   "source": []
  },
  {
   "cell_type": "code",
   "execution_count": null,
   "metadata": {},
   "outputs": [],
   "source": []
  }
 ],
 "metadata": {
  "kernelspec": {
   "display_name": "Python 3",
   "language": "python",
   "name": "python3"
  },
  "language_info": {
   "codemirror_mode": {
    "name": "ipython",
    "version": 3
   },
   "file_extension": ".py",
   "mimetype": "text/x-python",
   "name": "python",
   "nbconvert_exporter": "python",
   "pygments_lexer": "ipython3",
   "version": "3.8.3"
  }
 },
 "nbformat": 4,
 "nbformat_minor": 4
}
