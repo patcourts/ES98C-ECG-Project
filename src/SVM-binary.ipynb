{
 "cells": [
  {
   "cell_type": "code",
   "execution_count": 1,
   "metadata": {},
   "outputs": [],
   "source": [
    "from database.utils import reconstruct_probs\n",
    "from models.SVM.binary_classification import tune_hyperparams, perform_skfold, optimise_score_over_channels, average_probabilities\n",
    "from database.data import Data\n",
    "from sklearn.svm import SVC\n",
    "from sklearn.metrics import classification_report, roc_curve, auc\n",
    "import seaborn as sns\n",
    "\n",
    "import matplotlib.pyplot as plt\n",
    "from tqdm import tqdm\n",
    "import numpy as np\n"
   ]
  },
  {
   "cell_type": "code",
   "execution_count": 2,
   "metadata": {},
   "outputs": [],
   "source": [
    "#creating DATA object\n",
    "ptb_binary_SVM = Data(database = 'ptbdb', denoise_method='DWT', estimation_method = 'SVM', train_splits=None, binary = True, parameterisation = True)\n",
    "\n",
    "\n",
    "# define hyperparameter grid to test\n",
    "param_grid = {\n",
    "    'C': [0.01, 0.1, 1, 10],\n",
    "    'kernel': ['linear', 'rbf', 'poly'],\n",
    "    'gamma': ['scale']#including 'auto' aswell takes forever\n",
    "}\n"
   ]
  },
  {
   "cell_type": "code",
   "execution_count": 12,
   "metadata": {},
   "outputs": [
    {
     "name": "stderr",
     "output_type": "stream",
     "text": [
      "  0%|          | 0/3 [00:00<?, ?it/s]"
     ]
    },
    {
     "name": "stdout",
     "output_type": "stream",
     "text": [
      "Filtering Database\n"
     ]
    },
    {
     "name": "stderr",
     "output_type": "stream",
     "text": [
      "\n",
      "  0%|          | 0/549 [00:00<?, ?it/s]"
     ]
    },
    {
     "name": "stderr",
     "output_type": "stream",
     "text": [
      "100%|██████████| 549/549 [00:58<00:00,  9.32it/s]\n",
      "100%|██████████| 221/221 [00:00<00:00, 268.30it/s]\n"
     ]
    },
    {
     "name": "stdout",
     "output_type": "stream",
     "text": [
      "denoising signals through Discrete Wavelet Transform\n",
      "normalising signals\n",
      "calculating time domain parameters\n",
      "calculating frequency domain parameters\n",
      "calculating non linear domain parameters\n",
      "selecting 4 most important features\n",
      "Selected features for channel 1:\n",
      "['rr_amps', 'RMSSD', 'sd2', 'age']\n",
      "Selected features for channel 2:\n",
      "['rr_std', 'shannon_en', 'sd2', 'age']\n",
      "Selected features for channel 3:\n",
      "['rr_amps', 'skews', 'shannon_en', 'age']\n",
      "Selected features for channel 4:\n",
      "['rr_std', 'skews', 'sd_ratio', 'age']\n",
      "Selected features for channel 5:\n",
      "['rr_std', 'lf', 'sd1', 'age']\n",
      "Selected features for channel 6:\n",
      "['rr_std', 'mean', 'lf', 'age']\n",
      "[0 0 0 0 0 0 0 0 0 0 0 0 0 0 0 0 0 0 0 0 0 0 0 0 0 0 0 0 0 0 0 0 1 1 1 0 0\n",
      " 0 1 1 0 1 0 0 0 0 0 0 1 0 0 0 1 1 1 1 1 0 1 0 0 1 0 1 0 0]\n",
      "[0 0 0 0 0 0 0 0 0 0 0 1 1 1 1 0 0 0 0 0 0 1 0 0 0 0 0 0 0 0 0 0 1 0 1 1 0\n",
      " 1 1 1 0 0 0 0 0 0 0 1 1 0 0 0 1 0 1 0 1 0 0 0 1 1 0 0 0 0]\n",
      "[0 0 0 0 0 0 0 0 0 0 0 0 0 0 0 0 0 0 0 0 0 0 0 0 0 0 0 0 1 0 1 0 0 1 1 0 0\n",
      " 1 1 1 0 0 0 0 0 0 0 0 0 1 1 1 1 0 1 0 0 1 0 0 0 0 1 0 0]\n",
      "[0 0 0 1 0 1 0 0 1 1 0 0 0 1 0 0 0 0 1 1 1 1 1 0 0 0 1 0 1 0 1 1 0 1 1 0 0\n",
      " 0 0 1 1 1 0 0 0 0 0 0 1 1 1 1 0 0 1 0 0 0 0 1 0 0 1 0 0]\n",
      "[0 0 0 0 0 0 0 0 0 0 0 0 0 0 0 0 0 0 0 0 0 0 0 0 0 0 0 1 1 0 0 0 1 0 0 1 1\n",
      " 0 0 0 0 0 0 0 0 1 1 1 1 1 1 1 1 0 0 0 1 0 0 0 1 0 0 0 0]\n",
      "[0 0 0 0 0 1 0 0 0 0 0 0 0 0 0 0 1 0 0 0 0 0 0 0 1 0 0 1 1 0 1 0 1 0 0 1 1\n",
      " 1 0 1 0 0 0 0 1 1 1 1 1 1 0 1 0 1 1 1 1 0 0 0 1 0 0 0 1]\n",
      "[0 0 0 0 0 0 0 0 0 0 0 0 0 0 0 0 0 0 0 0 0 0 0 0 0 0 0 0 0 0 1 0 1 0 1 0 0\n",
      " 0 0 1 1 0 0 0 1 0 1 1 1 1 0 1 0 0 0 1 1 0 0]\n",
      "[0 0 1 0 0 0 0 0 0 0 1 0 0 1 0 0 0 0 0 0 0 0 1 1 0 1 1 0 1 0 1 0 0 1 1 0 0\n",
      " 0 0 1 1 1 0 0 1 1 1 1 1 1 0 0 0 0 1 1 0 0 0]\n",
      "[0 0 0 0 0 0 0 0 0 0 0 0 0 0 0 0 0 0 0 0 0 0 0 0 0 0 0 1 0 1 1 1 1 0 1 1 0\n",
      " 0 0 0 0 0 0 0 0 0 0 0 0 1 1 1 1 1 0 0 0 1 0]\n",
      "[0 0 1 0 0 0 0 0 0 0 0 0 0 1 0 0 0 0 0 1 1 0 0 1 0 0 0 1 1 1 1 0 0 0 1 0 0\n",
      " 0 0 1 0 1 0 1 0 1 0 1 0 1 1 1 1 1 0 1 1 1 0]\n",
      "[0 0 0 0 0 0 0 0 0 0 0 0 0 0 0 0 0 0 0 0 1 0 0 1 1 0 0 1 1 0 0 0 1 1 0 0 0\n",
      " 0 0 0 0 1 1 1 1 1 0 0 0 0 0 0 0 0 1 0 0 0]\n",
      "[0 1 0 0 0 0 0 0 0 1 0 1 1 1 0 0 1 0 0 0 1 0 1 1 1 1 1 1 1 0 0 1 1 1 0 1 1\n",
      " 1 0 0 0 1 1 1 0 0 1 1 1 0 0 0 0 1 1 0 0 1]\n",
      "[0 0 0 0 0 0 0 0 0 0 0 0 0 0 0 0 0 0 0 0 0 0 0 0 0 0 0 0 0 0 1 0 1 0 1 1 1\n",
      " 1 0 0 0 0 0 1 1 1 0 0 0 1 1 1 0 0]\n",
      "[0 0 0 0 0 0 0 0 1 1 0 1 1 0 0 0 0 0 1 0 1 1 0 0 1 1 0 1 0 0 1 1 1 1 1 1 0\n",
      " 1 1 0 1 0 0 1 1 1 1 1 1 0 1 0 1 0]\n",
      "[0 0 0 0 0 0 0 0 0 0 0 0 0 0 0 0 0 0 0 0 0 0 0 1 0 0 0 0 1 0 1 0 1 1 1 0 0\n",
      " 0 0 0 0 0 0 1 1 1 1 0 0 0 1 0 0]\n",
      "[0 0 0 0 0 1 0 0 0 1 0 0 1 0 1 0 0 0 0 0 0 1 0 1 1 1 0 1 1 0 1 0 1 1 1 0 1\n",
      " 1 1 0 0 0 1 1 1 1 0 0 1 0 1 0 0]\n",
      "[0 0 0 0 0 0 0 0 0 0 0 0 0 0 0 0 0 0 0 0 0 1 1 1 0 0 0 0 0 0 0 0 0 0 0 0 1\n",
      " 1 1 1 1 1 1 0 0 0 0 1 0 0 0 0 0]\n",
      "[0 0 0 1 1 0 0 0 0 0 0 0 1 0 0 0 0 0 1 0 0 0 0 1 0 0 0 0 1 0 1 0 0 0 1 0 1\n",
      " 1 1 1 1 1 1 0 0 1 0 0 0 0 0 1 0]\n",
      "[0 0 0 0 0 0 0 0 0 0 0 0 0 0 0 0 0 0 0 0 0 0 0 0 0 0 0 0 0 0 1 0 1 0 0 0 0\n",
      " 1 0 1 1 0 0 0 1 1 1 1 1 0 0 0 0 1 1 0 0 1 0 0]\n",
      "[0 0 0 0 0 0 0 0 1 1 0 1 0 1 1 0 1 0 0 0 1 0 1 0 1 0 1 1 1 0 1 0 0 0 1 0 0\n",
      " 1 0 1 1 1 0 0 1 1 1 0 1 0 0 1 0 0 0 0 0 1 0 0]\n",
      "[0 0 0 0 0 0 0 0 0 0 0 0 0 0 0 0 0 0 0 0 0 0 0 0 0 0 0 0 1 1 0 1 1 1 1 0 0\n",
      " 0 0 0 0 0 0 0 0 0 0 1 1 1 1 0 1 0 1 0 0 1 0 0]\n",
      "[1 0 0 0 1 1 1 1 0 1 1 1 0 1 1 1 0 1 0 1 0 1 0 1 0 1 0 0 1 1 0 0 1 1 1 1 0\n",
      " 0 1 0 0 0 0 0 1 1 1 1 1 0 1 1 1 1 1 1 0 1 0 0]\n",
      "[0 0 0 0 0 0 0 0 0 0 0 0 0 0 0 0 0 0 0 0 0 0 0 0 1 1 1 0 1 0 0 1 0 1 0 0 0\n",
      " 0 0 1 0 0 1 0 1 1 1 1 0 1 0 0 1 0 0 0 0 0 0 0]\n",
      "[0 0 0 0 0 0 1 0 0 1 1 0 0 1 0 1 0 0 0 0 0 1 0 0 1 0 0 1 1 0 0 0 1 0 1 0 1\n",
      " 0 0 1 0 0 0 0 1 1 1 0 0 0 0 0 1 1 0 0 0 0 0 0]\n",
      "[0 0 0 0 0 0 0 0 0 0 0 0 0 0 0 0 0 0 0 0 0 0 0 0 0 0 0 0 0 0 0 0 0 1 0 0 0\n",
      " 1 0 1 0 0 0 0 0 0 0 0 0 1 1 1 1 1 1 1 1 1 1 0 0 0 0 1 0 0 1 0 0]\n",
      "[0 0 0 0 0 0 0 0 0 0 1 1 0 0 0 0 0 0 0 1 1 0 0 0 1 0 1 0 0 1 0 0 0 1 0 0 0\n",
      " 0 0 1 0 0 0 0 0 0 0 1 0 1 1 1 1 1 0 0 1 1 0 1 0 0 1 1 0 0 1 0 0]\n",
      "[0 0 0 0 0 0 0 0 0 0 0 0 0 0 0 0 0 0 0 0 0 0 0 0 0 0 0 0 0 0 0 1 1 0 1 1 1\n",
      " 1 1 0 0 0 0 0 0 1 0 0 1 0 0 0 1 1 1 0 0 0 1 1 0 0 1 0 0 0 0 0 0]\n",
      "[0 0 0 0 0 0 0 1 1 0 0 0 0 1 0 0 0 1 1 0 0 0 1 0 0 1 0 1 1 0 0 1 1 1 0 1 1\n",
      " 0 1 0 0 1 1 1 0 1 0 1 1 1 0 0 1 1 1 0 0 1 1 0 1 0 1 0 0 0 0 0 0]\n",
      "[0 0 0 0 0 0 0 0 0 0 0 0 0 0 0 0 0 0 0 0 0 0 0 0 0 0 0 0 0 0 1 0 1 1 1 0 0\n",
      " 0 0 1 0 0 1 1 0 0 0 0 0 0 0 0 0 1 1 1 1 0 1 1 0 0 1 0 0 0 0 0]\n",
      "[0 0 0 0 1 0 0 1 1 1 0 1 0 0 0 0 0 0 0 0 0 0 0 0 0 0 0 1 0 0 0 0 0 0 1 1 0\n",
      " 0 0 1 0 0 0 1 0 0 1 0 0 0 0 0 0 1 1 1 1 1 1 0 0 0 0 0 1 0 0 0]\n"
     ]
    },
    {
     "name": "stderr",
     "output_type": "stream",
     "text": [
      " 33%|███▎      | 1/3 [02:07<04:15, 127.96s/it]"
     ]
    },
    {
     "name": "stdout",
     "output_type": "stream",
     "text": [
      "[0 0 0 0 0 0 0 0 0 0 0 0 0 0 0 0 0 0 0 0 0 0 0 0 0 0 0 0 0 0 0 1 0 0 0 1 0\n",
      " 1 0 0 0 0 0 0 0 0 0 0 1 1 1 1 1 1 1 1 1 1 0 0 0 1 0 0 0 1 0 0]\n",
      "[0 0 0 0 0 1 0 0 0 0 0 0 0 0 0 0 0 1 0 1 0 0 0 0 1 0 1 0 0 0 0 1 1 0 0 0 0\n",
      " 1 0 0 0 1 0 0 0 0 0 1 1 1 1 1 1 0 0 1 0 0 0 0 1 1 0 0 1 1 0 1]\n",
      "[0 0 0 0 0 0 0 0 0 0 0 0 0 0 0 0 0 0 0 0 0 0 0 0 0 0 0 0 0 1 1 0 0 0 1 0 0\n",
      " 1 1 1 1 1 0 0 0 0 0 0 0 1 0 1 1 0 1 0 0 0 1 0 0 1 0 0 0 0 0]\n",
      "[0 0 1 0 0 0 0 1 1 0 1 0 0 0 0 0 0 1 0 1 0 0 0 0 1 0 0 0 0 1 1 0 0 0 1 0 0\n",
      " 1 1 1 0 1 0 1 1 1 0 0 0 1 0 1 1 1 1 0 1 1 0 0 0 1 0 0 0 0 0]\n",
      "[0 0 0 0 0 0 0 0 0 0 0 0 0 0 0 0 0 0 0 0 0 0 0 0 0 0 0 0 0 0 0 0 1 1 1 1 0\n",
      " 0 1 1 1 0 0 0 0 0 0 0 0 1 1 1 1 0 1 0 1 0 1 0 1 0 0 0 0 0 0]\n",
      "[0 0 0 0 0 1 0 0 0 0 0 0 1 0 0 0 1 0 0 0 0 0 0 0 0 0 0 0 1 0 0 0 0 0 0 1 1\n",
      " 0 1 0 0 0 1 0 1 0 0 0 0 0 0 1 1 1 1 0 0 1 1 0 0 0 0 0 0 0 0]\n",
      "Filtering Database\n"
     ]
    },
    {
     "name": "stderr",
     "output_type": "stream",
     "text": [
      "100%|██████████| 549/549 [00:56<00:00,  9.68it/s]\n",
      "100%|██████████| 221/221 [00:00<00:00, 281.13it/s]\n"
     ]
    },
    {
     "name": "stdout",
     "output_type": "stream",
     "text": [
      "denoising signals through Discrete Wavelet Transform\n",
      "normalising signals\n",
      "calculating time domain parameters\n",
      "calculating frequency domain parameters\n",
      "calculating non linear domain parameters\n",
      "selecting 4 most important features\n",
      "Selected features for channel 1:\n",
      "['rr_amps', 'mean', 'shannon_en', 'age']\n",
      "Selected features for channel 2:\n",
      "['rr_amps', 'lf', 'total_power', 'age']\n",
      "Selected features for channel 3:\n",
      "['rr_amps', 'shannon_en', 'sd2', 'age']\n",
      "Selected features for channel 4:\n",
      "['rr_amps', 'skews', 'lf', 'sd_ratio']\n",
      "Selected features for channel 5:\n",
      "['rr_std', 'skews', 'lf', 'total_power']\n",
      "Selected features for channel 6:\n",
      "['RMSSD', 'sd1', 'sd2', 'age']\n",
      "[0 0 0 0 0 0 0 0 0 0 0 0 0 0 0 0 0 0 0 0 0 0 0 0 0 0 0 0 0 0 0 0 1 1 1 0 0\n",
      " 0 1 1 0 1 0 0 0 0 0 0 1 0 0 0 1 1 1 1 1 0 1 0 0 1 0 1 0 0]\n",
      "[0 0 0 0 0 0 0 0 0 1 1 1 0 1 0 1 0 0 0 0 1 0 0 0 0 0 1 0 1 0 1 1 1 0 1 1 0\n",
      " 0 0 1 1 0 0 0 0 1 0 1 1 0 0 0 1 1 0 0 1 1 1 1 0 1 0 0 0 0]\n",
      "[0 0 0 0 0 0 0 0 0 0 0 0 0 0 0 0 0 0 0 0 0 0 0 0 0 0 0 0 1 0 1 0 0 1 1 0 0\n",
      " 1 1 1 0 0 0 0 0 0 0 0 0 1 1 1 1 0 1 0 0 1 0 0 0 0 1 0 0]\n",
      "[0 0 0 1 1 0 0 0 1 1 0 0 0 1 0 0 0 0 0 1 0 1 1 1 0 0 0 0 1 0 0 1 0 0 1 0 1\n",
      " 1 1 1 1 1 0 0 0 0 0 0 1 1 1 1 0 1 1 1 0 0 0 0 0 0 1 0 0]\n",
      "[0 0 0 0 0 0 0 0 0 0 0 0 0 0 0 0 0 0 0 0 0 0 0 0 0 0 0 1 1 0 0 0 1 0 0 1 1\n",
      " 0 0 0 0 0 0 0 0 1 1 1 1 1 1 1 1 0 0 0 1 0 0 0 1 0 0 0 0]\n",
      "[0 0 0 0 0 1 0 0 1 0 0 0 0 1 1 1 0 0 1 0 0 0 0 0 0 0 0 1 0 1 0 1 1 0 0 1 1\n",
      " 0 0 1 0 1 0 0 1 1 1 1 1 1 1 1 0 1 1 0 1 0 0 0 1 0 1 0 0]\n",
      "[0 0 0 0 0 0 0 0 0 0 0 0 0 0 0 0 0 0 0 0 0 0 0 0 0 0 0 0 0 0 1 0 1 0 1 0 0\n",
      " 0 0 1 1 0 0 0 1 0 1 1 1 1 0 1 0 0 0 1 1 0 0]\n",
      "[0 0 0 0 0 0 0 0 1 0 1 0 1 1 0 0 0 0 0 0 0 0 1 1 0 1 1 1 0 0 0 0 0 1 1 0 0\n",
      " 1 0 1 1 1 0 0 0 0 0 1 1 1 0 0 0 0 0 1 0 0 0]\n",
      "[0 0 0 0 0 0 0 0 0 0 0 0 0 0 0 0 0 0 0 0 0 0 0 0 0 0 0 1 0 1 1 1 1 0 1 1 0\n",
      " 0 0 0 0 0 0 0 0 0 0 0 0 1 1 1 1 1 0 0 0 1 0]\n",
      "[0 0 0 0 0 0 0 1 0 1 0 1 0 1 0 0 0 1 0 0 0 0 1 1 0 0 0 0 0 1 0 0 0 1 1 0 0\n",
      " 0 1 1 0 1 0 0 0 0 0 1 0 1 1 1 0 1 0 1 0 1 0]\n",
      "[0 0 0 0 0 0 0 0 0 0 0 0 0 0 0 0 0 0 0 0 1 0 0 1 1 0 0 1 1 0 0 0 1 1 0 0 0\n",
      " 0 0 0 0 1 1 1 1 1 0 0 0 0 0 0 0 0 1 0 0 0]\n",
      "[0 0 0 0 0 1 1 0 0 1 0 1 1 0 1 1 1 0 1 0 1 1 0 0 1 1 0 1 1 0 0 0 1 1 0 0 1\n",
      " 0 0 0 1 1 1 1 0 0 1 0 1 0 0 0 0 0 1 0 0 0]\n",
      "[0 0 0 0 0 0 0 0 0 0 0 0 0 0 0 0 0 0 0 0 0 0 0 0 0 0 0 0 0 0 1 0 1 0 1 1 1\n",
      " 1 0 0 0 0 0 1 1 1 0 0 0 1 1 1 0 0]\n",
      "[0 0 0 0 0 0 0 0 1 1 1 1 1 0 0 0 0 0 1 0 1 1 0 0 0 1 0 1 0 0 1 0 1 1 1 1 0\n",
      " 1 0 0 1 0 0 1 1 1 1 1 0 0 1 0 1 0]\n",
      "[0 0 0 0 0 0 0 0 0 0 0 0 0 0 0 0 0 0 0 0 0 0 0 1 0 0 0 0 1 0 1 0 1 1 1 0 0\n",
      " 0 0 0 0 0 0 1 1 1 1 0 0 0 1 0 0]\n",
      "[0 0 0 0 1 0 0 0 0 1 0 1 1 1 1 0 0 0 0 1 0 1 0 1 1 1 1 0 1 0 0 1 1 0 1 0 1\n",
      " 1 0 0 0 0 1 1 1 1 1 0 1 0 1 1 0]\n",
      "[0 0 0 0 0 0 0 0 0 0 0 0 0 0 0 0 0 0 0 0 0 1 1 1 0 0 0 0 0 0 0 0 0 0 0 0 1\n",
      " 1 1 1 1 1 1 0 0 0 0 1 0 0 0 0 0]\n",
      "[0 0 0 1 1 1 0 0 0 0 0 0 0 1 0 0 0 0 1 0 0 0 1 1 0 0 0 0 1 0 1 0 0 0 0 0 1\n",
      " 1 1 1 1 1 1 1 0 1 1 0 0 0 0 1 1]\n",
      "[0 0 0 0 0 0 0 0 0 0 0 0 0 0 0 0 0 0 0 0 0 0 0 0 0 0 0 0 0 0 1 0 1 0 0 0 0\n",
      " 1 0 1 1 0 0 0 1 1 1 1 1 0 0 0 0 1 1 0 0 1 0 0]\n",
      "[0 1 0 0 0 0 0 1 0 1 0 1 0 1 0 0 0 0 0 0 0 1 0 0 1 1 1 1 0 0 1 0 0 0 1 0 0\n",
      " 0 0 1 1 1 0 0 1 0 1 1 1 0 0 1 0 0 1 0 1 1 0 0]\n",
      "[0 0 0 0 0 0 0 0 0 0 0 0 0 0 0 0 0 0 0 0 0 0 0 0 0 0 0 0 1 1 0 1 1 1 1 0 0\n",
      " 0 0 0 0 0 0 0 0 0 0 1 1 1 1 0 1 0 1 0 0 1 0 0]\n",
      "[0 1 1 0 0 1 0 1 0 1 1 1 0 0 1 1 0 0 0 0 1 1 1 1 0 1 1 0 0 0 1 0 1 1 1 1 0\n",
      " 1 1 0 0 0 0 1 1 1 0 0 1 1 1 1 1 1 1 1 0 1 0 0]\n",
      "[0 0 0 0 0 0 0 0 0 0 0 0 0 0 0 0 0 0 0 0 0 0 0 0 1 1 1 0 1 0 0 1 0 1 0 0 0\n",
      " 0 0 1 0 0 1 0 1 1 1 1 0 1 0 0 1 0 0 0 0 0 0 0]\n",
      "[1 0 0 0 0 0 1 0 0 1 1 1 0 1 0 1 1 1 1 0 1 1 1 0 1 0 1 1 0 0 1 1 1 0 0 1 0\n",
      " 1 1 1 1 1 1 0 1 1 1 0 0 1 0 0 1 1 0 0 0 1 0 0]\n",
      "[0 0 0 0 0 0 0 0 0 0 0 0 0 0 0 0 0 0 0 0 0 0 0 0 0 0 0 0 0 0 0 0 0 1 0 0 0\n",
      " 1 0 1 0 0 0 0 0 0 0 0 0 1 1 1 1 1 1 1 1 1 1 0 0 0 0 1 0 0 1 0 0]\n",
      "[1 0 0 1 0 0 0 0 0 0 1 1 0 0 0 0 0 0 0 0 1 0 0 0 1 0 1 0 1 1 0 0 0 1 0 1 0\n",
      " 0 0 0 1 0 0 0 0 1 0 1 0 1 1 1 1 1 1 0 1 1 0 1 0 0 1 0 1 0 1 0 0]\n",
      "[0 0 0 0 0 0 0 0 0 0 0 0 0 0 0 0 0 0 0 0 0 0 0 0 0 0 0 0 0 0 0 1 1 0 1 1 1\n",
      " 1 1 0 0 0 0 0 0 1 0 0 1 0 0 0 1 1 1 0 0 0 1 1 0 0 1 0 0 0 0 0 0]\n",
      "[1 1 1 0 0 0 1 1 1 0 0 0 0 1 1 0 0 1 1 0 0 0 1 0 1 1 1 1 1 0 0 1 1 1 1 1 1\n",
      " 0 1 0 0 0 1 1 1 0 0 1 1 1 1 0 1 1 1 0 0 1 1 0 1 1 1 1 1 0 0 1 0]\n",
      "[0 0 0 0 0 0 0 0 0 0 0 0 0 0 0 0 0 0 0 0 0 0 0 0 0 0 0 0 0 0 1 0 1 1 1 0 0\n",
      " 0 0 1 0 0 1 1 0 0 0 0 0 0 0 0 0 1 1 1 1 0 1 1 0 0 1 0 0 0 0 0]\n",
      "[0 1 0 0 1 0 0 0 1 1 0 0 0 0 1 0 0 0 0 0 0 0 0 1 0 0 0 1 0 0 1 0 0 1 0 1 0\n",
      " 1 0 1 0 1 0 1 1 0 1 0 0 0 0 0 1 0 1 0 1 1 1 0 1 1 1 0 1 0 0 0]\n"
     ]
    },
    {
     "name": "stderr",
     "output_type": "stream",
     "text": [
      " 67%|██████▋   | 2/3 [04:06<02:02, 122.53s/it]"
     ]
    },
    {
     "name": "stdout",
     "output_type": "stream",
     "text": [
      "[0 0 0 0 0 0 0 0 0 0 0 0 0 0 0 0 0 0 0 0 0 0 0 0 0 0 0 0 0 0 0 1 0 0 0 1 0\n",
      " 1 0 0 0 0 0 0 0 0 0 0 1 1 1 1 1 1 1 1 1 1 0 0 0 1 0 0 0 1 0 0]\n",
      "[0 0 0 0 0 0 0 0 0 0 1 0 0 0 0 0 0 1 0 1 0 0 0 0 1 0 1 0 0 0 0 1 1 0 1 1 0\n",
      " 1 0 0 0 1 0 0 0 0 0 0 1 1 1 1 1 0 0 1 0 0 0 0 1 1 0 0 1 1 0 1]\n",
      "[0 0 0 0 0 0 0 0 0 0 0 0 0 0 0 0 0 0 0 0 0 0 0 0 0 0 0 0 0 1 1 0 0 0 1 0 0\n",
      " 1 1 1 1 1 0 0 0 0 0 0 0 1 0 1 1 0 1 0 0 0 1 0 0 1 0 0 0 0 0]\n",
      "[0 0 0 0 0 0 0 1 0 0 0 0 0 0 0 0 0 1 0 0 0 0 0 0 1 0 0 0 0 1 1 0 0 0 0 0 0\n",
      " 1 1 1 0 1 0 0 1 1 0 0 0 1 1 1 1 1 1 0 1 1 0 0 1 1 0 0 0 0 0]\n",
      "[0 0 0 0 0 0 0 0 0 0 0 0 0 0 0 0 0 0 0 0 0 0 0 0 0 0 0 0 0 0 0 0 1 1 1 1 0\n",
      " 0 1 1 1 0 0 0 0 0 0 0 0 1 1 1 1 0 1 0 1 0 1 0 1 0 0 0 0 0 0]\n",
      "[0 0 0 0 0 1 0 0 0 0 0 0 1 0 0 0 1 0 0 0 1 0 0 0 1 0 0 0 1 1 1 0 1 0 1 1 1\n",
      " 0 1 1 0 0 1 0 1 0 1 0 1 1 1 1 1 1 1 0 0 1 1 1 0 0 1 1 0 0 0]\n",
      "Filtering Database\n"
     ]
    },
    {
     "name": "stderr",
     "output_type": "stream",
     "text": [
      "100%|██████████| 549/549 [01:02<00:00,  8.84it/s]\n",
      "100%|██████████| 221/221 [00:01<00:00, 150.24it/s]\n"
     ]
    },
    {
     "name": "stdout",
     "output_type": "stream",
     "text": [
      "denoising signals through Discrete Wavelet Transform\n",
      "normalising signals\n",
      "calculating time domain parameters\n",
      "calculating frequency domain parameters\n",
      "calculating non linear domain parameters\n",
      "selecting 4 most important features\n",
      "Selected features for channel 1:\n",
      "['rr_amps', 'mean', 'lf', 'age']\n",
      "Selected features for channel 2:\n",
      "['rr_std', 'rr_amps', 'shannon_en', 'age']\n",
      "Selected features for channel 3:\n",
      "['rr_amps', 'lf', 'shannon_en', 'age']\n",
      "Selected features for channel 4:\n",
      "['rr_amps', 'std', 'lf', 'age']\n",
      "Selected features for channel 5:\n",
      "['rr_std', 'lf', 'sd2', 'age']\n",
      "Selected features for channel 6:\n",
      "['rr_std', 'RMSSD', 'sd2', 'age']\n",
      "[0 0 0 0 0 0 0 0 0 0 0 0 0 0 0 0 0 0 0 0 0 0 0 0 0 0 0 0 0 0 0 0 1 1 1 0 0\n",
      " 0 1 1 0 1 0 0 0 0 0 0 1 0 0 0 1 1 1 1 1 0 1 0 0 1 0 1 0 0]\n",
      "[0 0 0 0 0 0 0 0 1 1 0 0 1 1 1 1 0 0 0 0 1 0 1 0 0 0 0 0 1 0 1 0 1 0 1 1 0\n",
      " 0 0 1 1 0 1 0 1 1 0 1 1 0 0 0 1 0 0 0 1 0 0 0 0 1 0 0 0 0]\n",
      "[0 0 0 0 0 0 0 0 0 0 0 0 0 0 0 0 0 0 0 0 0 0 0 0 0 0 0 0 1 0 1 0 0 1 1 0 0\n",
      " 1 1 1 0 0 0 0 0 0 0 0 0 1 1 1 1 0 1 0 0 1 0 0 0 0 1 0 0]\n",
      "[0 0 0 1 1 0 0 1 1 1 0 1 0 1 0 0 0 0 0 0 1 0 1 1 0 0 0 0 0 0 0 1 0 0 1 0 0\n",
      " 1 0 1 1 1 0 0 0 0 0 0 1 1 1 1 0 1 1 0 0 0 0 0 0 0 1 0 0]\n",
      "[0 0 0 0 0 0 0 0 0 0 0 0 0 0 0 0 0 0 0 0 0 0 0 0 0 0 0 1 1 0 0 0 1 0 0 1 1\n",
      " 0 0 0 0 0 0 0 0 1 1 1 1 1 1 1 1 0 0 0 1 0 0 0 1 0 0 0 0]\n",
      "[0 0 0 0 0 0 0 0 1 0 0 0 0 1 0 1 0 0 0 1 0 0 0 0 0 0 0 1 1 0 0 0 1 0 0 1 1\n",
      " 0 0 1 0 1 0 0 0 1 1 1 1 1 1 1 0 1 0 0 1 1 0 0 1 0 0 0 0]\n",
      "[0 0 0 0 0 0 0 0 0 0 0 0 0 0 0 0 0 0 0 0 0 0 0 0 0 0 0 0 0 0 1 0 1 0 1 0 0\n",
      " 0 0 1 1 0 0 0 1 0 1 1 1 1 0 1 0 0 0 1 1 0 0]\n",
      "[0 0 0 0 0 0 0 0 0 0 1 0 0 1 0 0 0 0 0 0 0 0 1 1 0 1 1 0 0 0 0 0 0 1 1 0 0\n",
      " 1 0 1 1 1 0 0 1 0 0 1 1 1 0 0 0 0 0 1 0 0 0]\n",
      "[0 0 0 0 0 0 0 0 0 0 0 0 0 0 0 0 0 0 0 0 0 0 0 0 0 0 0 1 0 1 1 1 1 0 1 1 0\n",
      " 0 0 0 0 0 0 0 0 0 0 0 0 1 1 1 1 1 0 0 0 1 0]\n",
      "[0 0 0 0 0 0 0 1 0 0 0 0 0 1 0 0 0 0 0 0 1 0 1 1 0 0 0 0 0 1 1 0 0 0 1 0 0\n",
      " 0 0 1 0 1 0 0 0 0 0 1 0 1 1 1 1 1 0 0 0 1 0]\n",
      "[0 0 0 0 0 0 0 0 0 0 0 0 0 0 0 0 0 0 0 0 1 0 0 1 1 0 0 1 1 0 0 0 1 1 0 0 0\n",
      " 0 0 0 0 1 1 1 1 1 0 0 0 0 0 0 0 0 1 0 0 0]\n",
      "[0 1 0 0 0 0 0 0 0 1 0 1 1 1 0 1 1 0 0 0 1 0 1 1 1 1 1 1 1 0 0 1 1 1 0 1 1\n",
      " 0 0 0 0 1 1 1 1 0 1 1 1 0 0 0 0 1 1 0 0 1]\n",
      "[0 0 0 0 0 0 0 0 0 0 0 0 0 0 0 0 0 0 0 0 0 0 0 0 0 0 0 0 0 0 1 0 1 0 1 1 1\n",
      " 1 0 0 0 0 0 1 1 1 0 0 0 1 1 1 0 0]\n",
      "[0 0 0 0 0 0 0 0 1 1 0 1 0 0 0 0 0 0 1 0 1 1 0 0 0 1 0 1 0 0 1 1 0 1 1 1 0\n",
      " 1 0 0 1 0 0 1 1 1 1 1 0 0 1 0 0 0]\n",
      "[0 0 0 0 0 0 0 0 0 0 0 0 0 0 0 0 0 0 0 0 0 0 0 1 0 0 0 0 1 0 1 0 1 1 1 0 0\n",
      " 0 0 0 0 0 0 1 1 1 1 0 0 0 1 0 0]\n",
      "[0 0 0 0 1 1 0 0 0 1 0 1 1 0 1 0 0 0 0 1 0 1 0 1 1 1 1 1 1 0 1 1 1 1 1 0 1\n",
      " 1 1 0 0 0 1 1 1 1 0 0 1 0 1 1 0]\n",
      "[0 0 0 0 0 0 0 0 0 0 0 0 0 0 0 0 0 0 0 0 0 1 1 1 0 0 0 0 0 0 0 0 0 0 0 0 1\n",
      " 1 1 1 1 1 1 0 0 0 0 1 0 0 0 0 0]\n",
      "[0 0 0 1 1 1 0 0 0 0 0 0 0 1 0 0 0 0 1 0 0 0 1 1 0 0 0 0 1 0 1 0 0 0 0 0 1\n",
      " 1 1 1 1 1 1 1 0 1 1 0 0 0 0 1 0]\n",
      "[0 0 0 0 0 0 0 0 0 0 0 0 0 0 0 0 0 0 0 0 0 0 0 0 0 0 0 0 0 0 1 0 1 0 0 0 0\n",
      " 1 0 1 1 0 0 0 1 1 1 1 1 0 0 0 0 1 1 0 0 1 0 0]\n",
      "[0 0 0 0 0 0 0 0 1 1 0 1 0 0 1 0 1 0 0 0 1 0 1 0 1 0 1 1 1 0 1 0 0 0 0 0 1\n",
      " 1 0 0 1 1 0 0 1 1 1 0 0 0 0 1 0 0 0 0 0 1 0 0]\n",
      "[0 0 0 0 0 0 0 0 0 0 0 0 0 0 0 0 0 0 0 0 0 0 0 0 0 0 0 0 1 1 0 1 1 1 1 0 0\n",
      " 0 0 0 0 0 0 0 0 0 0 1 1 1 1 0 1 0 1 0 0 1 0 0]\n",
      "[0 0 0 0 0 0 1 1 0 1 1 1 0 1 1 1 0 1 0 1 0 1 0 1 0 1 0 0 0 1 0 0 1 1 1 0 0\n",
      " 0 1 0 0 0 0 0 1 1 0 1 1 0 1 1 1 1 1 0 0 1 0 0]\n",
      "[0 0 0 0 0 0 0 0 0 0 0 0 0 0 0 0 0 0 0 0 0 0 0 0 1 1 1 0 1 0 0 1 0 1 0 0 0\n",
      " 0 0 1 0 0 1 0 1 1 1 1 0 1 0 0 1 0 0 0 0 0 0 0]\n",
      "[0 0 0 0 0 0 1 0 0 1 1 1 0 1 0 1 0 0 0 0 0 1 0 0 1 0 0 1 1 0 0 1 1 0 1 0 1\n",
      " 0 1 1 0 0 0 0 1 1 1 0 0 0 0 0 1 1 0 0 0 0 0 0]\n",
      "[0 0 0 0 0 0 0 0 0 0 0 0 0 0 0 0 0 0 0 0 0 0 0 0 0 0 0 0 0 0 0 0 0 1 0 0 0\n",
      " 1 0 1 0 0 0 0 0 0 0 0 0 1 1 1 1 1 1 1 1 1 1 0 0 0 0 1 0 0 1 0 0]\n",
      "[0 0 0 0 1 0 0 0 0 0 0 1 0 0 0 0 0 0 0 1 1 0 0 0 0 0 1 0 1 1 0 1 0 1 0 0 0\n",
      " 0 0 1 0 0 0 0 0 1 0 1 0 1 1 1 1 1 0 0 1 0 0 1 0 0 1 1 0 0 1 0 0]\n",
      "[0 0 0 0 0 0 0 0 0 0 0 0 0 0 0 0 0 0 0 0 0 0 0 0 0 0 0 0 0 0 0 1 1 0 1 1 1\n",
      " 1 1 0 0 0 0 0 0 1 0 0 1 0 0 0 1 1 1 0 0 0 1 1 0 0 1 0 0 0 0 0 0]\n",
      "[0 0 1 0 0 0 0 1 0 0 0 0 0 1 1 0 0 1 1 0 0 0 1 0 0 1 0 1 1 0 0 1 1 1 1 1 1\n",
      " 0 1 0 0 1 1 1 0 1 0 1 1 1 1 0 1 1 1 0 0 1 1 0 1 0 1 1 0 0 0 0 1]\n",
      "[0 0 0 0 0 0 0 0 0 0 0 0 0 0 0 0 0 0 0 0 0 0 0 0 0 0 0 0 0 0 1 0 1 1 1 0 0\n",
      " 0 0 1 0 0 1 1 0 0 0 0 0 0 0 0 0 1 1 1 1 0 1 1 0 0 1 0 0 0 0 0]\n",
      "[0 0 0 0 1 0 0 0 1 1 0 0 0 0 0 0 0 0 0 0 0 0 0 0 0 0 0 1 0 0 0 0 0 0 1 1 0\n",
      " 0 0 1 0 0 1 1 0 0 1 0 0 0 0 0 0 1 0 1 1 1 1 0 1 0 0 0 1 0 0 0]\n"
     ]
    },
    {
     "name": "stderr",
     "output_type": "stream",
     "text": [
      "100%|██████████| 3/3 [06:06<00:00, 122.26s/it]"
     ]
    },
    {
     "name": "stdout",
     "output_type": "stream",
     "text": [
      "[0 0 0 0 0 0 0 0 0 0 0 0 0 0 0 0 0 0 0 0 0 0 0 0 0 0 0 0 0 0 0 1 0 0 0 1 0\n",
      " 1 0 0 0 0 0 0 0 0 0 0 1 1 1 1 1 1 1 1 1 1 0 0 0 1 0 0 0 1 0 0]\n",
      "[0 0 0 0 0 0 0 0 0 0 1 0 0 0 1 0 0 0 0 1 0 0 1 0 1 0 1 0 0 0 0 1 1 0 0 1 0\n",
      " 1 0 0 0 1 0 0 0 0 0 0 1 1 1 1 1 0 0 1 1 0 0 0 1 1 0 0 1 1 0 0]\n",
      "[0 0 0 0 0 0 0 0 0 0 0 0 0 0 0 0 0 0 0 0 0 0 0 0 0 0 0 0 0 1 1 0 0 0 1 0 0\n",
      " 1 1 1 1 1 0 0 0 0 0 0 0 1 0 1 1 0 1 0 0 0 1 0 0 1 0 0 0 0 0]\n",
      "[1 0 0 0 0 0 0 1 0 0 1 0 0 0 0 0 1 1 0 1 0 0 0 0 1 0 0 0 1 1 1 0 0 0 1 0 0\n",
      " 1 1 1 0 1 0 0 1 1 0 0 0 1 1 1 1 0 1 0 1 1 0 0 1 1 0 0 0 0 1]\n",
      "[0 0 0 0 0 0 0 0 0 0 0 0 0 0 0 0 0 0 0 0 0 0 0 0 0 0 0 0 0 0 0 0 1 1 1 1 0\n",
      " 0 1 1 1 0 0 0 0 0 0 0 0 1 1 1 1 0 1 0 1 0 1 0 1 0 0 0 0 0 0]\n",
      "[0 1 0 0 0 1 0 0 0 0 0 0 1 0 0 0 1 0 0 0 1 0 0 0 1 0 0 0 1 1 0 0 1 0 1 1 0\n",
      " 0 1 0 0 0 1 0 1 0 1 0 1 1 1 1 1 1 1 0 0 1 1 0 0 0 1 0 0 0 0]\n"
     ]
    },
    {
     "name": "stderr",
     "output_type": "stream",
     "text": [
      "\n"
     ]
    }
   ],
   "source": [
    "repeats = 3\n",
    "\n",
    "best_scores = []\n",
    "best_channels = []\n",
    "\n",
    "optimal_probs = []\n",
    "\n",
    "\n",
    "#nan_indices_list = []\n",
    "av_thresholds_list = []\n",
    "\n",
    "scores_dict_list = []\n",
    "\n",
    "\n",
    "for j in tqdm(range(repeats)):\n",
    "\n",
    "    ptb_binary_SVM.run()\n",
    "\n",
    "    input_data = ptb_binary_SVM.input_data\n",
    "    labels = ptb_binary_SVM.labels\n",
    "    \n",
    "    metrics = {}\n",
    "    \n",
    "    probs_list = []\n",
    "    thresholds_list = []\n",
    "\n",
    "    for i in range(6):\n",
    "        labels_encoded = np.array([0 if label == 'Unhealthy' else 1 for label in labels[i]])\n",
    "\n",
    "        #define classifier\n",
    "        svc = SVC(class_weight='balanced', probability = True)\n",
    "\n",
    "        #find the best set of hyperparameters for each channel, tuned on the desired scoring function\n",
    "        best_svc = tune_hyperparams(input_data[i], labels_encoded, param_grid, svc, scorer='roc_auc')\n",
    "\n",
    "        #perform 3 way skfold to get scores for each channel as well as their probabilities\n",
    "        n_splits = 3\n",
    "        all_score_metrics, thresholds, probabilities, y_tests, test_indices = perform_skfold(input_data[i], labels_encoded, n_splits, best_svc, get_probabilities=True)\n",
    "\n",
    "        #monitoring scores for each channel\n",
    "        metrics[i] = all_score_metrics\n",
    "\n",
    "        #calculating average threshold from all splits\n",
    "        threshold = np.mean(thresholds)\n",
    "\n",
    "        #reconstructing calculated probabilities so can optimise over all channels\n",
    "        reconstructed_probs = reconstruct_probs(probabilities, test_indices, ptb_binary_SVM.nan_indices[i], ptb_binary_SVM.allowed_patients.count_patients(), n_splits)\n",
    "\n",
    "\n",
    "        #need for ROC curve and confusion matrix later\n",
    "        probs_list.append(reconstructed_probs)\n",
    "        thresholds_list.append(threshold)\n",
    "\n",
    "    \n",
    "\n",
    "\n",
    "    #for averaging \n",
    "    scores_dict_list.append(metrics)\n",
    "\n",
    "    #optimising over channels\n",
    "    av_threshold = np.mean(thresholds_list)\n",
    "    best_score, best_channel_indices = optimise_score_over_channels(probs_list, av_threshold, ptb_binary_SVM.health_state)\n",
    "\n",
    "    best_scores.append(best_score)\n",
    "    best_channels.append(best_channel_indices)\n",
    "\n",
    "\n",
    "    #calculating optimal probability\n",
    "    best_prob = average_probabilities(probs_list, best_channel_indices)\n",
    "    optimal_probs.append(best_prob)\n",
    "    av_thresholds_list.append(av_threshold)\n"
   ]
  },
  {
   "cell_type": "markdown",
   "metadata": {},
   "source": [
    "## Averaged Channel Scores"
   ]
  },
  {
   "cell_type": "code",
   "execution_count": 13,
   "metadata": {},
   "outputs": [
    {
     "name": "stdout",
     "output_type": "stream",
     "text": [
      "Channel 1:\n",
      "  F1 score: 0.75 ± 0.02\n",
      "  Objective score: nan ± nan\n",
      "  Bal Acc: 0.72 ± 0.02\n",
      "  Accuracy: 0.73 ± 0.02\n",
      "  precision: 0.79 ± 0.01\n",
      "  recall: 0.73 ± 0.02\n",
      "\n",
      "Channel 2:\n",
      "  F1 score: 0.73 ± 0.02\n",
      "  Objective score: nan ± nan\n",
      "  Bal Acc: 0.72 ± 0.04\n",
      "  Accuracy: 0.71 ± 0.02\n",
      "  precision: 0.80 ± 0.03\n",
      "  recall: 0.71 ± 0.02\n",
      "\n",
      "Channel 3:\n",
      "  F1 score: 0.72 ± 0.01\n",
      "  Objective score: nan ± nan\n",
      "  Bal Acc: 0.73 ± 0.01\n",
      "  Accuracy: 0.69 ± 0.01\n",
      "  precision: 0.81 ± 0.00\n",
      "  recall: 0.69 ± 0.01\n",
      "\n",
      "Channel 4:\n",
      "  F1 score: 0.66 ± 0.03\n",
      "  Objective score: nan ± nan\n",
      "  Bal Acc: 0.65 ± 0.01\n",
      "  Accuracy: 0.64 ± 0.03\n",
      "  precision: 0.75 ± 0.01\n",
      "  recall: 0.64 ± 0.03\n",
      "\n",
      "Channel 5:\n",
      "  F1 score: 0.73 ± 0.05\n",
      "  Objective score: nan ± nan\n",
      "  Bal Acc: 0.70 ± 0.04\n",
      "  Accuracy: 0.71 ± 0.05\n",
      "  precision: 0.79 ± 0.02\n",
      "  recall: 0.71 ± 0.05\n",
      "\n",
      "Channel 6:\n",
      "  F1 score: 0.77 ± 0.00\n",
      "  Objective score: nan ± nan\n",
      "  Bal Acc: 0.74 ± 0.02\n",
      "  Accuracy: 0.75 ± 0.00\n",
      "  precision: 0.81 ± 0.01\n",
      "  recall: 0.75 ± 0.00\n",
      "\n"
     ]
    }
   ],
   "source": [
    "# averaging each iteration for each channel\n",
    "averaged_scores = {}\n",
    "\n",
    "# iterate over each channel\n",
    "for channel in scores_dict_list[0].keys():\n",
    "    averaged_scores[channel] = {}\n",
    "    for metric in scores_dict_list[0][channel].keys():\n",
    "        # calculate the average of the current metric for the current channel\n",
    "        values = [score[channel][metric] for score in scores_dict_list]\n",
    "        mean_value = np.mean(values)\n",
    "        std_value = np.std(values)\n",
    "        averaged_scores[channel][metric] = (mean_value, std_value)\n",
    "\n",
    "for channel, scores in averaged_scores.items():\n",
    "    print(f'Channel {channel + 1}:')\n",
    "    for metric, (mean_value, std_value) in scores.items():\n",
    "        print(f'  {metric}: {mean_value:.2f} ± {std_value:.2f}')\n",
    "    print()\n"
   ]
  },
  {
   "cell_type": "markdown",
   "metadata": {},
   "source": [
    "## Optimised Channel Scores"
   ]
  },
  {
   "cell_type": "code",
   "execution_count": 14,
   "metadata": {},
   "outputs": [
    {
     "name": "stdout",
     "output_type": "stream",
     "text": [
      "0.5917600983113798\n",
      "0.008276987871275888\n",
      "[[0, 1, 2, 4, 5], [0, 1, 2, 3, 4, 5], [0, 1, 3, 4, 5]]\n"
     ]
    }
   ],
   "source": [
    "print(np.mean(best_scores))\n",
    "print(np.std(best_scores))\n",
    "\n",
    "print(best_channels)"
   ]
  },
  {
   "cell_type": "markdown",
   "metadata": {},
   "source": [
    "## Classification Report for best"
   ]
  },
  {
   "cell_type": "code",
   "execution_count": 15,
   "metadata": {},
   "outputs": [
    {
     "name": "stdout",
     "output_type": "stream",
     "text": [
      "              precision    recall  f1-score   support\n",
      "\n",
      "           0       0.93      0.80      0.86       175\n",
      "           1       0.50      0.76      0.60        46\n",
      "\n",
      "    accuracy                           0.79       221\n",
      "   macro avg       0.71      0.78      0.73       221\n",
      "weighted avg       0.84      0.79      0.81       221\n",
      "\n",
      "              precision    recall  f1-score   support\n",
      "\n",
      "           0       0.95      0.72      0.82       175\n",
      "           1       0.44      0.85      0.58        46\n",
      "\n",
      "    accuracy                           0.75       221\n",
      "   macro avg       0.70      0.78      0.70       221\n",
      "weighted avg       0.84      0.75      0.77       221\n",
      "\n",
      "              precision    recall  f1-score   support\n",
      "\n",
      "           0       0.93      0.76      0.84       175\n",
      "           1       0.46      0.78      0.58        46\n",
      "\n",
      "    accuracy                           0.76       221\n",
      "   macro avg       0.70      0.77      0.71       221\n",
      "weighted avg       0.83      0.76      0.78       221\n",
      "\n"
     ]
    }
   ],
   "source": [
    "for i in range(repeats):\n",
    "    nan_indices = np.isnan(optimal_probs[i])\n",
    "\n",
    "    health_state = ptb_binary_SVM.health_state\n",
    "    encoded_health_state = np.array([0 if label == 'Unhealthy' else 1 for label in health_state])\n",
    "\n",
    "    y_pred = (optimal_probs[i] > threshold).astype(int)\n",
    "\n",
    "    print(classification_report(encoded_health_state[~nan_indices], y_pred[~nan_indices]))"
   ]
  },
  {
   "cell_type": "markdown",
   "metadata": {},
   "source": [
    "## ROC CURVE"
   ]
  },
  {
   "cell_type": "code",
   "execution_count": 16,
   "metadata": {},
   "outputs": [],
   "source": [
    "average_tprs = []\n",
    "average_aucs = []\n",
    "\n",
    "for i in range(repeats):\n",
    "\n",
    "    #first need to find nan values in each optimised prob\n",
    "    nan_indices = np.isnan(optimal_probs[i])\n",
    "\n",
    "    probs_for_roc = optimal_probs[i][~nan_indices]\n",
    "    y_test = health_state[~nan_indices]\n",
    "    \n",
    "\n",
    "    # computing ROC params\n",
    "    fpr, tpr, _ = roc_curve(y_test, probs_for_roc, pos_label='Healthy')\n",
    "\n",
    "\n",
    "    #need to interpolate everything so they are the desired length\n",
    "    mean_fpr = np.linspace(0, 1, 230)#put max length of array in here in a sec\n",
    "\n",
    "    interp_tpr = np.interp(mean_fpr, fpr, tpr)\n",
    "\n",
    "\n",
    "    roc_auc = auc(mean_fpr, interp_tpr)\n",
    "\n",
    "    average_tprs.append(interp_tpr)\n",
    "    average_aucs.append(roc_auc)\n",
    "\n",
    "mean_tpr = np.mean(average_tprs, axis = 0)\n",
    "std_tpr = np.std(average_tprs, axis=0)\n",
    "\n",
    "mean_auc = auc(mean_fpr, mean_tpr)\n",
    "std_auc = np.std(average_aucs)\n",
    "\n"
   ]
  },
  {
   "cell_type": "code",
   "execution_count": 20,
   "metadata": {},
   "outputs": [
    {
     "data": {
      "image/png": "[encoded data removed]",
      "text/plain": [
       "<Figure size 640x480 with 1 Axes>"
      ]
     },
     "metadata": {},
     "output_type": "display_data"
    }
   ],
   "source": [
    "# plotting average ROC curve for all iterations\n",
    "plt.figure()\n",
    "\n",
    "plt.rcParams.update({'font.size': 14})\n",
    "plt.plot(mean_fpr, mean_tpr, color='darkorange', label=r'Mean ROC (AUC = %0.2f $\\pm$ %0.2f)' % (mean_auc, std_auc), lw=2, alpha=.8)\n",
    "plt.fill_between(mean_fpr, mean_tpr - std_tpr, mean_tpr + std_tpr, color='darkorange', alpha=.2, label=r'$\\pm$ 1 std. dev.')\n",
    "plt.plot([0, 1], [0, 1], linestyle='--', lw=2, color='black', alpha=.8)\n",
    "plt.xlim([0.0, 1.0])\n",
    "plt.ylim([0.0, 1.0])\n",
    "plt.xlabel('False Positive Rate')\n",
    "plt.ylabel('True Positive Rate')\n",
    "plt.title(f'Receiver Operating Characteristic (ROC) Curve, {repeats} repeats')\n",
    "plt.legend(loc=\"lower right\")\n",
    "plt.savefig('figures\\\\ROC_curve.png', bbox_inches='tight')\n",
    "plt.show()"
   ]
  },
  {
   "cell_type": "markdown",
   "metadata": {},
   "source": [
    "## Confusion Matrix"
   ]
  },
  {
   "cell_type": "code",
   "execution_count": 4,
   "metadata": {},
   "outputs": [
    {
     "ename": "NameError",
     "evalue": "name 'repeats' is not defined",
     "output_type": "error",
     "traceback": [
      "\u001b[1;31m---------------------------------------------------------------------------\u001b[0m",
      "\u001b[1;31mNameError\u001b[0m                                 Traceback (most recent call last)",
      "Input \u001b[1;32mIn [4]\u001b[0m, in \u001b[0;36m<cell line: 6>\u001b[1;34m()\u001b[0m\n\u001b[0;32m      4\u001b[0m confusion_matrix_list \u001b[38;5;241m=\u001b[39m []\n\u001b[0;32m      5\u001b[0m y_tests_combined_list \u001b[38;5;241m=\u001b[39m []\n\u001b[1;32m----> 6\u001b[0m \u001b[38;5;28;01mfor\u001b[39;00m j \u001b[38;5;129;01min\u001b[39;00m \u001b[38;5;28mrange\u001b[39m(\u001b[43mrepeats\u001b[49m):\n\u001b[0;32m      7\u001b[0m     \u001b[38;5;66;03m#first need to find nan values in each optimised prob\u001b[39;00m\n\u001b[0;32m      8\u001b[0m     nan_indices \u001b[38;5;241m=\u001b[39m np\u001b[38;5;241m.\u001b[39misnan(optimal_probs[j])\n\u001b[0;32m     11\u001b[0m     encoded_health_state \u001b[38;5;241m=\u001b[39m np\u001b[38;5;241m.\u001b[39marray([\u001b[38;5;241m0\u001b[39m \u001b[38;5;28;01mif\u001b[39;00m label \u001b[38;5;241m==\u001b[39m \u001b[38;5;124m'\u001b[39m\u001b[38;5;124mUnhealthy\u001b[39m\u001b[38;5;124m'\u001b[39m \u001b[38;5;28;01melse\u001b[39;00m \u001b[38;5;241m1\u001b[39m \u001b[38;5;28;01mfor\u001b[39;00m label \u001b[38;5;129;01min\u001b[39;00m health_state])\n",
      "\u001b[1;31mNameError\u001b[0m: name 'repeats' is not defined"
     ]
    }
   ],
   "source": [
    "manual_y_preds = []\n",
    "confusion_matrix_list = []\n",
    "y_tests_combined_list = []\n",
    "for j in range(repeats):\n",
    "    #first need to find nan values in each optimised prob\n",
    "    nan_indices = np.isnan(optimal_probs[j])\n",
    "\n",
    "    \n",
    "    encoded_health_state = np.array([0 if label == 'Unhealthy' else 1 for label in health_state])\n",
    "    y_test = encoded_health_state[~nan_indices]\n",
    "\n",
    "    y_pred = (optimal_probs[j] > threshold).astype(int)#will be threshold[j] when do repeats\n",
    "\n",
    "    confusion_matrix_list.append(confusion_matrix(y_test, y_pred[~nan_indices]))\n",
    "\n",
    "print(confusion_matrix_list)\n",
    "average_confusion_matrix = np.mean(confusion_matrix_list, axis=0)\n",
    "print(average_confusion_matrix)\n",
    "\n",
    "# Calculate the variance and standard deviation\n",
    "cm_variance = np.zeros((2, 2), dtype=float)\n",
    "for cm in confusion_matrix_list:\n",
    "    cm_variance += (cm - average_confusion_matrix) ** 2\n",
    "\n",
    "cm_variance /= repeats\n",
    "cm_std_dev = np.sqrt(cm_variance)\n",
    "\n",
    "# rounding to integers\n",
    "cm_avg_rounded = np.round(average_confusion_matrix).astype(int)\n",
    "cm_std_dev_rounded = np.round(cm_std_dev).astype(int)\n"
   ]
  },
  {
   "cell_type": "code",
   "execution_count": 6,
   "metadata": {},
   "outputs": [
    {
     "data": {
      "image/png": "[encoded data removed]",
      "text/plain": [
       "<Figure size 800x600 with 2 Axes>"
      ]
     },
     "metadata": {},
     "output_type": "display_data"
    }
   ],
   "source": [
    "\n",
    "# create heatmap\n",
    "plt.figure(figsize=(8, 6))\n",
    "plt.rcParams.update({'font.size': 14})\n",
    "ax = sns.heatmap(average_confusion_matrix, annot=False, cmap='Blues', xticklabels=['Unhealthy', 'Healthy'], yticklabels=['Unhealthy', 'Healthy'])\n",
    "\n",
    "# add both average values and standard deviation labels\n",
    "for i in range(average_confusion_matrix.shape[0]):\n",
    "    for j in range(average_confusion_matrix.shape[1]):\n",
    "        plt.text(j + 0.5, i + 0.5, f'{cm_avg_rounded[i, j]}\\n±{cm_std_devs_rounded[i, j]}', \n",
    "                 ha='center', va='center', color='black')\n",
    "\n",
    "plt.xlabel('Predicted Label')\n",
    "plt.ylabel('True Label')\n",
    "plt.title('Average Confusion Matrix with Standard Deviation')\n",
    "plt.savefig('figures\\\\confusion_matrix.png', bbox_inches='tight')\n",
    "plt.show()"
   ]
  },
  {
   "cell_type": "code",
   "execution_count": 25,
   "metadata": {},
   "outputs": [
    {
     "data": {
      "image/png": "[encoded data removed]",
      "text/plain": [
       "<Figure size 1000x600 with 1 Axes>"
      ]
     },
     "metadata": {},
     "output_type": "display_data"
    }
   ],
   "source": [
    "from collections import Counter\n",
    "\n",
    "\n",
    "#flattening list of lists\n",
    "flattened_list = [number for sublist in best_channels for number in sublist]\n",
    "\n",
    "# count occurrences of each number\n",
    "counted_numbers = Counter(flattened_list)\n",
    "\n",
    "# sorting for order\n",
    "sorted_numbers = sorted(counted_numbers.keys())\n",
    "counts = [counted_numbers[number] for number in sorted_numbers]\n",
    "\n",
    "#bar chart of results\n",
    "fig, ax = plt.subplots(figsize=(10, 6))\n",
    "\n",
    "ax.bar(sorted_numbers, counts, color='skyblue')\n",
    "\n",
    "\n",
    "ax.set_xlabel('Channels')\n",
    "ax.set_ylabel('Frequency')\n",
    "ax.set_title('Frequency of Channels Used')\n",
    "ax.set_xticks(sorted_numbers)\n",
    "ax.set_xticklabels(counted_numbers.keys())\n",
    "\n",
    "plt.tight_layout()\n",
    "plt.savefig('figures\\\\number_frequency_bar_chart.png', bbox_inches='tight')\n",
    "plt.show()"
   ]
  },
  {
   "cell_type": "markdown",
   "metadata": {},
   "source": [
    "## Different filters:"
   ]
  },
  {
   "cell_type": "code",
   "execution_count": 27,
   "metadata": {},
   "outputs": [
    {
     "name": "stdout",
     "output_type": "stream",
     "text": [
      "Filtering Database\n"
     ]
    },
    {
     "name": "stderr",
     "output_type": "stream",
     "text": [
      "100%|██████████| 549/549 [00:51<00:00, 10.75it/s]\n",
      "100%|██████████| 221/221 [00:00<00:00, 400.51it/s]\n"
     ]
    },
    {
     "name": "stdout",
     "output_type": "stream",
     "text": [
      "calculating time domain parameters\n",
      "calculating frequency domain parameters\n",
      "calculating non linear domain parameters\n",
      "selecting 4 most important features\n",
      "Selected features for channel 1:\n",
      "['rr_amps', 'sd1', 'sd2', 'age']\n",
      "Selected features for channel 2:\n",
      "['rr_std', 'rr_amps', 'power_ratio', 'age']\n",
      "Selected features for channel 3:\n",
      "['rr_amps', 'hf', 'lf', 'age']\n",
      "Selected features for channel 4:\n",
      "['rr_std', 'skews', 'sd2', 'age']\n",
      "Selected features for channel 5:\n",
      "['rr_amps', 'shannon_en', 'sd_ratio', 'sd2']\n",
      "Selected features for channel 6:\n",
      "['rr_std', 'shannon_en', 'sd2', 'age']\n"
     ]
    }
   ],
   "source": [
    "different_denoise_methods = ['butterworth', 'DWT', None]\n",
    "\n",
    "best_scores = []\n",
    "best_channels = []\n",
    "\n",
    "optimal_probs = []\n",
    "\n",
    "\n",
    "#nan_indices_list = []\n",
    "av_thresholds_list = []\n",
    "\n",
    "scores_dict_list = []\n",
    "\n",
    "\n",
    "for method in different_denoise_methods:\n",
    "    #creating DATA object\n",
    "    ptb_binary_SVM = Data(database = 'ptbdb', denoise_method=method, estimation_method = 'SVM', train_splits=None, binary = True, parameterisation = True)\n",
    "\n",
    "    ptb_binary_SVM.run()\n",
    "\n",
    "    input_data = ptb_binary_SVM.input_data\n",
    "    labels = ptb_binary_SVM.labels\n",
    "    \n",
    "    metrics = {}\n",
    "    \n",
    "    probs_list = []\n",
    "    thresholds_list = []\n",
    "\n",
    "    for i in range(6):\n",
    "        labels_encoded = np.array([0 if label == 'Unhealthy' else 1 for label in labels[i]])\n",
    "\n",
    "        #define classifier\n",
    "        svc = SVC(class_weight='balanced', probability = True)\n",
    "\n",
    "        #find the best set of hyperparameters for each channel, tuned on the desired scoring function\n",
    "        best_svc = tune_hyperparams(input_data[i], labels_encoded, param_grid, svc, scorer='roc_auc')\n",
    "\n",
    "        #perform 3 way skfold to get scores for each channel as well as their probabilities\n",
    "        n_splits = 3\n",
    "        all_score_metrics, thresholds, probabilities, y_tests, test_indices = perform_skfold(input_data[i], labels_encoded, n_splits, best_svc, get_probabilities=True)\n",
    "\n",
    "        #monitoring scores for each channel\n",
    "        metrics[i] = all_score_metrics\n",
    "\n",
    "        #calculating average threshold from all splits\n",
    "        threshold = np.mean(thresholds)\n",
    "\n",
    "        #reconstructing calculated probabilities so can optimise over all channels\n",
    "        reconstructed_probs = reconstruct_probs(probabilities, test_indices, ptb_binary_SVM.nan_indices[i], ptb_binary_SVM.allowed_patients.count_patients(), n_splits)\n",
    "\n",
    "\n",
    "        #need for ROC curve and confusion matrix later\n",
    "        probs_list.append(reconstructed_probs)\n",
    "        thresholds_list.append(threshold)\n",
    "\n",
    "    \n",
    "\n",
    "\n",
    "    #for averaging \n",
    "    scores_dict_list.append(metrics)\n",
    "\n",
    "    #optimising over channels\n",
    "    av_threshold = np.mean(thresholds_list)\n",
    "    best_score, best_channel_indices = optimise_score_over_channels(probs_list, av_threshold, ptb_binary_SVM.health_state)#should put in here ability to input different score metrics\n",
    "\n",
    "    best_scores.append(best_score)\n",
    "    best_channels.append(best_channel_indices)\n",
    "\n",
    "\n",
    "    #calculating optimal probability\n",
    "    best_prob = average_probabilities(probs_list, best_channel_indices)\n",
    "    optimal_probs.append(best_prob)\n",
    "    av_thresholds_list.append(av_threshold)\n"
   ]
  },
  {
   "cell_type": "code",
   "execution_count": 28,
   "metadata": {},
   "outputs": [
    {
     "name": "stdout",
     "output_type": "stream",
     "text": [
      "              precision    recall  f1-score   support\n",
      "\n",
      "           0       0.95      0.81      0.87       175\n",
      "           1       0.53      0.83      0.64        46\n",
      "\n",
      "    accuracy                           0.81       221\n",
      "   macro avg       0.74      0.82      0.76       221\n",
      "weighted avg       0.86      0.81      0.82       221\n",
      "\n"
     ]
    }
   ],
   "source": [
    "from sklearn.metrics import classification_report\n",
    "for i in range(len(different_denoise_methods)):\n",
    "    nan_indices = np.isnan(optimal_probs[i])\n",
    "\n",
    "    health_state = ptb_binary_SVM.health_state\n",
    "    encoded_health_state = np.array([0 if label == 'Unhealthy' else 1 for label in health_state])\n",
    "\n",
    "    y_pred = (optimal_probs[i] > threshold).astype(int)\n",
    "\n",
    "    print(classification_report(encoded_health_state[~nan_indices], y_pred[~nan_indices]))"
   ]
  }
 ],
 "metadata": {
  "kernelspec": {
   "display_name": "ECG-project",
   "language": "python",
   "name": "python3"
  },
  "language_info": {
   "codemirror_mode": {
    "name": "ipython",
    "version": 3
   },
   "file_extension": ".py",
   "mimetype": "text/x-python",
   "name": "python",
   "nbconvert_exporter": "python",
   "pygments_lexer": "ipython3",
   "version": "3.10.13"
  }
 },
 "nbformat": 4,
 "nbformat_minor": 2
}
