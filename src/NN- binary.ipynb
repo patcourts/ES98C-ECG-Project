{
 "cells": [
  {
   "cell_type": "markdown",
   "metadata": {},
   "source": [
    "This notebook exists to show the method used to find a 1D CNN that worked for this problem as well as providing an easy place to produce figures for the report. I started off using only one channel for simplicity however the resulting model was not learning enough to get over the problems caused by a skewed database, even when I weighted the classes accordingly. I belived I needed more data or that the model I was using was too big, (too many paramters). So I then looked into adding augmented data into the training set, through mirroring, scaling and shifting as well as reducing the size of the model through its hyperparameters. However this was still not enough. I then thought I might aswell chuck all the data I have at it so combined all 6 channels into one long array and used that. This lead to a model with much better performance!!!!\n",
    "\n",
    "Most of the hyperparameters used here have been tuned mainly through trial and error."
   ]
  },
  {
   "cell_type": "code",
   "execution_count": 1,
   "metadata": {},
   "outputs": [],
   "source": [
    "from database.data import Data\n",
    "from binary_NN import get_data_CNN, convert_data_to_CNN_format, make_model, train_model, get_split_data\n",
    "\n",
    "#used to encoded strings to binary \n",
    "from sklearn.preprocessing import LabelEncoder\n",
    "\n",
    "#used for cnn\n",
    "from tensorflow.keras.models import Sequential\n",
    "from tensorflow.keras.layers import Conv1D, BatchNormalization, Activation, MaxPooling1D, Flatten, Dense, Dropout\n",
    "from tensorflow.keras.optimizers import Adam\n",
    "\n",
    "#used for class weighting\n",
    "from sklearn.utils import class_weight\n",
    "\n",
    "import numpy as np"
   ]
  },
  {
   "cell_type": "code",
   "execution_count": 2,
   "metadata": {},
   "outputs": [
    {
     "name": "stdout",
     "output_type": "stream",
     "text": [
      "Filtering Database\n"
     ]
    },
    {
     "name": "stderr",
     "output_type": "stream",
     "text": [
      "100%|██████████| 549/549 [00:58<00:00,  9.46it/s]\n",
      "100%|██████████| 221/221 [00:01<00:00, 124.89it/s]\n"
     ]
    },
    {
     "name": "stdout",
     "output_type": "stream",
     "text": [
      "splitting data into test and train\n"
     ]
    }
   ],
   "source": [
    "#defining train split ratio\n",
    "train_splits = {}\n",
    "train_splits['train'] = 0.7\n",
    "train_splits['test'] = 0.3\n",
    "\n",
    "#creating DATA object\n",
    "ptb_binary_NN = Data(database = 'ptbdb', denoise_method=None, estimation_method = 'NN', train_splits=train_splits, binary = True, parameterisation = False)\n",
    "\n",
    "#running preprocessing\n",
    "ptb_binary_NN.run()"
   ]
  },
  {
   "cell_type": "code",
   "execution_count": 3,
   "metadata": {},
   "outputs": [],
   "source": [
    "#just using 1 channel for now (0)\n",
    "X_train = ptb_binary_NN.split_data[0]['X_train']\n",
    "y_train = ptb_binary_NN.split_data[0]['y_train']\n",
    "\n",
    "X_test = ptb_binary_NN.split_data[0]['X_test']\n",
    "y_test = ptb_binary_NN.split_data[0]['y_test']"
   ]
  },
  {
   "cell_type": "code",
   "execution_count": 4,
   "metadata": {},
   "outputs": [],
   "source": [
    "#as data set is small we can augment new data types, i.e. shift/mirror\n",
    "\n",
    "def time_shift(data, shift_max=50):\n",
    "    shift = np.random.randint(-shift_max, shift_max)\n",
    "    augmented_data = np.roll(data, shift)\n",
    "    return augmented_data\n",
    "\n",
    "def scale_data(data, scale_factor=0.1):\n",
    "    scale = np.random.uniform(1 - scale_factor, 1 + scale_factor)\n",
    "    augmented_data = data * scale\n",
    "    return augmented_data\n",
    "\n",
    "def augment_data(data):\n",
    "    augmented_data = []\n",
    "    for signal in data:\n",
    "        augmented_data.append(signal)\n",
    "        augmented_data.append(time_shift(signal))\n",
    "        augmented_data.append(scale_data(signal))\n",
    "    return np.array(augmented_data)"
   ]
  },
  {
   "cell_type": "code",
   "execution_count": 5,
   "metadata": {},
   "outputs": [],
   "source": [
    "X_train_aug = augment_data(X_train)\n",
    "X_test_aug = augment_data(X_test)\n",
    "\n",
    "#need to increase the size of the corresponding class data \n",
    "y_train_aug = np.tile(y_train, 3)\n",
    "y_test_aug = np.tile(y_test, 3)"
   ]
  },
  {
   "cell_type": "code",
   "execution_count": 6,
   "metadata": {},
   "outputs": [],
   "source": [
    "# NN needs encoded labels (1s and 0s) to perform comparissons and calculate probabilities \n",
    "# label_encoder = LabelEncoder()\n",
    "# y_train_encoded = label_encoder.fit_transform(y_train_aug)\n",
    "# y_test_encoded = label_encoder.transform(y_test_aug)\n",
    "\n",
    "y_train_encoded = [0 if label == 'Unhealthy' else 1 for label in y_train_aug]\n",
    "y_test_encoded = [0 if label == 'Unhealthy' else 1 for label in y_test_aug]"
   ]
  },
  {
   "cell_type": "code",
   "execution_count": 7,
   "metadata": {},
   "outputs": [],
   "source": [
    "#CNN needs to know number of features per sample, i.e. 1D\n",
    "X_train_cnn = np.expand_dims(X_train_aug, axis=-1) \n",
    "y_train_cnn = np.expand_dims(y_train_encoded, axis=-1) \n",
    "X_test_cnn = np.expand_dims(X_test_aug, axis=-1) \n",
    "y_test_cnn = np.expand_dims(y_test_encoded, axis=-1) "
   ]
  },
  {
   "cell_type": "code",
   "execution_count": 8,
   "metadata": {},
   "outputs": [
    {
     "name": "stdout",
     "output_type": "stream",
     "text": [
      "(411, 60000, 1)\n",
      "(177, 60000, 1)\n",
      "(177, 1)\n",
      "[39]\n"
     ]
    }
   ],
   "source": [
    "#shows shape of arrays and also can see the skewed classes\n",
    "print(X_train_cnn.shape)\n",
    "print(X_test_cnn.shape)\n",
    "print(y_test_cnn.shape)\n",
    "\n",
    "\n",
    "print(sum(y_test_cnn))"
   ]
  },
  {
   "cell_type": "code",
   "execution_count": 9,
   "metadata": {},
   "outputs": [
    {
     "name": "stdout",
     "output_type": "stream",
     "text": [
      "Class Weights: {0: 0.6462264150943396, 1: 2.2096774193548385}\n"
     ]
    }
   ],
   "source": [
    "#finding class weight due to inbalanced class system\n",
    "class_weights = class_weight.compute_class_weight('balanced', classes=np.unique(y_train_encoded), y=y_train_encoded)\n",
    "class_weights_dict = {i: class_weights[i] for i in range(len(class_weights))}\n",
    "\n",
    "print(\"Class Weights:\", class_weights_dict)"
   ]
  },
  {
   "cell_type": "code",
   "execution_count": 10,
   "metadata": {},
   "outputs": [
    {
     "name": "stderr",
     "output_type": "stream",
     "text": [
      "c:\\Users\\court\\Documents\\anaconda\\envs\\ECG-project\\lib\\site-packages\\keras\\src\\layers\\convolutional\\base_conv.py:107: UserWarning: Do not pass an `input_shape`/`input_dim` argument to a layer. When using Sequential models, prefer using an `Input(shape)` object as the first layer in the model instead.\n",
      "  super().__init__(activity_regularizer=activity_regularizer, **kwargs)\n"
     ]
    },
    {
     "data": {
      "text/html": [
       "<pre style=\"white-space:pre;overflow-x:auto;line-height:normal;font-family:Menlo,'DejaVu Sans Mono',consolas,'Courier New',monospace\"><span style=\"font-weight: bold\">Model: \"sequential\"</span>\n",
       "</pre>\n"
      ],
      "text/plain": [
       "\u001b[1mModel: \"sequential\"\u001b[0m\n"
      ]
     },
     "metadata": {},
     "output_type": "display_data"
    },
    {
     "data": {
      "text/html": [
       "<pre style=\"white-space:pre;overflow-x:auto;line-height:normal;font-family:Menlo,'DejaVu Sans Mono',consolas,'Courier New',monospace\">┏━━━━━━━━━━━━━━━━━━━━━━━━━━━━━━━━━┳━━━━━━━━━━━━━━━━━━━━━━━━┳━━━━━━━━━━━━━━━┓\n",
       "┃<span style=\"font-weight: bold\"> Layer (type)                    </span>┃<span style=\"font-weight: bold\"> Output Shape           </span>┃<span style=\"font-weight: bold\">       Param # </span>┃\n",
       "┡━━━━━━━━━━━━━━━━━━━━━━━━━━━━━━━━━╇━━━━━━━━━━━━━━━━━━━━━━━━╇━━━━━━━━━━━━━━━┩\n",
       "│ conv1d (<span style=\"color: #0087ff; text-decoration-color: #0087ff\">Conv1D</span>)                 │ (<span style=\"color: #00d7ff; text-decoration-color: #00d7ff\">None</span>, <span style=\"color: #00af00; text-decoration-color: #00af00\">60000</span>, <span style=\"color: #00af00; text-decoration-color: #00af00\">8</span>)       │            <span style=\"color: #00af00; text-decoration-color: #00af00\">32</span> │\n",
       "├─────────────────────────────────┼────────────────────────┼───────────────┤\n",
       "│ batch_normalization             │ (<span style=\"color: #00d7ff; text-decoration-color: #00d7ff\">None</span>, <span style=\"color: #00af00; text-decoration-color: #00af00\">60000</span>, <span style=\"color: #00af00; text-decoration-color: #00af00\">8</span>)       │            <span style=\"color: #00af00; text-decoration-color: #00af00\">32</span> │\n",
       "│ (<span style=\"color: #0087ff; text-decoration-color: #0087ff\">BatchNormalization</span>)            │                        │               │\n",
       "├─────────────────────────────────┼────────────────────────┼───────────────┤\n",
       "│ activation (<span style=\"color: #0087ff; text-decoration-color: #0087ff\">Activation</span>)         │ (<span style=\"color: #00d7ff; text-decoration-color: #00d7ff\">None</span>, <span style=\"color: #00af00; text-decoration-color: #00af00\">60000</span>, <span style=\"color: #00af00; text-decoration-color: #00af00\">8</span>)       │             <span style=\"color: #00af00; text-decoration-color: #00af00\">0</span> │\n",
       "├─────────────────────────────────┼────────────────────────┼───────────────┤\n",
       "│ max_pooling1d (<span style=\"color: #0087ff; text-decoration-color: #0087ff\">MaxPooling1D</span>)    │ (<span style=\"color: #00d7ff; text-decoration-color: #00d7ff\">None</span>, <span style=\"color: #00af00; text-decoration-color: #00af00\">20000</span>, <span style=\"color: #00af00; text-decoration-color: #00af00\">8</span>)       │             <span style=\"color: #00af00; text-decoration-color: #00af00\">0</span> │\n",
       "├─────────────────────────────────┼────────────────────────┼───────────────┤\n",
       "│ dropout (<span style=\"color: #0087ff; text-decoration-color: #0087ff\">Dropout</span>)               │ (<span style=\"color: #00d7ff; text-decoration-color: #00d7ff\">None</span>, <span style=\"color: #00af00; text-decoration-color: #00af00\">20000</span>, <span style=\"color: #00af00; text-decoration-color: #00af00\">8</span>)       │             <span style=\"color: #00af00; text-decoration-color: #00af00\">0</span> │\n",
       "├─────────────────────────────────┼────────────────────────┼───────────────┤\n",
       "│ flatten (<span style=\"color: #0087ff; text-decoration-color: #0087ff\">Flatten</span>)               │ (<span style=\"color: #00d7ff; text-decoration-color: #00d7ff\">None</span>, <span style=\"color: #00af00; text-decoration-color: #00af00\">160000</span>)         │             <span style=\"color: #00af00; text-decoration-color: #00af00\">0</span> │\n",
       "├─────────────────────────────────┼────────────────────────┼───────────────┤\n",
       "│ dense (<span style=\"color: #0087ff; text-decoration-color: #0087ff\">Dense</span>)                   │ (<span style=\"color: #00d7ff; text-decoration-color: #00d7ff\">None</span>, <span style=\"color: #00af00; text-decoration-color: #00af00\">1</span>)              │       <span style=\"color: #00af00; text-decoration-color: #00af00\">160,001</span> │\n",
       "└─────────────────────────────────┴────────────────────────┴───────────────┘\n",
       "</pre>\n"
      ],
      "text/plain": [
       "┏━━━━━━━━━━━━━━━━━━━━━━━━━━━━━━━━━┳━━━━━━━━━━━━━━━━━━━━━━━━┳━━━━━━━━━━━━━━━┓\n",
       "┃\u001b[1m \u001b[0m\u001b[1mLayer (type)                   \u001b[0m\u001b[1m \u001b[0m┃\u001b[1m \u001b[0m\u001b[1mOutput Shape          \u001b[0m\u001b[1m \u001b[0m┃\u001b[1m \u001b[0m\u001b[1m      Param #\u001b[0m\u001b[1m \u001b[0m┃\n",
       "┡━━━━━━━━━━━━━━━━━━━━━━━━━━━━━━━━━╇━━━━━━━━━━━━━━━━━━━━━━━━╇━━━━━━━━━━━━━━━┩\n",
       "│ conv1d (\u001b[38;5;33mConv1D\u001b[0m)                 │ (\u001b[38;5;45mNone\u001b[0m, \u001b[38;5;34m60000\u001b[0m, \u001b[38;5;34m8\u001b[0m)       │            \u001b[38;5;34m32\u001b[0m │\n",
       "├─────────────────────────────────┼────────────────────────┼───────────────┤\n",
       "│ batch_normalization             │ (\u001b[38;5;45mNone\u001b[0m, \u001b[38;5;34m60000\u001b[0m, \u001b[38;5;34m8\u001b[0m)       │            \u001b[38;5;34m32\u001b[0m │\n",
       "│ (\u001b[38;5;33mBatchNormalization\u001b[0m)            │                        │               │\n",
       "├─────────────────────────────────┼────────────────────────┼───────────────┤\n",
       "│ activation (\u001b[38;5;33mActivation\u001b[0m)         │ (\u001b[38;5;45mNone\u001b[0m, \u001b[38;5;34m60000\u001b[0m, \u001b[38;5;34m8\u001b[0m)       │             \u001b[38;5;34m0\u001b[0m │\n",
       "├─────────────────────────────────┼────────────────────────┼───────────────┤\n",
       "│ max_pooling1d (\u001b[38;5;33mMaxPooling1D\u001b[0m)    │ (\u001b[38;5;45mNone\u001b[0m, \u001b[38;5;34m20000\u001b[0m, \u001b[38;5;34m8\u001b[0m)       │             \u001b[38;5;34m0\u001b[0m │\n",
       "├─────────────────────────────────┼────────────────────────┼───────────────┤\n",
       "│ dropout (\u001b[38;5;33mDropout\u001b[0m)               │ (\u001b[38;5;45mNone\u001b[0m, \u001b[38;5;34m20000\u001b[0m, \u001b[38;5;34m8\u001b[0m)       │             \u001b[38;5;34m0\u001b[0m │\n",
       "├─────────────────────────────────┼────────────────────────┼───────────────┤\n",
       "│ flatten (\u001b[38;5;33mFlatten\u001b[0m)               │ (\u001b[38;5;45mNone\u001b[0m, \u001b[38;5;34m160000\u001b[0m)         │             \u001b[38;5;34m0\u001b[0m │\n",
       "├─────────────────────────────────┼────────────────────────┼───────────────┤\n",
       "│ dense (\u001b[38;5;33mDense\u001b[0m)                   │ (\u001b[38;5;45mNone\u001b[0m, \u001b[38;5;34m1\u001b[0m)              │       \u001b[38;5;34m160,001\u001b[0m │\n",
       "└─────────────────────────────────┴────────────────────────┴───────────────┘\n"
      ]
     },
     "metadata": {},
     "output_type": "display_data"
    },
    {
     "data": {
      "text/html": [
       "<pre style=\"white-space:pre;overflow-x:auto;line-height:normal;font-family:Menlo,'DejaVu Sans Mono',consolas,'Courier New',monospace\"><span style=\"font-weight: bold\"> Total params: </span><span style=\"color: #00af00; text-decoration-color: #00af00\">160,065</span> (625.25 KB)\n",
       "</pre>\n"
      ],
      "text/plain": [
       "\u001b[1m Total params: \u001b[0m\u001b[38;5;34m160,065\u001b[0m (625.25 KB)\n"
      ]
     },
     "metadata": {},
     "output_type": "display_data"
    },
    {
     "data": {
      "text/html": [
       "<pre style=\"white-space:pre;overflow-x:auto;line-height:normal;font-family:Menlo,'DejaVu Sans Mono',consolas,'Courier New',monospace\"><span style=\"font-weight: bold\"> Trainable params: </span><span style=\"color: #00af00; text-decoration-color: #00af00\">160,049</span> (625.19 KB)\n",
       "</pre>\n"
      ],
      "text/plain": [
       "\u001b[1m Trainable params: \u001b[0m\u001b[38;5;34m160,049\u001b[0m (625.19 KB)\n"
      ]
     },
     "metadata": {},
     "output_type": "display_data"
    },
    {
     "data": {
      "text/html": [
       "<pre style=\"white-space:pre;overflow-x:auto;line-height:normal;font-family:Menlo,'DejaVu Sans Mono',consolas,'Courier New',monospace\"><span style=\"font-weight: bold\"> Non-trainable params: </span><span style=\"color: #00af00; text-decoration-color: #00af00\">16</span> (64.00 B)\n",
       "</pre>\n"
      ],
      "text/plain": [
       "\u001b[1m Non-trainable params: \u001b[0m\u001b[38;5;34m16\u001b[0m (64.00 B)\n"
      ]
     },
     "metadata": {},
     "output_type": "display_data"
    },
    {
     "name": "stdout",
     "output_type": "stream",
     "text": [
      "None\n"
     ]
    }
   ],
   "source": [
    "# Define hyperparameters - find out what should be - currently done through trial and error\n",
    "DEPTH = 1  #number of convolutional layers\n",
    "FILTERS = 8  #number of filters in each layer\n",
    "k = 3  # kernel size\n",
    "\n",
    "# initialise model\n",
    "cnn = Sequential()\n",
    "\n",
    "for _ in range(DEPTH):\n",
    "    cnn.add(Conv1D(filters=FILTERS, kernel_size=k, padding='same', input_shape = (60000, 1)))#each signal is always 60000 samples long\n",
    "    cnn.add(BatchNormalization())\n",
    "    cnn.add(Activation('relu'))\n",
    "    cnn.add(MaxPooling1D(pool_size=3))  # takes max out of every three, also regularisation\n",
    "    cnn.add(Dropout(0.5)) #used for regularisation, removes certain percentage of samples each time\n",
    "\n",
    "cnn.add(Flatten())\n",
    "cnn.add(Dense(1, activation='sigmoid'))  # use 'softmax' for multi-class classification, 'sigmoid' for binary classification\n",
    "\n",
    "# build/compile empty model\n",
    "cnn.compile(optimizer=Adam(), loss='binary_crossentropy', metrics=['accuracy']) #binary cross entropy for binary classification\n",
    "\n",
    "#allows you to see the model is built properly\n",
    "print(cnn.summary())"
   ]
  },
  {
   "cell_type": "code",
   "execution_count": 11,
   "metadata": {},
   "outputs": [
    {
     "name": "stdout",
     "output_type": "stream",
     "text": [
      "Epoch 1/20\n",
      "\u001b[1m26/26\u001b[0m \u001b[32m━━━━━━━━━━━━━━━━━━━━\u001b[0m\u001b[37m\u001b[0m \u001b[1m8s\u001b[0m 193ms/step - accuracy: 0.5077 - loss: 11.2277 - val_accuracy: 0.7797 - val_loss: 0.8781\n",
      "Epoch 2/20\n",
      "\u001b[1m26/26\u001b[0m \u001b[32m━━━━━━━━━━━━━━━━━━━━\u001b[0m\u001b[37m\u001b[0m \u001b[1m4s\u001b[0m 172ms/step - accuracy: 0.6810 - loss: 4.2804 - val_accuracy: 0.5085 - val_loss: 0.7733\n",
      "Epoch 3/20\n",
      "\u001b[1m26/26\u001b[0m \u001b[32m━━━━━━━━━━━━━━━━━━━━\u001b[0m\u001b[37m\u001b[0m \u001b[1m5s\u001b[0m 188ms/step - accuracy: 0.6557 - loss: 1.7866 - val_accuracy: 0.7514 - val_loss: 0.7757\n",
      "Epoch 4/20\n",
      "\u001b[1m26/26\u001b[0m \u001b[32m━━━━━━━━━━━━━━━━━━━━\u001b[0m\u001b[37m\u001b[0m \u001b[1m4s\u001b[0m 169ms/step - accuracy: 0.6633 - loss: 2.9685 - val_accuracy: 0.5141 - val_loss: 0.7870\n",
      "Epoch 5/20\n",
      "\u001b[1m26/26\u001b[0m \u001b[32m━━━━━━━━━━━━━━━━━━━━\u001b[0m\u001b[37m\u001b[0m \u001b[1m4s\u001b[0m 168ms/step - accuracy: 0.7147 - loss: 1.3873 - val_accuracy: 0.5311 - val_loss: 0.8219\n",
      "Epoch 6/20\n",
      "\u001b[1m26/26\u001b[0m \u001b[32m━━━━━━━━━━━━━━━━━━━━\u001b[0m\u001b[37m\u001b[0m \u001b[1m4s\u001b[0m 169ms/step - accuracy: 0.8329 - loss: 0.5031 - val_accuracy: 0.6215 - val_loss: 0.7248\n",
      "Epoch 7/20\n",
      "\u001b[1m26/26\u001b[0m \u001b[32m━━━━━━━━━━━━━━━━━━━━\u001b[0m\u001b[37m\u001b[0m \u001b[1m5s\u001b[0m 187ms/step - accuracy: 0.8350 - loss: 0.5715 - val_accuracy: 0.6271 - val_loss: 0.6987\n",
      "Epoch 8/20\n",
      "\u001b[1m26/26\u001b[0m \u001b[32m━━━━━━━━━━━━━━━━━━━━\u001b[0m\u001b[37m\u001b[0m \u001b[1m4s\u001b[0m 170ms/step - accuracy: 0.8122 - loss: 1.2003 - val_accuracy: 0.4689 - val_loss: 1.0176\n",
      "Epoch 9/20\n",
      "\u001b[1m26/26\u001b[0m \u001b[32m━━━━━━━━━━━━━━━━━━━━\u001b[0m\u001b[37m\u001b[0m \u001b[1m5s\u001b[0m 175ms/step - accuracy: 0.7371 - loss: 1.6373 - val_accuracy: 0.7684 - val_loss: 0.6293\n",
      "Epoch 10/20\n",
      "\u001b[1m26/26\u001b[0m \u001b[32m━━━━━━━━━━━━━━━━━━━━\u001b[0m\u001b[37m\u001b[0m \u001b[1m5s\u001b[0m 179ms/step - accuracy: 0.8079 - loss: 0.7155 - val_accuracy: 0.5593 - val_loss: 0.6854\n",
      "Epoch 11/20\n",
      "\u001b[1m26/26\u001b[0m \u001b[32m━━━━━━━━━━━━━━━━━━━━\u001b[0m\u001b[37m\u001b[0m \u001b[1m5s\u001b[0m 203ms/step - accuracy: 0.8288 - loss: 0.4511 - val_accuracy: 0.5254 - val_loss: 0.6881\n",
      "Epoch 12/20\n",
      "\u001b[1m26/26\u001b[0m \u001b[32m━━━━━━━━━━━━━━━━━━━━\u001b[0m\u001b[37m\u001b[0m \u001b[1m4s\u001b[0m 168ms/step - accuracy: 0.8599 - loss: 0.3633 - val_accuracy: 0.5819 - val_loss: 0.6842\n",
      "Epoch 13/20\n",
      "\u001b[1m26/26\u001b[0m \u001b[32m━━━━━━━━━━━━━━━━━━━━\u001b[0m\u001b[37m\u001b[0m \u001b[1m4s\u001b[0m 167ms/step - accuracy: 0.8392 - loss: 0.3391 - val_accuracy: 0.4859 - val_loss: 0.6885\n",
      "Epoch 14/20\n",
      "\u001b[1m26/26\u001b[0m \u001b[32m━━━━━━━━━━━━━━━━━━━━\u001b[0m\u001b[37m\u001b[0m \u001b[1m4s\u001b[0m 166ms/step - accuracy: 0.8447 - loss: 0.3458 - val_accuracy: 0.5085 - val_loss: 0.6932\n",
      "Epoch 15/20\n",
      "\u001b[1m26/26\u001b[0m \u001b[32m━━━━━━━━━━━━━━━━━━━━\u001b[0m\u001b[37m\u001b[0m \u001b[1m5s\u001b[0m 189ms/step - accuracy: 0.8723 - loss: 0.3550 - val_accuracy: 0.5367 - val_loss: 0.7015\n",
      "Epoch 16/20\n",
      "\u001b[1m26/26\u001b[0m \u001b[32m━━━━━━━━━━━━━━━━━━━━\u001b[0m\u001b[37m\u001b[0m \u001b[1m4s\u001b[0m 168ms/step - accuracy: 0.8451 - loss: 0.4839 - val_accuracy: 0.4915 - val_loss: 0.7047\n",
      "Epoch 17/20\n",
      "\u001b[1m26/26\u001b[0m \u001b[32m━━━━━━━━━━━━━━━━━━━━\u001b[0m\u001b[37m\u001b[0m \u001b[1m4s\u001b[0m 165ms/step - accuracy: 0.8629 - loss: 0.3427 - val_accuracy: 0.5876 - val_loss: 0.6749\n",
      "Epoch 18/20\n",
      "\u001b[1m26/26\u001b[0m \u001b[32m━━━━━━━━━━━━━━━━━━━━\u001b[0m\u001b[37m\u001b[0m \u001b[1m4s\u001b[0m 167ms/step - accuracy: 0.8734 - loss: 0.2854 - val_accuracy: 0.5650 - val_loss: 0.6774\n",
      "Epoch 19/20\n",
      "\u001b[1m26/26\u001b[0m \u001b[32m━━━━━━━━━━━━━━━━━━━━\u001b[0m\u001b[37m\u001b[0m \u001b[1m5s\u001b[0m 189ms/step - accuracy: 0.8807 - loss: 0.2735 - val_accuracy: 0.7062 - val_loss: 0.6238\n",
      "Epoch 20/20\n",
      "\u001b[1m26/26\u001b[0m \u001b[32m━━━━━━━━━━━━━━━━━━━━\u001b[0m\u001b[37m\u001b[0m \u001b[1m4s\u001b[0m 168ms/step - accuracy: 0.8969 - loss: 0.2411 - val_accuracy: 0.6723 - val_loss: 0.6421\n"
     ]
    }
   ],
   "source": [
    "#fitting the model whilst keeping track of the history for later use\n",
    "\n",
    "history = cnn.fit(\n",
    "    X_train_cnn, y_train_cnn,\n",
    "    epochs=20, #number of repeats \n",
    "    batch_size=16,\n",
    "    validation_data=(X_test_cnn, y_test_cnn),\n",
    "    class_weight=class_weights_dict #weights training data\n",
    ")"
   ]
  },
  {
   "cell_type": "code",
   "execution_count": 12,
   "metadata": {},
   "outputs": [
    {
     "name": "stdout",
     "output_type": "stream",
     "text": [
      "\u001b[1m6/6\u001b[0m \u001b[32m━━━━━━━━━━━━━━━━━━━━\u001b[0m\u001b[37m\u001b[0m \u001b[1m0s\u001b[0m 65ms/step - accuracy: 0.6800 - loss: 0.6382\n",
      "Validation loss: 0.6420843601226807\n",
      "Validation accuracy: 0.6723163723945618\n"
     ]
    }
   ],
   "source": [
    "#we can see that this is limited as there is not enough data to overcome the class inblance, accuracy = class inbalnce\n",
    "loss, accuracy = cnn.evaluate(X_test_cnn, y_test_cnn)\n",
    "print(f\"Validation loss: {loss}\")\n",
    "print(f\"Validation accuracy: {accuracy}\")"
   ]
  },
  {
   "cell_type": "markdown",
   "metadata": {},
   "source": [
    "The above has resulted in a model that has only guessed positive or negative, after considerable fine tuning of parameters to no avail, I believe this to be due to not enough data so below is a repeat with all the data. To allow easy manipulation and repeats I shall use functions."
   ]
  },
  {
   "cell_type": "code",
   "execution_count": 2,
   "metadata": {},
   "outputs": [
    {
     "name": "stdout",
     "output_type": "stream",
     "text": [
      "Filtering Database\n"
     ]
    },
    {
     "name": "stderr",
     "output_type": "stream",
     "text": [
      "100%|██████████| 549/549 [01:45<00:00,  5.22it/s]\n",
      "100%|██████████| 221/221 [00:07<00:00, 30.01it/s]\n"
     ]
    },
    {
     "name": "stdout",
     "output_type": "stream",
     "text": [
      "splitting data into test and train\n"
     ]
    },
    {
     "name": "stderr",
     "output_type": "stream",
     "text": [
      "c:\\Users\\court\\Documents\\anaconda\\envs\\ECG-project\\lib\\site-packages\\keras\\src\\layers\\convolutional\\base_conv.py:107: UserWarning: Do not pass an `input_shape`/`input_dim` argument to a layer. When using Sequential models, prefer using an `Input(shape)` object as the first layer in the model instead.\n",
      "  super().__init__(activity_regularizer=activity_regularizer, **kwargs)\n"
     ]
    },
    {
     "name": "stdout",
     "output_type": "stream",
     "text": [
      "Epoch 1/20\n",
      "\u001b[1m49/49\u001b[0m \u001b[32m━━━━━━━━━━━━━━━━━━━━\u001b[0m\u001b[37m\u001b[0m \u001b[1m31s\u001b[0m 542ms/step - accuracy: 0.5739 - loss: 20.7994 - val_accuracy: 0.6380 - val_loss: 0.7488\n",
      "Epoch 2/20\n",
      "\u001b[1m49/49\u001b[0m \u001b[32m━━━━━━━━━━━━━━━━━━━━\u001b[0m\u001b[37m\u001b[0m \u001b[1m22s\u001b[0m 459ms/step - accuracy: 0.7448 - loss: 3.1437 - val_accuracy: 0.5964 - val_loss: 2.1532\n",
      "Epoch 3/20\n",
      "\u001b[1m49/49\u001b[0m \u001b[32m━━━━━━━━━━━━━━━━━━━━\u001b[0m\u001b[37m\u001b[0m \u001b[1m20s\u001b[0m 397ms/step - accuracy: 0.7410 - loss: 3.9318 - val_accuracy: 0.7270 - val_loss: 0.6132\n",
      "Epoch 4/20\n",
      "\u001b[1m49/49\u001b[0m \u001b[32m━━━━━━━━━━━━━━━━━━━━\u001b[0m\u001b[37m\u001b[0m \u001b[1m20s\u001b[0m 410ms/step - accuracy: 0.9224 - loss: 0.6322 - val_accuracy: 0.7033 - val_loss: 0.6110\n",
      "Epoch 5/20\n",
      "\u001b[1m49/49\u001b[0m \u001b[32m━━━━━━━━━━━━━━━━━━━━\u001b[0m\u001b[37m\u001b[0m \u001b[1m21s\u001b[0m 431ms/step - accuracy: 0.9706 - loss: 0.0627 - val_accuracy: 0.8872 - val_loss: 0.4219\n",
      "Epoch 6/20\n",
      "\u001b[1m49/49\u001b[0m \u001b[32m━━━━━━━━━━━━━━━━━━━━\u001b[0m\u001b[37m\u001b[0m \u001b[1m22s\u001b[0m 440ms/step - accuracy: 0.9847 - loss: 0.0861 - val_accuracy: 0.7982 - val_loss: 0.5873\n",
      "Epoch 7/20\n",
      "\u001b[1m49/49\u001b[0m \u001b[32m━━━━━━━━━━━━━━━━━━━━\u001b[0m\u001b[37m\u001b[0m \u001b[1m21s\u001b[0m 437ms/step - accuracy: 0.9481 - loss: 0.2740 - val_accuracy: 0.9258 - val_loss: 0.2575\n",
      "Epoch 8/20\n",
      "\u001b[1m49/49\u001b[0m \u001b[32m━━━━━━━━━━━━━━━━━━━━\u001b[0m\u001b[37m\u001b[0m \u001b[1m22s\u001b[0m 439ms/step - accuracy: 0.9691 - loss: 0.1244 - val_accuracy: 0.8902 - val_loss: 0.4214\n",
      "Epoch 9/20\n",
      "\u001b[1m49/49\u001b[0m \u001b[32m━━━━━━━━━━━━━━━━━━━━\u001b[0m\u001b[37m\u001b[0m \u001b[1m21s\u001b[0m 419ms/step - accuracy: 0.9481 - loss: 0.1761 - val_accuracy: 0.9347 - val_loss: 0.2232\n",
      "Epoch 10/20\n",
      "\u001b[1m49/49\u001b[0m \u001b[32m━━━━━━━━━━━━━━━━━━━━\u001b[0m\u001b[37m\u001b[0m \u001b[1m21s\u001b[0m 423ms/step - accuracy: 0.9908 - loss: 0.0309 - val_accuracy: 0.9525 - val_loss: 0.2405\n",
      "Epoch 11/20\n",
      "\u001b[1m49/49\u001b[0m \u001b[32m━━━━━━━━━━━━━━━━━━━━\u001b[0m\u001b[37m\u001b[0m \u001b[1m21s\u001b[0m 421ms/step - accuracy: 0.9876 - loss: 0.0495 - val_accuracy: 0.9792 - val_loss: 0.1403\n",
      "Epoch 12/20\n",
      "\u001b[1m49/49\u001b[0m \u001b[32m━━━━━━━━━━━━━━━━━━━━\u001b[0m\u001b[37m\u001b[0m \u001b[1m20s\u001b[0m 413ms/step - accuracy: 1.0000 - loss: 0.0126 - val_accuracy: 0.9199 - val_loss: 0.1532\n",
      "Epoch 13/20\n",
      "\u001b[1m49/49\u001b[0m \u001b[32m━━━━━━━━━━━━━━━━━━━━\u001b[0m\u001b[37m\u001b[0m \u001b[1m21s\u001b[0m 425ms/step - accuracy: 1.0000 - loss: 0.0089 - val_accuracy: 0.9436 - val_loss: 0.1270\n",
      "Epoch 14/20\n",
      "\u001b[1m49/49\u001b[0m \u001b[32m━━━━━━━━━━━━━━━━━━━━\u001b[0m\u001b[37m\u001b[0m \u001b[1m22s\u001b[0m 456ms/step - accuracy: 1.0000 - loss: 0.0061 - val_accuracy: 0.9585 - val_loss: 0.1101\n",
      "Epoch 15/20\n",
      "\u001b[1m49/49\u001b[0m \u001b[32m━━━━━━━━━━━━━━━━━━━━\u001b[0m\u001b[37m\u001b[0m \u001b[1m43s\u001b[0m 487ms/step - accuracy: 1.0000 - loss: 0.0065 - val_accuracy: 0.9703 - val_loss: 0.0931\n",
      "Epoch 16/20\n",
      "\u001b[1m49/49\u001b[0m \u001b[32m━━━━━━━━━━━━━━━━━━━━\u001b[0m\u001b[37m\u001b[0m \u001b[1m24s\u001b[0m 480ms/step - accuracy: 1.0000 - loss: 0.0047 - val_accuracy: 0.9733 - val_loss: 0.0989\n",
      "splitting data into test and train\n"
     ]
    },
    {
     "name": "stderr",
     "output_type": "stream",
     "text": [
      "c:\\Users\\court\\Documents\\anaconda\\envs\\ECG-project\\lib\\site-packages\\keras\\src\\layers\\convolutional\\base_conv.py:107: UserWarning: Do not pass an `input_shape`/`input_dim` argument to a layer. When using Sequential models, prefer using an `Input(shape)` object as the first layer in the model instead.\n",
      "  super().__init__(activity_regularizer=activity_regularizer, **kwargs)\n"
     ]
    },
    {
     "name": "stdout",
     "output_type": "stream",
     "text": [
      "Epoch 1/20\n",
      "\u001b[1m49/49\u001b[0m \u001b[32m━━━━━━━━━━━━━━━━━━━━\u001b[0m\u001b[37m\u001b[0m \u001b[1m33s\u001b[0m 494ms/step - accuracy: 0.6266 - loss: 9.9425 - val_accuracy: 0.7478 - val_loss: 0.6809\n",
      "Epoch 2/20\n",
      "\u001b[1m49/49\u001b[0m \u001b[32m━━━━━━━━━━━━━━━━━━━━\u001b[0m\u001b[37m\u001b[0m \u001b[1m22s\u001b[0m 446ms/step - accuracy: 0.8305 - loss: 5.4684 - val_accuracy: 0.8309 - val_loss: 0.4257\n",
      "Epoch 3/20\n",
      "\u001b[1m49/49\u001b[0m \u001b[32m━━━━━━━━━━━━━━━━━━━━\u001b[0m\u001b[37m\u001b[0m \u001b[1m22s\u001b[0m 453ms/step - accuracy: 0.8607 - loss: 2.0754 - val_accuracy: 0.8516 - val_loss: 0.5582\n",
      "Epoch 4/20\n",
      "\u001b[1m49/49\u001b[0m \u001b[32m━━━━━━━━━━━━━━━━━━━━\u001b[0m\u001b[37m\u001b[0m \u001b[1m19s\u001b[0m 381ms/step - accuracy: 0.8516 - loss: 2.6441 - val_accuracy: 0.7448 - val_loss: 0.5501\n",
      "Epoch 5/20\n",
      "\u001b[1m49/49\u001b[0m \u001b[32m━━━━━━━━━━━━━━━━━━━━\u001b[0m\u001b[37m\u001b[0m \u001b[1m21s\u001b[0m 436ms/step - accuracy: 0.9299 - loss: 0.5317 - val_accuracy: 0.8902 - val_loss: 0.3400\n",
      "Epoch 6/20\n",
      "\u001b[1m49/49\u001b[0m \u001b[32m━━━━━━━━━━━━━━━━━━━━\u001b[0m\u001b[37m\u001b[0m \u001b[1m22s\u001b[0m 442ms/step - accuracy: 0.9785 - loss: 0.1316 - val_accuracy: 0.8724 - val_loss: 0.3452\n",
      "Epoch 7/20\n",
      "\u001b[1m49/49\u001b[0m \u001b[32m━━━━━━━━━━━━━━━━━━━━\u001b[0m\u001b[37m\u001b[0m \u001b[1m19s\u001b[0m 396ms/step - accuracy: 0.9726 - loss: 0.2478 - val_accuracy: 0.9050 - val_loss: 0.2829\n",
      "Epoch 8/20\n",
      "\u001b[1m49/49\u001b[0m \u001b[32m━━━━━━━━━━━━━━━━━━━━\u001b[0m\u001b[37m\u001b[0m \u001b[1m22s\u001b[0m 455ms/step - accuracy: 0.9886 - loss: 0.0469 - val_accuracy: 0.9050 - val_loss: 0.2922\n",
      "Epoch 9/20\n",
      "\u001b[1m49/49\u001b[0m \u001b[32m━━━━━━━━━━━━━━━━━━━━\u001b[0m\u001b[37m\u001b[0m \u001b[1m22s\u001b[0m 456ms/step - accuracy: 0.9877 - loss: 0.0528 - val_accuracy: 0.9169 - val_loss: 0.2520\n",
      "Epoch 10/20\n",
      "\u001b[1m49/49\u001b[0m \u001b[32m━━━━━━━━━━━━━━━━━━━━\u001b[0m\u001b[37m\u001b[0m \u001b[1m19s\u001b[0m 393ms/step - accuracy: 0.9858 - loss: 0.0693 - val_accuracy: 0.8694 - val_loss: 0.3862\n",
      "Epoch 11/20\n",
      "\u001b[1m49/49\u001b[0m \u001b[32m━━━━━━━━━━━━━━━━━━━━\u001b[0m\u001b[37m\u001b[0m \u001b[1m21s\u001b[0m 422ms/step - accuracy: 0.9824 - loss: 0.0541 - val_accuracy: 0.9228 - val_loss: 0.2249\n",
      "Epoch 12/20\n",
      "\u001b[1m49/49\u001b[0m \u001b[32m━━━━━━━━━━━━━━━━━━━━\u001b[0m\u001b[37m\u001b[0m \u001b[1m20s\u001b[0m 413ms/step - accuracy: 1.0000 - loss: 0.0052 - val_accuracy: 0.9169 - val_loss: 0.2207\n",
      "Epoch 13/20\n",
      "\u001b[1m49/49\u001b[0m \u001b[32m━━━━━━━━━━━━━━━━━━━━\u001b[0m\u001b[37m\u001b[0m \u001b[1m19s\u001b[0m 378ms/step - accuracy: 0.9985 - loss: 0.0122 - val_accuracy: 0.9199 - val_loss: 0.2392\n",
      "Epoch 14/20\n",
      "\u001b[1m49/49\u001b[0m \u001b[32m━━━━━━━━━━━━━━━━━━━━\u001b[0m\u001b[37m\u001b[0m \u001b[1m19s\u001b[0m 380ms/step - accuracy: 1.0000 - loss: 0.0038 - val_accuracy: 0.9228 - val_loss: 0.2462\n",
      "Epoch 15/20\n",
      "\u001b[1m49/49\u001b[0m \u001b[32m━━━━━━━━━━━━━━━━━━━━\u001b[0m\u001b[37m\u001b[0m \u001b[1m23s\u001b[0m 469ms/step - accuracy: 1.0000 - loss: 0.0016 - val_accuracy: 0.9199 - val_loss: 0.2673\n",
      "Epoch 16/20\n",
      "\u001b[1m49/49\u001b[0m \u001b[32m━━━━━━━━━━━━━━━━━━━━\u001b[0m\u001b[37m\u001b[0m \u001b[1m20s\u001b[0m 396ms/step - accuracy: 0.9984 - loss: 0.0063 - val_accuracy: 0.9318 - val_loss: 0.2594\n",
      "Epoch 17/20\n",
      "\u001b[1m49/49\u001b[0m \u001b[32m━━━━━━━━━━━━━━━━━━━━\u001b[0m\u001b[37m\u001b[0m \u001b[1m21s\u001b[0m 400ms/step - accuracy: 1.0000 - loss: 0.0023 - val_accuracy: 0.9318 - val_loss: 0.2640\n",
      "Epoch 18/20\n",
      "\u001b[1m49/49\u001b[0m \u001b[32m━━━━━━━━━━━━━━━━━━━━\u001b[0m\u001b[37m\u001b[0m \u001b[1m20s\u001b[0m 413ms/step - accuracy: 1.0000 - loss: 0.0018 - val_accuracy: 0.9318 - val_loss: 0.2924\n",
      "Epoch 19/20\n",
      "\u001b[1m49/49\u001b[0m \u001b[32m━━━━━━━━━━━━━━━━━━━━\u001b[0m\u001b[37m\u001b[0m \u001b[1m18s\u001b[0m 373ms/step - accuracy: 1.0000 - loss: 0.0021 - val_accuracy: 0.9288 - val_loss: 0.3101\n",
      "Epoch 20/20\n",
      "\u001b[1m49/49\u001b[0m \u001b[32m━━━━━━━━━━━━━━━━━━━━\u001b[0m\u001b[37m\u001b[0m \u001b[1m21s\u001b[0m 422ms/step - accuracy: 1.0000 - loss: 0.0023 - val_accuracy: 0.9288 - val_loss: 0.3138\n",
      "splitting data into test and train\n"
     ]
    },
    {
     "name": "stderr",
     "output_type": "stream",
     "text": [
      "c:\\Users\\court\\Documents\\anaconda\\envs\\ECG-project\\lib\\site-packages\\keras\\src\\layers\\convolutional\\base_conv.py:107: UserWarning: Do not pass an `input_shape`/`input_dim` argument to a layer. When using Sequential models, prefer using an `Input(shape)` object as the first layer in the model instead.\n",
      "  super().__init__(activity_regularizer=activity_regularizer, **kwargs)\n"
     ]
    },
    {
     "name": "stdout",
     "output_type": "stream",
     "text": [
      "Epoch 1/20\n",
      "\u001b[1m49/49\u001b[0m \u001b[32m━━━━━━━━━━━━━━━━━━━━\u001b[0m\u001b[37m\u001b[0m \u001b[1m32s\u001b[0m 474ms/step - accuracy: 0.6249 - loss: 12.4041 - val_accuracy: 0.4599 - val_loss: 4.4259\n",
      "Epoch 2/20\n",
      "\u001b[1m49/49\u001b[0m \u001b[32m━━━━━━━━━━━━━━━━━━━━\u001b[0m\u001b[37m\u001b[0m \u001b[1m20s\u001b[0m 418ms/step - accuracy: 0.7913 - loss: 7.0208 - val_accuracy: 0.5134 - val_loss: 4.2513\n",
      "Epoch 3/20\n",
      "\u001b[1m49/49\u001b[0m \u001b[32m━━━━━━━━━━━━━━━━━━━━\u001b[0m\u001b[37m\u001b[0m \u001b[1m21s\u001b[0m 428ms/step - accuracy: 0.8483 - loss: 2.4445 - val_accuracy: 0.7864 - val_loss: 0.5688\n",
      "Epoch 4/20\n",
      "\u001b[1m49/49\u001b[0m \u001b[32m━━━━━━━━━━━━━━━━━━━━\u001b[0m\u001b[37m\u001b[0m \u001b[1m19s\u001b[0m 381ms/step - accuracy: 0.9118 - loss: 0.9362 - val_accuracy: 0.6142 - val_loss: 1.4006\n",
      "Epoch 5/20\n",
      "\u001b[1m49/49\u001b[0m \u001b[32m━━━━━━━━━━━━━━━━━━━━\u001b[0m\u001b[37m\u001b[0m \u001b[1m21s\u001b[0m 435ms/step - accuracy: 0.8982 - loss: 1.8776 - val_accuracy: 0.9021 - val_loss: 0.5315\n",
      "Epoch 6/20\n",
      "\u001b[1m49/49\u001b[0m \u001b[32m━━━━━━━━━━━━━━━━━━━━\u001b[0m\u001b[37m\u001b[0m \u001b[1m20s\u001b[0m 400ms/step - accuracy: 0.8473 - loss: 2.2854 - val_accuracy: 0.9228 - val_loss: 0.4077\n",
      "Epoch 7/20\n",
      "\u001b[1m49/49\u001b[0m \u001b[32m━━━━━━━━━━━━━━━━━━━━\u001b[0m\u001b[37m\u001b[0m \u001b[1m21s\u001b[0m 406ms/step - accuracy: 0.9259 - loss: 0.5123 - val_accuracy: 0.8576 - val_loss: 0.5267\n",
      "Epoch 8/20\n",
      "\u001b[1m49/49\u001b[0m \u001b[32m━━━━━━━━━━━━━━━━━━━━\u001b[0m\u001b[37m\u001b[0m \u001b[1m20s\u001b[0m 411ms/step - accuracy: 0.9643 - loss: 0.2987 - val_accuracy: 0.9318 - val_loss: 0.4088\n",
      "Epoch 9/20\n",
      "\u001b[1m49/49\u001b[0m \u001b[32m━━━━━━━━━━━━━━━━━━━━\u001b[0m\u001b[37m\u001b[0m \u001b[1m20s\u001b[0m 414ms/step - accuracy: 0.9583 - loss: 0.5410 - val_accuracy: 0.8160 - val_loss: 0.6263\n",
      "Epoch 10/20\n",
      "\u001b[1m49/49\u001b[0m \u001b[32m━━━━━━━━━━━━━━━━━━━━\u001b[0m\u001b[37m\u001b[0m \u001b[1m21s\u001b[0m 419ms/step - accuracy: 0.9354 - loss: 0.3204 - val_accuracy: 0.9555 - val_loss: 0.2147\n",
      "Epoch 11/20\n",
      "\u001b[1m49/49\u001b[0m \u001b[32m━━━━━━━━━━━━━━━━━━━━\u001b[0m\u001b[37m\u001b[0m \u001b[1m20s\u001b[0m 412ms/step - accuracy: 0.9937 - loss: 0.0870 - val_accuracy: 0.9614 - val_loss: 0.2014\n",
      "Epoch 12/20\n",
      "\u001b[1m49/49\u001b[0m \u001b[32m━━━━━━━━━━━━━━━━━━━━\u001b[0m\u001b[37m\u001b[0m \u001b[1m21s\u001b[0m 423ms/step - accuracy: 0.9925 - loss: 0.0276 - val_accuracy: 0.9674 - val_loss: 0.1802\n",
      "Epoch 13/20\n",
      "\u001b[1m49/49\u001b[0m \u001b[32m━━━━━━━━━━━━━━━━━━━━\u001b[0m\u001b[37m\u001b[0m \u001b[1m19s\u001b[0m 393ms/step - accuracy: 1.0000 - loss: 0.0063 - val_accuracy: 0.9644 - val_loss: 0.1857\n",
      "Epoch 14/20\n",
      "\u001b[1m49/49\u001b[0m \u001b[32m━━━━━━━━━━━━━━━━━━━━\u001b[0m\u001b[37m\u001b[0m \u001b[1m22s\u001b[0m 446ms/step - accuracy: 0.9927 - loss: 0.0179 - val_accuracy: 0.9555 - val_loss: 0.2233\n",
      "Epoch 15/20\n",
      "\u001b[1m49/49\u001b[0m \u001b[32m━━━━━━━━━━━━━━━━━━━━\u001b[0m\u001b[37m\u001b[0m \u001b[1m20s\u001b[0m 406ms/step - accuracy: 0.9956 - loss: 0.0155 - val_accuracy: 0.9525 - val_loss: 0.2375\n",
      "Epoch 16/20\n",
      "\u001b[1m49/49\u001b[0m \u001b[32m━━━━━━━━━━━━━━━━━━━━\u001b[0m\u001b[37m\u001b[0m \u001b[1m21s\u001b[0m 437ms/step - accuracy: 1.0000 - loss: 0.0040 - val_accuracy: 0.9585 - val_loss: 0.2419\n",
      "Epoch 17/20\n",
      "\u001b[1m49/49\u001b[0m \u001b[32m━━━━━━━━━━━━━━━━━━━━\u001b[0m\u001b[37m\u001b[0m \u001b[1m20s\u001b[0m 400ms/step - accuracy: 1.0000 - loss: 0.0037 - val_accuracy: 0.9614 - val_loss: 0.1924\n",
      "splitting data into test and train\n"
     ]
    },
    {
     "name": "stderr",
     "output_type": "stream",
     "text": [
      "c:\\Users\\court\\Documents\\anaconda\\envs\\ECG-project\\lib\\site-packages\\keras\\src\\layers\\convolutional\\base_conv.py:107: UserWarning: Do not pass an `input_shape`/`input_dim` argument to a layer. When using Sequential models, prefer using an `Input(shape)` object as the first layer in the model instead.\n",
      "  super().__init__(activity_regularizer=activity_regularizer, **kwargs)\n"
     ]
    },
    {
     "name": "stdout",
     "output_type": "stream",
     "text": [
      "Epoch 1/20\n",
      "\u001b[1m49/49\u001b[0m \u001b[32m━━━━━━━━━━━━━━━━━━━━\u001b[0m\u001b[37m\u001b[0m \u001b[1m25s\u001b[0m 447ms/step - accuracy: 0.5753 - loss: 32.7102 - val_accuracy: 0.5163 - val_loss: 2.0182\n",
      "Epoch 2/20\n",
      "\u001b[1m49/49\u001b[0m \u001b[32m━━━━━━━━━━━━━━━━━━━━\u001b[0m\u001b[37m\u001b[0m \u001b[1m24s\u001b[0m 481ms/step - accuracy: 0.7912 - loss: 2.4849 - val_accuracy: 0.8457 - val_loss: 0.4217\n",
      "Epoch 3/20\n",
      "\u001b[1m49/49\u001b[0m \u001b[32m━━━━━━━━━━━━━━━━━━━━\u001b[0m\u001b[37m\u001b[0m \u001b[1m20s\u001b[0m 409ms/step - accuracy: 0.8196 - loss: 2.9308 - val_accuracy: 0.9139 - val_loss: 0.3249\n",
      "Epoch 4/20\n",
      "\u001b[1m49/49\u001b[0m \u001b[32m━━━━━━━━━━━━━━━━━━━━\u001b[0m\u001b[37m\u001b[0m \u001b[1m19s\u001b[0m 376ms/step - accuracy: 0.9280 - loss: 0.8425 - val_accuracy: 0.9021 - val_loss: 0.3120\n",
      "Epoch 5/20\n",
      "\u001b[1m49/49\u001b[0m \u001b[32m━━━━━━━━━━━━━━━━━━━━\u001b[0m\u001b[37m\u001b[0m \u001b[1m21s\u001b[0m 418ms/step - accuracy: 0.9556 - loss: 0.5308 - val_accuracy: 0.8487 - val_loss: 0.4029\n",
      "Epoch 6/20\n",
      "\u001b[1m49/49\u001b[0m \u001b[32m━━━━━━━━━━━━━━━━━━━━\u001b[0m\u001b[37m\u001b[0m \u001b[1m21s\u001b[0m 426ms/step - accuracy: 0.9608 - loss: 0.2525 - val_accuracy: 0.8961 - val_loss: 0.2981\n",
      "Epoch 7/20\n",
      "\u001b[1m49/49\u001b[0m \u001b[32m━━━━━━━━━━━━━━━━━━━━\u001b[0m\u001b[37m\u001b[0m \u001b[1m18s\u001b[0m 374ms/step - accuracy: 0.9578 - loss: 0.3658 - val_accuracy: 0.9585 - val_loss: 0.2147\n",
      "Epoch 8/20\n",
      "\u001b[1m49/49\u001b[0m \u001b[32m━━━━━━━━━━━━━━━━━━━━\u001b[0m\u001b[37m\u001b[0m \u001b[1m19s\u001b[0m 390ms/step - accuracy: 0.9519 - loss: 0.3563 - val_accuracy: 0.8665 - val_loss: 0.4149\n",
      "Epoch 9/20\n",
      "\u001b[1m49/49\u001b[0m \u001b[32m━━━━━━━━━━━━━━━━━━━━\u001b[0m\u001b[37m\u001b[0m \u001b[1m19s\u001b[0m 388ms/step - accuracy: 0.9935 - loss: 0.0538 - val_accuracy: 0.8843 - val_loss: 0.3692\n",
      "Epoch 10/20\n",
      "\u001b[1m49/49\u001b[0m \u001b[32m━━━━━━━━━━━━━━━━━━━━\u001b[0m\u001b[37m\u001b[0m \u001b[1m21s\u001b[0m 420ms/step - accuracy: 0.9843 - loss: 0.0469 - val_accuracy: 0.9436 - val_loss: 0.2528\n",
      "Epoch 11/20\n",
      "\u001b[1m49/49\u001b[0m \u001b[32m━━━━━━━━━━━━━━━━━━━━\u001b[0m\u001b[37m\u001b[0m \u001b[1m23s\u001b[0m 461ms/step - accuracy: 0.9868 - loss: 0.0422 - val_accuracy: 0.9763 - val_loss: 0.1709\n",
      "Epoch 12/20\n",
      "\u001b[1m49/49\u001b[0m \u001b[32m━━━━━━━━━━━━━━━━━━━━\u001b[0m\u001b[37m\u001b[0m \u001b[1m21s\u001b[0m 421ms/step - accuracy: 0.9989 - loss: 0.0131 - val_accuracy: 0.8783 - val_loss: 0.4662\n",
      "Epoch 13/20\n",
      "\u001b[1m49/49\u001b[0m \u001b[32m━━━━━━━━━━━━━━━━━━━━\u001b[0m\u001b[37m\u001b[0m \u001b[1m20s\u001b[0m 403ms/step - accuracy: 0.9865 - loss: 0.1150 - val_accuracy: 0.9703 - val_loss: 0.0880\n",
      "Epoch 14/20\n",
      "\u001b[1m49/49\u001b[0m \u001b[32m━━━━━━━━━━━━━━━━━━━━\u001b[0m\u001b[37m\u001b[0m \u001b[1m23s\u001b[0m 460ms/step - accuracy: 1.0000 - loss: 0.0059 - val_accuracy: 0.9733 - val_loss: 0.0749\n",
      "Epoch 15/20\n",
      "\u001b[1m49/49\u001b[0m \u001b[32m━━━━━━━━━━━━━━━━━━━━\u001b[0m\u001b[37m\u001b[0m \u001b[1m22s\u001b[0m 451ms/step - accuracy: 0.9984 - loss: 0.0079 - val_accuracy: 0.9585 - val_loss: 0.1270\n",
      "Epoch 16/20\n",
      "\u001b[1m49/49\u001b[0m \u001b[32m━━━━━━━━━━━━━━━━━━━━\u001b[0m\u001b[37m\u001b[0m \u001b[1m21s\u001b[0m 430ms/step - accuracy: 0.9920 - loss: 0.0310 - val_accuracy: 0.9258 - val_loss: 0.2311\n",
      "splitting data into test and train\n"
     ]
    },
    {
     "name": "stderr",
     "output_type": "stream",
     "text": [
      "c:\\Users\\court\\Documents\\anaconda\\envs\\ECG-project\\lib\\site-packages\\keras\\src\\layers\\convolutional\\base_conv.py:107: UserWarning: Do not pass an `input_shape`/`input_dim` argument to a layer. When using Sequential models, prefer using an `Input(shape)` object as the first layer in the model instead.\n",
      "  super().__init__(activity_regularizer=activity_regularizer, **kwargs)\n"
     ]
    },
    {
     "ename": "MemoryError",
     "evalue": "Unable to allocate 179. MiB for an array with shape (783, 60000, 1) and data type float32",
     "output_type": "error",
     "traceback": [
      "\u001b[1;31m---------------------------------------------------------------------------\u001b[0m",
      "\u001b[1;31mMemoryError\u001b[0m                               Traceback (most recent call last)",
      "Input \u001b[1;32mIn [2]\u001b[0m, in \u001b[0;36m<cell line: 17>\u001b[1;34m()\u001b[0m\n\u001b[0;32m     34\u001b[0m BATCH_SIZE \u001b[38;5;241m=\u001b[39m \u001b[38;5;241m16\u001b[39m\n\u001b[0;32m     36\u001b[0m \u001b[38;5;66;03m#should put epochs and stuff outside here\u001b[39;00m\n\u001b[1;32m---> 37\u001b[0m history, trained_model \u001b[38;5;241m=\u001b[39m \u001b[43mtrain_model\u001b[49m\u001b[43m(\u001b[49m\u001b[43mmodel\u001b[49m\u001b[43m,\u001b[49m\u001b[43m \u001b[49m\u001b[43mconverted_data\u001b[49m\u001b[43m,\u001b[49m\u001b[43m \u001b[49m\u001b[43mclass_weights\u001b[49m\u001b[43m,\u001b[49m\u001b[43m \u001b[49m\u001b[43mEPOCHS\u001b[49m\u001b[43m,\u001b[49m\u001b[43m \u001b[49m\u001b[43mBATCH_SIZE\u001b[49m\u001b[43m)\u001b[49m\n\u001b[0;32m     39\u001b[0m hist_list\u001b[38;5;241m.\u001b[39mappend(history)\n\u001b[0;32m     40\u001b[0m model_list\u001b[38;5;241m.\u001b[39mappend(trained_model)\n",
      "File \u001b[1;32mc:\\Users\\court\\Documents\\masters\\solo project\\ES98C-ECG-Project\\src\\binary_NN.py:133\u001b[0m, in \u001b[0;36mtrain_model\u001b[1;34m(model, data, class_weights, EPOCHS, BATCH_SIZE)\u001b[0m\n\u001b[0;32m    130\u001b[0m \u001b[38;5;28;01mdef\u001b[39;00m \u001b[38;5;21mtrain_model\u001b[39m(model, data, class_weights, EPOCHS, BATCH_SIZE):\n\u001b[0;32m    131\u001b[0m     early_stopping \u001b[38;5;241m=\u001b[39m EarlyStopping(monitor\u001b[38;5;241m=\u001b[39m\u001b[38;5;124m'\u001b[39m\u001b[38;5;124mval_accuracy\u001b[39m\u001b[38;5;124m'\u001b[39m, patience\u001b[38;5;241m=\u001b[39m\u001b[38;5;241m5\u001b[39m, restore_best_weights\u001b[38;5;241m=\u001b[39m\u001b[38;5;28;01mTrue\u001b[39;00m)\n\u001b[1;32m--> 133\u001b[0m     history \u001b[38;5;241m=\u001b[39m \u001b[43mmodel\u001b[49m\u001b[38;5;241;43m.\u001b[39;49m\u001b[43mfit\u001b[49m\u001b[43m(\u001b[49m\n\u001b[0;32m    134\u001b[0m \u001b[43m        \u001b[49m\u001b[43mdata\u001b[49m\u001b[43m[\u001b[49m\u001b[38;5;124;43m'\u001b[39;49m\u001b[38;5;124;43mX_train\u001b[39;49m\u001b[38;5;124;43m'\u001b[39;49m\u001b[43m]\u001b[49m\u001b[43m,\u001b[49m\u001b[43m \u001b[49m\u001b[43mdata\u001b[49m\u001b[43m[\u001b[49m\u001b[38;5;124;43m'\u001b[39;49m\u001b[38;5;124;43my_train\u001b[39;49m\u001b[38;5;124;43m'\u001b[39;49m\u001b[43m]\u001b[49m\u001b[43m,\u001b[49m\n\u001b[0;32m    135\u001b[0m \u001b[43m        \u001b[49m\u001b[43mepochs\u001b[49m\u001b[38;5;241;43m=\u001b[39;49m\u001b[43mEPOCHS\u001b[49m\u001b[43m,\u001b[49m\n\u001b[0;32m    136\u001b[0m \u001b[43m        \u001b[49m\u001b[43mbatch_size\u001b[49m\u001b[38;5;241;43m=\u001b[39;49m\u001b[43mBATCH_SIZE\u001b[49m\u001b[43m,\u001b[49m\n\u001b[0;32m    137\u001b[0m \u001b[43m        \u001b[49m\u001b[43mvalidation_data\u001b[49m\u001b[38;5;241;43m=\u001b[39;49m\u001b[43m(\u001b[49m\u001b[43mdata\u001b[49m\u001b[43m[\u001b[49m\u001b[38;5;124;43m'\u001b[39;49m\u001b[38;5;124;43mX_test\u001b[39;49m\u001b[38;5;124;43m'\u001b[39;49m\u001b[43m]\u001b[49m\u001b[43m,\u001b[49m\u001b[43m \u001b[49m\u001b[43mdata\u001b[49m\u001b[43m[\u001b[49m\u001b[38;5;124;43m'\u001b[39;49m\u001b[38;5;124;43my_test\u001b[39;49m\u001b[38;5;124;43m'\u001b[39;49m\u001b[43m]\u001b[49m\u001b[43m)\u001b[49m\u001b[43m,\u001b[49m\n\u001b[0;32m    138\u001b[0m \u001b[43m        \u001b[49m\u001b[43mclass_weight\u001b[49m\u001b[38;5;241;43m=\u001b[39;49m\u001b[43mclass_weights\u001b[49m\u001b[43m,\u001b[49m\n\u001b[0;32m    139\u001b[0m \u001b[43m        \u001b[49m\u001b[43mcallbacks\u001b[49m\u001b[38;5;241;43m=\u001b[39;49m\u001b[43m[\u001b[49m\u001b[43mearly_stopping\u001b[49m\u001b[43m]\u001b[49m\n\u001b[0;32m    140\u001b[0m \u001b[43m    \u001b[49m\u001b[43m)\u001b[49m\n\u001b[0;32m    141\u001b[0m     \u001b[38;5;28;01mreturn\u001b[39;00m history, model\n",
      "File \u001b[1;32mc:\\Users\\court\\Documents\\anaconda\\envs\\ECG-project\\lib\\site-packages\\keras\\src\\utils\\traceback_utils.py:122\u001b[0m, in \u001b[0;36mfilter_traceback.<locals>.error_handler\u001b[1;34m(*args, **kwargs)\u001b[0m\n\u001b[0;32m    119\u001b[0m     filtered_tb \u001b[38;5;241m=\u001b[39m _process_traceback_frames(e\u001b[38;5;241m.\u001b[39m__traceback__)\n\u001b[0;32m    120\u001b[0m     \u001b[38;5;66;03m# To get the full stack trace, call:\u001b[39;00m\n\u001b[0;32m    121\u001b[0m     \u001b[38;5;66;03m# `keras.config.disable_traceback_filtering()`\u001b[39;00m\n\u001b[1;32m--> 122\u001b[0m     \u001b[38;5;28;01mraise\u001b[39;00m e\u001b[38;5;241m.\u001b[39mwith_traceback(filtered_tb) \u001b[38;5;28;01mfrom\u001b[39;00m \u001b[38;5;28;01mNone\u001b[39;00m\n\u001b[0;32m    123\u001b[0m \u001b[38;5;28;01mfinally\u001b[39;00m:\n\u001b[0;32m    124\u001b[0m     \u001b[38;5;28;01mdel\u001b[39;00m filtered_tb\n",
      "File \u001b[1;32mc:\\Users\\court\\Documents\\anaconda\\envs\\ECG-project\\lib\\site-packages\\optree\\ops.py:747\u001b[0m, in \u001b[0;36mtree_map\u001b[1;34m(func, tree, is_leaf, none_is_leaf, namespace, *rests)\u001b[0m\n\u001b[0;32m    745\u001b[0m leaves, treespec \u001b[38;5;241m=\u001b[39m _C\u001b[38;5;241m.\u001b[39mflatten(tree, is_leaf, none_is_leaf, namespace)\n\u001b[0;32m    746\u001b[0m flat_args \u001b[38;5;241m=\u001b[39m [leaves] \u001b[38;5;241m+\u001b[39m [treespec\u001b[38;5;241m.\u001b[39mflatten_up_to(r) \u001b[38;5;28;01mfor\u001b[39;00m r \u001b[38;5;129;01min\u001b[39;00m rests]\n\u001b[1;32m--> 747\u001b[0m \u001b[38;5;28;01mreturn\u001b[39;00m \u001b[43mtreespec\u001b[49m\u001b[38;5;241;43m.\u001b[39;49m\u001b[43munflatten\u001b[49m\u001b[43m(\u001b[49m\u001b[38;5;28;43mmap\u001b[39;49m\u001b[43m(\u001b[49m\u001b[43mfunc\u001b[49m\u001b[43m,\u001b[49m\u001b[43m \u001b[49m\u001b[38;5;241;43m*\u001b[39;49m\u001b[43mflat_args\u001b[49m\u001b[43m)\u001b[49m\u001b[43m)\u001b[49m\n",
      "\u001b[1;31mMemoryError\u001b[0m: Unable to allocate 179. MiB for an array with shape (783, 60000, 1) and data type float32"
     ]
    }
   ],
   "source": [
    "#maybe limited by amount of data so instead lets try using all the data available, i.e. all 6 channels\n",
    "\n",
    "#obtaining original data first, takes time to filter so done outside loop\n",
    "data, labels = get_data_CNN(splits=None, denoise_method = None)\n",
    "\n",
    "\n",
    "train_splits = {}\n",
    "train_splits['train'] = 0.7\n",
    "train_splits['test'] = 0.3\n",
    "\n",
    "repeats = 5\n",
    "\n",
    "hist_list = []\n",
    "model_list = []\n",
    "data_list = []\n",
    "labels_list = []\n",
    "for i in range(repeats):\n",
    "    #splitting data\n",
    "    split_data = get_split_data(train_splits, data, labels)\n",
    "\n",
    "    #converting data to appropriate format and getting class weights\n",
    "    converted_data, full_labels, class_weights = convert_data_to_CNN_format(split_data, channel_indices = 'all')\n",
    "\n",
    "    #stating values of hyperparameters for model\n",
    "    DEPTH = 1\n",
    "    FILTERS = 16\n",
    "    k = 3\n",
    "\n",
    "    #initialising model\n",
    "    model = make_model(DEPTH, FILTERS, k, print_summary=False)\n",
    "\n",
    "    #stating values of hyperparameters for training model\n",
    "    EPOCHS = 20 #20\n",
    "    BATCH_SIZE = 16\n",
    "\n",
    "    #should put epochs and stuff outside here\n",
    "    history, trained_model = train_model(model, converted_data, class_weights, EPOCHS, BATCH_SIZE)\n",
    "\n",
    "    hist_list.append(history)\n",
    "    model_list.append(trained_model)\n",
    "    data_list.append(converted_data)\n",
    "    labels_list.append(full_labels)"
   ]
  },
  {
   "cell_type": "code",
   "execution_count": 14,
   "metadata": {},
   "outputs": [
    {
     "name": "stdout",
     "output_type": "stream",
     "text": [
      "\u001b[1m11/11\u001b[0m \u001b[32m━━━━━━━━━━━━━━━━━━━━\u001b[0m\u001b[37m\u001b[0m \u001b[1m2s\u001b[0m 133ms/step - accuracy: 0.9174 - loss: 0.3091\n",
      "Validation loss: 0.32401934266090393\n",
      "Validation accuracy: 0.922848641872406\n"
     ]
    }
   ],
   "source": [
    "loss, accuracy = model_list[0].evaluate(data_list[0]['X_test'], data_list[0]['y_test'])#continue this\n",
    "print(f\"Validation loss: {loss}\")\n",
    "print(f\"Validation accuracy: {accuracy}\")"
   ]
  },
  {
   "cell_type": "markdown",
   "metadata": {},
   "source": [
    "## Metrics for table"
   ]
  },
  {
   "cell_type": "code",
   "execution_count": 16,
   "metadata": {},
   "outputs": [
    {
     "name": "stdout",
     "output_type": "stream",
     "text": [
      "\u001b[1m11/11\u001b[0m \u001b[32m━━━━━━━━━━━━━━━━━━━━\u001b[0m\u001b[37m\u001b[0m \u001b[1m1s\u001b[0m 124ms/step\n",
      "              precision    recall  f1-score   support\n",
      "\n",
      "           0       0.87      1.00      0.93       264\n",
      "           1       0.97      0.47      0.63        73\n",
      "\n",
      "    accuracy                           0.88       337\n",
      "   macro avg       0.92      0.73      0.78       337\n",
      "weighted avg       0.89      0.88      0.86       337\n",
      "\n"
     ]
    }
   ],
   "source": [
    "from sklearn.metrics import classification_report\n",
    "from models.scoring_metrics import get_all_metrics\n",
    "from models.SVM.binary_classification import manual_y_predict\n",
    "\n",
    "performance_metrics = []\n",
    "for i in range(repeats):\n",
    "    X_test = data_list[i]['X_test']\n",
    "    y_test = data_list[i]['y_test']\n",
    "\n",
    "\n",
    "    y_pred = model_list[i].predict(X_test)\n",
    "\n",
    "    threshold = 1-np.sum(y_test)/len(y_test)\n",
    "\n",
    "    #threshold = 0.3\n",
    "\n",
    "    y_pred_classes = manual_y_predict(y_pred, threshold)\n",
    "    \n",
    "    y_pred_encoded = (y_pred > threshold).astype(int)\n",
    "\n",
    "\n",
    "    performance_metrics.append(get_all_metrics(labels_list[i], y_pred_classes))\n",
    "    \n",
    "\n",
    "    print(classification_report(y_test, y_pred_encoded))"
   ]
  },
  {
   "cell_type": "code",
   "execution_count": 17,
   "metadata": {},
   "outputs": [
    {
     "name": "stdout",
     "output_type": "stream",
     "text": [
      "  bal acc: 0.73 ± 0.00\n",
      "  accuracy: 0.88 ± 0.00\n",
      "  f1: 0.63 ± 0.00\n",
      "  obj score: 0.66 ± 0.00\n",
      "  recall: 0.47 ± 0.00\n",
      "  precision: 0.97 ± 0.00\n",
      "\n"
     ]
    }
   ],
   "source": [
    "# Initialize an empty dictionary to store averaged scores\n",
    "averaged_scores = {}\n",
    "\n",
    "# Iterate through each channel in the dictionaries\n",
    "for metric in performance_metrics[0].keys():\n",
    "    # Calculate the average of the current metric\n",
    "    values = [score[metric] for score in performance_metrics]\n",
    "    mean_value = np.mean(values)\n",
    "    std_value = np.std(values)\n",
    "    averaged_scores[metric] = (mean_value, std_value)\n",
    "\n",
    "# Print the averaged scores with 2 decimal places\n",
    "for metric, (mean_value, std_value) in averaged_scores.items():\n",
    "    print(f'  {metric}: {mean_value:.2f} ± {std_value:.2f}')\n",
    "print()"
   ]
  },
  {
   "cell_type": "code",
   "execution_count": 18,
   "metadata": {},
   "outputs": [],
   "source": [
    "#need to make all epoch arrays same length so averages can be calculated\n",
    "accuracy_list = []\n",
    "val_accuracy_list = []\n",
    "loss_list = []\n",
    "val_loss_list = []\n",
    "\n",
    "for i in range(repeats):\n",
    "\n",
    "    accuracy_list.append(hist_list[i].history['accuracy'])\n",
    "    val_accuracy_list.append(hist_list[i].history['val_accuracy'])\n",
    "    loss_list.append(hist_list[i].history['loss'])\n",
    "    val_loss_list.append(hist_list[i].history['val_loss'])"
   ]
  },
  {
   "cell_type": "code",
   "execution_count": 19,
   "metadata": {},
   "outputs": [],
   "source": [
    "def extend_arrays_to_max_length(arrays):\n",
    "    # Determine the maximum length of the arrays\n",
    "    max_length = max(len(arr) for arr in arrays)\n",
    "    \n",
    "    # Convert all arrays to numpy arrays for easier manipulation\n",
    "    arrays = [np.array(arr) for arr in arrays]\n",
    "    \n",
    "    # Create a new list to hold the extended arrays\n",
    "    extended_arrays = []\n",
    "    \n",
    "    for arr in arrays:\n",
    "        # Calculate the length of the current array\n",
    "        current_length = len(arr)\n",
    "        \n",
    "        if current_length < max_length:\n",
    "            # If the current array is shorter than the maximum length, extend it\n",
    "            # Create a placeholder for the new elements\n",
    "            new_elements = []\n",
    "            \n",
    "            for i in range(current_length, max_length):\n",
    "                # Calculate the average for this position from other arrays\n",
    "                # Filter out arrays that are shorter than the current index\n",
    "                valid_values = [other_arr[i] for other_arr in arrays if len(other_arr) > i]\n",
    "                # Compute the average\n",
    "                avg_value = np.mean(valid_values)\n",
    "                new_elements.append(avg_value)\n",
    "            \n",
    "            # Append the new elements to the original array\n",
    "            extended_arr = np.concatenate([arr, new_elements])\n",
    "        else:\n",
    "            # If the current array is already the maximum length, keep it as is\n",
    "            extended_arr = arr\n",
    "        \n",
    "        # Add the extended array to the list\n",
    "        extended_arrays.append(extended_arr)\n",
    "    \n",
    "    return extended_arrays"
   ]
  },
  {
   "cell_type": "code",
   "execution_count": 20,
   "metadata": {},
   "outputs": [],
   "source": [
    "history_dict = {}\n",
    "\n",
    "history_dict['loss'] = extend_arrays_to_max_length(loss_list)\n",
    "history_dict['val_loss'] = extend_arrays_to_max_length(val_loss_list)\n",
    "history_dict['val_acc'] = extend_arrays_to_max_length(val_accuracy_list)\n",
    "history_dict['acc'] = extend_arrays_to_max_length(accuracy_list)\n"
   ]
  },
  {
   "cell_type": "markdown",
   "metadata": {},
   "source": [
    "## Model Performance"
   ]
  },
  {
   "cell_type": "code",
   "execution_count": 21,
   "metadata": {},
   "outputs": [
    {
     "data": {
      "text/plain": [
       "[]"
      ]
     },
     "execution_count": 21,
     "metadata": {},
     "output_type": "execute_result"
    },
    {
     "data": {
      "image/png": "[encoded data removed]",
      "text/plain": [
       "<Figure size 640x480 with 1 Axes>"
      ]
     },
     "metadata": {},
     "output_type": "display_data"
    }
   ],
   "source": [
    "import matplotlib.pyplot as plt\n",
    "\n",
    "full_acc_list = []\n",
    "full_val_list = []\n",
    "for i in range(repeats):\n",
    "    full_acc_list.append(history_dict['acc'][i])\n",
    "    full_val_list.append(history_dict['val_acc'][i])\n",
    "\n",
    "\n",
    "average_acc = np.mean(full_acc_list, axis = 0)\n",
    "average_val = np.mean(full_val_list, axis=0)\n",
    "std_acc = np.std(full_acc_list, axis=0)\n",
    "std_val = np.std(full_val_list, axis=0)\n",
    "\n",
    "\n",
    "epochs = range(1, len(average_acc) + 1)\n",
    "\n",
    "plt.plot(epochs, average_acc, color='darkblue', label='Training accuracy')\n",
    "plt.plot(epochs, average_val, color='darkorange', label='Validation accuracy')\n",
    "plt.fill_between(epochs, average_acc - std_acc, average_acc + std_acc, color='darkblue', alpha=.2, label=r'acc $\\pm$ 1 std. dev.')\n",
    "plt.fill_between(epochs, average_val - std_val, average_val + std_val, color='darkorange', alpha=.2, label=r'val $\\pm$ 1 std. dev.')\n",
    "plt.title(f'Training and Validation Accuracy, {repeats} repeats')\n",
    "plt.xlabel('Epoch')\n",
    "plt.ylabel('Accuracy')\n",
    "plt.legend(loc='lower right')\n",
    "plt.savefig('figures\\\\train_vs_val_acc.png', bbox_inches='tight')\n",
    "plt.plot()"
   ]
  },
  {
   "cell_type": "code",
   "execution_count": 22,
   "metadata": {},
   "outputs": [
    {
     "data": {
      "text/plain": [
       "[]"
      ]
     },
     "execution_count": 22,
     "metadata": {},
     "output_type": "execute_result"
    },
    {
     "data": {
      "image/png": "[encoded data removed]",
      "text/plain": [
       "<Figure size 640x480 with 1 Axes>"
      ]
     },
     "metadata": {},
     "output_type": "display_data"
    }
   ],
   "source": [
    "#same for loss\n",
    "\n",
    "full_loss_list = []\n",
    "full_val_loss_list = []\n",
    "for i in range(repeats):\n",
    "    full_loss_list.append(history_dict['loss'][i])\n",
    "    full_val_loss_list.append(history_dict['val_loss'][i])\n",
    "\n",
    "average_loss = np.mean(full_loss_list, axis = 0)\n",
    "average_val_loss = np.mean(full_val_loss_list, axis=0)\n",
    "std_loss = np.std(full_loss_list, axis=0)\n",
    "std_val_loss = np.std(full_val_loss_list, axis=0)\n",
    "\n",
    "\n",
    "plt.plot(epochs, average_loss, color='darkblue', label='Training accuracy')\n",
    "plt.plot(epochs, average_val_loss, color='darkorange', label='Validation accuracy')\n",
    "plt.fill_between(epochs, average_loss - std_loss, average_loss + std_loss, color='darkblue', alpha=.2, label=r'acc $\\pm$ 1 std. dev.')\n",
    "plt.fill_between(epochs, average_val_loss - std_val_loss, average_val_loss + std_val_loss, color='darkorange', alpha=.2, label=r'val $\\pm$ 1 std. dev.')\n",
    "plt.title(f'Training and Validation Accuracy, {repeats} repeats')\n",
    "plt.xlabel('Epoch')\n",
    "plt.ylabel('Accuracy')\n",
    "plt.legend(loc='lower right')\n",
    "plt.savefig('figures\\\\train_vs_val_loss.png', bbox_inches='tight')\n",
    "plt.plot()"
   ]
  },
  {
   "cell_type": "markdown",
   "metadata": {},
   "source": [
    "## ROC curve"
   ]
  },
  {
   "cell_type": "code",
   "execution_count": 24,
   "metadata": {},
   "outputs": [
    {
     "name": "stdout",
     "output_type": "stream",
     "text": [
      "\u001b[1m11/11\u001b[0m \u001b[32m━━━━━━━━━━━━━━━━━━━━\u001b[0m\u001b[37m\u001b[0m \u001b[1m2s\u001b[0m 171ms/step\n"
     ]
    },
    {
     "ename": "NameError",
     "evalue": "name 'roc_curve' is not defined",
     "output_type": "error",
     "traceback": [
      "\u001b[1;31m---------------------------------------------------------------------------\u001b[0m",
      "\u001b[1;31mNameError\u001b[0m                                 Traceback (most recent call last)",
      "Input \u001b[1;32mIn [24]\u001b[0m, in \u001b[0;36m<cell line: 7>\u001b[1;34m()\u001b[0m\n\u001b[0;32m      2\u001b[0m X_test \u001b[38;5;241m=\u001b[39m data_list[\u001b[38;5;241m0\u001b[39m][\u001b[38;5;124m'\u001b[39m\u001b[38;5;124mX_test\u001b[39m\u001b[38;5;124m'\u001b[39m]\n\u001b[0;32m      5\u001b[0m y_pred \u001b[38;5;241m=\u001b[39m model_list[\u001b[38;5;241m0\u001b[39m]\u001b[38;5;241m.\u001b[39mpredict(X_test)\n\u001b[1;32m----> 7\u001b[0m fpr, tpr, _ \u001b[38;5;241m=\u001b[39m \u001b[43mroc_curve\u001b[49m(y_test, y_pred)\n\u001b[0;32m      9\u001b[0m roc_auc \u001b[38;5;241m=\u001b[39m auc(fpr, tpr)\n\u001b[0;32m     11\u001b[0m \u001b[38;5;66;03m# plotting average ROC curve for all iterations\u001b[39;00m\n",
      "\u001b[1;31mNameError\u001b[0m: name 'roc_curve' is not defined"
     ]
    }
   ],
   "source": [
    "y_test = data_list[0]['y_test']\n",
    "X_test = data_list[0]['X_test']\n",
    "\n",
    "\n",
    "y_pred = model_list[0].predict(X_test)\n",
    "\n",
    "fpr, tpr, _ = roc_curve(y_test, y_pred)\n",
    "\n",
    "roc_auc = auc(fpr, tpr)\n",
    "\n",
    "# plotting average ROC curve for all iterations\n",
    "plt.figure()\n",
    "plt.plot(fpr, tpr, color='darkorange', label=r'Mean ROC (AUC = %0.2f $\\pm$)' % (roc_auc), lw=2, alpha=.8)\n",
    "plt.plot([0, 1], [0, 1], linestyle='--', lw=2, color='black', alpha=.8)\n",
    "plt.xlim([0.0, 1.0])\n",
    "plt.ylim([0.0, 1.0])\n",
    "plt.xlabel('False Positive Rate')\n",
    "plt.ylabel('True Positive Rate')\n",
    "plt.title('Receiver Operating Characteristic (ROC) Curve')\n",
    "plt.legend(loc=\"lower right\")\n",
    "plt.show()"
   ]
  },
  {
   "cell_type": "code",
   "execution_count": 25,
   "metadata": {},
   "outputs": [
    {
     "name": "stdout",
     "output_type": "stream",
     "text": [
      "\u001b[1m11/11\u001b[0m \u001b[32m━━━━━━━━━━━━━━━━━━━━\u001b[0m\u001b[37m\u001b[0m \u001b[1m2s\u001b[0m 155ms/step\n"
     ]
    }
   ],
   "source": [
    "from sklearn.metrics import roc_curve, auc\n",
    "\n",
    "\n",
    "mean_fpr = np.linspace(0, 1, 100)#roc_curve produces different length arrays so need to standardise\n",
    "\n",
    "auc_list = []\n",
    "interp_tpr_list = []\n",
    "for i in range(repeats):\n",
    "    y_test = data_list[i]['y_test']\n",
    "    X_test = data_list[i]['X_test']\n",
    "\n",
    "    y_pred = model_list[i].predict(X_test)\n",
    "    \n",
    "    fpr, tpr, _ = roc_curve(y_test, y_pred)\n",
    "\n",
    "    auc_list.append(auc(fpr, tpr))\n",
    "\n",
    "    #need to interpolate everything so they are the desired length\n",
    "    interp_tpr_list.append(np.interp(mean_fpr, fpr, tpr))\n",
    "\n",
    "\n",
    "\n",
    "mean_tpr = np.mean(interp_tpr_list, axis = 0)\n",
    "mean_auc = np.mean(auc_list, axis=0)\n",
    "\n",
    "std_tpr = np.std(interp_tpr_list, axis=0)\n",
    "std_auc = np.std(auc_list, axis=0)\n"
   ]
  },
  {
   "cell_type": "code",
   "execution_count": 26,
   "metadata": {},
   "outputs": [
    {
     "data": {
      "image/png": "[encoded data removed]",
      "text/plain": [
       "<Figure size 640x480 with 1 Axes>"
      ]
     },
     "metadata": {},
     "output_type": "display_data"
    }
   ],
   "source": [
    "# plotting average ROC curve for all iterations\n",
    "plt.figure()\n",
    "plt.plot(mean_fpr, mean_tpr, color='darkorange', label=r'Mean ROC (AUC = %0.2f $\\pm$ %0.2f)' % (mean_auc, std_auc), lw=2, alpha=.8)\n",
    "plt.fill_between(mean_fpr, mean_tpr - std_tpr, mean_tpr + std_tpr, color='darkorange', alpha=.2, label=r'$\\pm$ 1 std. dev.')\n",
    "plt.plot([0, 1], [0, 1], linestyle='--', lw=2, color='black', alpha=.8)\n",
    "plt.xlim([0.0, 1.0])\n",
    "plt.ylim([0.0, 1.0])\n",
    "plt.xlabel('False Positive Rate')\n",
    "plt.ylabel('True Positive Rate')\n",
    "plt.title('Receiver Operating Characteristic (ROC) Curve')\n",
    "plt.legend(loc=\"lower right\")\n",
    "plt.savefig('figures\\\\ROC_CNN.png', bbox_inches='tight')\n",
    "plt.show()"
   ]
  },
  {
   "cell_type": "markdown",
   "metadata": {},
   "source": [
    "## Confusion Matrix"
   ]
  },
  {
   "cell_type": "code",
   "execution_count": 27,
   "metadata": {},
   "outputs": [
    {
     "name": "stdout",
     "output_type": "stream",
     "text": [
      "\u001b[1m11/11\u001b[0m \u001b[32m━━━━━━━━━━━━━━━━━━━━\u001b[0m\u001b[37m\u001b[0m \u001b[1m2s\u001b[0m 151ms/step\n"
     ]
    },
    {
     "data": {
      "image/png": "[encoded data removed]",
      "text/plain": [
       "<Figure size 800x600 with 2 Axes>"
      ]
     },
     "metadata": {},
     "output_type": "display_data"
    }
   ],
   "source": [
    "from sklearn.metrics import confusion_matrix\n",
    "import matplotlib.pyplot as plt\n",
    "\n",
    "\n",
    "# need to average a load of confusion matrices\n",
    "cm_sum = np.zeros((2, 2), dtype=int)  # 2*2 for binary classification\n",
    "cm_list = []\n",
    "for i in range(repeats):\n",
    "    y_test = data_list[i]['y_test']\n",
    "    X_test = data_list[i]['X_test']\n",
    "\n",
    "    y_pred = model_list[i].predict(X_test)\n",
    "\n",
    "    threshold = 1-np.sum(y_test)/len(y_test)\n",
    "\n",
    "    y_pred_encoded = (y_pred > threshold).astype(int)\n",
    "\n",
    "    cm = confusion_matrix(y_test, y_pred_encoded)\n",
    "    cm_sum += cm\n",
    "\n",
    "    cm_list.append(cm)\n",
    "\n",
    "\n",
    "# average total cm \n",
    "cm_avg = cm_sum / repeats\n",
    "\n",
    "# Calculate the variance and standard deviation\n",
    "cm_variance = np.zeros((2, 2), dtype=float)\n",
    "for cm in cm_list:\n",
    "    cm_variance += (cm - cm_avg) ** 2\n",
    "\n",
    "cm_variance /= repeats\n",
    "cm_std_dev = np.sqrt(cm_variance)\n",
    "\n",
    "# rounding to integers\n",
    "cm_avg_rounded = np.round(cm_avg).astype(int)\n",
    "cm_std_dev_rounded = np.round(cm_std_dev).astype(int)\n",
    "\n",
    "\n",
    "import seaborn as sns\n",
    "\n",
    "plt.figure(figsize=(8, 6))\n",
    "sns.heatmap(cm_avg_rounded, annot=True, fmt='d', cmap='Blues', xticklabels=['Unhealthy', 'Healthy'], yticklabels=['Unhealthy', 'Healthy'])\n",
    "plt.xlabel('Predicted Label')\n",
    "plt.ylabel('True Label')\n",
    "plt.title('Confusion Matrix')\n",
    "plt.savefig('figures\\\\confusion_matrix_CNN.png', bbox_inches='tight')\n",
    "plt.show()"
   ]
  },
  {
   "cell_type": "code",
   "execution_count": 28,
   "metadata": {},
   "outputs": [
    {
     "data": {
      "image/png": "[encoded data removed]",
      "text/plain": [
       "<Figure size 800x600 with 2 Axes>"
      ]
     },
     "metadata": {},
     "output_type": "display_data"
    }
   ],
   "source": [
    "# Create the heatmap\n",
    "plt.figure(figsize=(8, 6))\n",
    "ax = sns.heatmap(cm_avg, annot=False, cmap='Blues', xticklabels=['Unhealthy', 'Healthy'], yticklabels=['Unhealthy', 'Healthy'])\n",
    "\n",
    "# Add annotations for both average values and standard deviation\n",
    "for i in range(cm_avg.shape[0]):\n",
    "    for j in range(cm_avg.shape[1]):\n",
    "        plt.text(j + 0.5, i + 0.5, f'{cm_avg_rounded[i, j]}\\n±{cm_std_dev_rounded[i, j]}', \n",
    "                 ha='center', va='center', color='black')\n",
    "\n",
    "plt.xlabel('Predicted Label')\n",
    "plt.ylabel('True Label')\n",
    "plt.title('Average Confusion Matrix with Standard Deviation')\n",
    "plt.savefig('figures/confusion_matrix_CNN.png', bbox_inches='tight')\n",
    "plt.show()"
   ]
  },
  {
   "cell_type": "markdown",
   "metadata": {},
   "source": [
    "## How results vary with different train test splits"
   ]
  },
  {
   "cell_type": "code",
   "execution_count": 73,
   "metadata": {},
   "outputs": [
    {
     "name": "stdout",
     "output_type": "stream",
     "text": [
      "Filtering Database\n"
     ]
    },
    {
     "name": "stderr",
     "output_type": "stream",
     "text": [
      "100%|██████████| 549/549 [01:24<00:00,  6.47it/s]\n",
      "100%|██████████| 221/221 [00:02<00:00, 80.34it/s] \n"
     ]
    },
    {
     "name": "stdout",
     "output_type": "stream",
     "text": [
      "splitting data into test and train\n"
     ]
    },
    {
     "name": "stderr",
     "output_type": "stream",
     "text": [
      "c:\\Users\\court\\Documents\\anaconda\\envs\\ECG-project\\lib\\site-packages\\keras\\src\\layers\\convolutional\\base_conv.py:107: UserWarning: Do not pass an `input_shape`/`input_dim` argument to a layer. When using Sequential models, prefer using an `Input(shape)` object as the first layer in the model instead.\n",
      "  super().__init__(activity_regularizer=activity_regularizer, **kwargs)\n"
     ]
    },
    {
     "name": "stdout",
     "output_type": "stream",
     "text": [
      "Epoch 1/20\n",
      "\u001b[1m56/56\u001b[0m \u001b[32m━━━━━━━━━━━━━━━━━━━━\u001b[0m\u001b[37m\u001b[0m \u001b[1m31s\u001b[0m 429ms/step - accuracy: 0.5659 - loss: 25.9120 - val_accuracy: 0.8899 - val_loss: 0.5425\n",
      "Epoch 2/20\n",
      "\u001b[1m56/56\u001b[0m \u001b[32m━━━━━━━━━━━━━━━━━━━━\u001b[0m\u001b[37m\u001b[0m \u001b[1m21s\u001b[0m 372ms/step - accuracy: 0.8707 - loss: 1.5601 - val_accuracy: 0.5727 - val_loss: 3.8302\n",
      "Epoch 3/20\n",
      "\u001b[1m56/56\u001b[0m \u001b[32m━━━━━━━━━━━━━━━━━━━━\u001b[0m\u001b[37m\u001b[0m \u001b[1m20s\u001b[0m 360ms/step - accuracy: 0.8500 - loss: 2.5814 - val_accuracy: 0.5859 - val_loss: 2.5297\n",
      "Epoch 4/20\n",
      "\u001b[1m56/56\u001b[0m \u001b[32m━━━━━━━━━━━━━━━━━━━━\u001b[0m\u001b[37m\u001b[0m \u001b[1m21s\u001b[0m 367ms/step - accuracy: 0.8521 - loss: 1.6452 - val_accuracy: 0.9075 - val_loss: 0.4202\n",
      "Epoch 5/20\n",
      "\u001b[1m56/56\u001b[0m \u001b[32m━━━━━━━━━━━━━━━━━━━━\u001b[0m\u001b[37m\u001b[0m \u001b[1m20s\u001b[0m 351ms/step - accuracy: 0.9288 - loss: 0.8235 - val_accuracy: 0.8326 - val_loss: 0.8548\n",
      "Epoch 6/20\n",
      "\u001b[1m56/56\u001b[0m \u001b[32m━━━━━━━━━━━━━━━━━━━━\u001b[0m\u001b[37m\u001b[0m \u001b[1m20s\u001b[0m 358ms/step - accuracy: 0.9512 - loss: 0.3927 - val_accuracy: 0.8282 - val_loss: 0.5530\n",
      "Epoch 7/20\n",
      "\u001b[1m56/56\u001b[0m \u001b[32m━━━━━━━━━━━━━━━━━━━━\u001b[0m\u001b[37m\u001b[0m \u001b[1m20s\u001b[0m 356ms/step - accuracy: 0.9371 - loss: 0.3632 - val_accuracy: 0.8943 - val_loss: 0.4872\n",
      "Epoch 8/20\n",
      "\u001b[1m56/56\u001b[0m \u001b[32m━━━━━━━━━━━━━━━━━━━━\u001b[0m\u001b[37m\u001b[0m \u001b[1m20s\u001b[0m 357ms/step - accuracy: 0.9657 - loss: 0.1559 - val_accuracy: 0.9427 - val_loss: 0.2669\n",
      "Epoch 9/20\n",
      "\u001b[1m56/56\u001b[0m \u001b[32m━━━━━━━━━━━━━━━━━━━━\u001b[0m\u001b[37m\u001b[0m \u001b[1m20s\u001b[0m 357ms/step - accuracy: 0.9727 - loss: 0.1937 - val_accuracy: 0.9604 - val_loss: 0.1999\n",
      "Epoch 10/20\n",
      "\u001b[1m56/56\u001b[0m \u001b[32m━━━━━━━━━━━━━━━━━━━━\u001b[0m\u001b[37m\u001b[0m \u001b[1m20s\u001b[0m 358ms/step - accuracy: 0.9960 - loss: 0.0130 - val_accuracy: 0.9251 - val_loss: 0.1988\n",
      "Epoch 11/20\n",
      "\u001b[1m56/56\u001b[0m \u001b[32m━━━━━━━━━━━━━━━━━━━━\u001b[0m\u001b[37m\u001b[0m \u001b[1m20s\u001b[0m 364ms/step - accuracy: 1.0000 - loss: 0.0049 - val_accuracy: 0.9559 - val_loss: 0.1548\n",
      "Epoch 12/20\n",
      "\u001b[1m56/56\u001b[0m \u001b[32m━━━━━━━━━━━━━━━━━━━━\u001b[0m\u001b[37m\u001b[0m \u001b[1m20s\u001b[0m 348ms/step - accuracy: 1.0000 - loss: 0.0041 - val_accuracy: 0.9780 - val_loss: 0.1870\n",
      "Epoch 13/20\n",
      "\u001b[1m56/56\u001b[0m \u001b[32m━━━━━━━━━━━━━━━━━━━━\u001b[0m\u001b[37m\u001b[0m \u001b[1m20s\u001b[0m 358ms/step - accuracy: 1.0000 - loss: 0.0025 - val_accuracy: 0.9780 - val_loss: 0.1837\n",
      "Epoch 14/20\n",
      "\u001b[1m56/56\u001b[0m \u001b[32m━━━━━━━━━━━━━━━━━━━━\u001b[0m\u001b[37m\u001b[0m \u001b[1m21s\u001b[0m 382ms/step - accuracy: 0.9967 - loss: 0.0063 - val_accuracy: 0.9427 - val_loss: 0.1981\n",
      "Epoch 15/20\n",
      "\u001b[1m56/56\u001b[0m \u001b[32m━━━━━━━━━━━━━━━━━━━━\u001b[0m\u001b[37m\u001b[0m \u001b[1m22s\u001b[0m 388ms/step - accuracy: 1.0000 - loss: 0.0040 - val_accuracy: 0.9559 - val_loss: 0.2032\n",
      "Epoch 16/20\n",
      "\u001b[1m56/56\u001b[0m \u001b[32m━━━━━━━━━━━━━━━━━━━━\u001b[0m\u001b[37m\u001b[0m \u001b[1m21s\u001b[0m 371ms/step - accuracy: 1.0000 - loss: 0.0025 - val_accuracy: 0.9736 - val_loss: 0.1827\n",
      "Epoch 17/20\n",
      "\u001b[1m56/56\u001b[0m \u001b[32m━━━━━━━━━━━━━━━━━━━━\u001b[0m\u001b[37m\u001b[0m \u001b[1m20s\u001b[0m 353ms/step - accuracy: 1.0000 - loss: 0.0028 - val_accuracy: 0.9648 - val_loss: 0.2317\n",
      "splitting data into test and train\n"
     ]
    },
    {
     "name": "stderr",
     "output_type": "stream",
     "text": [
      "c:\\Users\\court\\Documents\\anaconda\\envs\\ECG-project\\lib\\site-packages\\keras\\src\\layers\\convolutional\\base_conv.py:107: UserWarning: Do not pass an `input_shape`/`input_dim` argument to a layer. When using Sequential models, prefer using an `Input(shape)` object as the first layer in the model instead.\n",
      "  super().__init__(activity_regularizer=activity_regularizer, **kwargs)\n"
     ]
    },
    {
     "name": "stdout",
     "output_type": "stream",
     "text": [
      "Epoch 1/20\n",
      "\u001b[1m49/49\u001b[0m \u001b[32m━━━━━━━━━━━━━━━━━━━━\u001b[0m\u001b[37m\u001b[0m \u001b[1m23s\u001b[0m 396ms/step - accuracy: 0.6220 - loss: 7.1861 - val_accuracy: 0.7270 - val_loss: 1.4056\n",
      "Epoch 2/20\n",
      "\u001b[1m49/49\u001b[0m \u001b[32m━━━━━━━━━━━━━━━━━━━━\u001b[0m\u001b[37m\u001b[0m \u001b[1m19s\u001b[0m 383ms/step - accuracy: 0.7983 - loss: 5.6835 - val_accuracy: 0.6409 - val_loss: 1.0050\n",
      "Epoch 3/20\n",
      "\u001b[1m49/49\u001b[0m \u001b[32m━━━━━━━━━━━━━━━━━━━━\u001b[0m\u001b[37m\u001b[0m \u001b[1m18s\u001b[0m 373ms/step - accuracy: 0.9135 - loss: 1.1602 - val_accuracy: 0.7240 - val_loss: 0.9444\n",
      "Epoch 4/20\n",
      "\u001b[1m49/49\u001b[0m \u001b[32m━━━━━━━━━━━━━━━━━━━━\u001b[0m\u001b[37m\u001b[0m \u001b[1m19s\u001b[0m 378ms/step - accuracy: 0.9177 - loss: 0.6385 - val_accuracy: 0.8724 - val_loss: 0.5834\n",
      "Epoch 5/20\n",
      "\u001b[1m49/49\u001b[0m \u001b[32m━━━━━━━━━━━━━━━━━━━━\u001b[0m\u001b[37m\u001b[0m \u001b[1m18s\u001b[0m 372ms/step - accuracy: 0.9040 - loss: 1.3697 - val_accuracy: 0.9050 - val_loss: 0.3810\n",
      "Epoch 6/20\n",
      "\u001b[1m49/49\u001b[0m \u001b[32m━━━━━━━━━━━━━━━━━━━━\u001b[0m\u001b[37m\u001b[0m \u001b[1m18s\u001b[0m 365ms/step - accuracy: 0.9730 - loss: 0.1850 - val_accuracy: 0.8042 - val_loss: 0.5067\n",
      "Epoch 7/20\n",
      "\u001b[1m49/49\u001b[0m \u001b[32m━━━━━━━━━━━━━━━━━━━━\u001b[0m\u001b[37m\u001b[0m \u001b[1m18s\u001b[0m 372ms/step - accuracy: 0.9851 - loss: 0.1001 - val_accuracy: 0.8576 - val_loss: 0.4661\n",
      "Epoch 8/20\n",
      "\u001b[1m49/49\u001b[0m \u001b[32m━━━━━━━━━━━━━━━━━━━━\u001b[0m\u001b[37m\u001b[0m \u001b[1m18s\u001b[0m 373ms/step - accuracy: 0.9724 - loss: 0.1257 - val_accuracy: 0.9466 - val_loss: 0.2497\n",
      "Epoch 9/20\n",
      "\u001b[1m49/49\u001b[0m \u001b[32m━━━━━━━━━━━━━━━━━━━━\u001b[0m\u001b[37m\u001b[0m \u001b[1m18s\u001b[0m 371ms/step - accuracy: 0.9848 - loss: 0.0890 - val_accuracy: 0.8665 - val_loss: 0.4043\n",
      "Epoch 10/20\n",
      "\u001b[1m49/49\u001b[0m \u001b[32m━━━━━━━━━━━━━━━━━━━━\u001b[0m\u001b[37m\u001b[0m \u001b[1m18s\u001b[0m 372ms/step - accuracy: 0.9869 - loss: 0.0551 - val_accuracy: 0.9288 - val_loss: 0.2719\n",
      "Epoch 11/20\n",
      "\u001b[1m49/49\u001b[0m \u001b[32m━━━━━━━━━━━━━━━━━━━━\u001b[0m\u001b[37m\u001b[0m \u001b[1m18s\u001b[0m 371ms/step - accuracy: 0.9915 - loss: 0.1464 - val_accuracy: 0.9407 - val_loss: 0.2565\n",
      "Epoch 12/20\n",
      "\u001b[1m49/49\u001b[0m \u001b[32m━━━━━━━━━━━━━━━━━━━━\u001b[0m\u001b[37m\u001b[0m \u001b[1m18s\u001b[0m 370ms/step - accuracy: 0.9995 - loss: 0.0043 - val_accuracy: 0.9258 - val_loss: 0.2862\n",
      "Epoch 13/20\n",
      "\u001b[1m49/49\u001b[0m \u001b[32m━━━━━━━━━━━━━━━━━━━━\u001b[0m\u001b[37m\u001b[0m \u001b[1m19s\u001b[0m 384ms/step - accuracy: 0.9898 - loss: 0.0517 - val_accuracy: 0.9614 - val_loss: 0.2034\n",
      "Epoch 14/20\n",
      "\u001b[1m49/49\u001b[0m \u001b[32m━━━━━━━━━━━━━━━━━━━━\u001b[0m\u001b[37m\u001b[0m \u001b[1m19s\u001b[0m 381ms/step - accuracy: 1.0000 - loss: 0.0052 - val_accuracy: 0.9555 - val_loss: 0.1991\n",
      "Epoch 15/20\n",
      "\u001b[1m49/49\u001b[0m \u001b[32m━━━━━━━━━━━━━━━━━━━━\u001b[0m\u001b[37m\u001b[0m \u001b[1m18s\u001b[0m 370ms/step - accuracy: 1.0000 - loss: 0.0016 - val_accuracy: 0.9525 - val_loss: 0.2211\n",
      "Epoch 16/20\n",
      "\u001b[1m49/49\u001b[0m \u001b[32m━━━━━━━━━━━━━━━━━━━━\u001b[0m\u001b[37m\u001b[0m \u001b[1m18s\u001b[0m 373ms/step - accuracy: 1.0000 - loss: 0.0013 - val_accuracy: 0.9525 - val_loss: 0.2494\n",
      "Epoch 17/20\n",
      "\u001b[1m49/49\u001b[0m \u001b[32m━━━━━━━━━━━━━━━━━━━━\u001b[0m\u001b[37m\u001b[0m \u001b[1m21s\u001b[0m 422ms/step - accuracy: 1.0000 - loss: 0.0010 - val_accuracy: 0.9525 - val_loss: 0.2776\n",
      "Epoch 18/20\n",
      "\u001b[1m49/49\u001b[0m \u001b[32m━━━━━━━━━━━━━━━━━━━━\u001b[0m\u001b[37m\u001b[0m \u001b[1m19s\u001b[0m 381ms/step - accuracy: 1.0000 - loss: 0.0012 - val_accuracy: 0.9525 - val_loss: 0.2980\n",
      "splitting data into test and train\n"
     ]
    },
    {
     "name": "stderr",
     "output_type": "stream",
     "text": [
      "c:\\Users\\court\\Documents\\anaconda\\envs\\ECG-project\\lib\\site-packages\\keras\\src\\layers\\convolutional\\base_conv.py:107: UserWarning: Do not pass an `input_shape`/`input_dim` argument to a layer. When using Sequential models, prefer using an `Input(shape)` object as the first layer in the model instead.\n",
      "  super().__init__(activity_regularizer=activity_regularizer, **kwargs)\n"
     ]
    },
    {
     "name": "stdout",
     "output_type": "stream",
     "text": [
      "Epoch 1/20\n",
      "\u001b[1m42/42\u001b[0m \u001b[32m━━━━━━━━━━━━━━━━━━━━\u001b[0m\u001b[37m\u001b[0m \u001b[1m20s\u001b[0m 416ms/step - accuracy: 0.6563 - loss: 17.6622 - val_accuracy: 0.5200 - val_loss: 1.5399\n",
      "Epoch 2/20\n",
      "\u001b[1m42/42\u001b[0m \u001b[32m━━━━━━━━━━━━━━━━━━━━\u001b[0m\u001b[37m\u001b[0m \u001b[1m16s\u001b[0m 392ms/step - accuracy: 0.7403 - loss: 4.1578 - val_accuracy: 0.6600 - val_loss: 1.0563\n",
      "Epoch 3/20\n",
      "\u001b[1m42/42\u001b[0m \u001b[32m━━━━━━━━━━━━━━━━━━━━\u001b[0m\u001b[37m\u001b[0m \u001b[1m16s\u001b[0m 380ms/step - accuracy: 0.8652 - loss: 1.6973 - val_accuracy: 0.8378 - val_loss: 0.7574\n",
      "Epoch 4/20\n",
      "\u001b[1m42/42\u001b[0m \u001b[32m━━━━━━━━━━━━━━━━━━━━\u001b[0m\u001b[37m\u001b[0m \u001b[1m16s\u001b[0m 389ms/step - accuracy: 0.9181 - loss: 1.9331 - val_accuracy: 0.7978 - val_loss: 0.5189\n",
      "Epoch 5/20\n",
      "\u001b[1m42/42\u001b[0m \u001b[32m━━━━━━━━━━━━━━━━━━━━\u001b[0m\u001b[37m\u001b[0m \u001b[1m17s\u001b[0m 398ms/step - accuracy: 0.9445 - loss: 0.4190 - val_accuracy: 0.8711 - val_loss: 0.3971\n",
      "Epoch 6/20\n",
      "\u001b[1m42/42\u001b[0m \u001b[32m━━━━━━━━━━━━━━━━━━━━\u001b[0m\u001b[37m\u001b[0m \u001b[1m16s\u001b[0m 388ms/step - accuracy: 0.9870 - loss: 0.1547 - val_accuracy: 0.8444 - val_loss: 0.4141\n",
      "Epoch 7/20\n",
      "\u001b[1m42/42\u001b[0m \u001b[32m━━━━━━━━━━━━━━━━━━━━\u001b[0m\u001b[37m\u001b[0m \u001b[1m16s\u001b[0m 389ms/step - accuracy: 0.9709 - loss: 0.0999 - val_accuracy: 0.7867 - val_loss: 0.6064\n",
      "Epoch 8/20\n",
      "\u001b[1m42/42\u001b[0m \u001b[32m━━━━━━━━━━━━━━━━━━━━\u001b[0m\u001b[37m\u001b[0m \u001b[1m16s\u001b[0m 390ms/step - accuracy: 0.9859 - loss: 0.0626 - val_accuracy: 0.8711 - val_loss: 0.3710\n",
      "Epoch 9/20\n",
      "\u001b[1m42/42\u001b[0m \u001b[32m━━━━━━━━━━━━━━━━━━━━\u001b[0m\u001b[37m\u001b[0m \u001b[1m16s\u001b[0m 391ms/step - accuracy: 1.0000 - loss: 0.0119 - val_accuracy: 0.9044 - val_loss: 0.3010\n",
      "Epoch 10/20\n",
      "\u001b[1m42/42\u001b[0m \u001b[32m━━━━━━━━━━━━━━━━━━━━\u001b[0m\u001b[37m\u001b[0m \u001b[1m16s\u001b[0m 391ms/step - accuracy: 0.9934 - loss: 0.0495 - val_accuracy: 0.8844 - val_loss: 0.2278\n",
      "Epoch 11/20\n",
      "\u001b[1m42/42\u001b[0m \u001b[32m━━━━━━━━━━━━━━━━━━━━\u001b[0m\u001b[37m\u001b[0m \u001b[1m16s\u001b[0m 379ms/step - accuracy: 1.0000 - loss: 0.0069 - val_accuracy: 0.8911 - val_loss: 0.2481\n",
      "Epoch 12/20\n",
      "\u001b[1m42/42\u001b[0m \u001b[32m━━━━━━━━━━━━━━━━━━━━\u001b[0m\u001b[37m\u001b[0m \u001b[1m16s\u001b[0m 390ms/step - accuracy: 1.0000 - loss: 0.0041 - val_accuracy: 0.9200 - val_loss: 0.1979\n",
      "Epoch 13/20\n",
      "\u001b[1m42/42\u001b[0m \u001b[32m━━━━━━━━━━━━━━━━━━━━\u001b[0m\u001b[37m\u001b[0m \u001b[1m16s\u001b[0m 391ms/step - accuracy: 1.0000 - loss: 0.0042 - val_accuracy: 0.9511 - val_loss: 0.1351\n",
      "Epoch 14/20\n",
      "\u001b[1m42/42\u001b[0m \u001b[32m━━━━━━━━━━━━━━━━━━━━\u001b[0m\u001b[37m\u001b[0m \u001b[1m17s\u001b[0m 394ms/step - accuracy: 0.9985 - loss: 0.0042 - val_accuracy: 0.9467 - val_loss: 0.1798\n",
      "Epoch 15/20\n",
      "\u001b[1m42/42\u001b[0m \u001b[32m━━━━━━━━━━━━━━━━━━━━\u001b[0m\u001b[37m\u001b[0m \u001b[1m16s\u001b[0m 383ms/step - accuracy: 1.0000 - loss: 0.0028 - val_accuracy: 0.9511 - val_loss: 0.1798\n",
      "Epoch 16/20\n",
      "\u001b[1m42/42\u001b[0m \u001b[32m━━━━━━━━━━━━━━━━━━━━\u001b[0m\u001b[37m\u001b[0m \u001b[1m17s\u001b[0m 393ms/step - accuracy: 1.0000 - loss: 0.0032 - val_accuracy: 0.9489 - val_loss: 0.1745\n",
      "Epoch 17/20\n",
      "\u001b[1m42/42\u001b[0m \u001b[32m━━━━━━━━━━━━━━━━━━━━\u001b[0m\u001b[37m\u001b[0m \u001b[1m17s\u001b[0m 409ms/step - accuracy: 1.0000 - loss: 0.0031 - val_accuracy: 0.9489 - val_loss: 0.1856\n",
      "Epoch 18/20\n",
      "\u001b[1m42/42\u001b[0m \u001b[32m━━━━━━━━━━━━━━━━━━━━\u001b[0m\u001b[37m\u001b[0m \u001b[1m16s\u001b[0m 392ms/step - accuracy: 1.0000 - loss: 0.0047 - val_accuracy: 0.9511 - val_loss: 0.1573\n",
      "splitting data into test and train\n"
     ]
    },
    {
     "name": "stderr",
     "output_type": "stream",
     "text": [
      "c:\\Users\\court\\Documents\\anaconda\\envs\\ECG-project\\lib\\site-packages\\keras\\src\\layers\\convolutional\\base_conv.py:107: UserWarning: Do not pass an `input_shape`/`input_dim` argument to a layer. When using Sequential models, prefer using an `Input(shape)` object as the first layer in the model instead.\n",
      "  super().__init__(activity_regularizer=activity_regularizer, **kwargs)\n"
     ]
    },
    {
     "name": "stdout",
     "output_type": "stream",
     "text": [
      "Epoch 1/20\n",
      "\u001b[1m35/35\u001b[0m \u001b[32m━━━━━━━━━━━━━━━━━━━━\u001b[0m\u001b[37m\u001b[0m \u001b[1m19s\u001b[0m 467ms/step - accuracy: 0.5551 - loss: 24.5184 - val_accuracy: 0.4482 - val_loss: 6.0333\n",
      "Epoch 2/20\n",
      "\u001b[1m35/35\u001b[0m \u001b[32m━━━━━━━━━━━━━━━━━━━━\u001b[0m\u001b[37m\u001b[0m \u001b[1m15s\u001b[0m 441ms/step - accuracy: 0.7068 - loss: 14.5281 - val_accuracy: 0.8554 - val_loss: 0.4825\n",
      "Epoch 3/20\n",
      "\u001b[1m35/35\u001b[0m \u001b[32m━━━━━━━━━━━━━━━━━━━━\u001b[0m\u001b[37m\u001b[0m \u001b[1m16s\u001b[0m 443ms/step - accuracy: 0.8542 - loss: 2.6219 - val_accuracy: 0.8696 - val_loss: 0.5466\n",
      "Epoch 4/20\n",
      "\u001b[1m35/35\u001b[0m \u001b[32m━━━━━━━━━━━━━━━━━━━━\u001b[0m\u001b[37m\u001b[0m \u001b[1m15s\u001b[0m 440ms/step - accuracy: 0.8992 - loss: 1.5403 - val_accuracy: 0.8393 - val_loss: 0.4670\n",
      "Epoch 5/20\n",
      "\u001b[1m35/35\u001b[0m \u001b[32m━━━━━━━━━━━━━━━━━━━━\u001b[0m\u001b[37m\u001b[0m \u001b[1m15s\u001b[0m 431ms/step - accuracy: 0.9229 - loss: 0.5298 - val_accuracy: 0.7661 - val_loss: 0.6887\n",
      "Epoch 6/20\n",
      "\u001b[1m35/35\u001b[0m \u001b[32m━━━━━━━━━━━━━━━━━━━━\u001b[0m\u001b[37m\u001b[0m \u001b[1m15s\u001b[0m 440ms/step - accuracy: 0.9254 - loss: 0.7764 - val_accuracy: 0.8696 - val_loss: 0.6426\n",
      "Epoch 7/20\n",
      "\u001b[1m35/35\u001b[0m \u001b[32m━━━━━━━━━━━━━━━━━━━━\u001b[0m\u001b[37m\u001b[0m \u001b[1m16s\u001b[0m 442ms/step - accuracy: 0.9259 - loss: 0.3674 - val_accuracy: 0.8107 - val_loss: 0.5747\n",
      "Epoch 8/20\n",
      "\u001b[1m35/35\u001b[0m \u001b[32m━━━━━━━━━━━━━━━━━━━━\u001b[0m\u001b[37m\u001b[0m \u001b[1m15s\u001b[0m 431ms/step - accuracy: 0.9507 - loss: 0.2726 - val_accuracy: 0.8911 - val_loss: 0.4751\n",
      "Epoch 9/20\n",
      "\u001b[1m35/35\u001b[0m \u001b[32m━━━━━━━━━━━━━━━━━━━━\u001b[0m\u001b[37m\u001b[0m \u001b[1m16s\u001b[0m 443ms/step - accuracy: 0.9902 - loss: 0.0636 - val_accuracy: 0.7946 - val_loss: 0.5759\n",
      "Epoch 10/20\n",
      "\u001b[1m35/35\u001b[0m \u001b[32m━━━━━━━━━━━━━━━━━━━━\u001b[0m\u001b[37m\u001b[0m \u001b[1m16s\u001b[0m 444ms/step - accuracy: 0.9478 - loss: 0.6330 - val_accuracy: 0.8089 - val_loss: 0.5522\n",
      "Epoch 11/20\n",
      "\u001b[1m35/35\u001b[0m \u001b[32m━━━━━━━━━━━━━━━━━━━━\u001b[0m\u001b[37m\u001b[0m \u001b[1m15s\u001b[0m 441ms/step - accuracy: 0.9852 - loss: 0.1545 - val_accuracy: 0.8839 - val_loss: 0.4024\n",
      "Epoch 12/20\n",
      "\u001b[1m35/35\u001b[0m \u001b[32m━━━━━━━━━━━━━━━━━━━━\u001b[0m\u001b[37m\u001b[0m \u001b[1m16s\u001b[0m 446ms/step - accuracy: 0.9721 - loss: 0.3115 - val_accuracy: 0.9000 - val_loss: 0.6290\n",
      "Epoch 13/20\n",
      "\u001b[1m35/35\u001b[0m \u001b[32m━━━━━━━━━━━━━━━━━━━━\u001b[0m\u001b[37m\u001b[0m \u001b[1m16s\u001b[0m 449ms/step - accuracy: 0.9391 - loss: 0.6075 - val_accuracy: 0.9089 - val_loss: 0.3745\n",
      "Epoch 14/20\n",
      "\u001b[1m35/35\u001b[0m \u001b[32m━━━━━━━━━━━━━━━━━━━━\u001b[0m\u001b[37m\u001b[0m \u001b[1m15s\u001b[0m 440ms/step - accuracy: 0.9592 - loss: 0.4827 - val_accuracy: 0.9214 - val_loss: 0.5068\n",
      "Epoch 15/20\n",
      "\u001b[1m35/35\u001b[0m \u001b[32m━━━━━━━━━━━━━━━━━━━━\u001b[0m\u001b[37m\u001b[0m \u001b[1m16s\u001b[0m 451ms/step - accuracy: 0.9709 - loss: 0.4801 - val_accuracy: 0.8732 - val_loss: 0.8524\n",
      "Epoch 16/20\n",
      "\u001b[1m35/35\u001b[0m \u001b[32m━━━━━━━━━━━━━━━━━━━━\u001b[0m\u001b[37m\u001b[0m \u001b[1m20s\u001b[0m 445ms/step - accuracy: 0.9955 - loss: 0.0275 - val_accuracy: 0.9000 - val_loss: 0.5321\n",
      "Epoch 17/20\n",
      "\u001b[1m35/35\u001b[0m \u001b[32m━━━━━━━━━━━━━━━━━━━━\u001b[0m\u001b[37m\u001b[0m \u001b[1m16s\u001b[0m 452ms/step - accuracy: 0.9906 - loss: 0.0453 - val_accuracy: 0.9268 - val_loss: 0.4435\n",
      "Epoch 18/20\n",
      "\u001b[1m35/35\u001b[0m \u001b[32m━━━━━━━━━━━━━━━━━━━━\u001b[0m\u001b[37m\u001b[0m \u001b[1m15s\u001b[0m 436ms/step - accuracy: 0.9919 - loss: 0.1211 - val_accuracy: 0.9054 - val_loss: 0.7291\n",
      "Epoch 19/20\n",
      "\u001b[1m35/35\u001b[0m \u001b[32m━━━━━━━━━━━━━━━━━━━━\u001b[0m\u001b[37m\u001b[0m \u001b[1m16s\u001b[0m 448ms/step - accuracy: 0.9790 - loss: 0.1263 - val_accuracy: 0.9143 - val_loss: 0.7264\n",
      "Epoch 20/20\n",
      "\u001b[1m35/35\u001b[0m \u001b[32m━━━━━━━━━━━━━━━━━━━━\u001b[0m\u001b[37m\u001b[0m \u001b[1m15s\u001b[0m 439ms/step - accuracy: 0.9936 - loss: 0.0548 - val_accuracy: 0.9357 - val_loss: 0.2899\n",
      "splitting data into test and train\n"
     ]
    },
    {
     "name": "stderr",
     "output_type": "stream",
     "text": [
      "c:\\Users\\court\\Documents\\anaconda\\envs\\ECG-project\\lib\\site-packages\\keras\\src\\layers\\convolutional\\base_conv.py:107: UserWarning: Do not pass an `input_shape`/`input_dim` argument to a layer. When using Sequential models, prefer using an `Input(shape)` object as the first layer in the model instead.\n",
      "  super().__init__(activity_regularizer=activity_regularizer, **kwargs)\n"
     ]
    },
    {
     "name": "stdout",
     "output_type": "stream",
     "text": [
      "Epoch 1/20\n",
      "\u001b[1m28/28\u001b[0m \u001b[32m━━━━━━━━━━━━━━━━━━━━\u001b[0m\u001b[37m\u001b[0m \u001b[1m17s\u001b[0m 486ms/step - accuracy: 0.6014 - loss: 17.1096 - val_accuracy: 0.6202 - val_loss: 3.4524\n",
      "Epoch 2/20\n",
      "\u001b[1m28/28\u001b[0m \u001b[32m━━━━━━━━━━━━━━━━━━━━\u001b[0m\u001b[37m\u001b[0m \u001b[1m13s\u001b[0m 451ms/step - accuracy: 0.7370 - loss: 5.5736 - val_accuracy: 0.6469 - val_loss: 1.3212\n",
      "Epoch 3/20\n",
      "\u001b[1m28/28\u001b[0m \u001b[32m━━━━━━━━━━━━━━━━━━━━\u001b[0m\u001b[37m\u001b[0m \u001b[1m13s\u001b[0m 472ms/step - accuracy: 0.7661 - loss: 4.4994 - val_accuracy: 0.5326 - val_loss: 2.2118\n",
      "Epoch 4/20\n",
      "\u001b[1m28/28\u001b[0m \u001b[32m━━━━━━━━━━━━━━━━━━━━\u001b[0m\u001b[37m\u001b[0m \u001b[1m20s\u001b[0m 448ms/step - accuracy: 0.8257 - loss: 3.1262 - val_accuracy: 0.8605 - val_loss: 0.4917\n",
      "Epoch 5/20\n",
      "\u001b[1m28/28\u001b[0m \u001b[32m━━━━━━━━━━━━━━━━━━━━\u001b[0m\u001b[37m\u001b[0m \u001b[1m12s\u001b[0m 447ms/step - accuracy: 0.9179 - loss: 1.1964 - val_accuracy: 0.8798 - val_loss: 0.4158\n",
      "Epoch 6/20\n",
      "\u001b[1m28/28\u001b[0m \u001b[32m━━━━━━━━━━━━━━━━━━━━\u001b[0m\u001b[37m\u001b[0m \u001b[1m21s\u001b[0m 451ms/step - accuracy: 0.8964 - loss: 1.3100 - val_accuracy: 0.6721 - val_loss: 2.0737\n",
      "Epoch 7/20\n",
      "\u001b[1m28/28\u001b[0m \u001b[32m━━━━━━━━━━━━━━━━━━━━\u001b[0m\u001b[37m\u001b[0m \u001b[1m21s\u001b[0m 451ms/step - accuracy: 0.8960 - loss: 0.7326 - val_accuracy: 0.4807 - val_loss: 2.9335\n",
      "Epoch 8/20\n",
      "\u001b[1m28/28\u001b[0m \u001b[32m━━━━━━━━━━━━━━━━━━━━\u001b[0m\u001b[37m\u001b[0m \u001b[1m12s\u001b[0m 441ms/step - accuracy: 0.8216 - loss: 3.5970 - val_accuracy: 0.8220 - val_loss: 0.6293\n",
      "Epoch 9/20\n",
      "\u001b[1m28/28\u001b[0m \u001b[32m━━━━━━━━━━━━━━━━━━━━\u001b[0m\u001b[37m\u001b[0m \u001b[1m13s\u001b[0m 455ms/step - accuracy: 0.9286 - loss: 0.7318 - val_accuracy: 0.7181 - val_loss: 1.4194\n",
      "Epoch 10/20\n",
      "\u001b[1m28/28\u001b[0m \u001b[32m━━━━━━━━━━━━━━━━━━━━\u001b[0m\u001b[37m\u001b[0m \u001b[1m12s\u001b[0m 441ms/step - accuracy: 0.8544 - loss: 2.3806 - val_accuracy: 0.6840 - val_loss: 1.3140\n",
      "splitting data into test and train\n"
     ]
    },
    {
     "name": "stderr",
     "output_type": "stream",
     "text": [
      "c:\\Users\\court\\Documents\\anaconda\\envs\\ECG-project\\lib\\site-packages\\keras\\src\\layers\\convolutional\\base_conv.py:107: UserWarning: Do not pass an `input_shape`/`input_dim` argument to a layer. When using Sequential models, prefer using an `Input(shape)` object as the first layer in the model instead.\n",
      "  super().__init__(activity_regularizer=activity_regularizer, **kwargs)\n"
     ]
    },
    {
     "name": "stdout",
     "output_type": "stream",
     "text": [
      "Epoch 1/20\n",
      "\u001b[1m28/28\u001b[0m \u001b[32m━━━━━━━━━━━━━━━━━━━━\u001b[0m\u001b[37m\u001b[0m \u001b[1m16s\u001b[0m 488ms/step - accuracy: 0.5389 - loss: 22.7748 - val_accuracy: 0.7878 - val_loss: 0.5940\n",
      "Epoch 2/20\n",
      "\u001b[1m28/28\u001b[0m \u001b[32m━━━━━━━━━━━━━━━━━━━━\u001b[0m\u001b[37m\u001b[0m \u001b[1m13s\u001b[0m 464ms/step - accuracy: 0.8020 - loss: 5.2540 - val_accuracy: 0.8249 - val_loss: 0.5467\n",
      "Epoch 3/20\n",
      "\u001b[1m28/28\u001b[0m \u001b[32m━━━━━━━━━━━━━━━━━━━━\u001b[0m\u001b[37m\u001b[0m \u001b[1m12s\u001b[0m 446ms/step - accuracy: 0.7865 - loss: 4.1361 - val_accuracy: 0.5267 - val_loss: 3.0763\n",
      "Epoch 4/20\n",
      "\u001b[1m28/28\u001b[0m \u001b[32m━━━━━━━━━━━━━━━━━━━━\u001b[0m\u001b[37m\u001b[0m \u001b[1m13s\u001b[0m 463ms/step - accuracy: 0.8569 - loss: 3.5168 - val_accuracy: 0.7493 - val_loss: 0.6295\n",
      "Epoch 5/20\n",
      "\u001b[1m28/28\u001b[0m \u001b[32m━━━━━━━━━━━━━━━━━━━━\u001b[0m\u001b[37m\u001b[0m \u001b[1m13s\u001b[0m 476ms/step - accuracy: 0.9331 - loss: 0.5363 - val_accuracy: 0.8220 - val_loss: 0.5347\n",
      "Epoch 6/20\n",
      "\u001b[1m28/28\u001b[0m \u001b[32m━━━━━━━━━━━━━━━━━━━━\u001b[0m\u001b[37m\u001b[0m \u001b[1m12s\u001b[0m 442ms/step - accuracy: 0.8470 - loss: 1.4675 - val_accuracy: 0.5386 - val_loss: 2.3993\n",
      "Epoch 7/20\n",
      "\u001b[1m28/28\u001b[0m \u001b[32m━━━━━━━━━━━━━━━━━━━━\u001b[0m\u001b[37m\u001b[0m \u001b[1m13s\u001b[0m 458ms/step - accuracy: 0.9103 - loss: 1.2339 - val_accuracy: 0.8680 - val_loss: 0.5004\n",
      "Epoch 8/20\n",
      "\u001b[1m28/28\u001b[0m \u001b[32m━━━━━━━━━━━━━━━━━━━━\u001b[0m\u001b[37m\u001b[0m \u001b[1m21s\u001b[0m 461ms/step - accuracy: 0.9746 - loss: 0.1812 - val_accuracy: 0.8576 - val_loss: 0.4872\n",
      "Epoch 9/20\n",
      "\u001b[1m28/28\u001b[0m \u001b[32m━━━━━━━━━━━━━━━━━━━━\u001b[0m\u001b[37m\u001b[0m \u001b[1m12s\u001b[0m 446ms/step - accuracy: 0.9659 - loss: 0.2024 - val_accuracy: 0.4941 - val_loss: 3.6299\n",
      "Epoch 10/20\n",
      "\u001b[1m28/28\u001b[0m \u001b[32m━━━━━━━━━━━━━━━━━━━━\u001b[0m\u001b[37m\u001b[0m \u001b[1m12s\u001b[0m 447ms/step - accuracy: 0.8357 - loss: 1.4244 - val_accuracy: 0.7552 - val_loss: 1.3988\n",
      "Epoch 11/20\n",
      "\u001b[1m28/28\u001b[0m \u001b[32m━━━━━━━━━━━━━━━━━━━━\u001b[0m\u001b[37m\u001b[0m \u001b[1m13s\u001b[0m 459ms/step - accuracy: 0.9626 - loss: 0.4081 - val_accuracy: 0.8353 - val_loss: 0.4819\n",
      "Epoch 12/20\n",
      "\u001b[1m28/28\u001b[0m \u001b[32m━━━━━━━━━━━━━━━━━━━━\u001b[0m\u001b[37m\u001b[0m \u001b[1m20s\u001b[0m 446ms/step - accuracy: 0.9488 - loss: 0.3410 - val_accuracy: 0.6929 - val_loss: 1.0879\n"
     ]
    }
   ],
   "source": [
    "#obtaining original data first, takes time to filter so done outside loop\n",
    "data, labels = get_data_CNN(splits=None, denoise_method = None)\n",
    "\n",
    "#listing different train test splits\n",
    "train_splits_list = []\n",
    "\n",
    "train_splits2 = {}\n",
    "train_splits2['train'] = 0.8\n",
    "train_splits2['test'] = 0.2\n",
    "train_splits_list.append(train_splits2)\n",
    "\n",
    "train_splits1 = {}\n",
    "train_splits1['train'] = 0.7\n",
    "train_splits1['test'] = 0.3\n",
    "train_splits_list.append(train_splits1)\n",
    "\n",
    "train_splits3 = {}\n",
    "train_splits3['train'] = 0.6\n",
    "train_splits3['test'] = 0.4\n",
    "train_splits_list.append(train_splits3)\n",
    "\n",
    "train_splits4 = {}\n",
    "train_splits4['train'] = 0.5\n",
    "train_splits4['test'] = 0.5\n",
    "train_splits_list.append(train_splits4)\n",
    "\n",
    "train_splits5 = {}\n",
    "train_splits5['train'] = 0.4\n",
    "train_splits5['test'] = 0.6\n",
    "train_splits_list.append(train_splits5)\n",
    "\n",
    "train_splits6 = {}\n",
    "train_splits6['train'] = 0.3\n",
    "train_splits6['test'] = 0.7\n",
    "train_splits_list.append(train_splits6)\n",
    "\n",
    "\n",
    "hist_list = []\n",
    "model_list = []\n",
    "data_list = []\n",
    "labels_list = []\n",
    "for i in range(0, len(train_splits_list)):\n",
    "    #splitting data\n",
    "    split_data = get_split_data(train_splits_list[i], data, labels)\n",
    "\n",
    "    #converting data to appropriate format and getting class weights\n",
    "    converted_data, full_labels, class_weights = convert_data_to_CNN_format(split_data, channel_indices = 'all')\n",
    "\n",
    "    #stating values of hyperparameters for model\n",
    "    DEPTH = 1\n",
    "    FILTERS = 16\n",
    "    k = 3\n",
    "\n",
    "    #initialising model\n",
    "    model = make_model(DEPTH, FILTERS, k, print_summary=False)\n",
    "\n",
    "    #stating values of hyperparameters for training model\n",
    "    EPOCHS = 20\n",
    "    BATCH_SIZE = 16\n",
    "\n",
    "    #should put epochs and stuff outside here\n",
    "    history, trained_model = train_model(model, converted_data, class_weights, EPOCHS, BATCH_SIZE)\n",
    "\n",
    "    hist_list.append(history)\n",
    "    model_list.append(trained_model)\n",
    "    data_list.append(converted_data)\n",
    "    labels_list.append(full_labels)"
   ]
  },
  {
   "cell_type": "code",
   "execution_count": 80,
   "metadata": {},
   "outputs": [],
   "source": [
    "losses = []\n",
    "accuracies = []\n",
    "\n",
    "for i in range(len(train_splits_list)):\n",
    "    X_test = data_list[i]['X_test']\n",
    "    y_test = data_list[i]['y_test']\n",
    "\n",
    "    loss, accuracy = model_list[i].evaluate(X_test, y_test, verbose=0)\n",
    "    losses.append(loss)\n",
    "    accuracies.append(accuracy)\n",
    "\n",
    "x_ticks_list = []\n",
    "for split in train_splits_list:\n",
    "    x_ticks_list.append(split['train'] * 100)"
   ]
  },
  {
   "cell_type": "code",
   "execution_count": 84,
   "metadata": {},
   "outputs": [
    {
     "data": {
      "image/png": "[encoded data removed]",
      "text/plain": [
       "<Figure size 640x480 with 1 Axes>"
      ]
     },
     "metadata": {},
     "output_type": "display_data"
    }
   ],
   "source": [
    "fig, axes = plt.subplots()\n",
    "\n",
    "axes.plot(x_ticks_list, losses, color='red', marker = 'd', label='loss')\n",
    "axes.plot(x_ticks_list, accuracies, color='green', marker='d', label = 'accuracy')\n",
    "axes.set_xlabel('Train Size (%)')\n",
    "axes.set_ylabel('Metric')\n",
    "axes.set_title('Performance vs Train Test Split')\n",
    "axes.legend()\n",
    "plt.savefig('figures/CNN_train_test_split.png', bbox_inches='tight')\n",
    "plt.show()"
   ]
  },
  {
   "cell_type": "markdown",
   "metadata": {},
   "source": [
    "## Results vary using different filters"
   ]
  },
  {
   "cell_type": "code",
   "execution_count": 85,
   "metadata": {},
   "outputs": [
    {
     "name": "stdout",
     "output_type": "stream",
     "text": [
      "Filtering Database\n"
     ]
    },
    {
     "name": "stderr",
     "output_type": "stream",
     "text": [
      "100%|██████████| 549/549 [01:20<00:00,  6.85it/s]\n",
      "100%|██████████| 221/221 [00:02<00:00, 75.30it/s] \n"
     ]
    },
    {
     "name": "stdout",
     "output_type": "stream",
     "text": [
      "denoising signals through butterworth filter method\n",
      "normalising signals\n",
      "splitting data into test and train\n"
     ]
    },
    {
     "name": "stderr",
     "output_type": "stream",
     "text": [
      "c:\\Users\\court\\Documents\\anaconda\\envs\\ECG-project\\lib\\site-packages\\keras\\src\\layers\\convolutional\\base_conv.py:107: UserWarning: Do not pass an `input_shape`/`input_dim` argument to a layer. When using Sequential models, prefer using an `Input(shape)` object as the first layer in the model instead.\n",
      "  super().__init__(activity_regularizer=activity_regularizer, **kwargs)\n"
     ]
    },
    {
     "name": "stdout",
     "output_type": "stream",
     "text": [
      "Epoch 1/20\n",
      "\u001b[1m49/49\u001b[0m \u001b[32m━━━━━━━━━━━━━━━━━━━━\u001b[0m\u001b[37m\u001b[0m \u001b[1m23s\u001b[0m 394ms/step - accuracy: 0.5321 - loss: 15.5275 - val_accuracy: 0.2196 - val_loss: 1.9823\n",
      "Epoch 2/20\n",
      "\u001b[1m49/49\u001b[0m \u001b[32m━━━━━━━━━━━━━━━━━━━━\u001b[0m\u001b[37m\u001b[0m \u001b[1m19s\u001b[0m 381ms/step - accuracy: 0.6319 - loss: 3.8385 - val_accuracy: 0.6499 - val_loss: 0.7394\n",
      "Epoch 3/20\n",
      "\u001b[1m49/49\u001b[0m \u001b[32m━━━━━━━━━━━━━━━━━━━━\u001b[0m\u001b[37m\u001b[0m \u001b[1m18s\u001b[0m 374ms/step - accuracy: 0.7332 - loss: 5.2534 - val_accuracy: 0.3056 - val_loss: 1.2622\n",
      "Epoch 4/20\n",
      "\u001b[1m49/49\u001b[0m \u001b[32m━━━━━━━━━━━━━━━━━━━━\u001b[0m\u001b[37m\u001b[0m \u001b[1m18s\u001b[0m 369ms/step - accuracy: 0.7084 - loss: 2.2316 - val_accuracy: 0.2196 - val_loss: 1.3111\n",
      "Epoch 5/20\n",
      "\u001b[1m49/49\u001b[0m \u001b[32m━━━━━━━━━━━━━━━━━━━━\u001b[0m\u001b[37m\u001b[0m \u001b[1m18s\u001b[0m 368ms/step - accuracy: 0.8567 - loss: 0.6420 - val_accuracy: 0.8190 - val_loss: 0.5048\n",
      "Epoch 6/20\n",
      "\u001b[1m49/49\u001b[0m \u001b[32m━━━━━━━━━━━━━━━━━━━━\u001b[0m\u001b[37m\u001b[0m \u001b[1m18s\u001b[0m 375ms/step - accuracy: 0.9459 - loss: 0.1460 - val_accuracy: 0.9050 - val_loss: 0.5800\n",
      "Epoch 7/20\n",
      "\u001b[1m49/49\u001b[0m \u001b[32m━━━━━━━━━━━━━━━━━━━━\u001b[0m\u001b[37m\u001b[0m \u001b[1m19s\u001b[0m 382ms/step - accuracy: 0.9282 - loss: 0.2237 - val_accuracy: 0.9288 - val_loss: 0.5970\n",
      "Epoch 8/20\n",
      "\u001b[1m49/49\u001b[0m \u001b[32m━━━━━━━━━━━━━━━━━━━━\u001b[0m\u001b[37m\u001b[0m \u001b[1m20s\u001b[0m 400ms/step - accuracy: 0.9627 - loss: 0.1254 - val_accuracy: 0.8605 - val_loss: 0.4765\n",
      "Epoch 9/20\n",
      "\u001b[1m49/49\u001b[0m \u001b[32m━━━━━━━━━━━━━━━━━━━━\u001b[0m\u001b[37m\u001b[0m \u001b[1m20s\u001b[0m 399ms/step - accuracy: 0.9828 - loss: 0.0695 - val_accuracy: 0.9228 - val_loss: 0.4433\n",
      "Epoch 10/20\n",
      "\u001b[1m49/49\u001b[0m \u001b[32m━━━━━━━━━━━━━━━━━━━━\u001b[0m\u001b[37m\u001b[0m \u001b[1m20s\u001b[0m 389ms/step - accuracy: 0.9987 - loss: 0.0303 - val_accuracy: 0.9169 - val_loss: 0.3761\n",
      "Epoch 11/20\n",
      "\u001b[1m49/49\u001b[0m \u001b[32m━━━━━━━━━━━━━━━━━━━━\u001b[0m\u001b[37m\u001b[0m \u001b[1m19s\u001b[0m 381ms/step - accuracy: 0.9793 - loss: 0.0804 - val_accuracy: 0.8605 - val_loss: 0.3383\n",
      "Epoch 12/20\n",
      "\u001b[1m49/49\u001b[0m \u001b[32m━━━━━━━━━━━━━━━━━━━━\u001b[0m\u001b[37m\u001b[0m \u001b[1m19s\u001b[0m 382ms/step - accuracy: 0.9746 - loss: 0.1422 - val_accuracy: 0.9021 - val_loss: 0.3225\n",
      "Filtering Database\n"
     ]
    },
    {
     "name": "stderr",
     "output_type": "stream",
     "text": [
      "100%|██████████| 549/549 [01:16<00:00,  7.14it/s]\n",
      "100%|██████████| 221/221 [00:03<00:00, 69.90it/s]\n"
     ]
    },
    {
     "name": "stdout",
     "output_type": "stream",
     "text": [
      "denoising signals through Discrete Wavelet Transform\n",
      "normalising signals\n",
      "splitting data into test and train\n"
     ]
    },
    {
     "name": "stderr",
     "output_type": "stream",
     "text": [
      "c:\\Users\\court\\Documents\\anaconda\\envs\\ECG-project\\lib\\site-packages\\keras\\src\\layers\\convolutional\\base_conv.py:107: UserWarning: Do not pass an `input_shape`/`input_dim` argument to a layer. When using Sequential models, prefer using an `Input(shape)` object as the first layer in the model instead.\n",
      "  super().__init__(activity_regularizer=activity_regularizer, **kwargs)\n"
     ]
    },
    {
     "name": "stdout",
     "output_type": "stream",
     "text": [
      "Epoch 1/20\n",
      "\u001b[1m49/49\u001b[0m \u001b[32m━━━━━━━━━━━━━━━━━━━━\u001b[0m\u001b[37m\u001b[0m \u001b[1m24s\u001b[0m 395ms/step - accuracy: 0.5457 - loss: 17.6035 - val_accuracy: 0.4688 - val_loss: 0.6942\n",
      "Epoch 2/20\n",
      "\u001b[1m49/49\u001b[0m \u001b[32m━━━━━━━━━━━━━━━━━━━━\u001b[0m\u001b[37m\u001b[0m \u001b[1m18s\u001b[0m 371ms/step - accuracy: 0.6578 - loss: 3.6356 - val_accuracy: 0.8694 - val_loss: 0.5732\n",
      "Epoch 3/20\n",
      "\u001b[1m49/49\u001b[0m \u001b[32m━━━━━━━━━━━━━━━━━━━━\u001b[0m\u001b[37m\u001b[0m \u001b[1m19s\u001b[0m 390ms/step - accuracy: 0.8197 - loss: 2.5891 - val_accuracy: 0.7151 - val_loss: 0.6378\n",
      "Epoch 4/20\n",
      "\u001b[1m49/49\u001b[0m \u001b[32m━━━━━━━━━━━━━━━━━━━━\u001b[0m\u001b[37m\u001b[0m \u001b[1m20s\u001b[0m 375ms/step - accuracy: 0.9651 - loss: 0.1126 - val_accuracy: 0.8783 - val_loss: 0.5363\n",
      "Epoch 5/20\n",
      "\u001b[1m49/49\u001b[0m \u001b[32m━━━━━━━━━━━━━━━━━━━━\u001b[0m\u001b[37m\u001b[0m \u001b[1m18s\u001b[0m 376ms/step - accuracy: 0.9292 - loss: 0.3499 - val_accuracy: 0.3412 - val_loss: 1.7001\n",
      "Epoch 6/20\n",
      "\u001b[1m49/49\u001b[0m \u001b[32m━━━━━━━━━━━━━━━━━━━━\u001b[0m\u001b[37m\u001b[0m \u001b[1m19s\u001b[0m 379ms/step - accuracy: 0.9412 - loss: 0.2883 - val_accuracy: 0.8516 - val_loss: 0.4395\n",
      "Epoch 7/20\n",
      "\u001b[1m49/49\u001b[0m \u001b[32m━━━━━━━━━━━━━━━━━━━━\u001b[0m\u001b[37m\u001b[0m \u001b[1m18s\u001b[0m 376ms/step - accuracy: 0.9995 - loss: 0.0264 - val_accuracy: 0.9169 - val_loss: 0.3758\n",
      "Epoch 8/20\n",
      "\u001b[1m49/49\u001b[0m \u001b[32m━━━━━━━━━━━━━━━━━━━━\u001b[0m\u001b[37m\u001b[0m \u001b[1m18s\u001b[0m 368ms/step - accuracy: 1.0000 - loss: 0.0183 - val_accuracy: 0.9199 - val_loss: 0.3217\n",
      "Epoch 9/20\n",
      "\u001b[1m49/49\u001b[0m \u001b[32m━━━━━━━━━━━━━━━━━━━━\u001b[0m\u001b[37m\u001b[0m \u001b[1m18s\u001b[0m 369ms/step - accuracy: 1.0000 - loss: 0.0118 - val_accuracy: 0.9436 - val_loss: 0.2737\n",
      "Epoch 10/20\n",
      "\u001b[1m49/49\u001b[0m \u001b[32m━━━━━━━━━━━━━━━━━━━━\u001b[0m\u001b[37m\u001b[0m \u001b[1m18s\u001b[0m 374ms/step - accuracy: 0.9997 - loss: 0.0109 - val_accuracy: 0.9407 - val_loss: 0.2635\n",
      "Epoch 11/20\n",
      "\u001b[1m49/49\u001b[0m \u001b[32m━━━━━━━━━━━━━━━━━━━━\u001b[0m\u001b[37m\u001b[0m \u001b[1m18s\u001b[0m 367ms/step - accuracy: 0.9895 - loss: 0.0265 - val_accuracy: 0.9318 - val_loss: 0.2259\n",
      "Epoch 12/20\n",
      "\u001b[1m49/49\u001b[0m \u001b[32m━━━━━━━━━━━━━━━━━━━━\u001b[0m\u001b[37m\u001b[0m \u001b[1m18s\u001b[0m 370ms/step - accuracy: 0.9944 - loss: 0.0258 - val_accuracy: 0.8843 - val_loss: 0.3493\n",
      "Epoch 13/20\n",
      "\u001b[1m49/49\u001b[0m \u001b[32m━━━━━━━━━━━━━━━━━━━━\u001b[0m\u001b[37m\u001b[0m \u001b[1m19s\u001b[0m 379ms/step - accuracy: 1.0000 - loss: 0.0095 - val_accuracy: 0.9525 - val_loss: 0.2078\n",
      "Epoch 14/20\n",
      "\u001b[1m49/49\u001b[0m \u001b[32m━━━━━━━━━━━━━━━━━━━━\u001b[0m\u001b[37m\u001b[0m \u001b[1m19s\u001b[0m 377ms/step - accuracy: 1.0000 - loss: 0.0066 - val_accuracy: 0.9644 - val_loss: 0.1588\n",
      "Epoch 15/20\n",
      "\u001b[1m49/49\u001b[0m \u001b[32m━━━━━━━━━━━━━━━━━━━━\u001b[0m\u001b[37m\u001b[0m \u001b[1m18s\u001b[0m 374ms/step - accuracy: 1.0000 - loss: 0.0070 - val_accuracy: 0.9614 - val_loss: 0.1709\n",
      "Epoch 16/20\n",
      "\u001b[1m49/49\u001b[0m \u001b[32m━━━━━━━━━━━━━━━━━━━━\u001b[0m\u001b[37m\u001b[0m \u001b[1m18s\u001b[0m 372ms/step - accuracy: 1.0000 - loss: 0.0047 - val_accuracy: 0.9614 - val_loss: 0.1688\n",
      "Epoch 17/20\n",
      "\u001b[1m49/49\u001b[0m \u001b[32m━━━━━━━━━━━━━━━━━━━━\u001b[0m\u001b[37m\u001b[0m \u001b[1m18s\u001b[0m 371ms/step - accuracy: 1.0000 - loss: 0.0039 - val_accuracy: 0.9585 - val_loss: 0.1670\n",
      "Epoch 18/20\n",
      "\u001b[1m49/49\u001b[0m \u001b[32m━━━━━━━━━━━━━━━━━━━━\u001b[0m\u001b[37m\u001b[0m \u001b[1m18s\u001b[0m 371ms/step - accuracy: 1.0000 - loss: 0.0032 - val_accuracy: 0.9555 - val_loss: 0.1783\n",
      "Epoch 19/20\n",
      "\u001b[1m49/49\u001b[0m \u001b[32m━━━━━━━━━━━━━━━━━━━━\u001b[0m\u001b[37m\u001b[0m \u001b[1m18s\u001b[0m 376ms/step - accuracy: 1.0000 - loss: 0.0025 - val_accuracy: 0.9644 - val_loss: 0.1577\n",
      "Filtering Database\n"
     ]
    },
    {
     "name": "stderr",
     "output_type": "stream",
     "text": [
      "100%|██████████| 549/549 [01:18<00:00,  7.00it/s]\n",
      "100%|██████████| 221/221 [00:01<00:00, 178.29it/s]\n"
     ]
    },
    {
     "name": "stdout",
     "output_type": "stream",
     "text": [
      "splitting data into test and train\n"
     ]
    },
    {
     "name": "stderr",
     "output_type": "stream",
     "text": [
      "c:\\Users\\court\\Documents\\anaconda\\envs\\ECG-project\\lib\\site-packages\\keras\\src\\layers\\convolutional\\base_conv.py:107: UserWarning: Do not pass an `input_shape`/`input_dim` argument to a layer. When using Sequential models, prefer using an `Input(shape)` object as the first layer in the model instead.\n",
      "  super().__init__(activity_regularizer=activity_regularizer, **kwargs)\n"
     ]
    },
    {
     "name": "stdout",
     "output_type": "stream",
     "text": [
      "Epoch 1/20\n",
      "\u001b[1m49/49\u001b[0m \u001b[32m━━━━━━━━━━━━━━━━━━━━\u001b[0m\u001b[37m\u001b[0m \u001b[1m23s\u001b[0m 410ms/step - accuracy: 0.5873 - loss: 19.1786 - val_accuracy: 0.7864 - val_loss: 0.7688\n",
      "Epoch 2/20\n",
      "\u001b[1m49/49\u001b[0m \u001b[32m━━━━━━━━━━━━━━━━━━━━\u001b[0m\u001b[37m\u001b[0m \u001b[1m19s\u001b[0m 391ms/step - accuracy: 0.7361 - loss: 3.8866 - val_accuracy: 0.6617 - val_loss: 1.7415\n",
      "Epoch 3/20\n",
      "\u001b[1m49/49\u001b[0m \u001b[32m━━━━━━━━━━━━━━━━━━━━\u001b[0m\u001b[37m\u001b[0m \u001b[1m19s\u001b[0m 390ms/step - accuracy: 0.8624 - loss: 4.4042 - val_accuracy: 0.7596 - val_loss: 0.7538\n",
      "Epoch 4/20\n",
      "\u001b[1m49/49\u001b[0m \u001b[32m━━━━━━━━━━━━━━━━━━━━\u001b[0m\u001b[37m\u001b[0m \u001b[1m19s\u001b[0m 388ms/step - accuracy: 0.9258 - loss: 0.4956 - val_accuracy: 0.9169 - val_loss: 0.3123\n",
      "Epoch 5/20\n",
      "\u001b[1m49/49\u001b[0m \u001b[32m━━━━━━━━━━━━━━━━━━━━\u001b[0m\u001b[37m\u001b[0m \u001b[1m19s\u001b[0m 378ms/step - accuracy: 0.9355 - loss: 0.4567 - val_accuracy: 0.7478 - val_loss: 1.2268\n",
      "Epoch 6/20\n",
      "\u001b[1m49/49\u001b[0m \u001b[32m━━━━━━━━━━━━━━━━━━━━\u001b[0m\u001b[37m\u001b[0m \u001b[1m19s\u001b[0m 385ms/step - accuracy: 0.9687 - loss: 0.2223 - val_accuracy: 0.7953 - val_loss: 0.7092\n",
      "Epoch 7/20\n",
      "\u001b[1m49/49\u001b[0m \u001b[32m━━━━━━━━━━━━━━━━━━━━\u001b[0m\u001b[37m\u001b[0m \u001b[1m19s\u001b[0m 389ms/step - accuracy: 0.9410 - loss: 0.4846 - val_accuracy: 0.9080 - val_loss: 0.5643\n",
      "Epoch 8/20\n",
      "\u001b[1m49/49\u001b[0m \u001b[32m━━━━━━━━━━━━━━━━━━━━\u001b[0m\u001b[37m\u001b[0m \u001b[1m19s\u001b[0m 385ms/step - accuracy: 0.9813 - loss: 0.1357 - val_accuracy: 0.8249 - val_loss: 0.8413\n",
      "Epoch 9/20\n",
      "\u001b[1m49/49\u001b[0m \u001b[32m━━━━━━━━━━━━━━━━━━━━\u001b[0m\u001b[37m\u001b[0m \u001b[1m21s\u001b[0m 392ms/step - accuracy: 0.9503 - loss: 0.3411 - val_accuracy: 0.8872 - val_loss: 0.9116\n"
     ]
    }
   ],
   "source": [
    "\n",
    "different_filter_names = ['butterworth', 'DWT', None]\n",
    "\n",
    "train_splits = {}\n",
    "train_splits['train'] = 0.7\n",
    "train_splits['test'] = 0.3\n",
    "\n",
    "\n",
    "hist_list = []\n",
    "model_list = []\n",
    "data_list = []\n",
    "labels_list = []\n",
    "\n",
    "for i in range(0, len(different_filter_names)):\n",
    "    #obtaining split data within data gen as has to run anyway\n",
    "    split_data = get_data_CNN(splits=train_splits, denoise_method = different_filter_names[i])\n",
    "\n",
    "    #converting data to appropriate format and getting class weights\n",
    "    converted_data, full_labels, class_weights = convert_data_to_CNN_format(split_data, channel_indices = 'all')\n",
    "\n",
    "    #stating values of hyperparameters for model\n",
    "    DEPTH = 1\n",
    "    FILTERS = 16\n",
    "    k = 3\n",
    "\n",
    "    #initialising model\n",
    "    model = make_model(DEPTH, FILTERS, k, print_summary=False)\n",
    "\n",
    "    #stating values of hyperparameters for training model\n",
    "    EPOCHS = 20\n",
    "    BATCH_SIZE = 16\n",
    "\n",
    "    #should put epochs and stuff outside here\n",
    "    history, trained_model = train_model(model, converted_data, class_weights, EPOCHS, BATCH_SIZE)\n",
    "\n",
    "    hist_list.append(history)\n",
    "    model_list.append(trained_model)\n",
    "    data_list.append(converted_data)\n",
    "    labels_list.append(full_labels)"
   ]
  },
  {
   "cell_type": "code",
   "execution_count": 86,
   "metadata": {},
   "outputs": [],
   "source": [
    "losses = []\n",
    "accuracies = []\n",
    "\n",
    "for i in range(len(different_filter_names)):\n",
    "    X_test = data_list[i]['X_test']\n",
    "    y_test = data_list[i]['y_test']\n",
    "\n",
    "    loss, accuracy = model_list[i].evaluate(X_test, y_test, verbose=0)\n",
    "    losses.append(loss)\n",
    "    accuracies.append(accuracy)"
   ]
  },
  {
   "cell_type": "code",
   "execution_count": 92,
   "metadata": {},
   "outputs": [
    {
     "data": {
      "image/png": "[encoded data removed]",
      "text/plain": [
       "<Figure size 640x480 with 2 Axes>"
      ]
     },
     "metadata": {},
     "output_type": "display_data"
    }
   ],
   "source": [
    "fig, ax1 = plt.subplots()\n",
    "\n",
    "filter_names = ['Butterworth', 'DWT', 'No Filter']\n",
    "\n",
    "# Define bar width\n",
    "bar_width = 0.35\n",
    "\n",
    "# Define positions for the bars\n",
    "index = np.arange(len(filter_names))\n",
    "\n",
    "# Plotting loss bars\n",
    "loss_bars = ax1.bar(index, losses, bar_width, label='Loss', color='red')\n",
    "\n",
    "# Set axis labels and title\n",
    "ax1.set_xlabel('Filter Type')\n",
    "ax1.set_ylabel('Loss', color='red')\n",
    "ax1.set_title('Loss and Accuracy by Filter Type')\n",
    "ax1.set_xticks(index + bar_width/2)\n",
    "ax1.set_xticklabels(filter_names)\n",
    "\n",
    "# Create second y-axis to plot accuracy\n",
    "ax2 = ax1.twinx()\n",
    "accuracy_bars = ax2.bar(index + bar_width, accuracies, bar_width, label='Accuracy', color='green')\n",
    "\n",
    "# Set accuracy axis label\n",
    "ax2.set_ylabel('Accuracy', color='green')\n",
    "\n",
    "# Add legends\n",
    "ax1.legend(loc='lower left')\n",
    "ax2.legend(loc='lower right')\n",
    "\n",
    "\n",
    "plt.savefig('figures/loss_accuracy_vs_filter_type.png', bbox_inches='tight')\n",
    "# Show plot\n",
    "plt.show()\n"
   ]
  },
  {
   "cell_type": "code",
   "execution_count": null,
   "metadata": {},
   "outputs": [],
   "source": []
  }
 ],
 "metadata": {
  "kernelspec": {
   "display_name": "ECG-project",
   "language": "python",
   "name": "python3"
  },
  "language_info": {
   "codemirror_mode": {
    "name": "ipython",
    "version": 3
   },
   "file_extension": ".py",
   "mimetype": "text/x-python",
   "name": "python",
   "nbconvert_exporter": "python",
   "pygments_lexer": "ipython3",
   "version": "3.10.13"
  }
 },
 "nbformat": 4,
 "nbformat_minor": 2
}
