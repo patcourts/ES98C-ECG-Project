{
 "cells": [
  {
   "cell_type": "markdown",
   "metadata": {},
   "source": [
    "This notebook assumes that the database has been filtered and has access to this filtered dataset. The notebook performs the relevant denoising and preprocessing on the signals in the database. In line with literature this notebook has provides functionality for both the butterworth filter and the Discrete Wavelet Transfrom (DWT) as methods to remove noise and baseline wander from the raw data."
   ]
  },
  {
   "cell_type": "code",
   "execution_count": 1,
   "metadata": {},
   "outputs": [
    {
     "name": "stderr",
     "output_type": "stream",
     "text": [
      "100%|████████████████████████████████████████████████████████████████████████████████| 549/549 [00:10<00:00, 54.03it/s]\n"
     ]
    }
   ],
   "source": [
    "%run \"Database_Filtering.ipynb\" #allowing access to the filtered database"
   ]
  },
  {
   "cell_type": "code",
   "execution_count": 2,
   "metadata": {},
   "outputs": [],
   "source": [
    "from scipy.signal import butter, filtfilt #for the butterworth filter\n",
    "import pywt #for DWT\n"
   ]
  },
  {
   "cell_type": "code",
   "execution_count": 3,
   "metadata": {},
   "outputs": [
    {
     "name": "stderr",
     "output_type": "stream",
     "text": [
      "100%|███████████████████████████████████████████████████████████████████████████████| 229/229 [00:01<00:00, 194.40it/s]\n"
     ]
    }
   ],
   "source": [
    "#accessing signals within the allowed list of patients\n",
    "no_patients = allowed_patients.count_patients()\n",
    "\n",
    "signals = np.zeros(shape=(no_patients, sample_length))\n",
    "for i in tqdm(range(0, no_patients)):\n",
    "    signal = allowed_patients.get_patients(i).read_signal(['v1']).reshape(-1)\n",
    "    signals[i] = signal"
   ]
  },
  {
   "cell_type": "code",
   "execution_count": 4,
   "metadata": {},
   "outputs": [],
   "source": [
    "#high-pass butterworth filter removes baseline wander\n",
    "def butter_highpass(cutoff, fs, order=5):\n",
    "    nyquist = 0.5 * fs\n",
    "    normal_cutoff = cutoff / nyquist\n",
    "    b, a = butter(order, normal_cutoff, btype='high', analog=False)\n",
    "    return b, a\n",
    "\n",
    "#band-pass butterworth filter to remove noise\n",
    "def butter_bandpass(lowcut, highcut, fs, order=5):\n",
    "    nyquist = 0.5 * fs\n",
    "    low = lowcut / nyquist\n",
    "    high = highcut / nyquist\n",
    "    b, a = butter(order, [low, high], btype='band')\n",
    "    return b, a\n",
    "\n",
    "def denoise(signal, butter=False, DWT=False, normalise=False):\n",
    "    \n",
    "    sample_freq = 1000\n",
    "    \n",
    "    if butter and DWT:\n",
    "        print('only one filter can be applied to the data')\n",
    "        return None\n",
    "        \n",
    "    if butter:\n",
    "        cutoff_frequency = 0.5  # Cutoff frequency in Hz (remove frequencies below this)\n",
    "        b, a = butter_highpass(cutoff_frequency, sample_freq)\n",
    "        baseline_removed_signal = filtfilt(b, a, signal)\n",
    "        \n",
    "        lowcut = 1 # Lower bound of the band-pass filter\n",
    "        highcut = 50  # Upper bound of the band-pass filter\n",
    "        b, a = butter_bandpass(lowcut, highcut, sample_freq)\n",
    "        denoised_signal = filtfilt(b, a, baseline_removed_signal)\n",
    "        \n",
    "    elif DWT:\n",
    "        coeffs = pywt.wavedec(signal, wavelet='db4')\n",
    "        set_to_zero = [0, 1, 2, 3, 4]\n",
    "        level_to_zero = 9\n",
    "        for i in range(0, len(coeffs)):\n",
    "            if i in set_to_zero or i > level_to_zero:\n",
    "                coeffs[i] = np.zeros_like(coeffs[i])\n",
    "        denoised_signal = pywt.waverec(coeffs, wavelet='db4')\n",
    "        \n",
    "    if normalise:\n",
    "        norm_denoised_signal = (denoised_signal - denoised_signal.min())/(denoised_signal.max()-denoised_signal.min())\n",
    "        return norm_denoised_signal\n",
    "    return denoised_signal\n",
    "    "
   ]
  },
  {
   "cell_type": "code",
   "execution_count": 5,
   "metadata": {},
   "outputs": [],
   "source": [
    "denoised_signals = np.zeros(shape=(no_patients, sample_length))\n",
    "for i, signal in enumerate(signals):\n",
    "    denoised_signals[i] = denoise(signal, butter=True, DWT=False, normalise=True)"
   ]
  },
  {
   "cell_type": "code",
   "execution_count": null,
   "metadata": {},
   "outputs": [],
   "source": []
  }
 ],
 "metadata": {
  "kernelspec": {
   "display_name": "Python 3",
   "language": "python",
   "name": "python3"
  },
  "language_info": {
   "codemirror_mode": {
    "name": "ipython",
    "version": 3
   },
   "file_extension": ".py",
   "mimetype": "text/x-python",
   "name": "python",
   "nbconvert_exporter": "python",
   "pygments_lexer": "ipython3",
   "version": "3.8.3"
  }
 },
 "nbformat": 4,
 "nbformat_minor": 4
}
