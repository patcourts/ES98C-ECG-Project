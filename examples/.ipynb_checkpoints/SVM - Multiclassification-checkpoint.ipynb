{
 "cells": [
  {
   "cell_type": "code",
   "execution_count": 1,
   "metadata": {},
   "outputs": [
    {
     "name": "stderr",
     "output_type": "stream",
     "text": [
      "\r",
      "  0%|                                                                                          | 0/549 [00:00<?, ?it/s]"
     ]
    },
    {
     "name": "stdout",
     "output_type": "stream",
     "text": [
      "Filtering Database\n"
     ]
    },
    {
     "name": "stderr",
     "output_type": "stream",
     "text": [
      "100%|████████████████████████████████████████████████████████████████████████████████| 549/549 [00:56<00:00,  9.70it/s]\n"
     ]
    },
    {
     "name": "stdout",
     "output_type": "stream",
     "text": [
      "221 remaining out of 290\n"
     ]
    },
    {
     "data": {
      "image/png": "[encoded data removed]",
      "text/plain": [
       "<Figure size 864x720 with 1 Axes>"
      ]
     },
     "metadata": {
      "needs_background": "light"
     },
     "output_type": "display_data"
    },
    {
     "name": "stderr",
     "output_type": "stream",
     "text": [
      " 19%|███████████████▏                                                                | 42/221 [00:00<00:00, 417.69it/s]"
     ]
    },
    {
     "name": "stdout",
     "output_type": "stream",
     "text": [
      "normalising and preproccessing signals using DWT\n"
     ]
    },
    {
     "name": "stderr",
     "output_type": "stream",
     "text": [
      "100%|███████████████████████████████████████████████████████████████████████████████| 221/221 [00:01<00:00, 119.54it/s]\n"
     ]
    },
    {
     "name": "stdout",
     "output_type": "stream",
     "text": [
      "Calculating Time Domain Features\n",
      "Calculating Frequency Domain Features\n",
      "Calculating Non-Linear Domain Features\n",
      "Selecting the 4 most important features from 18 for each channel\n",
      "Selected features for channel 0:\n",
      "['rr_amps', 'mean', 'shannon_en', 'age']\n",
      "Selected features for channel 1:\n",
      "['rr_amps', 'shannon_en', 'sd_ratio', 'age']\n",
      "Selected features for channel 2:\n",
      "['rr_std', 'rr_amps', 'shannon_en', 'age']\n",
      "Selected features for channel 3:\n",
      "['rr_std', 'std', 'skews', 'age']\n",
      "Selected features for channel 4:\n",
      "['rr_amps', 'skews', 'shannon_en', 'age']\n",
      "Selected features for channel 5:\n",
      "['rr_std', 'RMSSD', 'mean', 'age']\n"
     ]
    }
   ],
   "source": [
    "%run \"Feature_Selection.ipynb\" "
   ]
  },
  {
   "cell_type": "code",
   "execution_count": 66,
   "metadata": {},
   "outputs": [],
   "source": [
    "from sklearn.model_selection import train_test_split, GridSearchCV, StratifiedKFold\n",
    "from sklearn.svm import SVC\n",
    "from sklearn.metrics import accuracy_score, classification_report, confusion_matrix, balanced_accuracy_score\n",
    "from sklearn.preprocessing import StandardScaler\n",
    "from sklearn.decomposition import PCA\n",
    "import itertools\n",
    "from sklearn.multiclass import OneVsOneClassifier"
   ]
  },
  {
   "cell_type": "code",
   "execution_count": 71,
   "metadata": {},
   "outputs": [
    {
     "data": {
      "text/plain": [
       "{'Stable angina': 1,\n",
       " 'Dysrhythmia': 9,\n",
       " 'Myocardial infarction': 130,\n",
       " 'Healthy control': 46,\n",
       " 'Myocarditis': 4,\n",
       " 'Valvular heart disease': 2,\n",
       " 'Hypertrophy': 7,\n",
       " 'Bundle branch block': 10,\n",
       " 'Cardiomyopathy': 12}"
      ]
     },
     "execution_count": 71,
     "metadata": {},
     "output_type": "execute_result"
    }
   ],
   "source": [
    "allowed_patients.get_diagnosis_counts()"
   ]
  },
  {
   "cell_type": "markdown",
   "metadata": {},
   "source": [
    "First we have to access the patients specific disease type. We can see from the plot that several disease types have very few entries. We shall ignore these and focus on the five classes with the most frequent appearances. We can further see that the data base is very heavily skewed...."
   ]
  },
  {
   "cell_type": "code",
   "execution_count": 72,
   "metadata": {},
   "outputs": [],
   "source": [
    "detailed_health_state = []\n",
    "for i in range(0, no_patients):\n",
    "    detailed_health_state.append(allowed_patients.get_patients(i).get_diagnosis())\n",
    "\n",
    "detailed_health_state = np.array(detailed_health_state)"
   ]
  },
  {
   "cell_type": "code",
   "execution_count": 73,
   "metadata": {},
   "outputs": [],
   "source": [
    "#these have very few appearances in data set so are removed\n",
    "diagnoses_to_remove = ['Stable angina', 'Myocarditis', 'Valvular heart disease', 'Hypertrophy']\n",
    "\n",
    "#finding indices with which to remove from the dataset\n",
    "diagnosis_indices = []\n",
    "new_health_state = []\n",
    "for j in range(0, no_channels):\n",
    "    filter_diagnosis = []\n",
    "    for diagnosis in detailed_health_state[nan_indices[j]]:\n",
    "        if diagnosis in diagnoses_to_remove:\n",
    "            filter_diagnosis.append(False)\n",
    "        else:\n",
    "            filter_diagnosis.append(True)\n",
    "    diagnosis_indices.append(filter_diagnosis)\n",
    "    new_health_state.append(detailed_health_state[nan_indices[j]][diagnosis_indices[j]])"
   ]
  },
  {
   "cell_type": "code",
   "execution_count": 74,
   "metadata": {},
   "outputs": [],
   "source": [
    "#creating parameter array with the required data filtered out\n",
    "no_features = len(selected_params[0])\n",
    "\n",
    "params_list = []\n",
    "for j in range(0, no_channels):\n",
    "    params_array = np.zeros(shape=(len(new_health_state[j]), no_features))\n",
    "    for i, values in enumerate(selected_params[j].values()):\n",
    "        params_array[:, i] = values[diagnosis_indices[j]]\n",
    "        \n",
    "    params_list.append(params_array)\n"
   ]
  },
  {
   "cell_type": "markdown",
   "metadata": {},
   "source": [
    "Scikit-learn has two major options for multiclass classification: OnevsRest and OnevsOne. One vs rest trains a bianry classifier for each class, trying to seperate it from the rest of the classes with the final classification based on the classifier with the highest confidence score. One vs one trains a seperate binary classifier for every pair of classes with the final prediction based on a majority voting scheme. OnevsRest has to train less classifiers however is not effective when dealing with the imbalanced classes that we have here. Therefor I shall attempt to use OnevsOne."
   ]
  },
  {
   "cell_type": "code",
   "execution_count": 107,
   "metadata": {},
   "outputs": [],
   "source": [
    "def tune_hyperparams(params, health_state, param_grid, scorer='balanced_accuracy'):\n",
    "    \n",
    "    X_train, X_test, y_train, y_test = train_test_split(params, health_state, test_size=0.3, stratify=health_state)\n",
    "    \n",
    "    # Standardize the features\n",
    "#     scaler = StandardScaler()\n",
    "#     X_train = scaler.fit_transform(X_train)\n",
    "#     X_test = scaler.transform(X_test)\n",
    "    \n",
    "    #initialise classifier\n",
    "    ovo_svm = OneVsOneClassifier(SVC(class_weight = 'balanced', probability=True))\n",
    "\n",
    "\n",
    "    # perform grid search\n",
    "    grid_search = GridSearchCV(ovo_svm, param_grid, cv=3, scoring=scorer)\n",
    "    \n",
    "    grid_search.fit(X_train, y_train)\n",
    "    \n",
    "    return grid_search.best_estimator_"
   ]
  },
  {
   "cell_type": "code",
   "execution_count": 108,
   "metadata": {},
   "outputs": [],
   "source": [
    "# define hyperparameter grid to test\n",
    "param_grid = {\n",
    "    'estimator__C': [0.01, 0.1, 1, 10],\n",
    "    'estimator__kernel': ['linear', 'rbf', 'poly'],\n",
    "    'estimator__gamma': ['scale']#including 'auto' aswell takes forever\n",
    "}\n",
    "\n",
    "\n",
    "best_estimators = []\n",
    "for i in range(0, no_channels):\n",
    "    best_estimators.append(tune_hyperparams(params_list[i], new_health_state[i], param_grid))\n",
    "    "
   ]
  },
  {
   "cell_type": "code",
   "execution_count": 109,
   "metadata": {},
   "outputs": [],
   "source": [
    "def skfold_with_probabilities(params, health_state, n_splits, best_estimator, scorer=balanced_accuracy_score):\n",
    "    \n",
    "    skf = StratifiedKFold(n_splits=n_splits, shuffle=True, random_state=42) #can do repeated skf for better validation\n",
    "    \n",
    "    probabilities = []\n",
    "    sample_percentages = []\n",
    "    y_tests = []\n",
    "    balanced_acc = []\n",
    "    test_indices = []\n",
    "    for train_index, test_index in skf.split(params, health_state):\n",
    "        #getting test and train data sets\n",
    "        X_train, X_test = params[train_index], params[test_index]\n",
    "        y_train, y_test = health_state[train_index], health_state[test_index]\n",
    "        \n",
    "        \n",
    "        #calculating percentage of healthy in training data\n",
    "        sample_percentages.append(np.mean(y_train == 'Healthy')) #how is threshold measured??? health_state[train_index]??\n",
    "        \n",
    "        #fitting data on previously calculated best estimator\n",
    "        best_estimator.fit(X_train, y_train)\n",
    "        \n",
    "        #evaluating model\n",
    "        y_pred = best_estimator.predict(X_test)\n",
    "        balanced_acc.append(balanced_accuracy_score(y_test, y_pred))\n",
    "        \n",
    "        \n",
    "        #for reconstruction of full patient data\n",
    "        test_indices.append(test_index)\n",
    "\n",
    "    return np.mean(np.array(balanced_acc))"
   ]
  },
  {
   "cell_type": "code",
   "execution_count": 110,
   "metadata": {},
   "outputs": [],
   "source": [
    "\n",
    "balanced_accuracy = []\n",
    "n_splits=3\n",
    "\n",
    "for i in range(0, no_channels):\n",
    "    bal_acc = skfold_with_probabilities(params_list[i], new_health_state[i], n_splits, best_estimators[i])\n",
    "    balanced_accuracy.append(bal_acc)"
   ]
  },
  {
   "cell_type": "code",
   "execution_count": 111,
   "metadata": {},
   "outputs": [
    {
     "data": {
      "text/html": [
       "<div>\n",
       "<style scoped>\n",
       "    .dataframe tbody tr th:only-of-type {\n",
       "        vertical-align: middle;\n",
       "    }\n",
       "\n",
       "    .dataframe tbody tr th {\n",
       "        vertical-align: top;\n",
       "    }\n",
       "\n",
       "    .dataframe thead th {\n",
       "        text-align: right;\n",
       "    }\n",
       "</style>\n",
       "<table border=\"1\" class=\"dataframe\">\n",
       "  <thead>\n",
       "    <tr style=\"text-align: right;\">\n",
       "      <th></th>\n",
       "      <th>Success Metric</th>\n",
       "      <th>Channel 1</th>\n",
       "      <th>Channel 2</th>\n",
       "      <th>Channel 3</th>\n",
       "      <th>Channel 4</th>\n",
       "      <th>Channel 5</th>\n",
       "      <th>Channel 6</th>\n",
       "    </tr>\n",
       "  </thead>\n",
       "  <tbody>\n",
       "    <tr>\n",
       "      <th>0</th>\n",
       "      <td>Objective Score</td>\n",
       "      <td>0</td>\n",
       "      <td>0</td>\n",
       "      <td>0</td>\n",
       "      <td>0</td>\n",
       "      <td>0</td>\n",
       "      <td>0</td>\n",
       "    </tr>\n",
       "    <tr>\n",
       "      <th>1</th>\n",
       "      <td>Balanced Accuracy</td>\n",
       "      <td>0.40588588588588587</td>\n",
       "      <td>0.4102564102564103</td>\n",
       "      <td>0.43514499837080484</td>\n",
       "      <td>0.4112576312576312</td>\n",
       "      <td>0.2886507936507936</td>\n",
       "      <td>0.38877899877899874</td>\n",
       "    </tr>\n",
       "  </tbody>\n",
       "</table>\n",
       "</div>"
      ],
      "text/plain": [
       "      Success Metric            Channel 1           Channel 2  \\\n",
       "0    Objective Score                    0                   0   \n",
       "1  Balanced Accuracy  0.40588588588588587  0.4102564102564103   \n",
       "\n",
       "             Channel 3           Channel 4           Channel 5  \\\n",
       "0                    0                   0                   0   \n",
       "1  0.43514499837080484  0.4112576312576312  0.2886507936507936   \n",
       "\n",
       "             Channel 6  \n",
       "0                    0  \n",
       "1  0.38877899877899874  "
      ]
     },
     "execution_count": 111,
     "metadata": {},
     "output_type": "execute_result"
    }
   ],
   "source": [
    "import pandas as pd\n",
    "\n",
    "score_accuracy = [0, 0, 0, 0, 0, 0]\n",
    "#presenting results as pandas df\n",
    "data = {\n",
    "    'Success Metric': ['Objective Score', 'Balanced Accuracy'],\n",
    "    'Channel 1': [f'{score_accuracy[0]}', f'{balanced_accuracy[0]}'],\n",
    "    'Channel 2': [f'{score_accuracy[1]}', f'{balanced_accuracy[1]}'],\n",
    "    'Channel 3': [f'{score_accuracy[2]}', f'{balanced_accuracy[2]}'],\n",
    "    'Channel 4': [f'{score_accuracy[3]}', f'{balanced_accuracy[3]}'],\n",
    "    'Channel 5': [f'{score_accuracy[4]}', f'{balanced_accuracy[4]}'],\n",
    "    'Channel 6': [f'{score_accuracy[5]}', f'{balanced_accuracy[5]}'],\n",
    "    \n",
    "}\n",
    "\n",
    "df = pd.DataFrame(data)\n",
    "\n",
    "df"
   ]
  },
  {
   "cell_type": "code",
   "execution_count": null,
   "metadata": {},
   "outputs": [],
   "source": [
    "#generate confusion matrix"
   ]
  },
  {
   "cell_type": "code",
   "execution_count": null,
   "metadata": {},
   "outputs": [],
   "source": [
    "#look at FSL"
   ]
  }
 ],
 "metadata": {
  "kernelspec": {
   "display_name": "Python 3",
   "language": "python",
   "name": "python3"
  },
  "language_info": {
   "codemirror_mode": {
    "name": "ipython",
    "version": 3
   },
   "file_extension": ".py",
   "mimetype": "text/x-python",
   "name": "python",
   "nbconvert_exporter": "python",
   "pygments_lexer": "ipython3",
   "version": "3.8.3"
  }
 },
 "nbformat": 4,
 "nbformat_minor": 4
}
