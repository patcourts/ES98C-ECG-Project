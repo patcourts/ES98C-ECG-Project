{
 "cells": [
  {
   "cell_type": "code",
   "execution_count": 1,
   "metadata": {},
   "outputs": [
    {
     "name": "stderr",
     "output_type": "stream",
     "text": [
      "100%|████████████████████████████████████████████████████████████████████████████████| 549/549 [01:22<00:00,  6.62it/s]\n",
      "100%|███████████████████████████████████████████████████████████████████████████████| 221/221 [00:01<00:00, 147.27it/s]\n"
     ]
    },
    {
     "name": "stdout",
     "output_type": "stream",
     "text": [
      "(202, 16)\n",
      "dict_keys(['rr_amps', 'lf', 'sd_ratio_outliers_removed'])\n",
      "dict_keys(['shannon_en', 'sd_ratio', 'sd_ratio_outliers_removed'])\n",
      "dict_keys(['skews', 'shannon_en', 'sd_ratio_outliers_removed'])\n",
      "dict_keys(['lf', 'shannon_en', 'sd_ratio'])\n",
      "dict_keys(['rr_std', 'rr_amps', 'skews'])\n",
      "dict_keys(['rr_std', 'pNN50', 'hf'])\n"
     ]
    }
   ],
   "source": [
    "%run \"Feature_Selection.ipynb\" "
   ]
  },
  {
   "cell_type": "code",
   "execution_count": 2,
   "metadata": {},
   "outputs": [],
   "source": [
    "from sklearn.model_selection import train_test_split, GridSearchCV, StratifiedKFold\n",
    "from sklearn.svm import SVC\n",
    "from sklearn.metrics import accuracy_score, classification_report, confusion_matrix, balanced_accuracy_score\n",
    "from sklearn.preprocessing import StandardScaler\n",
    "from sklearn.decomposition import PCA\n",
    "import itertools"
   ]
  },
  {
   "cell_type": "code",
   "execution_count": 3,
   "metadata": {},
   "outputs": [],
   "source": [
    "health_state = np.array(allowed_patients.get_diagnoses())\n",
    "\n",
    "encoded_health_state = [1 if label == 'Unhealthy' else -1 for label in health_state]"
   ]
  },
  {
   "cell_type": "code",
   "execution_count": 20,
   "metadata": {},
   "outputs": [],
   "source": [
    "def get_av_confusion_matrix(y_test, y_pred):\n",
    "    av_confusion_mat = np.zeros(shape = (len(y_test), 2, 2))\n",
    "    for i in range(0, len(y_test)):\n",
    "        av_confusion_mat[i] = confusion_matrix(y_test[i], y_pred[i])\n",
    "    return np.mean(av_confusion_mat, axis=0)\n",
    "\n",
    "def objective_score(y_test, y_pred):\n",
    "    \"\"\"\n",
    "    change to incorporate balanced accuracy \n",
    "    \"\"\"\n",
    "    balanced_acc = get_balanced_accuracy(y_test, y_pred)\n",
    "    specificity = get_specificity(y_test, y_pred)\n",
    "    f1 = get_f1_score(y_test, y_pred)\n",
    "    \n",
    "    \n",
    "    return f1*0.7 + balanced_acc*0.3\n",
    "\n",
    "def convert_multi_dict_to_array1(params_dict, nan_indices):\n",
    "    no_features = len(params_dict[0])\n",
    "    params_list = []\n",
    "    for j in range(0, no_channels):\n",
    "        params_array = np.zeros((len(health_state[nan_indices[j]]), no_features))\n",
    "        for i, values in enumerate(params_dict[j].values()):\n",
    "            params_array[:, i] = values\n",
    "        params_list.append(params_array)\n",
    "    return params_list, no_features\n"
   ]
  },
  {
   "cell_type": "markdown",
   "metadata": {},
   "source": [
    "\n",
    "\n",
    "\n",
    "First convert the dictionary containing the parameters to use for each channel into an array of suitable shape for svm models. "
   ]
  },
  {
   "cell_type": "code",
   "execution_count": 21,
   "metadata": {},
   "outputs": [
    {
     "name": "stdout",
     "output_type": "stream",
     "text": [
      "3\n"
     ]
    }
   ],
   "source": [
    "print(len(selected_params[0]))"
   ]
  },
  {
   "cell_type": "code",
   "execution_count": 22,
   "metadata": {},
   "outputs": [],
   "source": [
    "selected_params_array, no_features = convert_multi_dict_to_array1(selected_params, nan_indices)"
   ]
  },
  {
   "cell_type": "code",
   "execution_count": 28,
   "metadata": {},
   "outputs": [],
   "source": [
    "def tune_hyperparams(params, health_state, param_grid, scorer='balanced_accuracy'):\n",
    "    \n",
    "    X_train, X_test, y_train, y_test = train_test_split(params, health_state, test_size=0.3, stratify=health_state)\n",
    "    \n",
    "    #initialise classifier\n",
    "    svc = SVC(class_weight='balanced', probability = True)\n",
    "\n",
    "    # perform grid search\n",
    "    grid_search = GridSearchCV(svc, param_grid, cv=3, scoring=scorer)\n",
    "    \n",
    "    grid_search.fit(X_train, y_train)\n",
    "    \n",
    "    return grid_search.best_estimator_"
   ]
  },
  {
   "cell_type": "markdown",
   "metadata": {},
   "source": [
    "Then we are optimizing the hyperparameters that are used to train the model by perfroma grid search over the ``param_grid`` dictionary. The hyperparameters are chosen based on their optimisation of the manually defined ``scoring_function``. This takes a while as it has to perform a search over all the possible hyperparameters for each channel."
   ]
  },
  {
   "cell_type": "code",
   "execution_count": 30,
   "metadata": {},
   "outputs": [],
   "source": [
    "# define hyperparameter grid to test\n",
    "param_grid = {\n",
    "    'C': [0.01, 0.1, 1, 10],\n",
    "    'kernel': ['linear', 'rbf', 'poly'],\n",
    "    'gamma': ['scale']#including 'auto' aswell takes forever\n",
    "}\n",
    "\n",
    "\n",
    "best_estimators = []\n",
    "for i in range(0, no_channels):\n",
    "    best_estimators.append(tune_hyperparams(selected_params_array[i], health_state[nan_indices[i]], param_grid, scoring_function))\n",
    "    "
   ]
  },
  {
   "cell_type": "code",
   "execution_count": 31,
   "metadata": {},
   "outputs": [
    {
     "name": "stdout",
     "output_type": "stream",
     "text": [
      "[SVC(C=0.01, class_weight='balanced', kernel='poly', probability=True), SVC(C=10, class_weight='balanced', kernel='poly', probability=True), SVC(C=10, class_weight='balanced', kernel='poly', probability=True), SVC(C=10, class_weight='balanced', probability=True), SVC(C=0.1, class_weight='balanced', probability=True), SVC(C=1, class_weight='balanced', probability=True)]\n"
     ]
    }
   ],
   "source": [
    "print(best_estimators)"
   ]
  },
  {
   "cell_type": "markdown",
   "metadata": {},
   "source": [
    "Now using the best set of hyperparameters we perform a 3 fold stratisfied split to investigate the accuracy. Firstly we can investigate the average accuracy of each channel."
   ]
  },
  {
   "cell_type": "code",
   "execution_count": 32,
   "metadata": {},
   "outputs": [],
   "source": [
    "def skfold_with_probabilities(params, health_state, n_splits, best_estimator, scorer):\n",
    "    \n",
    "    skf = StratifiedKFold(n_splits=n_splits, shuffle=True, random_state=42) #can do repeated skf for better validation\n",
    "    \n",
    "    probabilities = []\n",
    "    sample_percentages = []\n",
    "    y_tests = []\n",
    "    balanced_accuracy = []\n",
    "    score_func = []\n",
    "    test_indices = test_index\n",
    "    for train_index, test_index in skf.split(params, health_state):\n",
    "        #getting test and train data sets\n",
    "        X_train, X_test = params[train_index], params[test_index]\n",
    "        y_train, y_test = health_state[train_index], health_state[test_index]\n",
    "        \n",
    "        \n",
    "        #calculating percentage of healthy in training data\n",
    "        sample_percentages.append(np.mean(y_train == 'Healthy')) #how is threshold measured??? health_state[train_index]??\n",
    "        \n",
    "        #fitting data on previously calculated best estimator\n",
    "        best_estimator.fit(X_train, y_train)\n",
    "        \n",
    "        #evaluating model\n",
    "        y_pred = best_estimator.predict(X_test)\n",
    "        score_func.append(scorer(best_estimator, X_train, y_test))\n",
    "        balanced_accuracy.append(get_balanced_accuracy(y_test, y_pred))\n",
    "        \n",
    "        #for evaluation of model later\n",
    "        probabilities.append(best_estimator.predict_proba(X_test))\n",
    "        y_tests.append(y_test)\n",
    "        \n",
    "        #for reconstruction of full patient data\n",
    "        test_indices.append(test_index)\n",
    "\n",
    "    return np.mean(np.array(score_func)), np.mean(np.array(balanced_accuracy)), probabilities, sample_percentages, y_tests"
   ]
  },
  {
   "cell_type": "code",
   "execution_count": 33,
   "metadata": {},
   "outputs": [],
   "source": [
    "score_accuracy = []\n",
    "balanced_accuracy = []\n",
    "n_splits=3\n",
    "\n",
    "probs = []\n",
    "thresholds = []\n",
    "y_tests = []\n",
    "test_indices = []\n",
    "\n",
    "for i in range(0, no_channels):\n",
    "    score_acc, bal_acc, prob, threshold, y_test, test_indice = skfold_with_probabilities(selected_params_array[i], health_state[nan_indices[i]], n_splits, best_estimators[i], scoring_function)\n",
    "    score_accuracy.append(score_acc)\n",
    "    balanced_accuracy.append(bal_acc)\n",
    "    probs.append(prob)\n",
    "    thresholds.append(threshold)\n",
    "    y_tests.append(y_test)\n",
    "    test_indices.append(test_indice)"
   ]
  },
  {
   "cell_type": "code",
   "execution_count": 39,
   "metadata": {},
   "outputs": [
    {
     "name": "stdout",
     "output_type": "stream",
     "text": [
      "[array(['Unhealthy', 'Unhealthy', 'Unhealthy', 'Unhealthy', 'Unhealthy',\n",
      "       'Unhealthy', 'Unhealthy', 'Unhealthy', 'Unhealthy', 'Unhealthy',\n",
      "       'Unhealthy', 'Unhealthy', 'Unhealthy', 'Unhealthy', 'Unhealthy',\n",
      "       'Unhealthy', 'Unhealthy', 'Unhealthy', 'Unhealthy', 'Unhealthy',\n",
      "       'Unhealthy', 'Unhealthy', 'Unhealthy', 'Unhealthy', 'Unhealthy',\n",
      "       'Unhealthy', 'Unhealthy', 'Unhealthy', 'Unhealthy', 'Unhealthy',\n",
      "       'Healthy', 'Unhealthy', 'Healthy', 'Unhealthy', 'Healthy',\n",
      "       'Unhealthy', 'Unhealthy', 'Unhealthy', 'Unhealthy', 'Healthy',\n",
      "       'Healthy', 'Unhealthy', 'Unhealthy', 'Unhealthy', 'Healthy',\n",
      "       'Unhealthy', 'Healthy', 'Healthy', 'Healthy', 'Healthy',\n",
      "       'Unhealthy', 'Healthy', 'Unhealthy', 'Unhealthy', 'Unhealthy',\n",
      "       'Healthy', 'Healthy', 'Unhealthy', 'Unhealthy'], dtype='<U9'), array(['Unhealthy', 'Unhealthy', 'Unhealthy', 'Unhealthy', 'Unhealthy',\n",
      "       'Unhealthy', 'Unhealthy', 'Unhealthy', 'Unhealthy', 'Unhealthy',\n",
      "       'Unhealthy', 'Unhealthy', 'Unhealthy', 'Unhealthy', 'Unhealthy',\n",
      "       'Unhealthy', 'Unhealthy', 'Unhealthy', 'Unhealthy', 'Unhealthy',\n",
      "       'Unhealthy', 'Unhealthy', 'Unhealthy', 'Unhealthy', 'Unhealthy',\n",
      "       'Unhealthy', 'Unhealthy', 'Healthy', 'Unhealthy', 'Healthy',\n",
      "       'Healthy', 'Healthy', 'Healthy', 'Unhealthy', 'Healthy', 'Healthy',\n",
      "       'Unhealthy', 'Unhealthy', 'Unhealthy', 'Unhealthy', 'Unhealthy',\n",
      "       'Unhealthy', 'Unhealthy', 'Unhealthy', 'Unhealthy', 'Unhealthy',\n",
      "       'Unhealthy', 'Unhealthy', 'Unhealthy', 'Healthy', 'Healthy',\n",
      "       'Healthy', 'Healthy', 'Healthy', 'Unhealthy', 'Unhealthy',\n",
      "       'Unhealthy', 'Healthy', 'Unhealthy'], dtype='<U9'), array(['Unhealthy', 'Unhealthy', 'Unhealthy', 'Unhealthy', 'Unhealthy',\n",
      "       'Unhealthy', 'Unhealthy', 'Unhealthy', 'Unhealthy', 'Unhealthy',\n",
      "       'Unhealthy', 'Unhealthy', 'Unhealthy', 'Unhealthy', 'Unhealthy',\n",
      "       'Unhealthy', 'Unhealthy', 'Unhealthy', 'Unhealthy', 'Unhealthy',\n",
      "       'Healthy', 'Unhealthy', 'Unhealthy', 'Healthy', 'Healthy',\n",
      "       'Unhealthy', 'Unhealthy', 'Healthy', 'Healthy', 'Unhealthy',\n",
      "       'Unhealthy', 'Unhealthy', 'Healthy', 'Healthy', 'Unhealthy',\n",
      "       'Unhealthy', 'Unhealthy', 'Unhealthy', 'Unhealthy', 'Unhealthy',\n",
      "       'Unhealthy', 'Healthy', 'Healthy', 'Healthy', 'Healthy', 'Healthy',\n",
      "       'Unhealthy', 'Unhealthy', 'Unhealthy', 'Unhealthy', 'Unhealthy',\n",
      "       'Unhealthy', 'Unhealthy', 'Unhealthy', 'Healthy', 'Unhealthy',\n",
      "       'Unhealthy', 'Unhealthy'], dtype='<U9')]\n"
     ]
    }
   ],
   "source": [
    "print(y_tests[1])"
   ]
  },
  {
   "cell_type": "code",
   "execution_count": 34,
   "metadata": {},
   "outputs": [
    {
     "data": {
      "text/html": [
       "<div>\n",
       "<style scoped>\n",
       "    .dataframe tbody tr th:only-of-type {\n",
       "        vertical-align: middle;\n",
       "    }\n",
       "\n",
       "    .dataframe tbody tr th {\n",
       "        vertical-align: top;\n",
       "    }\n",
       "\n",
       "    .dataframe thead th {\n",
       "        text-align: right;\n",
       "    }\n",
       "</style>\n",
       "<table border=\"1\" class=\"dataframe\">\n",
       "  <thead>\n",
       "    <tr style=\"text-align: right;\">\n",
       "      <th></th>\n",
       "      <th>Success Metric</th>\n",
       "      <th>Channel 1</th>\n",
       "      <th>Channel 2</th>\n",
       "      <th>Channel 3</th>\n",
       "      <th>Channel 4</th>\n",
       "      <th>Channel 5</th>\n",
       "      <th>Channel 6</th>\n",
       "    </tr>\n",
       "  </thead>\n",
       "  <tbody>\n",
       "    <tr>\n",
       "      <th>0</th>\n",
       "      <td>Objective Score</td>\n",
       "      <td>0.7312046996132976</td>\n",
       "      <td>0.7116955603154919</td>\n",
       "      <td>0.6709219192354419</td>\n",
       "      <td>0.7353605079832205</td>\n",
       "      <td>0.39532634584959264</td>\n",
       "      <td>0.7430517838772692</td>\n",
       "    </tr>\n",
       "    <tr>\n",
       "      <th>1</th>\n",
       "      <td>Balanced Accuracy</td>\n",
       "      <td>0.6392063492063492</td>\n",
       "      <td>0.7220364176885917</td>\n",
       "      <td>0.7689393939393939</td>\n",
       "      <td>0.7156224903680964</td>\n",
       "      <td>0.551058201058201</td>\n",
       "      <td>0.6977883751468656</td>\n",
       "    </tr>\n",
       "  </tbody>\n",
       "</table>\n",
       "</div>"
      ],
      "text/plain": [
       "      Success Metric           Channel 1           Channel 2  \\\n",
       "0    Objective Score  0.7312046996132976  0.7116955603154919   \n",
       "1  Balanced Accuracy  0.6392063492063492  0.7220364176885917   \n",
       "\n",
       "            Channel 3           Channel 4            Channel 5  \\\n",
       "0  0.6709219192354419  0.7353605079832205  0.39532634584959264   \n",
       "1  0.7689393939393939  0.7156224903680964    0.551058201058201   \n",
       "\n",
       "            Channel 6  \n",
       "0  0.7430517838772692  \n",
       "1  0.6977883751468656  "
      ]
     },
     "execution_count": 34,
     "metadata": {},
     "output_type": "execute_result"
    }
   ],
   "source": [
    "import pandas as pd\n",
    "\n",
    "#presenting results as pandas df\n",
    "data = {\n",
    "    'Success Metric': ['Objective Score', 'Balanced Accuracy'],\n",
    "    'Channel 1': [f'{score_accuracy[0]}', f'{balanced_accuracy[0]}'],\n",
    "    'Channel 2': [f'{score_accuracy[1]}', f'{balanced_accuracy[1]}'],\n",
    "    'Channel 3': [f'{score_accuracy[2]}', f'{balanced_accuracy[2]}'],\n",
    "    'Channel 4': [f'{score_accuracy[3]}', f'{balanced_accuracy[3]}'],\n",
    "    'Channel 5': [f'{score_accuracy[4]}', f'{balanced_accuracy[4]}'],\n",
    "    'Channel 6': [f'{score_accuracy[5]}', f'{balanced_accuracy[5]}'],\n",
    "    \n",
    "}\n",
    "\n",
    "df = pd.DataFrame(data)\n",
    "\n",
    "df"
   ]
  },
  {
   "cell_type": "markdown",
   "metadata": {},
   "source": [
    "Then can average the probabilities for each channel to get an overall accuracy for the method."
   ]
  },
  {
   "cell_type": "code",
   "execution_count": 41,
   "metadata": {},
   "outputs": [
    {
     "name": "stdout",
     "output_type": "stream",
     "text": [
      "[array([[0.17247379, 0.82752621],\n",
      "       [0.20476708, 0.79523292],\n",
      "       [0.17887641, 0.82112359],\n",
      "       [0.35500185, 0.64499815],\n",
      "       [0.16264308, 0.83735692],\n",
      "       [0.17051051, 0.82948949],\n",
      "       [0.17100177, 0.82899823],\n",
      "       [0.16394754, 0.83605246],\n",
      "       [0.17751075, 0.82248925],\n",
      "       [0.16590905, 0.83409095],\n",
      "       [0.16594226, 0.83405774],\n",
      "       [0.66720964, 0.33279036],\n",
      "       [0.395821  , 0.604179  ],\n",
      "       [0.18531225, 0.81468775],\n",
      "       [0.45044345, 0.54955655],\n",
      "       [0.23884888, 0.76115112],\n",
      "       [0.19013166, 0.80986834],\n",
      "       [0.16454678, 0.83545322],\n",
      "       [0.17201113, 0.82798887],\n",
      "       [0.35983107, 0.64016893],\n",
      "       [0.19887984, 0.80112016],\n",
      "       [0.21036031, 0.78963969],\n",
      "       [0.16497163, 0.83502837],\n",
      "       [0.17159683, 0.82840317],\n",
      "       [0.48393919, 0.51606081],\n",
      "       [0.16805078, 0.83194922],\n",
      "       [0.16492111, 0.83507889],\n",
      "       [0.21973127, 0.78026873],\n",
      "       [0.16441082, 0.83558918],\n",
      "       [0.16737797, 0.83262203],\n",
      "       [0.16658466, 0.83341534],\n",
      "       [0.16568067, 0.83431933],\n",
      "       [0.19931584, 0.80068416],\n",
      "       [0.17885457, 0.82114543],\n",
      "       [0.44015121, 0.55984879],\n",
      "       [0.27415618, 0.72584382],\n",
      "       [0.16371285, 0.83628715],\n",
      "       [0.25245187, 0.74754813],\n",
      "       [0.28931995, 0.71068005],\n",
      "       [0.51367142, 0.48632858],\n",
      "       [0.16481543, 0.83518457],\n",
      "       [0.18031875, 0.81968125],\n",
      "       [0.1699528 , 0.8300472 ],\n",
      "       [0.18822617, 0.81177383],\n",
      "       [0.24142964, 0.75857036],\n",
      "       [0.17638882, 0.82361118],\n",
      "       [0.2250152 , 0.7749848 ],\n",
      "       [0.23987564, 0.76012436],\n",
      "       [0.23049083, 0.76950917],\n",
      "       [0.16628206, 0.83371794],\n",
      "       [0.16372221, 0.83627779],\n",
      "       [0.16736339, 0.83263661],\n",
      "       [0.20845831, 0.79154169],\n",
      "       [0.71695764, 0.28304236],\n",
      "       [0.29342922, 0.70657078],\n",
      "       [0.26510201, 0.73489799],\n",
      "       [0.3722226 , 0.6277774 ],\n",
      "       [0.1848388 , 0.8151612 ],\n",
      "       [0.20343614, 0.79656386],\n",
      "       [0.16923022, 0.83076978],\n",
      "       [0.27664786, 0.72335214],\n",
      "       [0.29307598, 0.70692402],\n",
      "       [0.21162131, 0.78837869],\n",
      "       [0.47207153, 0.52792847],\n",
      "       [0.17471334, 0.82528666],\n",
      "       [0.16629161, 0.83370839]]), array([[0.17913663, 0.82086337],\n",
      "       [0.16783595, 0.83216405],\n",
      "       [0.17090406, 0.82909594],\n",
      "       [0.26054952, 0.73945048],\n",
      "       [0.16867578, 0.83132422],\n",
      "       [0.1734014 , 0.8265986 ],\n",
      "       [0.19703618, 0.80296382],\n",
      "       [0.21561999, 0.78438001],\n",
      "       [0.19028705, 0.80971295],\n",
      "       [0.24165664, 0.75834336],\n",
      "       [0.24243823, 0.75756177],\n",
      "       [0.16650947, 0.83349053],\n",
      "       [0.16718407, 0.83281593],\n",
      "       [0.2153898 , 0.7846102 ],\n",
      "       [0.22925408, 0.77074592],\n",
      "       [0.6581589 , 0.3418411 ],\n",
      "       [0.2234793 , 0.7765207 ],\n",
      "       [0.16553862, 0.83446138],\n",
      "       [0.23655884, 0.76344116],\n",
      "       [0.26308779, 0.73691221],\n",
      "       [0.47116775, 0.52883225],\n",
      "       [0.30334473, 0.69665527],\n",
      "       [0.20374626, 0.79625374],\n",
      "       [0.20612748, 0.79387252],\n",
      "       [0.167281  , 0.832719  ],\n",
      "       [0.17146287, 0.82853713],\n",
      "       [0.19701508, 0.80298492],\n",
      "       [0.16884171, 0.83115829],\n",
      "       [0.2493518 , 0.7506482 ],\n",
      "       [0.24216973, 0.75783027],\n",
      "       [0.25556104, 0.74443896],\n",
      "       [0.173487  , 0.826513  ],\n",
      "       [0.2724821 , 0.7275179 ],\n",
      "       [0.17247708, 0.82752292],\n",
      "       [0.20009192, 0.79990808],\n",
      "       [0.18227939, 0.81772061],\n",
      "       [0.35697935, 0.64302065],\n",
      "       [0.16719576, 0.83280424],\n",
      "       [0.16721967, 0.83278033],\n",
      "       [0.18784696, 0.81215304],\n",
      "       [0.1693588 , 0.8306412 ],\n",
      "       [0.16960015, 0.83039985],\n",
      "       [0.18545756, 0.81454244],\n",
      "       [0.26087854, 0.73912146],\n",
      "       [0.16925531, 0.83074469],\n",
      "       [0.16752986, 0.83247014],\n",
      "       [0.18715644, 0.81284356],\n",
      "       [0.16795775, 0.83204225],\n",
      "       [0.44246993, 0.55753007],\n",
      "       [0.1779753 , 0.8220247 ],\n",
      "       [0.47036931, 0.52963069],\n",
      "       [0.41430544, 0.58569456],\n",
      "       [0.34678642, 0.65321358],\n",
      "       [0.17990062, 0.82009938],\n",
      "       [0.27843373, 0.72156627],\n",
      "       [0.1699035 , 0.8300965 ],\n",
      "       [0.1915133 , 0.8084867 ],\n",
      "       [0.40739347, 0.59260653],\n",
      "       [0.16720497, 0.83279503],\n",
      "       [0.23177967, 0.76822033],\n",
      "       [0.175447  , 0.824553  ],\n",
      "       [0.16754164, 0.83245836],\n",
      "       [0.44325372, 0.55674628],\n",
      "       [0.16776592, 0.83223408],\n",
      "       [0.20313027, 0.79686973]]), array([[0.14432169, 0.85567831],\n",
      "       [0.18164233, 0.81835767],\n",
      "       [0.21837588, 0.78162412],\n",
      "       [0.58415313, 0.41584687],\n",
      "       [0.2102521 , 0.7897479 ],\n",
      "       [0.24425858, 0.75574142],\n",
      "       [0.1517425 , 0.8482575 ],\n",
      "       [0.14451818, 0.85548182],\n",
      "       [0.15741822, 0.84258178],\n",
      "       [0.16299853, 0.83700147],\n",
      "       [0.18477956, 0.81522044],\n",
      "       [0.15752987, 0.84247013],\n",
      "       [0.14008865, 0.85991135],\n",
      "       [0.164081  , 0.835919  ],\n",
      "       [0.14510567, 0.85489433],\n",
      "       [0.14204563, 0.85795437],\n",
      "       [0.48558113, 0.51441887],\n",
      "       [0.15873257, 0.84126743],\n",
      "       [0.1465406 , 0.8534594 ],\n",
      "       [0.14247006, 0.85752994],\n",
      "       [0.2280377 , 0.7719623 ],\n",
      "       [0.14236051, 0.85763949],\n",
      "       [0.14223   , 0.85777   ],\n",
      "       [0.44272829, 0.55727171],\n",
      "       [0.151062  , 0.848938  ],\n",
      "       [0.14111836, 0.85888164],\n",
      "       [0.14133486, 0.85866514],\n",
      "       [0.14314579, 0.85685421],\n",
      "       [0.30623904, 0.69376096],\n",
      "       [0.14740855, 0.85259145],\n",
      "       [0.19980429, 0.80019571],\n",
      "       [0.15189407, 0.84810593],\n",
      "       [0.16462411, 0.83537589],\n",
      "       [0.14106897, 0.85893103],\n",
      "       [0.26425716, 0.73574284],\n",
      "       [0.1576102 , 0.8423898 ],\n",
      "       [0.18104603, 0.81895397],\n",
      "       [0.14089142, 0.85910858],\n",
      "       [0.18149626, 0.81850374],\n",
      "       [0.16464065, 0.83535935],\n",
      "       [0.22369311, 0.77630689],\n",
      "       [0.1414697 , 0.8585303 ],\n",
      "       [0.14354485, 0.85645515],\n",
      "       [0.14498156, 0.85501844],\n",
      "       [0.20119047, 0.79880953],\n",
      "       [0.2222336 , 0.7777664 ],\n",
      "       [0.14552717, 0.85447283],\n",
      "       [0.16352826, 0.83647174],\n",
      "       [0.25373192, 0.74626808],\n",
      "       [0.17545523, 0.82454477],\n",
      "       [0.28436716, 0.71563284],\n",
      "       [0.27595326, 0.72404674],\n",
      "       [0.22635369, 0.77364631],\n",
      "       [0.21905213, 0.78094787],\n",
      "       [0.15886304, 0.84113696],\n",
      "       [0.18649979, 0.81350021],\n",
      "       [0.41477833, 0.58522167],\n",
      "       [0.17862502, 0.82137498],\n",
      "       [0.23323722, 0.76676278],\n",
      "       [0.15214548, 0.84785452],\n",
      "       [0.14652626, 0.85347374],\n",
      "       [0.14847068, 0.85152932],\n",
      "       [0.14326514, 0.85673486],\n",
      "       [0.14088425, 0.85911575],\n",
      "       [0.25238882, 0.74761118]])]\n"
     ]
    }
   ],
   "source": [
    "print(probs[0])"
   ]
  },
  {
   "cell_type": "markdown",
   "metadata": {},
   "source": [
    "As the arrays are now all different length with different patients' date having been discarded the below no longer works. will try to recreate each patients data from the array indices and test indices given by sklearn so that probabilities can be compared."
   ]
  },
  {
   "cell_type": "code",
   "execution_count": null,
   "metadata": {},
   "outputs": [],
   "source": []
  },
  {
   "cell_type": "code",
   "execution_count": 35,
   "metadata": {},
   "outputs": [
    {
     "name": "stdout",
     "output_type": "stream",
     "text": [
      "0.7613507516717578\n"
     ]
    },
    {
     "ename": "IndexError",
     "evalue": "list index out of range",
     "output_type": "error",
     "traceback": [
      "\u001b[1;31m---------------------------------------------------------------------------\u001b[0m",
      "\u001b[1;31mIndexError\u001b[0m                                Traceback (most recent call last)",
      "\u001b[1;32m<ipython-input-35-4a00f7a81a55>\u001b[0m in \u001b[0;36m<module>\u001b[1;34m\u001b[0m\n\u001b[0;32m     40\u001b[0m         \u001b[0mscore\u001b[0m \u001b[1;33m=\u001b[0m \u001b[1;33m[\u001b[0m\u001b[1;33m]\u001b[0m\u001b[1;33m\u001b[0m\u001b[1;33m\u001b[0m\u001b[0m\n\u001b[0;32m     41\u001b[0m         \u001b[1;32mfor\u001b[0m \u001b[0mi\u001b[0m \u001b[1;32min\u001b[0m \u001b[0mrange\u001b[0m\u001b[1;33m(\u001b[0m\u001b[1;36m0\u001b[0m\u001b[1;33m,\u001b[0m \u001b[0mn_splits\u001b[0m\u001b[1;33m)\u001b[0m\u001b[1;33m:\u001b[0m\u001b[1;33m\u001b[0m\u001b[1;33m\u001b[0m\u001b[0m\n\u001b[1;32m---> 42\u001b[1;33m             \u001b[0mscore\u001b[0m\u001b[1;33m.\u001b[0m\u001b[0mappend\u001b[0m\u001b[1;33m(\u001b[0m\u001b[0mobjective_score\u001b[0m\u001b[1;33m(\u001b[0m\u001b[0my_tests\u001b[0m\u001b[1;33m[\u001b[0m\u001b[1;36m0\u001b[0m\u001b[1;33m]\u001b[0m\u001b[1;33m[\u001b[0m\u001b[0mi\u001b[0m\u001b[1;33m]\u001b[0m\u001b[1;33m,\u001b[0m \u001b[0mmanual_pred\u001b[0m\u001b[1;33m[\u001b[0m\u001b[0mi\u001b[0m\u001b[1;33m]\u001b[0m\u001b[1;33m)\u001b[0m\u001b[1;33m)\u001b[0m\u001b[1;33m\u001b[0m\u001b[1;33m\u001b[0m\u001b[0m\n\u001b[0m\u001b[0;32m     43\u001b[0m \u001b[1;33m\u001b[0m\u001b[0m\n\u001b[0;32m     44\u001b[0m         \u001b[0mprint\u001b[0m\u001b[1;33m(\u001b[0m\u001b[0mnp\u001b[0m\u001b[1;33m.\u001b[0m\u001b[0maverage\u001b[0m\u001b[1;33m(\u001b[0m\u001b[0mscore\u001b[0m\u001b[1;33m)\u001b[0m\u001b[1;33m)\u001b[0m\u001b[1;33m\u001b[0m\u001b[1;33m\u001b[0m\u001b[0m\n",
      "\u001b[1;32m<ipython-input-20-c57ab5faa9fa>\u001b[0m in \u001b[0;36mobjective_score\u001b[1;34m(y_test, y_pred)\u001b[0m\n\u001b[0;32m      9\u001b[0m     \u001b[0mchange\u001b[0m \u001b[0mto\u001b[0m \u001b[0mincorporate\u001b[0m \u001b[0mbalanced\u001b[0m \u001b[0maccuracy\u001b[0m\u001b[1;33m\u001b[0m\u001b[1;33m\u001b[0m\u001b[0m\n\u001b[0;32m     10\u001b[0m     \"\"\"\n\u001b[1;32m---> 11\u001b[1;33m     \u001b[0mbalanced_acc\u001b[0m \u001b[1;33m=\u001b[0m \u001b[0mget_balanced_accuracy\u001b[0m\u001b[1;33m(\u001b[0m\u001b[0my_test\u001b[0m\u001b[1;33m,\u001b[0m \u001b[0my_pred\u001b[0m\u001b[1;33m)\u001b[0m\u001b[1;33m\u001b[0m\u001b[1;33m\u001b[0m\u001b[0m\n\u001b[0m\u001b[0;32m     12\u001b[0m     \u001b[0mspecificity\u001b[0m \u001b[1;33m=\u001b[0m \u001b[0mget_specificity\u001b[0m\u001b[1;33m(\u001b[0m\u001b[0my_test\u001b[0m\u001b[1;33m,\u001b[0m \u001b[0my_pred\u001b[0m\u001b[1;33m)\u001b[0m\u001b[1;33m\u001b[0m\u001b[1;33m\u001b[0m\u001b[0m\n\u001b[0;32m     13\u001b[0m     \u001b[0mf1\u001b[0m \u001b[1;33m=\u001b[0m \u001b[0mget_f1_score\u001b[0m\u001b[1;33m(\u001b[0m\u001b[0my_test\u001b[0m\u001b[1;33m,\u001b[0m \u001b[0my_pred\u001b[0m\u001b[1;33m)\u001b[0m\u001b[1;33m\u001b[0m\u001b[1;33m\u001b[0m\u001b[0m\n",
      "\u001b[1;32m<ipython-input-1-470701eacd0b>\u001b[0m in \u001b[0;36mget_balanced_accuracy\u001b[1;34m(y_test, y_pred)\u001b[0m\n\u001b[0;32m      8\u001b[0m     \u001b[0mcount_unhealthy_accurate\u001b[0m \u001b[1;33m=\u001b[0m \u001b[1;36m0\u001b[0m\u001b[1;33m\u001b[0m\u001b[1;33m\u001b[0m\u001b[0m\n\u001b[0;32m      9\u001b[0m     \u001b[1;32mfor\u001b[0m \u001b[0mi\u001b[0m \u001b[1;32min\u001b[0m \u001b[0mrange\u001b[0m\u001b[1;33m(\u001b[0m\u001b[1;36m0\u001b[0m\u001b[1;33m,\u001b[0m \u001b[0mlen\u001b[0m\u001b[1;33m(\u001b[0m\u001b[0my_test\u001b[0m\u001b[1;33m)\u001b[0m\u001b[1;33m)\u001b[0m\u001b[1;33m:\u001b[0m\u001b[1;33m\u001b[0m\u001b[1;33m\u001b[0m\u001b[0m\n\u001b[1;32m---> 10\u001b[1;33m         \u001b[1;32mif\u001b[0m \u001b[0my_pred\u001b[0m\u001b[1;33m[\u001b[0m\u001b[0mi\u001b[0m\u001b[1;33m]\u001b[0m \u001b[1;33m==\u001b[0m \u001b[0my_test\u001b[0m\u001b[1;33m[\u001b[0m\u001b[0mi\u001b[0m\u001b[1;33m]\u001b[0m \u001b[1;33m==\u001b[0m \u001b[1;34m'Unhealthy'\u001b[0m\u001b[1;33m:\u001b[0m\u001b[1;33m\u001b[0m\u001b[1;33m\u001b[0m\u001b[0m\n\u001b[0m\u001b[0;32m     11\u001b[0m             \u001b[0mcount_unhealthy_accurate\u001b[0m \u001b[1;33m+=\u001b[0m\u001b[1;36m1\u001b[0m\u001b[1;33m\u001b[0m\u001b[1;33m\u001b[0m\u001b[0m\n\u001b[0;32m     12\u001b[0m         \u001b[1;32melif\u001b[0m \u001b[0my_pred\u001b[0m\u001b[1;33m[\u001b[0m\u001b[0mi\u001b[0m\u001b[1;33m]\u001b[0m \u001b[1;33m==\u001b[0m \u001b[0my_test\u001b[0m\u001b[1;33m[\u001b[0m\u001b[0mi\u001b[0m\u001b[1;33m]\u001b[0m \u001b[1;33m==\u001b[0m \u001b[1;34m'Healthy'\u001b[0m\u001b[1;33m:\u001b[0m\u001b[1;33m\u001b[0m\u001b[1;33m\u001b[0m\u001b[0m\n",
      "\u001b[1;31mIndexError\u001b[0m: list index out of range"
     ]
    }
   ],
   "source": [
    "def average_probabilities(probs, n_splits, channels):\n",
    "    average_probs = []\n",
    "    for i in range(0, n_splits):\n",
    "        probas = []\n",
    "        for channel in channels:\n",
    "            probas.append(probs[channel][i])\n",
    "        average_probs.append(np.mean(probas, axis=0)[:, 0])\n",
    "    return average_probs\n",
    "\n",
    "def manual_y_pred(average_probs, n_splits, thresholds):\n",
    "    manual_y_pred = []\n",
    "    for i in range(0, n_splits):\n",
    "        manual_predict = []\n",
    "        for j in range(0, len(average_probs[i])):\n",
    "            if average_probs[i][j] > thresholds[0][i]:\n",
    "                manual_predict.append('Healthy')\n",
    "            else:\n",
    "                manual_predict.append('Unhealthy')\n",
    "        manual_y_pred.append(manual_predict)\n",
    "    return manual_y_pred\n",
    "\n",
    "\n",
    "channel_indices_list = [0, 1, 2, 3, 4, 5]\n",
    "all_combinations = []\n",
    "for r in range(1, len(probs) + 1):\n",
    "    combination = list(itertools.combinations(channel_indices_list, r))\n",
    "    all_combinations.extend(combination)\n",
    "    \n",
    "#print(thresholds)\n",
    "best_score = 0\n",
    "best_channel_indices = []\n",
    "for combo in all_combinations:\n",
    "        \n",
    "        # Use combo to get channel indices\n",
    "        selected_channel_indices = [channel_indices_list[i] for i in combo]\n",
    "        #print(selected_channel_indices)\n",
    "        combo_probs = average_probabilities(probs, n_splits, selected_channel_indices)\n",
    "        manual_pred = manual_y_pred(combo_probs, n_splits, thresholds)\n",
    "        \n",
    "        score = []\n",
    "        for i in range(0, n_splits):\n",
    "            score.append(objective_score(y_tests[0][i], manual_pred[i]))\n",
    "            \n",
    "        print(np.average(score))\n",
    "        if np.average(score) > best_score:\n",
    "                best_score = np.average(score)\n",
    "                best_channel_indices = selected_channel_indices\n"
   ]
  },
  {
   "cell_type": "code",
   "execution_count": null,
   "metadata": {},
   "outputs": [],
   "source": [
    "print(best_score)\n",
    "print(best_channel_indices)"
   ]
  },
  {
   "cell_type": "code",
   "execution_count": null,
   "metadata": {},
   "outputs": [],
   "source": [
    "for i in range(0, no_channels):\n",
    "    print(selected_params[i].keys())"
   ]
  }
 ],
 "metadata": {
  "kernelspec": {
   "display_name": "Python 3",
   "language": "python",
   "name": "python3"
  },
  "language_info": {
   "codemirror_mode": {
    "name": "ipython",
    "version": 3
   },
   "file_extension": ".py",
   "mimetype": "text/x-python",
   "name": "python",
   "nbconvert_exporter": "python",
   "pygments_lexer": "ipython3",
   "version": "3.8.3"
  }
 },
 "nbformat": 4,
 "nbformat_minor": 4
}
