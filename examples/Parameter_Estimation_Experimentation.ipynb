{
 "cells": [
  {
   "cell_type": "markdown",
   "metadata": {},
   "source": [
    "This notebook assumes access to detrended, denoised signals and calculates various parameters (and uncertainties) from these signals and serves as an area for experimentation with methods for parameter estimation. The parameters estimated within this notebook are split into three different types: time-domain, frequency-domain and non-linear:\n",
    "\n",
    "Time domain:\n",
    " - mean RR intervals\n",
    " - std RR intervals \n",
    " - mean amplitude\n",
    " - RMSSD of differences between successive RR intervals \n",
    " - pNN50 (%) NN50 divided by total number of RR (NN50 is the number of sucessive RR intervals that differ by more than 50ms) \n",
    " - signal moments\n",
    " \n",
    " \n",
    "Frequency Domain:\n",
    "- absolute power of LF (0.04 - 0.15 Hz) band\n",
    "- absolute power of HF (0.15 to 0.4Hz) band\n",
    "- LF/HF ratio\n",
    "- Total power (0-0.4 Hz)\n",
    "\n",
    "Non-linear:\n",
    "- Fractal dimension of dynamic attractor of signal\n",
    "- std of poincare\n",
    "- Shannon entropy\n",
    "- recurrence rate\n",
    "- detrended fluctuation analysis\n",
    "- correlation dimension\n",
    "- sample entropy\n"
   ]
  },
  {
   "cell_type": "code",
   "execution_count": 1,
   "metadata": {},
   "outputs": [
    {
     "name": "stderr",
     "output_type": "stream",
     "text": [
      "100%|████████████████████████████████████████████████████████████████████████████████| 549/549 [01:30<00:00,  6.06it/s]\n",
      "100%|████████████████████████████████████████████████████████████████████████████████| 221/221 [00:28<00:00,  7.63it/s]\n"
     ]
    }
   ],
   "source": [
    "%run \"Data_PreProcessing.ipynb\" #allowing access to the filtered database with preprocessed signals"
   ]
  },
  {
   "cell_type": "code",
   "execution_count": 2,
   "metadata": {},
   "outputs": [],
   "source": [
    "from scipy.signal import find_peaks, correlate\n",
    "import neurokit2 as nk \n",
    "from pyhrv.hrv import hrv\n",
    "import biosppy"
   ]
  },
  {
   "cell_type": "code",
   "execution_count": 3,
   "metadata": {},
   "outputs": [],
   "source": [
    "test_indice = 134#set test signal to be used throughout notebook #219 is healthy\n",
    "test_channel_indice = 0 #set test channel to be used throughout notebook\n",
    "test_signal = denoised_signals[test_indice][test_channel_indice]\n",
    "\n",
    "# Get R-peaks series using biosppy\n",
    "if not np.isnan(test_signal).all():\n",
    "    t, filtered_signal, rpeaks = biosppy.signals.ecg.ecg(test_signal, show=False)[:3]\n",
    "    test_rpeaks =t[rpeaks]\n",
    "else:\n",
    "    print('test signal nan')\n"
   ]
  },
  {
   "cell_type": "code",
   "execution_count": 4,
   "metadata": {},
   "outputs": [],
   "source": [
    "denoised_signals_one_channel = denoised_signals[:, test_channel_indice]#set test channel to be used throughout notebook"
   ]
  },
  {
   "cell_type": "code",
   "execution_count": 5,
   "metadata": {},
   "outputs": [],
   "source": [
    "#finding the health array for the desired channel\n",
    "nan_indices = []\n",
    "health_state = allowed_patients.get_diagnoses()\n",
    "for j in range(0, no_channels):\n",
    "    signal_nan_indices = []\n",
    "    for i, signal in enumerate(denoised_signals[:, j]):\n",
    "        if np.isnan(signal).all():\n",
    "            signal_nan_indices.append(False)\n",
    "        else:\n",
    "            signal_nan_indices.append(True)\n",
    "    nan_indices.append(signal_nan_indices)\n",
    "    \n",
    "\n",
    "\n",
    "test_nan_indices = nan_indices[test_channel_indice]\n",
    "\n",
    "health_state = np.array(health_state)\n",
    "signal_health_state = health_state[np.array(test_nan_indices)]"
   ]
  },
  {
   "cell_type": "code",
   "execution_count": 6,
   "metadata": {},
   "outputs": [],
   "source": [
    "def parameter_averages(parameter, health_state):\n",
    "    \"\"\"\n",
    "    calculates healthy and unhealthy means and std of parameter for easy comparisson\n",
    "    returns np.array containing: healthy mean, healthy std, unhealthy mean, unhealhty std\n",
    "    \"\"\"\n",
    "    encoded_health_state = [True if label == 'Unhealthy' else False for label in health_state]\n",
    "    \n",
    "    unhealthy_param = parameter[encoded_health_state]\n",
    "    healthy_param = parameter[~np.array(encoded_health_state)]\n",
    "    \n",
    "    # Filter out NaN and inf values\n",
    "    unhealthy_param = unhealthy_param[np.isfinite(unhealthy_param)]\n",
    "    healthy_param = healthy_param[np.isfinite(healthy_param)]\n",
    "\n",
    "    unhealthy_param_av = np.mean(unhealthy_param)\n",
    "    unhealthy_param_std = np.std(unhealthy_param)\n",
    "    \n",
    "    healthy_param_av = np.mean(healthy_param)\n",
    "    healthy_param_std = np.std(healthy_param)\n",
    "    \n",
    "    return np.array([healthy_param_av, healthy_param_std, unhealthy_param_av, unhealthy_param_std])\n",
    "\n",
    "def print_averages(parameter, parameter_name, nan_indices):\n",
    "    health_state = allowed_patients.get_diagnoses()\n",
    "\n",
    "    nan_indices = np.array(nan_indices)\n",
    "    health_state = np.array(health_state)\n",
    "    \n",
    "    channel_health_state = health_state[nan_indices]\n",
    "    \n",
    "    means = parameter_averages(parameter, channel_health_state)\n",
    "    \n",
    "    print(f\"Unhealthy {parameter_name}: mean:{means[2]}, std: {means[3]}\")\n",
    "    print(f\"Healthy {parameter_name}: mean:{means[0]}, std:{means[1]}\")\n",
    "    return None\n",
    "\n",
    "def outliers_indices_z_score(data, threshold=2):\n",
    "    mean = np.mean(data)\n",
    "    std = np.std(data)\n",
    "    z_scores = [(x - mean) / std for x in data]\n",
    "    indices = np.argwhere([abs(z)<threshold for z in z_scores])\n",
    "    return indices\n",
    "\n",
    "def get_peaks(signal):\n",
    "    peak_dict, info = nk.ecg_peaks(signal, sampling_rate=1000)\n",
    "    peaks = info['ECG_R_Peaks']\n",
    "    \n",
    "    #calculating amplitude of R peak\n",
    "    peak_amp = signal[peaks] - np.median(signal) #median used as baseline\n",
    "    peak_amp_av = np.mean(peak_amp)\n",
    "    # peak_amp_std = np.std(peak_amp)   \n",
    "    return peaks, peak_amp_av\n",
    "        \n",
    "\n",
    "def get_rri(signal, remove_outliers=False):\n",
    "    peaks, amps = get_peaks(signal)\n",
    "\n",
    "    # calculates rr intervals\n",
    "    rri = np.diff(peaks)\n",
    "    \n",
    "    number_outliers = 0\n",
    "    \n",
    "    #removal of outliers\n",
    "    if remove_outliers:\n",
    "        rri_outlier_indices = outliers_indices_z_score(rri).reshape(-1)\n",
    "        rr_intervals = rri[rri_outlier_indices]\n",
    "        number_outliers += (len(rri) - len(rr_intervals))\n",
    "        \n",
    "    else:\n",
    "        rr_intervals = rri\n",
    "        number_outliers = None\n",
    "    #rr_intervals = rri\n",
    "        \n",
    "    return rr_intervals, amps, number_outliers\n",
    "    \n",
    "\n",
    "    "
   ]
  },
  {
   "cell_type": "code",
   "execution_count": 19,
   "metadata": {},
   "outputs": [],
   "source": [
    "def calculate_sample_entropy(signal, m=2, r=0.2):\n",
    "    rr_intervals = get_rri(signal)[0]\n",
    "    N = len(rr_intervals)\n",
    "    r *= np.std(rr_intervals)  # tolerance r is usually set as a fraction of the standard deviation\n",
    "    \n",
    "    def _phi(m):\n",
    "        X = np.array([rr_intervals[i:i + m] for i in range(N - m + 1)])\n",
    "        C = np.sum(np.max(np.abs(X[:, None] - X[None, :]), axis=2) <= r, axis=0) - 1\n",
    "        return np.sum(C) / (N - m + 1)\n",
    "    return -np.log((_phi(m + 1)) / (_phi(m)))"
   ]
  },
  {
   "cell_type": "code",
   "execution_count": 20,
   "metadata": {},
   "outputs": [],
   "source": [
    "samp_ens = np.zeros(shape = len(signal_health_state))\n",
    "i=0\n",
    "for signal in denoised_signals_one_channel:\n",
    "    if not np.isnan(signal).all():\n",
    "        samp_en = calculate_sample_entropy(signal)\n",
    "        samp_ens[i] = samp_en\n",
    "        i+=1"
   ]
  },
  {
   "cell_type": "code",
   "execution_count": 9,
   "metadata": {},
   "outputs": [
    {
     "name": "stdout",
     "output_type": "stream",
     "text": [
      "60000\n",
      "60000\n",
      "60000\n",
      "60000\n",
      "60000\n",
      "60000\n",
      "60000\n",
      "60000\n",
      "60000\n",
      "60000\n",
      "60000\n",
      "60000\n",
      "60000\n",
      "60000\n",
      "60000\n",
      "60000\n",
      "60000\n",
      "60000\n",
      "60000\n",
      "60000\n",
      "60000\n",
      "60000\n",
      "60000\n",
      "60000\n",
      "60000\n",
      "60000\n",
      "60000\n",
      "60000\n",
      "60000\n",
      "60000\n",
      "60000\n",
      "60000\n",
      "60000\n",
      "60000\n",
      "60000\n",
      "60000\n",
      "60000\n",
      "60000\n",
      "60000\n",
      "60000\n",
      "60000\n",
      "60000\n",
      "60000\n",
      "60000\n",
      "60000\n",
      "60000\n",
      "60000\n",
      "60000\n",
      "60000\n",
      "60000\n",
      "60000\n",
      "60000\n",
      "60000\n",
      "60000\n",
      "60000\n",
      "60000\n",
      "60000\n",
      "60000\n",
      "60000\n",
      "60000\n",
      "60000\n",
      "60000\n",
      "60000\n",
      "60000\n",
      "60000\n",
      "60000\n",
      "60000\n",
      "60000\n",
      "60000\n",
      "60000\n",
      "60000\n",
      "60000\n",
      "60000\n",
      "60000\n",
      "60000\n",
      "60000\n",
      "60000\n",
      "60000\n",
      "60000\n",
      "60000\n",
      "60000\n",
      "60000\n",
      "60000\n",
      "60000\n",
      "60000\n",
      "60000\n",
      "60000\n",
      "60000\n",
      "60000\n",
      "60000\n",
      "60000\n",
      "60000\n",
      "60000\n",
      "60000\n",
      "60000\n",
      "60000\n",
      "60000\n",
      "60000\n",
      "60000\n",
      "60000\n",
      "60000\n",
      "60000\n",
      "60000\n",
      "60000\n",
      "60000\n",
      "60000\n",
      "60000\n",
      "60000\n",
      "60000\n",
      "60000\n",
      "60000\n",
      "60000\n",
      "60000\n",
      "60000\n",
      "60000\n",
      "60000\n",
      "60000\n",
      "60000\n",
      "60000\n",
      "60000\n",
      "60000\n",
      "60000\n",
      "60000\n",
      "60000\n",
      "60000\n",
      "60000\n",
      "60000\n",
      "60000\n",
      "60000\n",
      "60000\n",
      "60000\n",
      "60000\n",
      "60000\n",
      "60000\n",
      "60000\n",
      "60000\n",
      "60000\n",
      "60000\n",
      "60000\n",
      "60000\n",
      "60000\n",
      "60000\n",
      "60000\n",
      "60000\n",
      "60000\n",
      "60000\n",
      "60000\n",
      "60000\n",
      "60000\n",
      "60000\n",
      "60000\n",
      "60000\n",
      "60000\n",
      "60000\n",
      "60000\n",
      "60000\n",
      "60000\n",
      "60000\n",
      "60000\n",
      "60000\n",
      "60000\n",
      "60000\n",
      "60000\n",
      "60000\n",
      "60000\n",
      "60000\n",
      "60000\n",
      "60000\n",
      "60000\n",
      "60000\n",
      "60000\n",
      "60000\n",
      "60000\n",
      "60000\n",
      "60000\n",
      "60000\n",
      "60000\n",
      "60000\n",
      "60000\n",
      "60000\n",
      "60000\n",
      "60000\n",
      "60000\n",
      "60000\n",
      "60000\n",
      "60000\n",
      "60000\n",
      "60000\n",
      "60000\n",
      "60000\n",
      "60000\n",
      "60000\n",
      "60000\n",
      "60000\n",
      "60000\n",
      "60000\n"
     ]
    }
   ],
   "source": [
    "nk_sd1s = np.zeros(shape=len(signal_health_state))\n",
    "nk_sd2s = np.zeros(shape = len(signal_health_state))\n",
    "nk_sd_ratios = np.zeros(shape = len(signal_health_state))\n",
    "nk_shannons = np.zeros(shape = len(signal_health_state))\n",
    "nk_sampens = np.zeros(shape = len(signal_health_state))\n",
    "nk_fuzzys = np.zeros(shape = len(signal_health_state))\n",
    "i=0\n",
    "for signal in denoised_signals_one_channel:\n",
    "\n",
    "    if not np.isnan(signal).all():\n",
    "        print(len(signal))\n",
    "        peaks, info = nk.ecg_peaks(signal, sampling_rate=1000)\n",
    "        nl_indices = nk.hrv_nonlinear(peaks, sampling_rate=1000, show=False)\n",
    "        nk_sd1s[i] = nl_indices['HRV_SD1']\n",
    "        nk_sd2s[i] = nl_indices['HRV_SD2']\n",
    "        nk_sd_ratios[i] = nl_indices['HRV_SD1SD2']\n",
    "        nk_shannons[i] = nl_indices['HRV_ShanEn']\n",
    "        nk_sampens[i] = nl_indices['HRV_SampEn']\n",
    "        nk_fuzzys[i] = nl_indices['HRV_FuzzyEn']\n",
    "        i+=1"
   ]
  },
  {
   "cell_type": "markdown",
   "metadata": {},
   "source": [
    "## Time Domain"
   ]
  },
  {
   "cell_type": "markdown",
   "metadata": {},
   "source": [
    "### Peak to Peak times and Peak amplitude (R)"
   ]
  },
  {
   "cell_type": "code",
   "execution_count": 10,
   "metadata": {},
   "outputs": [
    {
     "data": {
      "image/png": "[encoded data removed]",
      "text/plain": [
       "<Figure size 720x360 with 4 Axes>"
      ]
     },
     "metadata": {
      "needs_background": "light"
     },
     "output_type": "display_data"
    },
    {
     "data": {
      "image/png": "[encoded data removed]",
      "text/plain": [
       "<Figure size 720x432 with 1 Axes>"
      ]
     },
     "metadata": {
      "needs_background": "light"
     },
     "output_type": "display_data"
    }
   ],
   "source": [
    "peaks, amp = get_peaks(test_signal)\n",
    "\n",
    "import neurokit2 as nk \n",
    "peak_dict, info = nk.ecg_peaks(test_signal, sampling_rate=1000)\n",
    "nkpeaks = info['ECG_R_Peaks']\n",
    "\n",
    "# Get R-peaks series using biosppy\n",
    "t, filtered_signal, rpeaks = biosppy.signals.ecg.ecg(test_signal)[:3]\n",
    "\n",
    "fig, ax = plt.subplots(1, 1, figsize = (10, 6))\n",
    "\n",
    "ax.plot(test_signal, color = 'red', label = 'detrended sig')\n",
    "ax.plot(nkpeaks, test_signal[nkpeaks], 'x')\n",
    "ax.axhline(np.median(test_signal))\n",
    "\n",
    "ax.set_xlabel(r'Time ($ms$)')\n",
    "ax.set_ylabel(f'V{test_channel_indice+1} ($mV$)')\n",
    "ax.set_title(f'V{test_channel_indice+1} Channel for Patient x')\n",
    "\n",
    "ax.legend()\n",
    "plt.show()"
   ]
  },
  {
   "cell_type": "code",
   "execution_count": 11,
   "metadata": {},
   "outputs": [],
   "source": [
    "peaks, info = nk.ecg_peaks(test_signal, sampling_rate=1000)"
   ]
  },
  {
   "cell_type": "code",
   "execution_count": 12,
   "metadata": {},
   "outputs": [
    {
     "data": {
      "text/html": [
       "<div>\n",
       "<style scoped>\n",
       "    .dataframe tbody tr th:only-of-type {\n",
       "        vertical-align: middle;\n",
       "    }\n",
       "\n",
       "    .dataframe tbody tr th {\n",
       "        vertical-align: top;\n",
       "    }\n",
       "\n",
       "    .dataframe thead th {\n",
       "        text-align: right;\n",
       "    }\n",
       "</style>\n",
       "<table border=\"1\" class=\"dataframe\">\n",
       "  <thead>\n",
       "    <tr style=\"text-align: right;\">\n",
       "      <th></th>\n",
       "      <th>HRV_MeanNN</th>\n",
       "      <th>HRV_SDNN</th>\n",
       "      <th>HRV_SDANN1</th>\n",
       "      <th>HRV_SDNNI1</th>\n",
       "      <th>HRV_SDANN2</th>\n",
       "      <th>HRV_SDNNI2</th>\n",
       "      <th>HRV_SDANN5</th>\n",
       "      <th>HRV_SDNNI5</th>\n",
       "      <th>HRV_RMSSD</th>\n",
       "      <th>HRV_SDSD</th>\n",
       "      <th>...</th>\n",
       "      <th>HRV_SampEn</th>\n",
       "      <th>HRV_ShanEn</th>\n",
       "      <th>HRV_FuzzyEn</th>\n",
       "      <th>HRV_MSEn</th>\n",
       "      <th>HRV_CMSEn</th>\n",
       "      <th>HRV_RCMSEn</th>\n",
       "      <th>HRV_CD</th>\n",
       "      <th>HRV_HFD</th>\n",
       "      <th>HRV_KFD</th>\n",
       "      <th>HRV_LZC</th>\n",
       "    </tr>\n",
       "  </thead>\n",
       "  <tbody>\n",
       "    <tr>\n",
       "      <th>0</th>\n",
       "      <td>698.223529</td>\n",
       "      <td>20.848305</td>\n",
       "      <td>NaN</td>\n",
       "      <td>NaN</td>\n",
       "      <td>NaN</td>\n",
       "      <td>NaN</td>\n",
       "      <td>NaN</td>\n",
       "      <td>NaN</td>\n",
       "      <td>21.835696</td>\n",
       "      <td>21.849912</td>\n",
       "      <td>...</td>\n",
       "      <td>0.653517</td>\n",
       "      <td>3.627843</td>\n",
       "      <td>0.681249</td>\n",
       "      <td>0.383482</td>\n",
       "      <td>0.5476</td>\n",
       "      <td>0.449802</td>\n",
       "      <td>0.69733</td>\n",
       "      <td>2.019706</td>\n",
       "      <td>1.425292</td>\n",
       "      <td>0.98026</td>\n",
       "    </tr>\n",
       "  </tbody>\n",
       "</table>\n",
       "<p>1 rows × 82 columns</p>\n",
       "</div>"
      ],
      "text/plain": [
       "   HRV_MeanNN   HRV_SDNN  HRV_SDANN1  HRV_SDNNI1  HRV_SDANN2  HRV_SDNNI2  \\\n",
       "0  698.223529  20.848305         NaN         NaN         NaN         NaN   \n",
       "\n",
       "   HRV_SDANN5  HRV_SDNNI5  HRV_RMSSD   HRV_SDSD  ...  HRV_SampEn  HRV_ShanEn  \\\n",
       "0         NaN         NaN  21.835696  21.849912  ...    0.653517    3.627843   \n",
       "\n",
       "   HRV_FuzzyEn  HRV_MSEn  HRV_CMSEn  HRV_RCMSEn   HRV_CD   HRV_HFD   HRV_KFD  \\\n",
       "0     0.681249  0.383482     0.5476    0.449802  0.69733  2.019706  1.425292   \n",
       "\n",
       "   HRV_LZC  \n",
       "0  0.98026  \n",
       "\n",
       "[1 rows x 82 columns]"
      ]
     },
     "execution_count": 12,
     "metadata": {},
     "output_type": "execute_result"
    },
    {
     "data": {
      "image/png": "[encoded data removed]",
      "text/plain": [
       "<Figure size 432x288 with 5 Axes>"
      ]
     },
     "metadata": {
      "needs_background": "light"
     },
     "output_type": "display_data"
    }
   ],
   "source": [
    "hrv_indices = nk.hrv(peaks, sampling_rate=1000, show=True)\n",
    "hrv_indices"
   ]
  },
  {
   "cell_type": "code",
   "execution_count": 13,
   "metadata": {},
   "outputs": [
    {
     "data": {
      "text/plain": [
       "Index(['HRV_MeanNN', 'HRV_SDNN', 'HRV_SDANN1', 'HRV_SDNNI1', 'HRV_SDANN2',\n",
       "       'HRV_SDNNI2', 'HRV_SDANN5', 'HRV_SDNNI5', 'HRV_RMSSD', 'HRV_SDSD',\n",
       "       'HRV_CVNN', 'HRV_CVSD', 'HRV_MedianNN', 'HRV_MadNN', 'HRV_MCVNN',\n",
       "       'HRV_IQRNN', 'HRV_SDRMSSD', 'HRV_Prc20NN', 'HRV_Prc80NN', 'HRV_pNN50',\n",
       "       'HRV_pNN20', 'HRV_MinNN', 'HRV_MaxNN', 'HRV_HTI', 'HRV_TINN'],\n",
       "      dtype='object')"
      ]
     },
     "execution_count": 13,
     "metadata": {},
     "output_type": "execute_result"
    },
    {
     "data": {
      "image/png": "[encoded data removed]",
      "text/plain": [
       "<Figure size 432x288 with 1 Axes>"
      ]
     },
     "metadata": {
      "needs_background": "light"
     },
     "output_type": "display_data"
    }
   ],
   "source": [
    "hrv_indices = nk.hrv_time(peaks, sampling_rate=1000, show=True)\n",
    "hrv_indices.columns"
   ]
  },
  {
   "cell_type": "markdown",
   "metadata": {},
   "source": [
    "identified peaks, should get rid of first and last values in it, wont hurt much even if is correct ones. I shall now implement a function to perform this for all signals in the database, may have to find a way to automatically calculate the distance between signals, find way to get rid of outliers....\n",
    "- remove outliers - no because want to keep the arythmic activity\n",
    "- remove first and last values\n",
    "- dont investigate R-amplitude\n",
    "\n",
    "R–R intervals differing more than 20% of the mean R–R interval were removed. A linear interpolation was used in order to replace the removed beats. On the other hand, the R–R series with R–R exclusion greater than 20% were excluded from the analysis. - Spectral analysis of heart rate variability with the autoregressive method: What model order to choose? SHOULD TRY THIS??"
   ]
  },
  {
   "cell_type": "code",
   "execution_count": 14,
   "metadata": {},
   "outputs": [],
   "source": [
    "def RR_analysis(signal, remove_outliers=False):\n",
    "    peak_distances, amps, number_outliers = get_rri(signal, remove_outliers)\n",
    "    \n",
    "    # stastitical analysis on rr intervals\n",
    "    mean_RR = np.mean(peak_distances)\n",
    "    std_RR = np.std(peak_distances)\n",
    "\n",
    "    #RMSSD\n",
    "    # computes differences between successive RR intervals for RMSSD\n",
    "    diff_RR_intervals = np.diff(peak_distances)\n",
    "    \n",
    "    RMSSD_RR = np.sqrt(np.mean(diff_RR_intervals**2))\n",
    "    \n",
    "    #pNN50\n",
    "    # the number of successive RR intervals that differ by more than 50 ms \n",
    "    NN50 = np.sum(np.abs(diff_RR_intervals) > 0.050)\n",
    "    # divide by total number of RR intervals\n",
    "    pNN50 = (NN50 / len(peak_distances)) * 100\n",
    "    \n",
    "    return mean_RR, std_RR, RMSSD_RR, pNN50, amps, number_outliers\n",
    "\n",
    "\n",
    "\n",
    "rr_means = np.zeros(shape = len(signal_health_state))\n",
    "rr_stds = np.zeros(shape = len(signal_health_state))\n",
    "rr_RMSSD = np.zeros(shape = len(signal_health_state))\n",
    "rr_pNN50s = np.zeros(shape = len(signal_health_state))\n",
    "rr_amps = np.zeros(shape= len(signal_health_state))\n",
    "n_outliers = np.zeros(shape = len(signal_health_state))\n",
    "i = 0\n",
    "for signal in denoised_signals_one_channel:\n",
    "    if not np.isnan(signal).all():\n",
    "        rr_mean, rr_std, rr_rmssd, rr_pNN50, amps, number_outliers = RR_analysis(signal, remove_outliers=False)\n",
    "        rr_means[i] = rr_mean\n",
    "        rr_stds[i] = rr_std\n",
    "        rr_RMSSD[i] = rr_rmssd\n",
    "        rr_pNN50s[i] = rr_pNN50\n",
    "        rr_amps[i] = amps\n",
    "        n_outliers[i] = number_outliers\n",
    "        i+=1"
   ]
  },
  {
   "cell_type": "code",
   "execution_count": 15,
   "metadata": {},
   "outputs": [
    {
     "name": "stdout",
     "output_type": "stream",
     "text": [
      "Unhealthy RR means: mean:809.0865632981455, std: 171.3838425848001\n",
      "Healthy RR means: mean:877.9138144263922, std:139.17342497115266\n",
      "Unhealthy RR stds: mean:62.445457785525065, std: 78.37922563153036\n",
      "Healthy RR stds: mean:44.57731350928216, std:26.72269677475887\n",
      "Unhealthy RMSSDs: mean:86.42007453251193, std: 116.1416822161973\n",
      "Healthy RMSSDs: mean:46.739900407322466, std:43.284836350774896\n",
      "Unhealthy pNN50s: mean:92.57922166771225, std: 5.70306301691873\n",
      "Healthy pNN50s: mean:94.97632809472502, std:3.171080448378599\n",
      "Unhealthy amplitudes: mean:0.14937496323409574, std: 0.15038462490657853\n",
      "Healthy amplitudes: mean:0.19106706595874667, std:0.08019382390175174\n",
      "Unhealthy num outliers: mean:nan, std: nan\n",
      "Healthy num outliers: mean:nan, std:nan\n"
     ]
    }
   ],
   "source": [
    "print_averages(rr_means, 'RR means', test_nan_indices)\n",
    "print_averages(rr_stds, 'RR stds', test_nan_indices)\n",
    "print_averages(rr_RMSSD, 'RMSSDs', test_nan_indices)\n",
    "print_averages(rr_pNN50s, 'pNN50s', test_nan_indices)\n",
    "print_averages(rr_amps, 'amplitudes', test_nan_indices)\n",
    "print_averages(n_outliers, 'num outliers', test_nan_indices)"
   ]
  },
  {
   "cell_type": "code",
   "execution_count": 16,
   "metadata": {},
   "outputs": [],
   "source": [
    "#comparisson with pyhrv\n",
    "import pyhrv.time_domain as td\n",
    "\n",
    "nn_means = np.zeros(shape = len(signal_health_state))\n",
    "nn_stds = np.zeros(shape = len(signal_health_state))\n",
    "nn_RMSSD = np.zeros(shape = len(signal_health_state))\n",
    "nn_pNN50s = np.zeros(shape = len(signal_health_state))\n",
    "nn_hrs = np.zeros(shape = len(signal_health_state))\n",
    "nn_hrs_std = np.zeros(shape=len(signal_health_state))\n",
    "i=0\n",
    "for signal in denoised_signals_one_channel:\n",
    "    if not np.isnan(signal).all():\n",
    "        # Get R-peaks series using biosppy\n",
    "        t, filtered_signal, rpeaks = biosppy.signals.ecg.ecg(signal, show=False)[:3]\n",
    "\n",
    "        # Compute parameters using R-peak series\n",
    "        nn_mean = td.nni_parameters(rpeaks=rpeaks)['nni_mean']\n",
    "\n",
    "        nn_std = td.sdnn(rpeaks=rpeaks)['sdnn']\n",
    "\n",
    "        nn_rmssd = td.rmssd(rpeaks=rpeaks)['rmssd']\n",
    "\n",
    "        nn_pNN50 = td.nn50(rpeaks=rpeaks)['pnn50']\n",
    "\n",
    "        nn_hr = td.hr_parameters(rpeaks=rpeaks)['hr_mean']\n",
    "        nn_hr_std = td.hr_parameters(rpeaks=rpeaks)['hr_std']\n",
    "\n",
    "        nn_means[i] = nn_mean\n",
    "        nn_stds[i] = nn_std\n",
    "        nn_RMSSD[i] = nn_rmssd\n",
    "        nn_pNN50s[i] = nn_pNN50\n",
    "        nn_hrs[i] = nn_hr\n",
    "        nn_hrs_std[i] = nn_hr_std\n",
    "        i+=1"
   ]
  },
  {
   "cell_type": "code",
   "execution_count": 17,
   "metadata": {},
   "outputs": [
    {
     "name": "stdout",
     "output_type": "stream",
     "text": [
      "Unhealthy nn means: mean:828.1906143760067, std: 200.47996298099076\n",
      "Healthy nn means: mean:878.0177434361369, std:139.15552321377146\n",
      "Unhealthy nn stds: mean:54.84792452855525, std: 65.6056860358375\n",
      "Healthy nn stds: mean:44.205078769323016, std:26.903363935965714\n",
      "Unhealthy nn RMSSDs: mean:74.46260363343971, std: 99.8831221271125\n",
      "Healthy nn RMSSDs: mean:44.83840356648729, std:43.225664702167094\n",
      "Unhealthy nn pNN50s: mean:22.116128957556665, std: 28.637037492386575\n",
      "Healthy nn pNN50s: mean:16.418872305230376, std:21.16401173014916\n",
      "Unhealthy nn HR: mean:76.94006599661029, std: 16.422292354035687\n",
      "Healthy nn HR: mean:70.42549937837654, std:11.858260133768235\n",
      "Unhealthy nn HR std: mean:5.4769650127962155, std: 8.299274904069952\n",
      "Healthy nn HR std: mean:3.6797910714757402, std:2.4786361746702097\n"
     ]
    }
   ],
   "source": [
    "print_averages(nn_means, 'nn means', test_nan_indices)\n",
    "print_averages(nn_stds, 'nn stds', test_nan_indices)\n",
    "print_averages(nn_RMSSD, 'nn RMSSDs', test_nan_indices)\n",
    "print_averages(nn_pNN50s, 'nn pNN50s', test_nan_indices)\n",
    "print_averages(nn_hrs, 'nn HR', test_nan_indices)\n",
    "print_averages(nn_hrs_std, 'nn HR std', test_nan_indices)"
   ]
  },
  {
   "cell_type": "code",
   "execution_count": 18,
   "metadata": {},
   "outputs": [
    {
     "ename": "KeyboardInterrupt",
     "evalue": "",
     "output_type": "error",
     "traceback": [
      "\u001b[1;31m---------------------------------------------------------------------------\u001b[0m",
      "\u001b[1;31mKeyboardInterrupt\u001b[0m                         Traceback (most recent call last)",
      "\u001b[1;32m<ipython-input-18-e39b3413b36a>\u001b[0m in \u001b[0;36m<module>\u001b[1;34m\u001b[0m\n\u001b[0;32m     12\u001b[0m \u001b[1;32mfor\u001b[0m \u001b[0msignal\u001b[0m \u001b[1;32min\u001b[0m \u001b[0mdenoised_signals_one_channel\u001b[0m\u001b[1;33m:\u001b[0m\u001b[1;33m\u001b[0m\u001b[1;33m\u001b[0m\u001b[0m\n\u001b[0;32m     13\u001b[0m     \u001b[1;32mif\u001b[0m \u001b[1;32mnot\u001b[0m \u001b[0mnp\u001b[0m\u001b[1;33m.\u001b[0m\u001b[0misnan\u001b[0m\u001b[1;33m(\u001b[0m\u001b[0msignal\u001b[0m\u001b[1;33m)\u001b[0m\u001b[1;33m.\u001b[0m\u001b[0mall\u001b[0m\u001b[1;33m(\u001b[0m\u001b[1;33m)\u001b[0m\u001b[1;33m:\u001b[0m\u001b[1;33m\u001b[0m\u001b[1;33m\u001b[0m\u001b[0m\n\u001b[1;32m---> 14\u001b[1;33m         \u001b[0mpeaks\u001b[0m\u001b[1;33m,\u001b[0m \u001b[0minfo\u001b[0m \u001b[1;33m=\u001b[0m \u001b[0mnk\u001b[0m\u001b[1;33m.\u001b[0m\u001b[0mecg_peaks\u001b[0m\u001b[1;33m(\u001b[0m\u001b[0msignal\u001b[0m\u001b[1;33m,\u001b[0m \u001b[0msampling_rate\u001b[0m\u001b[1;33m=\u001b[0m\u001b[1;36m1000\u001b[0m\u001b[1;33m)\u001b[0m\u001b[1;33m\u001b[0m\u001b[1;33m\u001b[0m\u001b[0m\n\u001b[0m\u001b[0;32m     15\u001b[0m         \u001b[0mhrv_indices\u001b[0m \u001b[1;33m=\u001b[0m \u001b[0mnk\u001b[0m\u001b[1;33m.\u001b[0m\u001b[0mhrv_time\u001b[0m\u001b[1;33m(\u001b[0m\u001b[0mpeaks\u001b[0m\u001b[1;33m,\u001b[0m \u001b[0msampling_rate\u001b[0m\u001b[1;33m=\u001b[0m\u001b[1;36m1000\u001b[0m\u001b[1;33m,\u001b[0m \u001b[0mshow\u001b[0m\u001b[1;33m=\u001b[0m\u001b[1;32mFalse\u001b[0m\u001b[1;33m)\u001b[0m\u001b[1;33m\u001b[0m\u001b[1;33m\u001b[0m\u001b[0m\n\u001b[0;32m     16\u001b[0m \u001b[1;33m\u001b[0m\u001b[0m\n",
      "\u001b[1;32m~\\Documents\\anaconda\\lib\\site-packages\\neurokit2\\ecg\\ecg_peaks.py\u001b[0m in \u001b[0;36mecg_peaks\u001b[1;34m(ecg_cleaned, sampling_rate, method, correct_artifacts, show, **kwargs)\u001b[0m\n\u001b[0;32m    252\u001b[0m \u001b[1;33m\u001b[0m\u001b[0m\n\u001b[0;32m    253\u001b[0m     \u001b[1;31m# First peak detection\u001b[0m\u001b[1;33m\u001b[0m\u001b[1;33m\u001b[0m\u001b[1;33m\u001b[0m\u001b[0m\n\u001b[1;32m--> 254\u001b[1;33m     \u001b[0minfo\u001b[0m\u001b[1;33m.\u001b[0m\u001b[0mupdate\u001b[0m\u001b[1;33m(\u001b[0m\u001b[0mecg_findpeaks\u001b[0m\u001b[1;33m(\u001b[0m\u001b[0mecg_cleaned\u001b[0m\u001b[1;33m,\u001b[0m \u001b[0msampling_rate\u001b[0m\u001b[1;33m=\u001b[0m\u001b[0msampling_rate\u001b[0m\u001b[1;33m,\u001b[0m \u001b[0mmethod\u001b[0m\u001b[1;33m=\u001b[0m\u001b[0minfo\u001b[0m\u001b[1;33m[\u001b[0m\u001b[1;34m\"method_peaks\"\u001b[0m\u001b[1;33m]\u001b[0m\u001b[1;33m,\u001b[0m \u001b[1;33m**\u001b[0m\u001b[0mkwargs\u001b[0m\u001b[1;33m)\u001b[0m\u001b[1;33m)\u001b[0m\u001b[1;33m\u001b[0m\u001b[1;33m\u001b[0m\u001b[0m\n\u001b[0m\u001b[0;32m    255\u001b[0m \u001b[1;33m\u001b[0m\u001b[0m\n\u001b[0;32m    256\u001b[0m     \u001b[1;31m# Peak correction\u001b[0m\u001b[1;33m\u001b[0m\u001b[1;33m\u001b[0m\u001b[1;33m\u001b[0m\u001b[0m\n",
      "\u001b[1;32m~\\Documents\\anaconda\\lib\\site-packages\\neurokit2\\ecg\\ecg_findpeaks.py\u001b[0m in \u001b[0;36mecg_findpeaks\u001b[1;34m(ecg_cleaned, sampling_rate, method, show, **kwargs)\u001b[0m\n\u001b[0;32m     62\u001b[0m \u001b[1;33m\u001b[0m\u001b[0m\n\u001b[0;32m     63\u001b[0m     \u001b[1;31m# Sanitize input\u001b[0m\u001b[1;33m\u001b[0m\u001b[1;33m\u001b[0m\u001b[1;33m\u001b[0m\u001b[0m\n\u001b[1;32m---> 64\u001b[1;33m     \u001b[0mecg_cleaned\u001b[0m \u001b[1;33m=\u001b[0m \u001b[0msignal_sanitize\u001b[0m\u001b[1;33m(\u001b[0m\u001b[0mecg_cleaned\u001b[0m\u001b[1;33m)\u001b[0m\u001b[1;33m\u001b[0m\u001b[1;33m\u001b[0m\u001b[0m\n\u001b[0m\u001b[0;32m     65\u001b[0m     \u001b[0mmethod\u001b[0m \u001b[1;33m=\u001b[0m \u001b[0mmethod\u001b[0m\u001b[1;33m.\u001b[0m\u001b[0mlower\u001b[0m\u001b[1;33m(\u001b[0m\u001b[1;33m)\u001b[0m  \u001b[1;31m# remove capitalised letters\u001b[0m\u001b[1;33m\u001b[0m\u001b[1;33m\u001b[0m\u001b[0m\n\u001b[0;32m     66\u001b[0m \u001b[1;33m\u001b[0m\u001b[0m\n",
      "\u001b[1;32m~\\Documents\\anaconda\\lib\\site-packages\\neurokit2\\signal\\signal_sanitize.py\u001b[0m in \u001b[0;36msignal_sanitize\u001b[1;34m(signal)\u001b[0m\n\u001b[0;32m     39\u001b[0m         \u001b[1;32mreturn\u001b[0m \u001b[0msignal\u001b[0m\u001b[1;33m.\u001b[0m\u001b[0mreset_index\u001b[0m\u001b[1;33m(\u001b[0m\u001b[0mdrop\u001b[0m\u001b[1;33m=\u001b[0m\u001b[1;32mTrue\u001b[0m\u001b[1;33m)\u001b[0m\u001b[1;33m.\u001b[0m\u001b[0mvalues\u001b[0m\u001b[1;33m\u001b[0m\u001b[1;33m\u001b[0m\u001b[0m\n\u001b[0;32m     40\u001b[0m \u001b[1;33m\u001b[0m\u001b[0m\n\u001b[1;32m---> 41\u001b[1;33m     \u001b[1;32mreturn\u001b[0m \u001b[0mnp\u001b[0m\u001b[1;33m.\u001b[0m\u001b[0marray\u001b[0m\u001b[1;33m(\u001b[0m\u001b[0msignal\u001b[0m\u001b[1;33m)\u001b[0m\u001b[1;33m\u001b[0m\u001b[1;33m\u001b[0m\u001b[0m\n\u001b[0m",
      "\u001b[1;31mKeyboardInterrupt\u001b[0m: "
     ]
    }
   ],
   "source": [
    "#neurokit\n",
    "nk_nn_means = np.zeros(shape = len(signal_health_state))\n",
    "nk_nn_stds = np.zeros(shape = len(signal_health_state))\n",
    "nk_nn_RMSSD = np.zeros(shape = len(signal_health_state))\n",
    "nk_nn_pNN50s = np.zeros(shape = len(signal_health_state))\n",
    "nk_nn_iqr = np.zeros(shape = len(signal_health_state))\n",
    "nk_nn_median = np.zeros(shape=len(signal_health_state))\n",
    "nk_nn_mad = np.zeros(shape=len(signal_health_state))\n",
    "nk_nn_HTI = np.zeros(shape=len(signal_health_state))\n",
    "nk_nn_TINN = np.zeros(shape=len(signal_health_state))\n",
    "i=0\n",
    "for signal in denoised_signals_one_channel:\n",
    "    if not np.isnan(signal).all():\n",
    "        peaks, info = nk.ecg_peaks(signal, sampling_rate=1000)\n",
    "        hrv_indices = nk.hrv_time(peaks, sampling_rate=1000, show=False)\n",
    "\n",
    "        # Compute parameters using R-peak series\n",
    "        nn_mean = hrv_indices['HRV_MeanNN']\n",
    "\n",
    "        nn_std = hrv_indices['HRV_SDNN']\n",
    "\n",
    "        nn_rmssd = hrv_indices['HRV_RMSSD']\n",
    "\n",
    "        nn_pNN50 = hrv_indices['HRV_pNN50']\n",
    "\n",
    "        nn_IQR = hrv_indices['HRV_IQRNN']\n",
    "\n",
    "        nn_median = hrv_indices['HRV_MedianNN']\n",
    "\n",
    "        nn_mad = hrv_indices['HRV_MadNN']\n",
    "\n",
    "        nn_HTI = hrv_indices['HRV_HTI']\n",
    "\n",
    "        nn_TINN = hrv_indices['HRV_TINN']\n",
    "\n",
    "        nk_nn_means[i] = nn_mean\n",
    "        nk_nn_stds[i] = nn_std\n",
    "        nk_nn_RMSSD[i] = nn_rmssd\n",
    "        nk_nn_pNN50s[i] = nn_pNN50\n",
    "        nk_nn_iqr[i] = nn_IQR\n",
    "        nk_nn_median[i] = nn_median\n",
    "        nk_nn_mad[i] = nn_mad\n",
    "        nk_nn_HTI[i] = nn_HTI\n",
    "        nk_nn_TINN[i] = nn_TINN\n",
    "        i+=1\n"
   ]
  },
  {
   "cell_type": "code",
   "execution_count": null,
   "metadata": {},
   "outputs": [],
   "source": [
    "print_averages(nk_nn_means, 'nn means', test_nan_indices)\n",
    "print_averages(nk_nn_stds, 'nn stds', test_nan_indices)\n",
    "print_averages(nk_nn_RMSSD, 'nn RMSSDs', test_nan_indices)\n",
    "print_averages(nk_nn_pNN50s, 'nn pNN50s', test_nan_indices)\n",
    "print_averages(nk_nn_iqr, 'nn IQR', test_nan_indices)\n",
    "print_averages(nk_nn_median, 'nn median', test_nan_indices)\n",
    "print_averages(nk_nn_mad, 'nn mad', test_nan_indices)\n",
    "print_averages(nk_nn_HTI, 'nn HTI', test_nan_indices)\n",
    "print_averages(nk_nn_TINN, 'nn TINN', test_nan_indices)\n"
   ]
  },
  {
   "cell_type": "markdown",
   "metadata": {},
   "source": [
    "### QRS complex duration"
   ]
  },
  {
   "cell_type": "code",
   "execution_count": null,
   "metadata": {},
   "outputs": [],
   "source": [
    "cleaned_test_signal = nk.ecg_clean(test_signal, sampling_rate=1000)\n",
    "\n",
    "wave_dict, signals_df = nk.ecg_delineate(cleaned_test_signal, rpeaks=nkpeaks)"
   ]
  },
  {
   "cell_type": "code",
   "execution_count": null,
   "metadata": {},
   "outputs": [],
   "source": [
    "q_onset = signals_df['ECG_Q_Peaks']\n",
    "s_onset = signals_df['ECG_S_Peaks']"
   ]
  },
  {
   "cell_type": "code",
   "execution_count": null,
   "metadata": {},
   "outputs": [],
   "source": [
    "print(len(q_onset))\n",
    "print(len(s_onset))\n",
    "qrs_duration = np.array(s_onset) - np.array(q_onset)\n",
    "print(qrs_duration)"
   ]
  },
  {
   "cell_type": "code",
   "execution_count": null,
   "metadata": {},
   "outputs": [],
   "source": [
    "qrs_mean = np.zeros(shape = len(signal_health_state))\n",
    "qrs_std = np.zeros(shape = len(signal_health_state))\n",
    "\n",
    "\n",
    "i=0\n",
    "for signal in denoised_signals_one_channel:\n",
    "    if not np.isnan(signal).all():\n",
    "        cleaned_signal = nk.ecg_clean(signal, sampling_rate=1000)\n",
    "        \n",
    "        peak_dict, info = nk.ecg_peaks(cleaned_signal, sampling_rate=1000)\n",
    "        nkpeaks = info['ECG_R_Peaks']\n",
    "        \n",
    "        wave_dict, signals_df = nk.ecg_delineate(signal)\n",
    "        \n",
    "        q_peaks = signals_df['ECG_Q_Peaks']\n",
    "        s_peaks = signals_df['ECG_S_Peaks']\n",
    "        \n",
    "        qrs = np.array(s_peaks) - np.array(q_peaks)\n",
    "        \n",
    "        qrs_mean[i] = np.nanmean(qrs)\n",
    "        qrs_std[i] = np.nanstd(qrs)\n",
    "\n",
    "        i+=1"
   ]
  },
  {
   "cell_type": "code",
   "execution_count": null,
   "metadata": {},
   "outputs": [],
   "source": [
    "print(qrs_mean)"
   ]
  },
  {
   "cell_type": "code",
   "execution_count": null,
   "metadata": {},
   "outputs": [],
   "source": [
    "print_averages(qrs_mean, 'qrs means', test_nan_indices)\n",
    "print_averages(qrs_std, 'qrs stds', test_nan_indices)"
   ]
  },
  {
   "cell_type": "code",
   "execution_count": null,
   "metadata": {},
   "outputs": [],
   "source": [
    "from scipy.stats import skew, kurtosis\n",
    "\n",
    "def get_moments(signal, remove_outliers):\n",
    "    mean = np.mean(signal)\n",
    "    std = np.std(signal)\n",
    "    skew_ecg = skew(signal)\n",
    "    kurtosis_ecg = kurtosis(signal)\n",
    "    return mean, std, skew_ecg, kurtosis_ecg\n",
    "\n",
    "means = np.zeros(shape = len(signal_health_state))\n",
    "stds = np.zeros(shape = len(signal_health_state))\n",
    "skews = np.zeros(shape = len(signal_health_state))\n",
    "kurtosiss = np.zeros(shape = len(signal_health_state))\n",
    "i=0\n",
    "for signal in denoised_signals_one_channel:\n",
    "    if not np.isnan(signal).all():\n",
    "        mean, std, ecg_skew, ecg_kurtosis = get_moments(signal, remove_outliers=True)\n",
    "        means[i] = mean\n",
    "        stds[i] = std\n",
    "        skews[i] = ecg_skew\n",
    "        kurtosiss[i] = ecg_kurtosis\n",
    "        i+=1\n"
   ]
  },
  {
   "cell_type": "code",
   "execution_count": null,
   "metadata": {},
   "outputs": [],
   "source": [
    "print_averages(means, 'means', test_nan_indices)\n",
    "print_averages(stds, 'stds', test_nan_indices)\n",
    "print_averages(skews, 'skews', test_nan_indices)\n",
    "print_averages(kurtosiss, \"kurtosis'\", test_nan_indices)"
   ]
  },
  {
   "cell_type": "markdown",
   "metadata": {},
   "source": [
    "## Frequency Domain"
   ]
  },
  {
   "cell_type": "markdown",
   "metadata": {},
   "source": [
    "### Power Bands"
   ]
  },
  {
   "cell_type": "code",
   "execution_count": null,
   "metadata": {},
   "outputs": [],
   "source": [
    "from scipy.signal import welch\n",
    "from scipy.interpolate import interp1d\n",
    "\n",
    "fs = 1000 #Hz\n",
    "fs_interpolate = 3 #Hz\n",
    "\n",
    "peaks, _ = find_peaks(test_signal, distance=600)\n",
    "rr_intervals = np.diff(peaks)/fs # RR intervals in seconds, fs is the sampling frequency of the original signal\n",
    "    \n",
    "# Time points of the RR intervals\n",
    "rr_times = np.cumsum(rr_intervals)\n",
    "rr_times = np.insert(rr_times, 0, 0)  # Add time zero at the beginning\n",
    "\n",
    "# Interpolation\n",
    "interpolated_time = np.arange(0, rr_times[-2], 1/fs_interpolate)  # Interpolated time vector\n",
    "\n",
    "interpolated_rr = interp1d(rr_times[:-1], rr_intervals, kind='cubic')(interpolated_time)\n",
    "\n",
    "f, psd = welch(interpolated_rr, fs=fs_interpolate, nperseg=128)\n",
    "\n",
    "# print(f)\n",
    "# print(psd)\n",
    "\n",
    "# Define frequency bands\n",
    "lf_band = (0.04, 0.15)\n",
    "hf_band = (0.15, 0.40)\n",
    "\n",
    "# Integrate the power spectral density over the frequency bands\n",
    "lf_power = np.trapz(psd[(f >= lf_band[0]) & (f <= lf_band[1])], f[(f >= lf_band[0]) & (f <= lf_band[1])])\n",
    "hf_power = np.trapz(psd[(f >= hf_band[0]) & (f <= hf_band[1])], f[(f >= hf_band[0]) & (f <= hf_band[1])])"
   ]
  },
  {
   "cell_type": "code",
   "execution_count": null,
   "metadata": {},
   "outputs": [],
   "source": [
    "def power_bands(signal):\n",
    "    fs = 1000 #Hz\n",
    "    fs_interpolate = 3 #Hz\n",
    "    \n",
    "    # define frequency bands\n",
    "    lf_band = (0.04, 0.15)\n",
    "    hf_band = (0.15, 0.40)\n",
    "    \n",
    "    peak_dict, info = nk.ecg_peaks(signal, sampling_rate=1000)\n",
    "    peaks = info['ECG_R_Peaks']\n",
    "\n",
    "    rr_intervals = np.diff(peaks)/fs # RR intervals in seconds, fs is the sampling frequency of the original signal\n",
    "    \n",
    "    # time points of the RR intervals\n",
    "    rr_times = np.cumsum(rr_intervals)\n",
    "    rr_times = np.insert(rr_times, 0, 0)  # add time zero at the beginning\n",
    "\n",
    "    # Interpolation\n",
    "    interpolated_time = np.arange(0, rr_times[-2], 1/fs_interpolate)  # Interpolated time vector\n",
    "    interpolated_rr = interp1d(rr_times[:-1], rr_intervals, kind='cubic')(interpolated_time)\n",
    "\n",
    "    #welch spectrum\n",
    "    f, psd = welch(interpolated_rr, fs=fs_interpolate, nperseg=128)\n",
    "    \n",
    "    # Integrate the power spectral density over the frequency bands\n",
    "    lf_power = np.trapz(psd[(f >= lf_band[0]) & (f <= lf_band[1])], f[(f >= lf_band[0]) & (f <= lf_band[1])])\n",
    "    hf_power = np.trapz(psd[(f >= hf_band[0]) & (f <= hf_band[1])], f[(f >= hf_band[0]) & (f <= hf_band[1])])\n",
    "    \n",
    "    # Total power\n",
    "    total_power = np.trapz(psd, f)\n",
    "    \n",
    "    return lf_power, hf_power, lf_power/hf_power, total_power\n",
    "    "
   ]
  },
  {
   "cell_type": "code",
   "execution_count": null,
   "metadata": {},
   "outputs": [],
   "source": [
    "lfs = np.zeros(shape = len(signal_health_state))\n",
    "hfs = np.zeros(shape = len(signal_health_state))\n",
    "ratios = np.zeros(shape = len(signal_health_state))\n",
    "TPs = np.zeros(shape = len(signal_health_state))\n",
    "i=0\n",
    "for signal in denoised_signals_one_channel:\n",
    "    if not np.isnan(signal).all():\n",
    "        lf, hf, ratio, tp = power_bands(signal)\n",
    "        lfs[i] = lf\n",
    "        hfs[i] = hf\n",
    "        ratios[i] = ratio\n",
    "        TPs[i] = tp\n",
    "        i+=1"
   ]
  },
  {
   "cell_type": "code",
   "execution_count": null,
   "metadata": {},
   "outputs": [],
   "source": [
    "print_averages(lfs, 'lf_power', test_nan_indices)\n",
    "print_averages(hfs, 'hf_power', test_nan_indices)\n",
    "print_averages(ratios, 'ratio of power bands', test_nan_indices)\n",
    "print_averages(TPs, 'total power', test_nan_indices)"
   ]
  },
  {
   "cell_type": "code",
   "execution_count": null,
   "metadata": {},
   "outputs": [],
   "source": [
    "#comparisson with pyhrv\n",
    "import pyhrv.frequency_domain as freq_dom\n",
    "\n",
    "py_ulfs = np.zeros(shape = len(signal_health_state))\n",
    "py_lfs = np.zeros(shape = len(signal_health_state))\n",
    "py_hfs = np.zeros(shape = len(signal_health_state))\n",
    "py_ratios = np.zeros(shape = len(signal_health_state))\n",
    "i=0\n",
    "for signal in denoised_signals_one_channel:\n",
    "    if not np.isnan(signal).all():\n",
    "        # Get R-peaks series using biosppy\n",
    "        t, filtered_signal, rpeaks = biosppy.signals.ecg.ecg(signal, show=False)[:3]\n",
    "\n",
    "        freq_feat = freq_dom.welch_psd(rpeaks = rpeaks, show = False, show_param=False, legend=False)\n",
    "        py_ulfs[i] = freq_feat['fft_abs'][0]\n",
    "        py_lfs[i] = freq_feat['fft_abs'][1]\n",
    "        py_hfs[i] = freq_feat['fft_abs'][2]\n",
    "\n",
    "        py_ratios[i] = freq_feat['fft_ratio']\n",
    "        i+=1\n",
    "    "
   ]
  },
  {
   "cell_type": "code",
   "execution_count": null,
   "metadata": {},
   "outputs": [],
   "source": [
    "print_averages(py_lfs, 'lf_power', test_nan_indices)\n",
    "print_averages(py_hfs, 'hf_power', test_nan_indices)\n",
    "print_averages(py_ratios, 'ratio of power bands', test_nan_indices)\n",
    "print_averages(py_ulfs, 'ulf_power', test_nan_indices)"
   ]
  },
  {
   "cell_type": "code",
   "execution_count": null,
   "metadata": {},
   "outputs": [],
   "source": [
    "plt.figure(figsize=(10, 5))\n",
    "plt.plot(f, psd)\n",
    "plt.title('Power Spectral Density of Interpolated RR Intervals')\n",
    "plt.xlabel('Frequency (Hz)')\n",
    "plt.ylabel('Power Spectral Density (ms^2/Hz)')\n",
    "plt.grid()\n",
    "plt.show()"
   ]
  },
  {
   "cell_type": "code",
   "execution_count": null,
   "metadata": {},
   "outputs": [],
   "source": [
    "#neurokit\n",
    "nk_ULF = np.zeros(shape = len(signal_health_state))\n",
    "nk_VLF = np.zeros(shape = len(signal_health_state))\n",
    "nk_LF = np.zeros(shape = len(signal_health_state))\n",
    "nk_HF = np.zeros(shape = len(signal_health_state))\n",
    "nk_TP = np.zeros(shape = len(signal_health_state))\n",
    "nk_LFHF = np.zeros(shape=len(signal_health_state))\n",
    "i=0\n",
    "for signal in denoised_signals_one_channel:\n",
    "    if not np.isnan(signal).all():\n",
    "        peaks, info = nk.ecg_peaks(signal, sampling_rate=1000)\n",
    "        freq_indices = nk.hrv_frequency(peaks, sampling_rate=1000, show=False)\n",
    "\n",
    "        # Compute parameters using R-peak series\n",
    "        ULF = freq_indices['HRV_ULF']\n",
    "\n",
    "        VLF = freq_indices['HRV_VLF']\n",
    "\n",
    "        LF = freq_indices['HRV_LF']\n",
    "\n",
    "        HF = freq_indices['HRV_HF']\n",
    "\n",
    "        TP = freq_indices['HRV_TP']\n",
    "\n",
    "        power_ratio = freq_indices['HRV_LFHF']\n",
    "\n",
    "        nk_ULF[i] = ULF\n",
    "        nk_VLF[i] = VLF\n",
    "        nk_LF[i] = LF\n",
    "        nk_HF[i] = HF\n",
    "        nk_TP[i] = TP\n",
    "        nk_LFHF[i] = power_ratio\n",
    "        i+=1"
   ]
  },
  {
   "cell_type": "code",
   "execution_count": null,
   "metadata": {},
   "outputs": [],
   "source": [
    "print_averages(nk_ULF, 'ULF', test_nan_indices)\n",
    "print_averages(nk_VLF, 'VLF', test_nan_indices)\n",
    "print_averages(nk_LF, 'LF', test_nan_indices)\n",
    "print_averages(nk_HF, 'HF', test_nan_indices)\n",
    "print_averages(nk_TP, 'TP', test_nan_indices)\n",
    "print_averages(nk_LFHF, 'ratio', test_nan_indices)\n"
   ]
  },
  {
   "cell_type": "markdown",
   "metadata": {},
   "source": [
    "### DWT\n"
   ]
  },
  {
   "cell_type": "code",
   "execution_count": null,
   "metadata": {},
   "outputs": [],
   "source": [
    "def single_DWT(signal, wavelet='db4'):\n",
    "    coeffs = pywt.dwt(signal, wavelet)\n",
    "    mean = np.zeros(shape=len(coeffs))\n",
    "    std = np.zeros(shape=len(coeffs))\n",
    "    coeff_min = np.zeros(shape=len(coeffs))\n",
    "    coeff_max = np.zeros(shape=len(coeffs))\n",
    "    for i, coeff in enumerate(coeffs):\n",
    "        mean[i] = np.mean(coeff)\n",
    "        std[i] = np.std(coeff)\n",
    "        coeff_min[i] = np.min(coeff)\n",
    "        coeff_max[i] = np.max(coeff)\n",
    "    return mean, std, coeff_min, coeff_max\n",
    "    "
   ]
  },
  {
   "cell_type": "code",
   "execution_count": null,
   "metadata": {},
   "outputs": [],
   "source": [
    "DWT_means = np.zeros(shape = (len(signal_health_state), 2))\n",
    "DWT_stds = np.zeros(shape = (len(signal_health_state), 2))\n",
    "DWT_mins = np.zeros(shape = (len(signal_health_state), 2))\n",
    "DWT_maxs = np.zeros(shape = (len(signal_health_state), 2))\n",
    "i=0\n",
    "for signal in denoised_signals_one_channel:\n",
    "    if not np.isnan(signal).all():\n",
    "        DWT_mean, DWT_std, DWT_min, DWT_max = single_DWT(signal)\n",
    "        DWT_means[i] = DWT_mean \n",
    "        DWT_stds[i] = DWT_std\n",
    "        DWT_mins[i] = DWT_min\n",
    "        DWT_maxs[i] = DWT_max\n",
    "        i+=1"
   ]
  },
  {
   "cell_type": "code",
   "execution_count": null,
   "metadata": {},
   "outputs": [],
   "source": [
    "print_averages(DWT_means[:, 0], 'mean approx coeff', test_nan_indices)\n",
    "print('---')\n",
    "print_averages(DWT_means[:, 1], 'mean detail coeff', test_nan_indices)\n",
    "print('---')\n",
    "print_averages(DWT_stds[:, 0], 'std approx coeff', test_nan_indices)\n",
    "print('---')\n",
    "print_averages(DWT_stds[:, 1], 'std detail coeff', test_nan_indices)\n",
    "print('---')\n",
    "print_averages(DWT_mins[:, 0], 'min approx coeff', test_nan_indices)\n",
    "print('---')\n",
    "print_averages(DWT_mins[:, 1], 'min detail coeff', test_nan_indices)\n",
    "print('---')\n",
    "print_averages(DWT_maxs[:, 0], 'max approx coeff', test_nan_indices)\n",
    "print('---')\n",
    "print_averages(DWT_maxs[:, 1], 'max detail coeff', test_nan_indices)"
   ]
  },
  {
   "cell_type": "code",
   "execution_count": null,
   "metadata": {},
   "outputs": [],
   "source": [
    "def multi_DWT(signal, level, wavelet='db4'):\n",
    "    coeffs = pywt.wavedec(signal, wavelet, level=level)\n",
    "    \n",
    "    mean = np.zeros(shape=len(coeffs))\n",
    "    std = np.zeros(shape=len(coeffs))\n",
    "    coeff_min = np.zeros(shape=len(coeffs))\n",
    "    coeff_max = np.zeros(shape=len(coeffs))\n",
    "    for i, coeff in enumerate(coeffs):\n",
    "        mean[i] = np.mean(coeff)\n",
    "        std[i] = np.std(coeff)\n",
    "        coeff_min[i] = np.min(coeff)\n",
    "        coeff_max[i] = np.max(coeff)\n",
    "    return mean, std, coeff_min, coeff_max\n",
    "    \n",
    "level = 8\n",
    "    \n",
    "multi_DWT_means = np.zeros(shape = (len(signal_health_state), level+1))\n",
    "multi_DWT_stds = np.zeros(shape = (len(signal_health_state), level+1))\n",
    "multi_DWT_mins = np.zeros(shape = (len(signal_health_state), level+1))\n",
    "multi_DWT_maxs = np.zeros(shape = (len(signal_health_state), level+1))\n",
    "i=0\n",
    "for signal in denoised_signals_one_channel:\n",
    "    if not np.isnan(signal).all():\n",
    "        multi_DWT_mean, multi_DWT_std, multi_DWT_min, multi_DWT_max = multi_DWT(signal, level)\n",
    "        multi_DWT_means[i] = multi_DWT_mean \n",
    "        multi_DWT_stds[i] = multi_DWT_std\n",
    "        multi_DWT_mins[i] = multi_DWT_min\n",
    "        multi_DWT_maxs[i] = multi_DWT_max\n",
    "        i+=1\n",
    "\n"
   ]
  },
  {
   "cell_type": "code",
   "execution_count": null,
   "metadata": {},
   "outputs": [],
   "source": [
    "for i in range(0, multi_DWT_means.shape[1]):\n",
    "    print_averages(multi_DWT_means[:, i], f'mean approx coeff {i}', test_nan_indices)\n",
    "    print('---')\n",
    "    "
   ]
  },
  {
   "cell_type": "markdown",
   "metadata": {},
   "source": [
    "## Non-Linear Domain"
   ]
  },
  {
   "cell_type": "markdown",
   "metadata": {},
   "source": [
    "### Standard deviation of Poincare Plot\n",
    "plot of each rr interval against the next, essentially a phase plot"
   ]
  },
  {
   "cell_type": "code",
   "execution_count": null,
   "metadata": {},
   "outputs": [],
   "source": [
    "def plot_poincare(rr_intervals, compare=False):\n",
    "    x = rr_intervals[:-1]\n",
    "    y = rr_intervals[1:]\n",
    "    \n",
    "    if compare:\n",
    "        removed_outliers = rr_intervals[outliers_indices_z_score(rr_intervals)]\n",
    "        filtx = removed_outliers[:-1]\n",
    "        filty = removed_outliers[1:]\n",
    "        diff = len(rr_intervals) - len(removed_outliers)\n",
    "        \n",
    "        fig, (ax1, ax2) = plt.subplots(1, 2, figsize=(12,8))\n",
    "        ax2.scatter(filtx, filty, s=10, alpha=0.5)\n",
    "        ax2.plot(filtx, filtx, color='red', linestyle='--')  # Line of identity (y = x)\n",
    "        ax2.set_title(f'Poincaré Plot, Removed {diff} samples')\n",
    "        ax2.set_xlabel('RR_n (ms)')\n",
    "        ax2.set_ylabel('RR_{n+1} (ms)')\n",
    "        ax2.grid()\n",
    "        \n",
    "    else:\n",
    "        fig, ax1 = plt.subplots()\n",
    "\n",
    "    ax1.scatter(x, y, s=10, alpha=0.5)\n",
    "    ax1.plot(x, x, color='red', linestyle='--')  # Line of identity (y = x)\n",
    "    ax1.set_title('Poincaré Plot')\n",
    "    ax1.set_xlabel('RR_n (ms)')\n",
    "    ax1.set_ylabel('RR_{n+1} (ms)')\n",
    "    ax1.grid(True)\n",
    "    ax1.axis('equal')  # Ensure aspect ratio is equal\n",
    "    plt.show()\n",
    "    return None\n",
    "    \n",
    "def calculate_poincare_sd(sig, remove_outliers=False):\n",
    "    #get rr intervals\n",
    "    rr_intervals = get_rri(sig)[0]\n",
    "    \n",
    "    if remove_outliers:\n",
    "        rr_intervals = rr_intervals[outliers_indices_z_score(rr_intervals)]\n",
    "        \n",
    "    #separating into subsequent coordinates for Poincaré plot\n",
    "    rr_n = rr_intervals[:-1]\n",
    "    rr_n1 = rr_intervals[1:]\n",
    "    \n",
    "    #calculating SD1, perpendicular to y=x\n",
    "    diff_rr = np.array(rr_n) - np.array(rr_n1)\n",
    "    sd1 = np.sqrt(np.var(diff_rr/np.sqrt(2)))\n",
    "    \n",
    "    # calculating SD2, along y=x\n",
    "    sum_rr = rr_n + rr_n1\n",
    "    sd2 = np.sqrt(np.var(sum_rr/np.sqrt(2)))\n",
    "    \n",
    "    # calculating ratio\n",
    "    sd_ratio = sd2/sd1\n",
    "   \n",
    "    #counting intervals outside SD1 and SD2\n",
    "    count_outside_sd1 = np.sum(np.abs(diff_rr / np.sqrt(2)) > sd1)\n",
    "    count_outside_sd2 = np.sum(np.abs(sum_rr / np.sqrt(2)) > sd2)\n",
    "\n",
    "    out = count_outside_sd1 + count_outside_sd2\n",
    "    return sd1, sd2, sd_ratio, count_outside_sd1, count_outside_sd2, out\n"
   ]
  },
  {
   "cell_type": "code",
   "execution_count": null,
   "metadata": {},
   "outputs": [],
   "source": [
    "# rr_intervals = get_rri(signals[9])[0]\n",
    "# plot_poincare(rr_intervals, compare = True)"
   ]
  },
  {
   "cell_type": "code",
   "execution_count": null,
   "metadata": {},
   "outputs": [],
   "source": [
    "sd1s = np.zeros(shape = len(signal_health_state))\n",
    "sd2s = np.zeros(shape = len(signal_health_state))\n",
    "sd_ratios = np.zeros(shape=len(signal_health_state))\n",
    "out_sd1s = np.zeros(shape=len(signal_health_state))\n",
    "out_sd2s = np.zeros(shape=len(signal_health_state))\n",
    "n_out = np.zeros(shape = len(signal_health_state))\n",
    "i=0\n",
    "for signal in denoised_signals_one_channel:\n",
    "    if not np.isnan(signal).all():\n",
    "        sd1, sd2, sd_ratio, out_sd1, out_sd2, out = calculate_poincare_sd(signal)\n",
    "        sd1s[i] = sd1\n",
    "        sd2s[i] = sd2\n",
    "        sd_ratios[i] = sd_ratio\n",
    "        out_sd1s[i] = out_sd1\n",
    "        out_sd2s[i] = out_sd2\n",
    "        n_out[i] = out\n",
    "        i+=1"
   ]
  },
  {
   "cell_type": "code",
   "execution_count": null,
   "metadata": {},
   "outputs": [],
   "source": [
    "print_averages(sd1s, 'sd1s', test_nan_indices)\n",
    "print_averages(sd2s, 'sd2s', test_nan_indices)\n",
    "print_averages(sd_ratios, 'sd ratio', test_nan_indices)\n",
    "print_averages(out_sd1s, 'sd1 outlier', test_nan_indices)\n",
    "print_averages(out_sd2s, 'sd2 outlier', test_nan_indices)\n",
    "print_averages(n_out, 'n out', test_nan_indices)"
   ]
  },
  {
   "cell_type": "code",
   "execution_count": null,
   "metadata": {},
   "outputs": [],
   "source": [
    "#with outliers removed\n",
    "sd1s = np.zeros(shape = len(signal_health_state))\n",
    "sd2s = np.zeros(shape =len(signal_health_state))\n",
    "sd_ratios = np.zeros(shape=len(signal_health_state))\n",
    "i=0\n",
    "for signal in denoised_signals_one_channel:\n",
    "    if not np.isnan(signal).all():\n",
    "        sd1, sd2, sd_ratio = calculate_poincare_sd(signal, remove_outliers=True)[:3]\n",
    "        sd1s[i] = sd1\n",
    "        sd2s[i] = sd2\n",
    "        sd_ratios[i] = sd_ratio\n",
    "        i+=1"
   ]
  },
  {
   "cell_type": "code",
   "execution_count": null,
   "metadata": {},
   "outputs": [],
   "source": [
    "print_averages(sd1s, 'sd1s', test_nan_indices)\n",
    "print_averages(sd2s, 'sd2s', test_nan_indices)\n",
    "print_averages(sd_ratios, 'sd ratio', test_nan_indices)"
   ]
  },
  {
   "cell_type": "code",
   "execution_count": null,
   "metadata": {},
   "outputs": [],
   "source": [
    "import pyhrv.nonlinear as nl\n",
    "\n",
    "py_sd1s = np.zeros(shape = len(signal_health_state))\n",
    "py_sd2s = np.zeros(shape = len(signal_health_state))\n",
    "sd_ratio = np.zeros(shape = len(signal_health_state))\n",
    "i=0\n",
    "for signal in denoised_signals_one_channel:\n",
    "    if not np.isnan(signal).all():\n",
    "        # Get R-peaks series using biosppy\n",
    "        t, filtered_signal, rpeaks = biosppy.signals.ecg.ecg(signal, show=False)[:3]\n",
    "        rpeaks =t[rpeaks]\n",
    "\n",
    "        nl_features = nl.poincare(rpeaks=rpeaks, show=False)\n",
    "        py_sd1s[i] = nl_features['sd1']\n",
    "        py_sd2s[i] = nl_features['sd2']\n",
    "        sd_ratio[i] = nl_features['sd_ratio']\n",
    "        i+=1"
   ]
  },
  {
   "cell_type": "code",
   "execution_count": null,
   "metadata": {},
   "outputs": [],
   "source": [
    "print_averages(py_sd1s, 'sd1s', test_nan_indices)\n",
    "print_averages(py_sd2s, 'sd2s', test_nan_indices)\n",
    "print_averages(py_ratios, 'sd ratios', test_nan_indices)"
   ]
  },
  {
   "cell_type": "markdown",
   "metadata": {},
   "source": [
    "### Sample Entropy\n",
    "quantifies the unpredictability of fluctuations in the data set"
   ]
  },
  {
   "cell_type": "code",
   "execution_count": null,
   "metadata": {},
   "outputs": [],
   "source": [
    "def calculate_sample_entropy(signal, m=2, r=0.2):\n",
    "    rr_intervals = get_rri(signal)[0]\n",
    "    N = len(rr_intervals)\n",
    "    r *= np.std(rr_intervals)  # tolerance r is usually set as a fraction of the standard deviation\n",
    "    \n",
    "    def _phi(m):\n",
    "        X = np.array([rr_intervals[i:i + m] for i in range(N - m + 1)])\n",
    "        C = np.sum(np.max(np.abs(X[:, None] - X[None, :]), axis=2) <= r, axis=0) - 1\n",
    "        return np.sum(C) / (N - m + 1)\n",
    "    return -np.log((_phi(m + 1)) / (_phi(m)))"
   ]
  },
  {
   "cell_type": "code",
   "execution_count": null,
   "metadata": {},
   "outputs": [],
   "source": [
    "samp_en = calculate_sample_entropy(test_signal)\n",
    "print(\"Sample Entropy:\", samp_en)"
   ]
  },
  {
   "cell_type": "code",
   "execution_count": null,
   "metadata": {},
   "outputs": [],
   "source": [
    "samp_ens = np.zeros(shape = len(signal_health_state))\n",
    "i=0\n",
    "for signal in denoised_signals_one_channel:\n",
    "    if not np.isnan(signal).all():\n",
    "        samp_en = calculate_sample_entropy(signal)\n",
    "        samp_ens[i] = samp_en\n",
    "        i+=1"
   ]
  },
  {
   "cell_type": "code",
   "execution_count": null,
   "metadata": {},
   "outputs": [],
   "source": [
    "print_averages(samp_ens, 'sample entropy', test_nan_indices)"
   ]
  },
  {
   "cell_type": "code",
   "execution_count": null,
   "metadata": {},
   "outputs": [],
   "source": [
    "py_samp_en = np.zeros(shape=len(signal_health_state))\n",
    "i=0\n",
    "for signal in denoised_signals_one_channel:\n",
    "    if not np.isnan(signal).all():\n",
    "        # Get R-peaks series using biosppy\n",
    "        t, filtered_signal, rpeaks = biosppy.signals.ecg.ecg(signal, show=False)[:3]\n",
    "        rpeaks =t[rpeaks]\n",
    "\n",
    "        py_samp_en[i] = nl.sample_entropy(rpeaks = rpeaks)['sampen']\n",
    "        i+=1\n"
   ]
  },
  {
   "cell_type": "code",
   "execution_count": null,
   "metadata": {},
   "outputs": [],
   "source": [
    "print_averages(py_samp_en, 'sample entropy', test_nan_indices)"
   ]
  },
  {
   "cell_type": "markdown",
   "metadata": {},
   "source": [
    "### Shannon Entropy \n",
    "also known as information entropy, is a measure of the uncertainty or randomness in a set of values"
   ]
  },
  {
   "cell_type": "code",
   "execution_count": null,
   "metadata": {},
   "outputs": [],
   "source": [
    "def calculate_shannon_entropy(signal, num_bins=500):\n",
    "    rr_intervals = get_rri(signal)[0]\n",
    "    # discretize RR intervals into bins and calculate probabilities\n",
    "    hist, bin_edges = np.histogram(rr_intervals, bins=num_bins, density=True)\n",
    "    \n",
    "    probabilities = hist / np.sum(hist)\n",
    "    \n",
    "    # Calculate Shannon Entropy using equation\n",
    "    shannon_entropy = -np.sum(probabilities * np.log2(probabilities + 1e-12))  # adding a small value to avoid log(0)\n",
    "    \n",
    "    return shannon_entropy"
   ]
  },
  {
   "cell_type": "code",
   "execution_count": null,
   "metadata": {},
   "outputs": [],
   "source": [
    "shannon_en = calculate_shannon_entropy(test_signal)\n",
    "print('Shannon Entropy:', shannon_en)"
   ]
  },
  {
   "cell_type": "code",
   "execution_count": null,
   "metadata": {},
   "outputs": [],
   "source": [
    "shannon_ens = np.zeros(shape = len(signal_health_state))\n",
    "i=0\n",
    "for signal in denoised_signals_one_channel:\n",
    "    if not np.isnan(signal).all():\n",
    "        shannon_en = calculate_shannon_entropy(signal)\n",
    "        shannon_ens[i] = shannon_en\n",
    "        i+=1"
   ]
  },
  {
   "cell_type": "code",
   "execution_count": null,
   "metadata": {},
   "outputs": [],
   "source": [
    "print_averages(shannon_ens, 'shannon entropy', test_nan_indices)"
   ]
  },
  {
   "cell_type": "code",
   "execution_count": null,
   "metadata": {},
   "outputs": [],
   "source": [
    "peaks, info = nk.ecg_peaks(test_signal, sampling_rate=1000)\n",
    "nl_indices = nk.hrv_nonlinear(peaks, sampling_rate=1000, show=False)\n",
    "print(nl_indices.columns)"
   ]
  },
  {
   "cell_type": "code",
   "execution_count": null,
   "metadata": {},
   "outputs": [],
   "source": [
    "nk_sd1s = np.zeros(shape=len(signal_health_state))\n",
    "nk_sd2s = np.zeros(shape = len(signal_health_state))\n",
    "nk_sd_ratios = np.zeros(shape = len(signal_health_state))\n",
    "nk_shannons = np.zeros(shape = len(signal_health_state))\n",
    "nk_sampens = np.zeros(shape = len(signal_health_state))\n",
    "nk_fuzzys = np.zeros(shape = len(signal_health_state))\n",
    "i=0\n",
    "for signal in denoised_signals_one_channel:\n",
    "\n",
    "    if not np.isnan(signal).all():\n",
    "        print(len(signal))\n",
    "        peaks, info = nk.ecg_peaks(signal, sampling_rate=1000)\n",
    "        nl_indices = nk.hrv_nonlinear(peaks, sampling_rate=1000, show=False)\n",
    "        nk_sd1s[i] = nl_indices['HRV_SD1']\n",
    "        nk_sd2s[i] = nl_indices['HRV_SD2']\n",
    "        nk_sd_ratios[i] = nl_indices['HRV_SD1SD2']\n",
    "        nk_shannons[i] = nl_indices['HRV_ShanEn']\n",
    "        nk_sampens[i] = nl_indices['HRV_SampEn']\n",
    "        nk_fuzzys[i] = nl_indices['HRV_FuzzyEn']\n",
    "        i+=1\n",
    "    "
   ]
  },
  {
   "cell_type": "code",
   "execution_count": null,
   "metadata": {},
   "outputs": [],
   "source": [
    "print_averages(nk_sd1s, 'sd1s', test_nan_indices)\n",
    "print_averages(nk_sd2s, 'sd2s', test_nan_indices)\n",
    "print_averages(nk_sd_ratios, 'sd ratios', test_nan_indices)\n",
    "print_averages(nk_shannons, 'shannon en', test_nan_indices)\n",
    "print_averages(nk_sampens, 'samp en', test_nan_indices)\n",
    "print_averages(nk_fuzzys, 'fuzzy en', test_nan_indices)"
   ]
  },
  {
   "cell_type": "markdown",
   "metadata": {},
   "source": [
    "### Correlation Dimension\n",
    "\n",
    "experimented with a couple of methods but all lead to memory issues."
   ]
  },
  {
   "cell_type": "code",
   "execution_count": null,
   "metadata": {},
   "outputs": [],
   "source": [
    "#calculating autocorrelation and time delay\n",
    "def autocorrelation(signal):\n",
    "    n = len(signal)\n",
    "    mean = np.mean(signal)\n",
    "    var = np.var(signal)\n",
    "    signal = signal - mean\n",
    "    autocorr = correlate(signal, signal, mode='full')[n-1:] / (var * n) #scipy correlate alottttt faster\n",
    "    return autocorr\n",
    "\n",
    "def find_time_delay(signal):\n",
    "    autocorr = autocorrelation(signal)\n",
    "    # Find the point where autocorrelation drops to 1/e of its initial value\n",
    "    threshold = 1 / np.exp(1)\n",
    "    tau = np.argmax(autocorr <= threshold) #measured in units of sampling rate (1000 hz)\n",
    "    return tau\n"
   ]
  },
  {
   "cell_type": "code",
   "execution_count": null,
   "metadata": {},
   "outputs": [],
   "source": [
    "#this takes foreverrrrrr - fixed using scipy.correlate\n",
    "tau = np.zeros(shape = len(signal_health_state), dtype=int)\n",
    "j=0\n",
    "for i in tqdm(range(0, no_patients)):\n",
    "    if not np.isnan(denoised_signals_one_channel[i]).all():\n",
    "        tau[j] = find_time_delay(denoised_signals_one_channel[i])\n",
    "        j+=1"
   ]
  },
  {
   "cell_type": "code",
   "execution_count": null,
   "metadata": {},
   "outputs": [],
   "source": [
    "#original embedding of time series\n",
    "def embed_time_series(signal, tau, m):\n",
    "    n = len(signal)\n",
    "    if n < (m - 1) * tau:\n",
    "        raise ValueError(\"Time series is too short for the chosen tau and embedding dimension.\")\n",
    "    embedded = np.array([signal[i : i + (m - 1) * tau + 1 : tau] for i in range(n - (m - 1) * tau)])\n",
    "    return embedded\n",
    "\n",
    "#     N = len(signal)\n",
    "#     M = N - (m - 1) * tau\n",
    "#     if M <= 0:\n",
    "#         raise ValueError(\"Time series too short for given m and tau\")\n",
    "#     phase_space = np.zeros((M, m))\n",
    "#     for i in range(m):\n",
    "#         phase_space[:, i] = signal[i * tau : i * tau + M]\n",
    "#     return phase_space\n",
    "\n",
    "# embedding dimension M\n",
    "M = 3\n",
    "\n",
    "#creates list of embedded arrays i.e. no_patients * len(embedded) * M\n",
    "embedded_signals = []\n",
    "j=0\n",
    "for i in tqdm(range(0, no_patients)):\n",
    "    if not np.isnan(denoised_signals_one_channel[i]).all():\n",
    "        embedded_signals.append(embed_time_series(denoised_signals_one_channel[i], tau[j], M))\n",
    "        j+=1"
   ]
  },
  {
   "cell_type": "code",
   "execution_count": null,
   "metadata": {},
   "outputs": [],
   "source": [
    "#calculates the pairwise euclidean distances for each reconstructed vector X(i), X(j)\n",
    "\n",
    "from scipy.spatial.distance import pdist, squareform\n",
    "\n",
    "print(embedded_signals[2].shape[0])"
   ]
  },
  {
   "cell_type": "code",
   "execution_count": null,
   "metadata": {},
   "outputs": [],
   "source": [
    "from scipy.spatial.distance import pdist, squareform\n",
    "\n",
    "def count_pairs_within_radius(distance_matrix, r):\n",
    "    N = distance_matrix.shape[0]\n",
    "    count = np.sum((distance_matrix < r) & (distance_matrix > 0))  # Exclude self-pairs\n",
    "    return count\n",
    "\n",
    "\n",
    "# r = 0.5 #setting radius with which to check that distances are within\n",
    "# pair_count = np.zeros(shape = no_patients)\n",
    "# for phase_space in embedded_signals:\n",
    "#     #calculates the pairwise euclidean distances for each reconstructed vector X(i), X(j)\n",
    "#     distances = pdist(phase_space, 'euclidean')\n",
    "\n",
    "#     # Convert distances to a square form\n",
    "#     distance_matrix = squareform(distances)\n",
    "    \n",
    "#     pair_count = count_pairs_within_radius(distance_matrix, r)\n",
    "    \n",
    "    "
   ]
  },
  {
   "cell_type": "code",
   "execution_count": null,
   "metadata": {},
   "outputs": [],
   "source": [
    "# from scipy.spatial.distance import euclidean\n",
    "\n",
    "\n",
    "# # using incremental pairwise distance calculation due to memory allocation issues\n",
    "# def count_pairs_within_radius(phase_space, r):\n",
    "#     M = phase_space.shape[0]\n",
    "#     count = 0\n",
    "#     for i in range(M):\n",
    "#         for j in range(i + 1, M):\n",
    "#             if euclidean(phase_space[i], phase_space[j]) < r:\n",
    "#                 count += 1\n",
    "#     return count\n",
    "\n",
    "# r = 0.5 #setting radius with which to check that distances are within\n",
    "# pair_count = np.zeros(shape = no_patients)\n",
    "# for i, phase_space in tqdm(enumerate(embedded_signals)):\n",
    "#     pair_count = count_pairs_within_radius(phase_space, r)\n",
    "    "
   ]
  },
  {
   "cell_type": "code",
   "execution_count": null,
   "metadata": {},
   "outputs": [],
   "source": [
    "# import nolds\n",
    "\n",
    "# corr_dimen = nolds.corr_dim(denoised_signals[0], emb_dim=2)"
   ]
  },
  {
   "cell_type": "markdown",
   "metadata": {},
   "source": [
    "### Detrended Fluctuation Analysis"
   ]
  },
  {
   "cell_type": "code",
   "execution_count": null,
   "metadata": {},
   "outputs": [],
   "source": [
    "import nolds\n",
    "\n",
    "#dfa = nolds.dfa(denoised_signals[0])"
   ]
  },
  {
   "cell_type": "code",
   "execution_count": null,
   "metadata": {},
   "outputs": [],
   "source": [
    "#print(dfa)"
   ]
  },
  {
   "cell_type": "code",
   "execution_count": null,
   "metadata": {},
   "outputs": [],
   "source": [
    "#will take a long time!!\n",
    "# dfas = np.zeros(shape = no_patients)\n",
    "# for i, signal in enumerate(denoised_signals):\n",
    "#     dfa = nolds.dfa(signal)\n",
    "#     dfas[i] = dfa"
   ]
  },
  {
   "cell_type": "code",
   "execution_count": null,
   "metadata": {},
   "outputs": [],
   "source": [
    "#print_averages(dfas, 'dfas')"
   ]
  },
  {
   "cell_type": "code",
   "execution_count": null,
   "metadata": {},
   "outputs": [],
   "source": [
    "# py_dfa1 = np.zeros(shape = no_patients)\n",
    "# py_dfa2 = np.zeros(shape = no_patients)\n",
    "# for i, signal in enumerate(denoised_signals_one_channel):\n",
    "#     # Get R-peaks series using biosppy\n",
    "#     t, filtered_signal, rpeaks = biosppy.signals.ecg.ecg(signal, show=False)[:3]\n",
    "#     rpeaks =t[rpeaks]\n",
    "    \n",
    "#     dfa_params = nl.dfa(rpeaks = rpeaks, show=False)\n",
    "\n",
    "#     py_dfa1[i] = dfa_params['dfa_alpha1']\n",
    "#     py_dfa2[i] = dfa_params['dfa_alpha2']"
   ]
  },
  {
   "cell_type": "code",
   "execution_count": null,
   "metadata": {},
   "outputs": [],
   "source": [
    "# print_averages(py_dfa1, 'dfa 1')\n",
    "# print_averages(py_dfa2, 'dfa 2')\n"
   ]
  },
  {
   "cell_type": "markdown",
   "metadata": {},
   "source": [
    "### Multi - Fractal Analysis"
   ]
  },
  {
   "cell_type": "markdown",
   "metadata": {},
   "source": [
    "- use signals to reconstruct dynamical attractors, used to quantify differences in signals\n",
    "- calculate time delay, point where autocorrelation drops to 1/e\n",
    "- each time series is then embedded into M dimension\n",
    "    - M decided at point at which any fractal measure saturates, e.g $D_2$, correlation dimension.\n",
    "- perform SVD on embedded signal to get embedded attractor\n",
    "- perform fractal analysis on embedded attractor"
   ]
  },
  {
   "cell_type": "code",
   "execution_count": null,
   "metadata": {},
   "outputs": [],
   "source": [
    "#calculating autocorrelation and time delay\n",
    "def autocorrelation(signal):\n",
    "    n = len(signal)\n",
    "    mean = np.mean(signal)\n",
    "    var = np.var(signal)\n",
    "    signal = signal - mean\n",
    "    autocorr = correlate(signal, signal, mode='full')[n-1:] / (var * n) #scipy correlate alottttt faster\n",
    "    return autocorr\n",
    "\n",
    "def find_time_delay(signal):\n",
    "    autocorr = autocorrelation(signal)\n",
    "    # Find the point where autocorrelation drops to 1/e of its initial value\n",
    "    threshold = 1 / np.exp(1)\n",
    "    tau = np.argmax(autocorr <= threshold) #measured in units of sampling rate (1000 hz)\n",
    "    return tau\n",
    "\n"
   ]
  },
  {
   "cell_type": "code",
   "execution_count": null,
   "metadata": {},
   "outputs": [],
   "source": [
    "#this takes foreverrrrrr - fixed using scipy.correlate\n",
    "tau = np.zeros(shape = len(signal_health_state), dtype=int)\n",
    "j=0\n",
    "for i in tqdm(range(0, no_patients)):\n",
    "    if not np.isnan(denoised_signals_one_channel[i]).all():\n",
    "        tau[j] = find_time_delay(denoised_signals_one_channel[i])\n",
    "        j+=1"
   ]
  },
  {
   "cell_type": "code",
   "execution_count": null,
   "metadata": {},
   "outputs": [],
   "source": [
    "#print(tau)"
   ]
  },
  {
   "cell_type": "code",
   "execution_count": null,
   "metadata": {},
   "outputs": [],
   "source": [
    "#embedding time series\n",
    "def embed_time_series(signal, tau, m):\n",
    "    n = len(signal)\n",
    "    if n < (m - 1) * tau:\n",
    "        raise ValueError(\"Time series is too short for the chosen tau and embedding dimension.\")\n",
    "    embedded = np.array([signal[i : i + (m - 1) * tau + 1 : tau] for i in range(n - (m - 1) * tau)])\n",
    "    return embedded\n",
    "\n",
    "# embedding dimension M\n",
    "M = 4\n",
    "\n",
    "    \n",
    "#creates list of embedded arrays i.e. no_patients * len(embedded) * M\n",
    "embedded_signals = []\n",
    "j=0\n",
    "for i in tqdm(range(0, no_patients)):\n",
    "    if not np.isnan(denoised_signals_one_channel[i]).all():\n",
    "        embedded_signals.append(embed_time_series(denoised_signals_one_channel[i], tau[j], M))\n",
    "        j+=1"
   ]
  },
  {
   "cell_type": "code",
   "execution_count": null,
   "metadata": {},
   "outputs": [],
   "source": [
    "fig, axes = plt.subplots()\n",
    "\n",
    "print(embedded_signals[3].shape)\n",
    "axes.plot(embedded_signals[0])\n",
    "plt.show()"
   ]
  },
  {
   "cell_type": "code",
   "execution_count": null,
   "metadata": {},
   "outputs": [],
   "source": [
    "# performing SVD\n",
    "\n",
    "from sklearn.preprocessing import StandardScaler\n",
    "from numpy.linalg import svd\n",
    "\n",
    "# Standardize the embedded signal\n",
    "scaler = StandardScaler()\n",
    "embedded_signal_std = scaler.fit_transform(embedded_signals[0])\n",
    "\n",
    "# Perform SVD\n",
    "U, S, VT = svd(embedded_signal_std, full_matrices=False)\n",
    "\n",
    "# Get the principal components\n",
    "PCs = U @ np.diag(S)"
   ]
  },
  {
   "cell_type": "code",
   "execution_count": null,
   "metadata": {},
   "outputs": [],
   "source": [
    "#visualising attractors in 3D\n",
    " \n",
    "import matplotlib.pyplot as plt\n",
    "from mpl_toolkits.mplot3d import Axes3D\n",
    "\n",
    "# Plot the first three principal components\n",
    "fig = plt.figure(figsize=(10, 7))\n",
    "ax = fig.add_subplot(111, projection='3d')\n",
    "\n",
    "ax.plot(PCs[:, 0], PCs[:, 1], PCs[:, 2], lw=0.5)\n",
    "\n",
    "ax.set_xlabel('PC1')\n",
    "ax.set_ylabel('PC2')\n",
    "ax.set_zlabel('PC3')\n",
    "ax.set_title('Embedded Attractor from SVD')\n",
    "\n",
    "plt.show()"
   ]
  },
  {
   "cell_type": "code",
   "execution_count": null,
   "metadata": {},
   "outputs": [],
   "source": [
    "#in 2D\n",
    "\n",
    "fig, axes = plt.subplots()\n",
    "\n",
    "axes.plot(PCs[:, 0], PCs[:, 1])"
   ]
  },
  {
   "cell_type": "code",
   "execution_count": null,
   "metadata": {},
   "outputs": [],
   "source": [
    "#calculating fractal dimension through box counting\n",
    "def box_counting(data, box_sizes):\n",
    "    counts = []\n",
    "    for size in box_sizes:\n",
    "        count = 0\n",
    "        # creates grid\n",
    "        grid = np.ceil(data / size).astype(int)\n",
    "        #counts unique boxes\n",
    "        unique_boxes = np.unique(grid, axis=0)\n",
    "        count = len(unique_boxes)\n",
    "        counts.append(count)\n",
    "    return counts\n",
    "\n",
    "def fractal_dimension(data, box_sizes):\n",
    "    counts = box_counting(data, box_sizes)\n",
    "    log_box_sizes = np.log(box_sizes)\n",
    "    log_counts = np.log(counts)\n",
    "    \n",
    "    # Perform linear regression to find the slope of the log-log plot\n",
    "    coeffs = np.polyfit(log_box_sizes, log_counts, 1)\n",
    "    return -coeffs[0]  # The fractal dimension is the negative slope\n",
    "\n",
    "# Define box sizes\n",
    "box_sizes = np.logspace(-1, 1, num=10)  # Adjust as needed\n",
    "\n",
    "# Calculate the fractal dimension\n",
    "fd = fractal_dimension(PCs[:, :3], box_sizes)  # Using the first three principal components"
   ]
  },
  {
   "cell_type": "code",
   "execution_count": null,
   "metadata": {},
   "outputs": [],
   "source": [
    "print(f\"Fractal Dimension: {fd}\")"
   ]
  },
  {
   "cell_type": "code",
   "execution_count": null,
   "metadata": {},
   "outputs": [],
   "source": [
    "# plotting the log-log plot for the box-counting method\n",
    "import matplotlib.pyplot as plt\n",
    "\n",
    "log_box_sizes = np.log(box_sizes)\n",
    "log_counts = np.log(box_counting(PCs[:, :3], box_sizes))\n",
    "\n",
    "plt.figure(figsize=(8, 6))\n",
    "plt.plot(log_box_sizes, log_counts, 'o', label='Data points')\n",
    "plt.plot(log_box_sizes, np.polyval(np.polyfit(log_box_sizes, log_counts, 1), log_box_sizes),\n",
    "         label=f'Fit line (slope = {-fd:.2f})')\n",
    "plt.xlabel('log(Box size)')\n",
    "plt.ylabel('log(Count)')\n",
    "plt.legend()\n",
    "plt.title('Fractal Dimension Estimation using Box-Counting Method')\n",
    "plt.show()"
   ]
  },
  {
   "cell_type": "markdown",
   "metadata": {},
   "source": [
    "Code to calculate fractal dimension only for each patient:"
   ]
  },
  {
   "cell_type": "code",
   "execution_count": null,
   "metadata": {},
   "outputs": [],
   "source": [
    "#research this properly before doing this final implementation but this allows calculation of just fractal dimension from all signals\n",
    "def calc_fractal_dim(signal):\n",
    "    \n",
    "    scaler = StandardScaler()\n",
    "    embedded_signal_std = scaler.fit_transform(signal)\n",
    "\n",
    "    # performs SVD and obtains principal components\n",
    "    U, S, VT = svd(embedded_signal_std, full_matrices=False)\n",
    "    PCs = U @ np.diag(S)\n",
    "    \n",
    "    # define box sizes\n",
    "    box_sizes = np.logspace(-1, 1, num=10)  # research/try this out\n",
    "    \n",
    "    # calculate the fractal dimension\n",
    "    fd = fractal_dimension(PCs[:, :3], box_sizes)  # uses the first three principal components\n",
    "    return fd\n",
    "\n",
    "fd = np.zeros(shape = len(signal_health_state))\n",
    "\n",
    "for i in tqdm(range(0, len(signal_health_state))):\n",
    "    fd[i] = calc_fractal_dim(embedded_signals[i])\n",
    "    \n"
   ]
  },
  {
   "cell_type": "code",
   "execution_count": null,
   "metadata": {},
   "outputs": [],
   "source": [
    "fd_averages = print_averages(fd, 'fd', test_nan_indices)\n"
   ]
  },
  {
   "cell_type": "code",
   "execution_count": null,
   "metadata": {},
   "outputs": [],
   "source": []
  }
 ],
 "metadata": {
  "kernelspec": {
   "display_name": "Python 3",
   "language": "python",
   "name": "python3"
  },
  "language_info": {
   "codemirror_mode": {
    "name": "ipython",
    "version": 3
   },
   "file_extension": ".py",
   "mimetype": "text/x-python",
   "name": "python",
   "nbconvert_exporter": "python",
   "pygments_lexer": "ipython3",
   "version": "3.10.13"
  }
 },
 "nbformat": 4,
 "nbformat_minor": 4
}
