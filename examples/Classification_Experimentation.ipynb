{
 "cells": [
  {
   "cell_type": "markdown",
   "metadata": {},
   "source": [
    "This notebook exists to experiment with different methods for classification"
   ]
  },
  {
   "cell_type": "code",
   "execution_count": 1,
   "metadata": {},
   "outputs": [
    {
     "name": "stderr",
     "output_type": "stream",
     "text": [
      "100%|████████████████████████████████████████████████████████████████████████████████| 549/549 [00:15<00:00, 35.22it/s]\n",
      "100%|███████████████████████████████████████████████████████████████████████████████| 229/229 [00:01<00:00, 134.07it/s]\n"
     ]
    }
   ],
   "source": [
    "%run \"Parameter_Estimation.ipynb\" #allowing access to parameters"
   ]
  },
  {
   "cell_type": "code",
   "execution_count": 2,
   "metadata": {},
   "outputs": [],
   "source": [
    "from sklearn.model_selection import train_test_split\n",
    "from sklearn.svm import SVC\n",
    "from sklearn.metrics import accuracy_score, classification_report\n",
    "from sklearn.preprocessing import StandardScaler\n",
    "from sklearn.decomposition import PCA"
   ]
  },
  {
   "cell_type": "code",
   "execution_count": 3,
   "metadata": {},
   "outputs": [
    {
     "name": "stdout",
     "output_type": "stream",
     "text": [
      "229\n"
     ]
    }
   ],
   "source": [
    "health_state = allowed_patients.get_diagnoses()\n",
    "\n",
    "encoded_health_state = [True if label == 'Unhealthy' else False for label in health_state]\n",
    "\n",
    "print(len(health_state))\n",
    "# unhealthy_peak_to_peak_averages = peak_to_peak_averages[encoded_health_state]\n",
    "# healthy_peak_to_peak_averages = peak_to_peak_averages[~np.array(encoded_health_state)]\n",
    "\n",
    "# unhealthy_peak_amp = peak_amp_average[encoded_health_state]\n",
    "# healthy_peak_amp = peak_amp_average[~np.array(encoded_health_state)]\n"
   ]
  },
  {
   "cell_type": "markdown",
   "metadata": {},
   "source": [
    "## Parameter Selection"
   ]
  },
  {
   "cell_type": "markdown",
   "metadata": {},
   "source": [
    "factor analysis"
   ]
  },
  {
   "cell_type": "markdown",
   "metadata": {},
   "source": [
    "### investigating correlation \n",
    "- currently using peason r (pmcc)"
   ]
  },
  {
   "cell_type": "code",
   "execution_count": 4,
   "metadata": {},
   "outputs": [],
   "source": [
    "from scipy.stats import pearsonr\n",
    "\n",
    "\n",
    "corr, p_value = pearsonr(params['peak_amp_av'], params['peak_to_peak_av'])\n"
   ]
  },
  {
   "cell_type": "code",
   "execution_count": 5,
   "metadata": {},
   "outputs": [
    {
     "name": "stdout",
     "output_type": "stream",
     "text": [
      "0.11633836490440197 0.07894247890368668\n"
     ]
    }
   ],
   "source": [
    "print(corr, p_value)"
   ]
  },
  {
   "cell_type": "markdown",
   "metadata": {},
   "source": [
    "## PCA\n"
   ]
  },
  {
   "cell_type": "markdown",
   "metadata": {},
   "source": [
    "- loses the knowledge of features, less intuitive\n",
    "- will experiment with it anyway"
   ]
  },
  {
   "cell_type": "code",
   "execution_count": 6,
   "metadata": {},
   "outputs": [],
   "source": [
    "# Initialize the array\n",
    "X = np.zeros((2, no_patients))\n",
    "\n",
    "# Populate the array with values from the dictionary\n",
    "for i in range(2):\n",
    "    X[i] = params['peak_to_peak_av']\n",
    "    X[i] = params['peak_amp_av']\n",
    "\n",
    "    \n",
    "#standardize data\n",
    "X = X.reshape(no_patients, 2)\n",
    "scaler = StandardScaler()\n",
    "X_scaled = scaler.fit_transform(X)\n",
    "\n",
    "#set desired number of principle components\n",
    "num_components = 2\n",
    "\n",
    "#using sklearn PCA\n",
    "pca = PCA(n_components=num_components)\n",
    "X_pca = pca.fit_transform(X_scaled)"
   ]
  },
  {
   "cell_type": "code",
   "execution_count": 7,
   "metadata": {},
   "outputs": [
    {
     "name": "stdout",
     "output_type": "stream",
     "text": [
      "Accuracy: 0.8840579710144928\n"
     ]
    }
   ],
   "source": [
    "#using principle components to do ML\n",
    "#splitting the data into train and test sets\n",
    "X_train, X_test, y_train, y_test = train_test_split(X_pca, health_state, test_size=0.3)#reshape needs to be fixed \n",
    "\n",
    "#init and train model, using radial basis functions\n",
    "svm_classifier = SVC(kernel='rbf', gamma='scale')  #'scale' normalises data, prevents overfitting\n",
    "svm_classifier.fit(X_train, y_train)\n",
    "\n",
    "#predictions\n",
    "y_pred = svm_classifier.predict(X_test)\n",
    "\n",
    "#evaluating accuracy of the model\n",
    "accuracy = accuracy_score(y_test, y_pred)\n",
    "print(\"Accuracy:\", accuracy)"
   ]
  },
  {
   "cell_type": "markdown",
   "metadata": {},
   "source": [
    "## Wrapper Methods:\n",
    "\n",
    "These methods do feature selection whilst using the model\n",
    "\n",
    " - Forward Selection: Features are sequentially added to the model, starting with an empty set and adding the feature that improves model performance the most at each step.\n",
    " - Backward Elimination: Features are sequentially removed from the model, starting with the full set of features and removing the feature that decreases model performance the least at each step.\n",
    " - Recursive Feature Elimination (RFE): Features are recursively pruned based on the importance assigned to them by the model. Less important features are eliminated iteratively until the desired number of features is reached."
   ]
  },
  {
   "cell_type": "markdown",
   "metadata": {},
   "source": [
    "## Embedded Methods:\n",
    "\n",
    "Also done whilst using the model\n",
    "\n",
    "- Regularization: Techniques like LASSO (L1 regularization) and Ridge (L2 regularization) penalize the magnitude of feature coefficients, forcing less important features to have coefficients close to zero."
   ]
  },
  {
   "cell_type": "code",
   "execution_count": 8,
   "metadata": {},
   "outputs": [],
   "source": [
    "#LASSO/Ridge Regression\n",
    "from sklearn.linear_model import Lasso\n",
    "from sklearn.linear_model import Ridge\n",
    "\n",
    "#changing health_state to binary for use in regression\n",
    "binary_health_state = [1 if label == 'Unhealthy' else 0 for label in health_state]\n",
    "\n",
    "#splitting the data into train and test sets\n",
    "X_train, X_test, y_train, y_test = train_test_split(X, binary_health_state, test_size=0.3)\n",
    "\n",
    "scaler = StandardScaler()\n",
    "X_train_scaled = scaler.fit_transform(X_train)\n",
    "\n",
    "#create and fit regression models\n",
    "lasso_alpha = 0.1  # Regularization strength (hyperparameter)\n",
    "lasso = Lasso(alpha=lasso_alpha)\n",
    "lasso.fit(X_train_scaled, y_train)\n",
    "\n",
    "ridge_alpha = 0.1 \n",
    "ridge = Ridge(alpha=ridge_alpha)\n",
    "ridge.fit(X_train_scaled, y_train)\n",
    "\n",
    "#use the trained models for prediction\n",
    "X_test_scaled = scaler.fit_transform(X_test)\n",
    "\n",
    "y_pred_ridge = ridge.predict(X_test_scaled)\n",
    "y_pred_lasso = lasso.predict(X_test_scaled)\n",
    "\n"
   ]
  },
  {
   "cell_type": "markdown",
   "metadata": {},
   "source": [
    "## Comparing Accuracy\n",
    "- MSE - average between true and predicted values\n",
    "- R2 score - measure of proportion of variance in dependent variable (target) that is explained by independent variables (features), indicates how well the model captures the variations in the data"
   ]
  },
  {
   "cell_type": "code",
   "execution_count": 9,
   "metadata": {},
   "outputs": [
    {
     "name": "stdout",
     "output_type": "stream",
     "text": [
      "LASSO Regression:\n",
      "MSE: 0.17069123641304348\n",
      "R2 Score: -0.003285156250000254\n",
      "\n",
      "Ridge Regression:\n",
      "MSE: 0.1710401380589816\n",
      "R2 Score: -0.005335922591125364\n"
     ]
    }
   ],
   "source": [
    "from sklearn.metrics import mean_squared_error, r2_score\n",
    "\n",
    "#calculate MSE\n",
    "mse_lasso = mean_squared_error(y_test, y_pred_lasso)\n",
    "mse_ridge = mean_squared_error(y_test, y_pred_ridge)\n",
    "\n",
    "#calculate R2\n",
    "r2_lasso = r2_score(y_test, y_pred_lasso)\n",
    "r2_ridge = r2_score(y_test, y_pred_ridge)\n",
    "\n",
    "print(\"LASSO Regression:\")\n",
    "print(\"MSE:\", mse_lasso)\n",
    "print(\"R2 Score:\", r2_lasso)\n",
    "print()\n",
    "print(\"Ridge Regression:\")\n",
    "print(\"MSE:\", mse_ridge)\n",
    "print(\"R2 Score:\", r2_ridge)"
   ]
  },
  {
   "cell_type": "markdown",
   "metadata": {},
   "source": [
    "## SVM"
   ]
  },
  {
   "cell_type": "code",
   "execution_count": 10,
   "metadata": {},
   "outputs": [],
   "source": [
    "#will have feature selection to decide this number\n",
    "no_features = 2\n",
    "\n",
    "# Initialize the array\n",
    "selected_params = np.zeros((no_features, no_patients))\n",
    "\n",
    "# Populate the array with values from the dictionary\n",
    "for i in range(no_features):\n",
    "    selected_params[i] = params['peak_to_peak_av']\n",
    "    selected_params[i] = params['peak_amp_av']\n",
    "\n",
    "selected_params = selected_params.reshape(no_patients, no_features) #need no. samples as rows, no. features as columns for machine learning analysis"
   ]
  },
  {
   "cell_type": "code",
   "execution_count": 11,
   "metadata": {
    "scrolled": true
   },
   "outputs": [
    {
     "name": "stdout",
     "output_type": "stream",
     "text": [
      "[[0.19697559 0.80302441]\n",
      " [0.27634842 0.72365158]\n",
      " [0.19787724 0.80212276]\n",
      " [0.19745675 0.80254325]\n",
      " [0.19790871 0.80209129]\n",
      " [0.19776824 0.80223176]\n",
      " [0.19774501 0.80225499]\n",
      " [0.33456858 0.66543142]\n",
      " [0.19778161 0.80221839]\n",
      " [0.19784968 0.80215032]\n",
      " [0.19823762 0.80176238]\n",
      " [0.19775053 0.80224947]\n",
      " [0.19750696 0.80249304]\n",
      " [0.19646375 0.80353625]\n",
      " [0.1979192  0.8020808 ]\n",
      " [0.19661062 0.80338938]\n",
      " [0.19781604 0.80218396]\n",
      " [0.19753836 0.80246164]\n",
      " [0.21504864 0.78495136]\n",
      " [0.19813152 0.80186848]\n",
      " [0.39820264 0.60179736]\n",
      " [0.19806824 0.80193176]\n",
      " [0.19707195 0.80292805]\n",
      " [0.19787428 0.80212572]\n",
      " [0.19770601 0.80229399]\n",
      " [0.19812785 0.80187215]\n",
      " [0.19142569 0.80857431]\n",
      " [0.3037562  0.6962438 ]\n",
      " [0.19763257 0.80236743]\n",
      " [0.19628933 0.80371067]\n",
      " [0.19695922 0.80304078]\n",
      " [0.19827544 0.80172456]\n",
      " [0.19798317 0.80201683]\n",
      " [0.19014539 0.80985461]\n",
      " [0.19551898 0.80448102]\n",
      " [0.194195   0.805805  ]\n",
      " [0.19756381 0.80243619]\n",
      " [0.19399014 0.80600986]\n",
      " [0.19692973 0.80307027]\n",
      " [0.19778988 0.80221012]\n",
      " [0.19704987 0.80295013]\n",
      " [0.20779081 0.79220919]\n",
      " [0.80328571 0.19671429]\n",
      " [0.21680878 0.78319122]\n",
      " [0.19771758 0.80228242]\n",
      " [0.19958384 0.80041616]\n",
      " [0.19705202 0.80294798]\n",
      " [0.19747262 0.80252738]\n",
      " [0.19726538 0.80273462]\n",
      " [0.19787269 0.80212731]\n",
      " [0.19632038 0.80367962]\n",
      " [0.1980201  0.8019799 ]\n",
      " [0.19751563 0.80248437]\n",
      " [0.19909709 0.80090291]\n",
      " [0.19765461 0.80234539]\n",
      " [0.19635471 0.80364529]\n",
      " [0.19392616 0.80607384]\n",
      " [0.19791474 0.80208526]\n",
      " [0.19503895 0.80496105]\n",
      " [0.19886675 0.80113325]\n",
      " [0.19954678 0.80045322]\n",
      " [0.20063162 0.79936838]\n",
      " [0.19709754 0.80290246]\n",
      " [0.1967784  0.8032216 ]\n",
      " [0.26863982 0.73136018]\n",
      " [0.19752779 0.80247221]\n",
      " [0.29915972 0.70084028]\n",
      " [0.19163367 0.80836633]\n",
      " [0.19681811 0.80318189]]\n",
      "Accuracy: 0.8115942028985508\n",
      "['Unhealthy', 'Unhealthy', 'Unhealthy', 'Unhealthy', 'Unhealthy', 'Unhealthy', 'Unhealthy', 'Healthy', 'Healthy', 'Unhealthy', 'Unhealthy', 'Healthy', 'Unhealthy', 'Unhealthy', 'Healthy', 'Unhealthy', 'Healthy', 'Unhealthy', 'Unhealthy', 'Unhealthy', 'Healthy', 'Unhealthy', 'Unhealthy', 'Healthy', 'Unhealthy', 'Unhealthy', 'Unhealthy', 'Healthy', 'Healthy', 'Unhealthy', 'Unhealthy', 'Unhealthy', 'Healthy', 'Unhealthy', 'Unhealthy', 'Unhealthy', 'Unhealthy', 'Unhealthy', 'Unhealthy', 'Unhealthy', 'Unhealthy', 'Unhealthy', 'Unhealthy', 'Unhealthy', 'Unhealthy', 'Unhealthy', 'Unhealthy', 'Unhealthy', 'Unhealthy', 'Healthy', 'Unhealthy', 'Unhealthy', 'Unhealthy', 'Unhealthy', 'Unhealthy', 'Unhealthy', 'Healthy', 'Unhealthy', 'Unhealthy', 'Unhealthy', 'Unhealthy', 'Unhealthy', 'Unhealthy', 'Unhealthy', 'Healthy', 'Unhealthy', 'Healthy', 'Unhealthy', 'Unhealthy', 'Healthy', 'Unhealthy', 'Unhealthy', 'Unhealthy', 'Unhealthy', 'Unhealthy', 'Unhealthy', 'Healthy', 'Unhealthy', 'Unhealthy', 'Healthy', 'Unhealthy', 'Unhealthy', 'Healthy', 'Unhealthy', 'Unhealthy', 'Unhealthy', 'Unhealthy', 'Unhealthy', 'Unhealthy', 'Unhealthy', 'Unhealthy', 'Unhealthy', 'Unhealthy', 'Healthy', 'Unhealthy', 'Unhealthy', 'Healthy', 'Unhealthy', 'Unhealthy', 'Unhealthy', 'Unhealthy', 'Healthy', 'Healthy', 'Unhealthy', 'Healthy', 'Unhealthy', 'Unhealthy', 'Healthy', 'Unhealthy', 'Unhealthy', 'Unhealthy', 'Unhealthy', 'Unhealthy', 'Unhealthy', 'Unhealthy', 'Healthy', 'Unhealthy', 'Unhealthy', 'Healthy', 'Healthy', 'Unhealthy', 'Unhealthy', 'Unhealthy', 'Unhealthy', 'Unhealthy', 'Unhealthy', 'Unhealthy', 'Unhealthy', 'Healthy', 'Healthy', 'Unhealthy', 'Unhealthy', 'Unhealthy', 'Healthy', 'Unhealthy', 'Unhealthy', 'Healthy', 'Unhealthy', 'Unhealthy', 'Unhealthy', 'Unhealthy', 'Unhealthy', 'Unhealthy', 'Healthy', 'Healthy', 'Unhealthy', 'Unhealthy', 'Unhealthy', 'Unhealthy', 'Unhealthy', 'Unhealthy', 'Unhealthy', 'Unhealthy', 'Unhealthy', 'Unhealthy', 'Unhealthy', 'Unhealthy', 'Unhealthy', 'Unhealthy', 'Healthy']\n",
      "['Unhealthy' 'Unhealthy' 'Unhealthy' 'Unhealthy' 'Unhealthy' 'Unhealthy'\n",
      " 'Unhealthy' 'Unhealthy' 'Unhealthy' 'Unhealthy' 'Unhealthy' 'Unhealthy'\n",
      " 'Unhealthy' 'Unhealthy' 'Unhealthy' 'Unhealthy' 'Unhealthy' 'Unhealthy'\n",
      " 'Unhealthy' 'Unhealthy' 'Unhealthy' 'Unhealthy' 'Unhealthy' 'Unhealthy'\n",
      " 'Unhealthy' 'Unhealthy' 'Unhealthy' 'Unhealthy' 'Unhealthy' 'Unhealthy'\n",
      " 'Unhealthy' 'Unhealthy' 'Unhealthy' 'Unhealthy' 'Unhealthy' 'Unhealthy'\n",
      " 'Unhealthy' 'Unhealthy' 'Unhealthy' 'Unhealthy' 'Unhealthy' 'Unhealthy'\n",
      " 'Healthy' 'Unhealthy' 'Unhealthy' 'Unhealthy' 'Unhealthy' 'Unhealthy'\n",
      " 'Unhealthy' 'Unhealthy' 'Unhealthy' 'Unhealthy' 'Unhealthy' 'Unhealthy'\n",
      " 'Unhealthy' 'Unhealthy' 'Unhealthy' 'Unhealthy' 'Unhealthy' 'Unhealthy'\n",
      " 'Unhealthy' 'Unhealthy' 'Unhealthy' 'Unhealthy' 'Unhealthy' 'Unhealthy'\n",
      " 'Unhealthy' 'Unhealthy' 'Unhealthy']\n"
     ]
    }
   ],
   "source": [
    "#splitting the data into train and test sets\n",
    "X_train, X_test, y_train, y_test = train_test_split(selected_params.reshape(229, 2), health_state, test_size=0.3)#reshape needs to be fixed \n",
    "\n",
    "#init and train model, using radial basis functions\n",
    "svm_model = SVC(kernel='rbf', gamma='scale', probability=True)  #'scale' normalises data, prevents overfitting\n",
    "svm_model.fit(X_train, y_train)\n",
    "\n",
    "#predicting probabilities\n",
    "probabilities = svm_model.predict_proba(X_test)\n",
    "print(probabilities)\n",
    "\n",
    "\n",
    "#predictions\n",
    "y_pred = svm_model.predict(X_test)\n",
    "\n",
    "#evaluating accuracy of the model\n",
    "accuracy = accuracy_score(y_test, y_pred)\n",
    "print(\"Accuracy:\", accuracy)\n",
    "\n",
    "print(y_train)\n",
    "print(y_pred)\n",
    "\n",
    "#view a classification report\n",
    "# print(\"Classification Report:\")\n",
    "# print(classification_report(y_test, y_pred))"
   ]
  },
  {
   "cell_type": "code",
   "execution_count": 16,
   "metadata": {},
   "outputs": [
    {
     "name": "stdout",
     "output_type": "stream",
     "text": [
      "Unhealthy\n",
      "Unhealthy\n"
     ]
    }
   ],
   "source": [
    "print(y_train[1])\n",
    "print(y_pred[1])"
   ]
  },
  {
   "cell_type": "code",
   "execution_count": null,
   "metadata": {},
   "outputs": [],
   "source": []
  }
 ],
 "metadata": {
  "kernelspec": {
   "display_name": "Python 3",
   "language": "python",
   "name": "python3"
  },
  "language_info": {
   "codemirror_mode": {
    "name": "ipython",
    "version": 3
   },
   "file_extension": ".py",
   "mimetype": "text/x-python",
   "name": "python",
   "nbconvert_exporter": "python",
   "pygments_lexer": "ipython3",
   "version": "3.8.3"
  }
 },
 "nbformat": 4,
 "nbformat_minor": 4
}
