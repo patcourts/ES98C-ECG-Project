{
 "cells": [
  {
   "cell_type": "code",
   "execution_count": 7,
   "metadata": {},
   "outputs": [
    {
     "name": "stdout",
     "output_type": "stream",
     "text": [
      "        ECG_Data\n",
      "0           -489\n",
      "1           -458\n",
      "2             31\n",
      "3            474\n",
      "4           -260\n",
      "...          ...\n",
      "460795       164\n",
      "460796       118\n",
      "460797      -168\n",
      "460798      -249\n",
      "460799      -333\n",
      "\n",
      "[460800 rows x 1 columns]\n"
     ]
    }
   ],
   "source": [
    "import pandas as pd\n",
    "import struct\n",
    "\n",
    "# Define the file path\n",
    "file_path = 'ptb-diagnostic-ecg-database-1.0.0/ptb-diagnostic-ecg-database-1.0.0/patient001/s0010_re.dat'\n",
    "\n",
    "# Initialize an empty list to store the binary data\n",
    "binary_data = []\n",
    "\n",
    "# Read the binary data from the file\n",
    "with open(file_path, 'rb') as file:\n",
    "    # Assuming each value in the binary data is a 16-bit integer\n",
    "    while True:\n",
    "        # Read 2 bytes (16 bits) from the file as a binary integer\n",
    "        binary_int = file.read(2)\n",
    "        if not binary_int:\n",
    "            break  # End of file reached\n",
    "        # Unpack the binary data as a little-endian short integer\n",
    "        value = struct.unpack('<h', binary_int)[0]\n",
    "        # Append the value to the list\n",
    "        binary_data.append(value)\n",
    "\n",
    "# Create a DataFrame from the binary data\n",
    "df = pd.DataFrame({'ECG_Data': binary_data})\n",
    "\n",
    "# Display the DataFrame\n",
    "print(df)\n",
    "\n"
   ]
  },
  {
   "cell_type": "code",
   "execution_count": 8,
   "metadata": {},
   "outputs": [
    {
     "data": {
      "text/plain": [
       "Text(0.5, 0, 'Samples (1000 Hz)')"
      ]
     },
     "execution_count": 8,
     "metadata": {},
     "output_type": "execute_result"
    },
    {
     "data": {
      "image/png": "[encoded data removed]",
      "text/plain": [
       "<Figure size 432x288 with 1 Axes>"
      ]
     },
     "metadata": {
      "needs_background": "light"
     },
     "output_type": "display_data"
    }
   ],
   "source": [
    "import matplotlib.pyplot as plt\n",
    "\n",
    "plt.plot(df['ECG_Data'])\n",
    "#1000 samples every second, 460800 samples --> 460.8 seconds \n",
    "plt.xlabel('Samples (1000 Hz)')"
   ]
  },
  {
   "cell_type": "code",
   "execution_count": 9,
   "metadata": {},
   "outputs": [],
   "source": [
    "#does not look like one minute\n",
    "#simultaneoulsy measured signals but when reduce only see one line?"
   ]
  },
  {
   "cell_type": "code",
   "execution_count": 10,
   "metadata": {},
   "outputs": [],
   "source": [
    "import struct\n",
    "import pandas as pd\n",
    "import numpy as np\n",
    "\n",
    "# Define a single file path for all channels\n",
    "file_path = 'ptb-diagnostic-ecg-database-1.0.0/ptb-diagnostic-ecg-database-1.0.0/patient001/s0010_re.dat'\n",
    "\n",
    "lead_names = [\"i\", \"ii\", \"iii\", \"avr\", \"avl\", \"avf\", \"v1\", \"v2\", \"v3\", \"v4\", \"v5\", \"v6\"]\n",
    "\n",
    "# Initialize a list to store data DataFrames\n",
    "lead_dataframes = []\n",
    "\n",
    "# Loop through the lead names and create DataFrames\n",
    "for lead_name in lead_names:\n",
    "    with open(file_path, 'rb') as f:\n",
    "        data = f.read(2)  # Read 2 bytes (16 bits) at a time\n",
    "        lead_data = []\n",
    "\n",
    "        while data:\n",
    "            value = struct.unpack('<h', data)[0]  # Interpret as a 16-bit signed integer\n",
    "            lead_data.append(value / 2000)  # Convert to mV\n",
    "            data = f.read(2)\n",
    "\n",
    "        lead_df = pd.DataFrame(lead_data, columns=[lead_name])\n",
    "        lead_dataframes.append(lead_df)\n",
    "\n",
    "# Concatenate the lead DataFrames into one DataFrame\n",
    "ecg_dataframe = pd.concat(lead_dataframes, axis=1)\n",
    "\n",
    "# Generate timestamps based on the sampling rate\n",
    "sampling_rate = 1000  # 1000 Hz\n",
    "total_samples = len(lead_dataframes[0])\n",
    "time_values = np.arange(0, total_samples) / sampling_rate\n",
    "\n",
    "# Add timestamps as an index in the DataFrame\n",
    "ecg_dataframe[\"Time (s)\"] = time_values"
   ]
  },
  {
   "cell_type": "code",
   "execution_count": 11,
   "metadata": {},
   "outputs": [],
   "source": [
    "# Define the sample where the \"v1\" to \"v6\" channels become relevant\n",
    "  # Adjust this value as needed based on your data\n",
    "dt = 38400\n",
    "\n",
    "# Initialize an empty dictionary to store the DataFrames for each channel\n",
    "v_channel_dataframes = {}\n",
    "\n",
    "# Loop through the channel names \"v1\" to \"v6\" and create a DataFrame for each\n",
    "for i, channel_name in enumerate([\"i\", \"ii\", \"iii\", \"avr\", \"avl\", \"avf\", \"v1\", \"v2\", \"v3\", \"v4\", \"v5\", \"v6\"]):\n",
    "    # Select the corresponding channel and create a new DataFrame\n",
    "    selected_channel_df = ecg_dataframe[channel_name].iloc[i*dt:(i+1)*dt]\n",
    "    \n",
    "    # Store the DataFrame in the dictionary with the channel name as the key\n",
    "    v_channel_dataframes[channel_name] = selected_channel_df\n",
    "    \n",
    "\n",
    "\n"
   ]
  },
  {
   "cell_type": "code",
   "execution_count": 12,
   "metadata": {},
   "outputs": [
    {
     "ename": "NameError",
     "evalue": "name 'v_start_sample' is not defined",
     "output_type": "error",
     "traceback": [
      "\u001b[1;31m---------------------------------------------------------------------------\u001b[0m",
      "\u001b[1;31mNameError\u001b[0m                                 Traceback (most recent call last)",
      "\u001b[1;32m<ipython-input-12-1bab247b794d>\u001b[0m in \u001b[0;36m<module>\u001b[1;34m\u001b[0m\n\u001b[0;32m      1\u001b[0m \u001b[0mfig1\u001b[0m\u001b[1;33m,\u001b[0m \u001b[0maxes\u001b[0m \u001b[1;33m=\u001b[0m \u001b[0mplt\u001b[0m\u001b[1;33m.\u001b[0m\u001b[0msubplots\u001b[0m\u001b[1;33m(\u001b[0m\u001b[1;36m3\u001b[0m\u001b[1;33m,\u001b[0m \u001b[1;36m2\u001b[0m\u001b[1;33m,\u001b[0m \u001b[0mfigsize\u001b[0m \u001b[1;33m=\u001b[0m \u001b[1;33m(\u001b[0m\u001b[1;36m16\u001b[0m\u001b[1;33m,\u001b[0m \u001b[1;36m16\u001b[0m\u001b[1;33m)\u001b[0m\u001b[1;33m)\u001b[0m\u001b[1;33m\u001b[0m\u001b[1;33m\u001b[0m\u001b[0m\n\u001b[1;32m----> 2\u001b[1;33m \u001b[0maxes\u001b[0m\u001b[1;33m[\u001b[0m\u001b[1;36m0\u001b[0m\u001b[1;33m,\u001b[0m\u001b[1;36m0\u001b[0m\u001b[1;33m]\u001b[0m\u001b[1;33m.\u001b[0m\u001b[0mplot\u001b[0m\u001b[1;33m(\u001b[0m\u001b[0mecg_dataframe\u001b[0m\u001b[1;33m[\u001b[0m\u001b[1;34m\"Time (s)\"\u001b[0m\u001b[1;33m]\u001b[0m\u001b[1;33m.\u001b[0m\u001b[0miloc\u001b[0m\u001b[1;33m[\u001b[0m\u001b[0mv_start_sample\u001b[0m\u001b[1;33m:\u001b[0m\u001b[0mv_start_sample\u001b[0m\u001b[1;33m+\u001b[0m\u001b[0mdt\u001b[0m\u001b[1;33m]\u001b[0m\u001b[1;33m,\u001b[0m \u001b[0mv_channel_dataframes\u001b[0m\u001b[1;33m[\u001b[0m\u001b[1;34m\"v1\"\u001b[0m\u001b[1;33m]\u001b[0m\u001b[1;33m)\u001b[0m\u001b[1;33m\u001b[0m\u001b[1;33m\u001b[0m\u001b[0m\n\u001b[0m\u001b[0;32m      3\u001b[0m \u001b[0maxes\u001b[0m\u001b[1;33m[\u001b[0m\u001b[1;36m0\u001b[0m\u001b[1;33m,\u001b[0m\u001b[1;36m0\u001b[0m\u001b[1;33m]\u001b[0m\u001b[1;33m.\u001b[0m\u001b[0mset_title\u001b[0m\u001b[1;33m(\u001b[0m\u001b[1;34m\"v1\"\u001b[0m\u001b[1;33m)\u001b[0m\u001b[1;33m\u001b[0m\u001b[1;33m\u001b[0m\u001b[0m\n\u001b[0;32m      4\u001b[0m \u001b[0maxes\u001b[0m\u001b[1;33m[\u001b[0m\u001b[1;36m0\u001b[0m\u001b[1;33m,\u001b[0m\u001b[1;36m0\u001b[0m\u001b[1;33m]\u001b[0m\u001b[1;33m.\u001b[0m\u001b[0mset_xlabel\u001b[0m\u001b[1;33m(\u001b[0m\u001b[1;34m'Times (s)'\u001b[0m\u001b[1;33m)\u001b[0m\u001b[1;33m\u001b[0m\u001b[1;33m\u001b[0m\u001b[0m\n\u001b[0;32m      5\u001b[0m \u001b[0maxes\u001b[0m\u001b[1;33m[\u001b[0m\u001b[1;36m0\u001b[0m\u001b[1;33m,\u001b[0m\u001b[1;36m0\u001b[0m\u001b[1;33m]\u001b[0m\u001b[1;33m.\u001b[0m\u001b[0mset_ylabel\u001b[0m\u001b[1;33m(\u001b[0m\u001b[1;34m'V'\u001b[0m\u001b[1;33m)\u001b[0m\u001b[1;33m\u001b[0m\u001b[1;33m\u001b[0m\u001b[0m\n",
      "\u001b[1;31mNameError\u001b[0m: name 'v_start_sample' is not defined"
     ]
    },
    {
     "data": {
      "image/png": "[encoded data removed]",
      "text/plain": [
       "<Figure size 1152x1152 with 6 Axes>"
      ]
     },
     "metadata": {
      "needs_background": "light"
     },
     "output_type": "display_data"
    }
   ],
   "source": [
    "fig1, axes = plt.subplots(3, 2, figsize = (16, 16))\n",
    "axes[0,0].plot(ecg_dataframe[\"Time (s)\"].iloc[v_start_sample:v_start_sample+dt], v_channel_dataframes[\"v1\"])\n",
    "axes[0,0].set_title(\"v1\")\n",
    "axes[0,0].set_xlabel('Times (s)')\n",
    "axes[0,0].set_ylabel('V')\n",
    "axes[1,0].plot(v_channel_dataframes[\"v3\"])\n",
    "axes[1,0].set_title(\"v3\")\n",
    "axes[1,0].set_xlabel('sample')\n",
    "axes[1,0].set_ylabel('V')\n",
    "axes[2,0].plot(v_channel_dataframes[\"v5\"])\n",
    "axes[2,0].set_title(\"v5\")\n",
    "axes[2,0].set_xlabel('sample')\n",
    "axes[2,0].set_ylabel('V')\n",
    "axes[0,1].plot(v_channel_dataframes[\"v2\"])\n",
    "axes[0,1].set_title(\"v2\")\n",
    "axes[0,1].set_xlabel('sample')\n",
    "axes[0,1].set_ylabel('V')\n",
    "axes[1,1].plot(v_channel_dataframes[\"v4\"])\n",
    "axes[1,1].set_title(\"v4\")\n",
    "axes[1,1].set_xlabel('sample')\n",
    "axes[1,1].set_ylabel('V')\n",
    "axes[2,1].plot(v_channel_dataframes[\"v6\"])\n",
    "axes[2,1].set_title(\"v6\")\n",
    "axes[2,1].set_xlabel('sample')\n",
    "axes[2,1].set_ylabel('V')\n",
    "fig1.tight_layout()"
   ]
  },
  {
   "cell_type": "code",
   "execution_count": null,
   "metadata": {},
   "outputs": [],
   "source": [
    "#conversion factor 2000 adu/mV\n",
    "#some sort of transform???"
   ]
  },
  {
   "cell_type": "code",
   "execution_count": null,
   "metadata": {},
   "outputs": [],
   "source": [
    "from scipy.signal import butter, filtfilt\n",
    "\n",
    "# Define the sampling frequency and cutoff frequency for the filter\n",
    "fs = 1000  # Sampling frequency in Hz\n",
    "#cutoff_frequency = 40  # Cutoff frequency in Hz\n",
    "cutoff_frequency1 = 0.5\n",
    "v_start_sample = 230400\n",
    "\n",
    "# Design a Butterworth low-pass filter\n",
    "order = 2  # Filter order\n",
    "b, a = butter(order, cutoff_frequency1 / (0.5 * fs), btype='lowpass', analog=False)\n",
    "#b, a = butter(order, cutoff_frequency1, btype='highpass', analog=False, fs = fs)?????\n",
    "\n",
    "\n",
    "# Apply the filter to the \"v1\" channel\n",
    "v1_filtered = filtfilt(b, a, v_channel_dataframes[\"v1\"])\n",
    "\n",
    "# Plot the original and filtered signals\n",
    "plt.figure(figsize=(10, 6))\n",
    "plt.plot(ecg_dataframe[\"Time (s)\"].iloc[v_start_sample:v_start_sample+dt], v_channel_dataframes[\"v1\"], label=\"Original v1\")\n",
    "plt.plot(ecg_dataframe[\"Time (s)\"].iloc[v_start_sample:v_start_sample+dt], v1_filtered, label=\"Filtered v1\")\n",
    "plt.title(\"Original vs Filtered v1\")\n",
    "plt.xlabel(\"Time (s)\")\n",
    "plt.ylabel(\"Amplitude (V)\")\n",
    "plt.legend()\n",
    "plt.show()"
   ]
  },
  {
   "cell_type": "code",
   "execution_count": null,
   "metadata": {},
   "outputs": [],
   "source": [
    "#do this for 3 random patients for all 6 channels - automate process see if is acc gonna work or not."
   ]
  },
  {
   "cell_type": "code",
   "execution_count": null,
   "metadata": {},
   "outputs": [],
   "source": []
  }
 ],
 "metadata": {
  "kernelspec": {
   "display_name": "Python 3",
   "language": "python",
   "name": "python3"
  },
  "language_info": {
   "codemirror_mode": {
    "name": "ipython",
    "version": 3
   },
   "file_extension": ".py",
   "mimetype": "text/x-python",
   "name": "python",
   "nbconvert_exporter": "python",
   "pygments_lexer": "ipython3",
   "version": "3.8.3"
  }
 },
 "nbformat": 4,
 "nbformat_minor": 4
}
