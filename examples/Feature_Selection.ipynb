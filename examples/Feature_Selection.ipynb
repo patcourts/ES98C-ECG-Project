{
 "cells": [
  {
   "cell_type": "markdown",
   "metadata": {},
   "source": [
    "This notebook exists to investigate the need of the parameters included in the dataset. Each parameter is tested against the others to see if they are statistically correlated....\n",
    "Then wrapper methods are used to determine which ones are most important....\n",
    "Want to reduce number of parameters needed to produce a good output so to reduce the chance of overfitting and increase the generalisation of the model."
   ]
  },
  {
   "cell_type": "code",
   "execution_count": 7,
   "metadata": {},
   "outputs": [
    {
     "name": "stderr",
     "output_type": "stream",
     "text": [
      "100%|████████████████████████████████████████████████████████████████████████████████| 549/549 [00:17<00:00, 30.68it/s]\n",
      "100%|████████████████████████████████████████████████████████████████████████████████| 196/196 [00:09<00:00, 21.36it/s]\n"
     ]
    }
   ],
   "source": [
    "%run \"Parameter_Estimation.ipynb\" #allowing access to parameters"
   ]
  },
  {
   "cell_type": "code",
   "execution_count": 161,
   "metadata": {},
   "outputs": [],
   "source": [
    "from scipy.stats import pearsonr #for comparisson of correlations\n",
    "from sklearn.feature_selection import SequentialFeatureSelector, SelectKBest, mutual_info_classif #for forward feature selection\n",
    "from sklearn.model_selection import train_test_split\n",
    "from sklearn.svm import SVC"
   ]
  },
  {
   "cell_type": "code",
   "execution_count": 217,
   "metadata": {},
   "outputs": [],
   "source": [
    "def get_balanced_accuracy(y_test, y_pred):\n",
    "    \"\"\"\n",
    "    balanced accuracy....\n",
    "    \"\"\"\n",
    "    num_healthy_true = np.sum([x=='Healthy' for x in y_test])\n",
    "    num_unhealthy_true = len(y_test) - num_healthy_true\n",
    "    count_healthy_accurate = 0\n",
    "    count_unhealthy_accurate = 0\n",
    "    for i in range(0, len(y_test)):\n",
    "        if y_pred[i] == y_test[i] == 'Unhealthy':\n",
    "            count_unhealthy_accurate +=1\n",
    "        elif y_pred[i] == y_test[i] == 'Healthy':\n",
    "            count_healthy_accurate +=1\n",
    "    healthy_percentage = count_healthy_accurate/num_healthy_true\n",
    "    unhealthy_percentage = count_unhealthy_accurate/num_unhealthy_true\n",
    "    balanced_accuracy = (healthy_percentage + unhealthy_percentage) * 0.5\n",
    "    return balanced_accuracy\n",
    "\n",
    "def get_specificity(y_test, y_pred):\n",
    "    \"\"\"\n",
    "    true negative rate\n",
    "    \"\"\"\n",
    "    true_negative = 0\n",
    "    false_positive = 0\n",
    "    for i in range(0, len(y_test)):\n",
    "        if y_pred[i] == y_test[i] == 'Healthy':\n",
    "            true_negative += 1\n",
    "        elif y_pred[i] != y_test[i] and y_test[i] == 'Healthy':\n",
    "            false_positive += 1\n",
    "    \n",
    "    return true_negative / (true_negative+false_positive)\n",
    "            \n",
    "def get_f1_score(y_test, y_pred):\n",
    "    \"\"\"\n",
    "    balance between precision and recall\n",
    "    \"\"\"\n",
    "    true_positive = 0\n",
    "    false_positive = 0\n",
    "    false_negative = 0\n",
    "    for i in range(0, len(y_test)):\n",
    "        if y_pred[i] == y_test[i] == 'Unhealthy':\n",
    "            true_positive += 1\n",
    "        elif y_pred[i] != y_test[i] and y_test[i] == 'Healthy':\n",
    "            false_positive += 1\n",
    "        elif y_pred[i] != y_test[i] and y_test[i] == 'Unhealthy':\n",
    "            false_negative += 1\n",
    "    return (2*true_positive)/(2*true_positive+false_positive+false_negative)\n",
    "\n",
    "def scoring_function(model, X, y):\n",
    "    \"\"\"\n",
    "    change to incorporate balanced accuracy \n",
    "    \"\"\"\n",
    "    \n",
    "    y_pred = model.predict(X)\n",
    "    y_test = y\n",
    "    balanced_acc = get_balanced_accuracy(y_test, y_pred)\n",
    "    #specificity = get_specificity(y_test, y_pred)\n",
    "    f1 = get_f1_score(y_test, y_pred)\n",
    "    \n",
    "    \n",
    "    return f1*0.7 + balanced_acc*0.3\n",
    "\n",
    "def convert_multi_dict_to_array(params):\n",
    "    no_features = len(params)\n",
    "    params_array = np.zeros((no_channels, no_patients, no_features))\n",
    "    \n",
    "    for j in range(0, no_channels):\n",
    "        for i, values in enumerate(params.values()):\n",
    "            params_array[j][:, i] = values[j]\n",
    "    return params_array, no_features\n",
    "\n",
    "def convert_single_dict_to_array(params):\n",
    "    no_features = len(params)\n",
    "    params_array = np.zeros((no_patients, no_features))\n",
    "    for i, values in enumerate(params.values()):\n",
    "        params_array[:, i] = values\n",
    "    return params_array, no_features\n",
    "\n",
    "def reduce_parameter_set(params, selected_indices, channel):\n",
    "    select_params = {}\n",
    "    for i, key in enumerate(params.keys()):\n",
    "        if i in selected_indices:\n",
    "            select_params[key] = params[key][channel]\n",
    "    return select_params\n",
    "        \n",
    "def reduce_parameter_set_single(params, selected_indices):\n",
    "    select_params = {}\n",
    "    for i, key in enumerate(params.keys()):\n",
    "        if i in selected_indices:\n",
    "            select_params[key] = params[key]\n",
    "    return select_params\n",
    "    "
   ]
  },
  {
   "cell_type": "markdown",
   "metadata": {},
   "source": [
    "First convert the parameters to an array for easy investigation."
   ]
  },
  {
   "cell_type": "code",
   "execution_count": 205,
   "metadata": {},
   "outputs": [],
   "source": [
    "params_array, no_features = convert_multi_dict_to_array(params)"
   ]
  },
  {
   "cell_type": "markdown",
   "metadata": {},
   "source": [
    "To select the most important features to be used in analysis used forward sfs"
   ]
  },
  {
   "cell_type": "code",
   "execution_count": 206,
   "metadata": {},
   "outputs": [],
   "source": [
    "def forward_selection(params, scorer=scoring_function, k=6):\n",
    "    \n",
    "    X_train, X_test, y_train, y_test = train_test_split(params, health_state, test_size=0.3, stratify = health_state)\n",
    "\n",
    "    #initialise svc\n",
    "    svm = SVC(class_weight='balanced')\n",
    "\n",
    "    SFS_forward = SequentialFeatureSelector(estimator=svm, scoring=scoring_function, cv=3, n_features_to_select=k)\n",
    "\n",
    "    SFS_forward.fit(X_train, y_train)\n",
    "\n",
    "    selected_indices = SFS_forward.get_support(indices=True)\n",
    "    \n",
    "    return selected_indices"
   ]
  },
  {
   "cell_type": "markdown",
   "metadata": {},
   "source": [
    "Filter methods"
   ]
  },
  {
   "cell_type": "code",
   "execution_count": 207,
   "metadata": {},
   "outputs": [],
   "source": [
    "def filter_method(params, health_state, k=6, scorer=mutual_info_classif):\n",
    "    # Apply SelectKBest with mutual information\n",
    "    selector = SelectKBest(score_func=scorer, k=k)\n",
    "    \n",
    "    X_new = selector.fit_transform(params, health_state)\n",
    "    \n",
    "    # Get the indices of selected features\n",
    "    selected_indices = selector.get_support(indices=True)\n",
    "    \n",
    "    return selected_indices"
   ]
  },
  {
   "cell_type": "markdown",
   "metadata": {},
   "source": [
    "Combining approaches"
   ]
  },
  {
   "cell_type": "code",
   "execution_count": 226,
   "metadata": {},
   "outputs": [],
   "source": [
    "selected_params = {}\n",
    "for i in range(0, no_channels):\n",
    "    #find indices to keep through filter method\n",
    "    chosen_indices_filt = filter_method(params_array[i], health_state, k=7)\n",
    "    \n",
    "    #reduce the parameter based on these indices\n",
    "    reduced_params = reduce_parameter_set(params, chosen_indices_filt, i)\n",
    "\n",
    "    #convert new params dict back into array\n",
    "    reduced_params_array, no_features = convert_single_dict_to_array(reduced_params)\n",
    "\n",
    "    #find 3 best features through sfs\n",
    "    chosen_indices_filt_sfs = forward_selection(reduced_params_array, scorer=scoring_function, k=3)\n",
    "\n",
    "    selected_params[i] = reduce_parameter_set_single(reduced_params, chosen_indices_filt_sfs)\n",
    "    "
   ]
  },
  {
   "cell_type": "code",
   "execution_count": null,
   "metadata": {},
   "outputs": [],
   "source": []
  }
 ],
 "metadata": {
  "kernelspec": {
   "display_name": "Python 3",
   "language": "python",
   "name": "python3"
  },
  "language_info": {
   "codemirror_mode": {
    "name": "ipython",
    "version": 3
   },
   "file_extension": ".py",
   "mimetype": "text/x-python",
   "name": "python",
   "nbconvert_exporter": "python",
   "pygments_lexer": "ipython3",
   "version": "3.8.3"
  }
 },
 "nbformat": 4,
 "nbformat_minor": 4
}
