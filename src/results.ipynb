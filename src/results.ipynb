{
 "cells": [
  {
   "cell_type": "code",
   "execution_count": 4,
   "metadata": {},
   "outputs": [],
   "source": [
    "from database.utils import get_reconstructed_probabilities\n",
    "from models.SVM.binary_classification import get_best_estimators, get_scores_and_probs, optimise_score_over_channels\n",
    "from models.scoring_metrics import scoring_function, print_scores_for_channel\n",
    "from database.data import Data\n",
    "from sklearn.svm import SVC\n",
    "from tqdm import tqdm\n",
    "import numpy as np\n"
   ]
  },
  {
   "cell_type": "code",
   "execution_count": 2,
   "metadata": {},
   "outputs": [],
   "source": [
    "#creating DATA object\n",
    "ptb_binary_SVM = Data(database = 'ptbdb', denoise_method='DWT', train_splits=None, binary = True, parameterisation = True)\n",
    "\n",
    "\n",
    "\n",
    "# define hyperparameter grid to test\n",
    "param_grid = {\n",
    "    'C': [0.01, 0.1, 1, 10],\n",
    "    'kernel': ['linear', 'rbf', 'poly'],\n",
    "    'gamma': ['scale']#including 'auto' aswell takes forever\n",
    "}\n"
   ]
  },
  {
   "cell_type": "code",
   "execution_count": 3,
   "metadata": {},
   "outputs": [
    {
     "name": "stderr",
     "output_type": "stream",
     "text": [
      "  0%|          | 0/10 [00:00<?, ?it/s]"
     ]
    },
    {
     "name": "stdout",
     "output_type": "stream",
     "text": [
      "Filtering Database\n"
     ]
    },
    {
     "name": "stderr",
     "output_type": "stream",
     "text": [
      "100%|██████████| 549/549 [01:04<00:00,  8.57it/s]\n",
      "100%|██████████| 221/221 [00:01<00:00, 220.16it/s]\n"
     ]
    },
    {
     "name": "stdout",
     "output_type": "stream",
     "text": [
      "denoising signals through Discrete Wavelet Transform\n",
      "normalising signals\n",
      "calculating time domain parameters\n",
      "calculating frequency domain parameters\n",
      "calculating non linear domain parameters\n",
      "selecting 4 most important features\n",
      "Selected features for channel 1:\n",
      "['rr_amps', 'RMSSD', 'sd2', 'age']\n",
      "Selected features for channel 2:\n",
      "['rr_std', 'shannon_en', 'sd2', 'age']\n",
      "Selected features for channel 3:\n",
      "['rr_std', 'sd1', 'sd2', 'age']\n",
      "Selected features for channel 4:\n",
      "['rr_amps', 'std', 'lf', 'age']\n",
      "Selected features for channel 5:\n",
      "['rr_std', 'lf', 'sd2', 'age']\n",
      "Selected features for channel 6:\n",
      "['rr_std', 'sd1', 'sd2', 'age']\n"
     ]
    },
    {
     "name": "stderr",
     "output_type": "stream",
     "text": [
      " 10%|█         | 1/10 [02:55<26:19, 175.53s/it]"
     ]
    },
    {
     "name": "stdout",
     "output_type": "stream",
     "text": [
      "      Success Metric           Channel 1           Channel 2  \\\n",
      "0    Objective Score  0.6879069995867271  0.6920615178436783   \n",
      "1  Balanced Accuracy  0.7351820728291316  0.7678310417440853   \n",
      "\n",
      "            Channel 3           Channel 4           Channel 5  \\\n",
      "0  0.7534476728810603  0.7580388413015817  0.7277088343755009   \n",
      "1  0.8084415584415584   0.671662210746392  0.7220458553791888   \n",
      "\n",
      "            Channel 6  \n",
      "0  0.7334452402106587  \n",
      "1  0.7154318427903333  \n",
      "0.8609351853509226 [0, 1, 4, 5]\n",
      "Filtering Database\n"
     ]
    },
    {
     "name": "stderr",
     "output_type": "stream",
     "text": [
      "100%|██████████| 549/549 [01:35<00:00,  5.75it/s]\n",
      "100%|██████████| 221/221 [00:01<00:00, 178.14it/s]\n"
     ]
    },
    {
     "name": "stdout",
     "output_type": "stream",
     "text": [
      "denoising signals through Discrete Wavelet Transform\n",
      "normalising signals\n",
      "calculating time domain parameters\n",
      "calculating frequency domain parameters\n",
      "calculating non linear domain parameters\n",
      "selecting 4 most important features\n",
      "Selected features for channel 1:\n",
      "['rr_amps', 'RMSSD', 'sd2', 'age']\n",
      "Selected features for channel 2:\n",
      "['rr_amps', 'lf', 'sd2', 'age']\n",
      "Selected features for channel 3:\n",
      "['rr_std', 'rr_amps', 'skews', 'age']\n",
      "Selected features for channel 4:\n",
      "['rr_std', 'rr_amps', 'skews', 'age']\n",
      "Selected features for channel 5:\n",
      "['rr_std', 'skews', 'lf', 'age']\n",
      "Selected features for channel 6:\n",
      "['rr_std', 'RMSSD', 'mean', 'age']\n"
     ]
    },
    {
     "name": "stderr",
     "output_type": "stream",
     "text": [
      " 20%|██        | 2/10 [06:18<25:32, 191.61s/it]"
     ]
    },
    {
     "name": "stdout",
     "output_type": "stream",
     "text": [
      "      Success Metric           Channel 1           Channel 2  \\\n",
      "0    Objective Score  0.6879069995867271  0.7211656387480371   \n",
      "1  Balanced Accuracy  0.7351820728291316  0.7112969156447417   \n",
      "\n",
      "            Channel 3           Channel 4           Channel 5  \\\n",
      "0  0.7756898119801345  0.7068589379540242  0.7450816042195352   \n",
      "1  0.7267316017316018  0.6804266501306279  0.7529100529100529   \n",
      "\n",
      "            Channel 6  \n",
      "0  0.7433291132190609  \n",
      "1  0.7477313566936209  \n",
      "0.8640067109302491 [0, 4, 5]\n",
      "Filtering Database\n"
     ]
    },
    {
     "name": "stderr",
     "output_type": "stream",
     "text": [
      "100%|██████████| 549/549 [01:39<00:00,  5.49it/s]\n",
      "100%|██████████| 221/221 [00:01<00:00, 124.92it/s]\n"
     ]
    },
    {
     "name": "stdout",
     "output_type": "stream",
     "text": [
      "denoising signals through Discrete Wavelet Transform\n",
      "normalising signals\n",
      "calculating time domain parameters\n",
      "calculating frequency domain parameters\n",
      "calculating non linear domain parameters\n",
      "selecting 4 most important features\n",
      "Selected features for channel 1:\n",
      "['rr_amps', 'lf', 'sd2', 'age']\n",
      "Selected features for channel 2:\n",
      "['rr_amps', 'lf', 'total_power', 'age']\n",
      "Selected features for channel 3:\n",
      "['rr_amps', 'skews', 'lf', 'age']\n",
      "Selected features for channel 4:\n",
      "['rr_std', 'rr_amps', 'sd_ratio', 'age']\n",
      "Selected features for channel 5:\n",
      "['skews', 'shannon_en', 'sd2', 'age']\n",
      "Selected features for channel 6:\n",
      "['mean', 'lf', 'sd2', 'age']\n"
     ]
    },
    {
     "name": "stderr",
     "output_type": "stream",
     "text": [
      " 30%|███       | 3/10 [09:28<22:18, 191.15s/it]"
     ]
    },
    {
     "name": "stdout",
     "output_type": "stream",
     "text": [
      "      Success Metric           Channel 1           Channel 2  \\\n",
      "0    Objective Score  0.6375294506200967  0.7411032440680914   \n",
      "1  Balanced Accuracy  0.6591783380018674  0.6907469342251952   \n",
      "\n",
      "            Channel 3           Channel 4           Channel 5  \\\n",
      "0  0.7565374745248518   0.716265585314232  0.7258201058201057   \n",
      "1  0.7187950937950939  0.6529388742617234  0.7322751322751323   \n",
      "\n",
      "            Channel 6  \n",
      "0  0.7368644396067543  \n",
      "1  0.7400067961388715  \n",
      "0.8468472497032054 [0, 1, 2, 4, 5]\n",
      "Filtering Database\n"
     ]
    },
    {
     "name": "stderr",
     "output_type": "stream",
     "text": [
      "100%|██████████| 549/549 [01:28<00:00,  6.21it/s]\n",
      "100%|██████████| 221/221 [00:01<00:00, 170.31it/s]\n"
     ]
    },
    {
     "name": "stdout",
     "output_type": "stream",
     "text": [
      "denoising signals through Discrete Wavelet Transform\n",
      "normalising signals\n",
      "calculating time domain parameters\n",
      "calculating frequency domain parameters\n",
      "calculating non linear domain parameters\n",
      "selecting 4 most important features\n",
      "Selected features for channel 1:\n",
      "['rr_amps', 'RMSSD', 'sd2', 'age']\n",
      "Selected features for channel 2:\n",
      "['rr_std', 'rr_amps', 'shannon_en', 'age']\n",
      "Selected features for channel 3:\n",
      "['rr_amps', 'skews', 'lf', 'age']\n",
      "Selected features for channel 4:\n",
      "['rr_std', 'rr_amps', 'sd_ratio', 'age']\n",
      "Selected features for channel 5:\n",
      "['skews', 'lf', 'shannon_en', 'age']\n",
      "Selected features for channel 6:\n",
      "['rr_std', 'mean', 'lf', 'age']\n"
     ]
    },
    {
     "name": "stderr",
     "output_type": "stream",
     "text": [
      " 40%|████      | 4/10 [12:24<18:28, 184.82s/it]"
     ]
    },
    {
     "name": "stdout",
     "output_type": "stream",
     "text": [
      "      Success Metric           Channel 1           Channel 2  \\\n",
      "0    Objective Score  0.6879069995867271  0.7589996743631885   \n",
      "1  Balanced Accuracy  0.7351820728291316  0.7381704446921837   \n",
      "\n",
      "            Channel 3           Channel 4           Channel 5  \\\n",
      "0  0.7565374745248518    0.72447208704495   0.729058234230648   \n",
      "1  0.7187950937950939  0.6530930524917574  0.7035273368606701   \n",
      "\n",
      "            Channel 6  \n",
      "0  0.7659729451238885  \n",
      "1  0.7288956850277605  \n",
      "0.8498818823034003 [0, 4, 5]\n",
      "Filtering Database\n"
     ]
    },
    {
     "name": "stderr",
     "output_type": "stream",
     "text": [
      "100%|██████████| 549/549 [01:23<00:00,  6.55it/s]\n",
      "100%|██████████| 221/221 [00:01<00:00, 206.57it/s]\n"
     ]
    },
    {
     "name": "stdout",
     "output_type": "stream",
     "text": [
      "denoising signals through Discrete Wavelet Transform\n",
      "normalising signals\n",
      "calculating time domain parameters\n",
      "calculating frequency domain parameters\n",
      "calculating non linear domain parameters\n",
      "selecting 4 most important features\n",
      "Selected features for channel 1:\n",
      "['rr_amps', 'mean', 'shannon_en', 'age']\n",
      "Selected features for channel 2:\n",
      "['rr_std', 'rr_amps', 'shannon_en', 'age']\n",
      "Selected features for channel 3:\n",
      "['rr_amps', 'skews', 'lf', 'age']\n",
      "Selected features for channel 4:\n",
      "['rr_amps', 'std', 'lf', 'age']\n",
      "Selected features for channel 5:\n",
      "['lf', 'sd1', 'sd2', 'age']\n",
      "Selected features for channel 6:\n",
      "['rr_std', 'mean', 'sd1', 'age']\n"
     ]
    },
    {
     "name": "stderr",
     "output_type": "stream",
     "text": [
      " 50%|█████     | 5/10 [15:14<14:57, 179.59s/it]"
     ]
    },
    {
     "name": "stdout",
     "output_type": "stream",
     "text": [
      "      Success Metric           Channel 1           Channel 2  \\\n",
      "0    Objective Score  0.7272896130876153  0.7589996743631885   \n",
      "1  Balanced Accuracy  0.7087768440709618  0.7381704446921837   \n",
      "\n",
      "            Channel 3           Channel 4           Channel 5  \\\n",
      "0  0.7565374745248518  0.7580388413015817  0.7194799147260055   \n",
      "1  0.7187950937950939   0.671662210746392  0.7324514991181658   \n",
      "\n",
      "            Channel 6  \n",
      "0  0.7398898795125209  \n",
      "1  0.7200428502315295  \n",
      "0.8448497069372758 [0, 1, 2, 4, 5]\n",
      "Filtering Database\n"
     ]
    },
    {
     "name": "stderr",
     "output_type": "stream",
     "text": [
      "100%|██████████| 549/549 [02:09<00:00,  4.23it/s]\n",
      "100%|██████████| 221/221 [00:02<00:00, 86.70it/s]\n"
     ]
    },
    {
     "name": "stdout",
     "output_type": "stream",
     "text": [
      "denoising signals through Discrete Wavelet Transform\n",
      "normalising signals\n",
      "calculating time domain parameters\n",
      "calculating frequency domain parameters\n",
      "calculating non linear domain parameters\n",
      "selecting 4 most important features\n",
      "Selected features for channel 1:\n",
      "['rr_amps', 'mean', 'lf', 'age']\n",
      "Selected features for channel 2:\n",
      "['rr_std', 'shannon_en', 'sd_ratio', 'age']\n",
      "Selected features for channel 3:\n",
      "['skews', 'sd1', 'sd2', 'age']\n",
      "Selected features for channel 4:\n",
      "['rr_amps', 'std', 'skews', 'age']\n",
      "Selected features for channel 5:\n",
      "['rr_std', 'skews', 'shannon_en', 'age']\n",
      "Selected features for channel 6:\n",
      "['rr_std', 'pNN50', 'sd1', 'age']\n"
     ]
    },
    {
     "name": "stderr",
     "output_type": "stream",
     "text": [
      " 60%|██████    | 6/10 [19:29<13:41, 205.28s/it]"
     ]
    },
    {
     "name": "stdout",
     "output_type": "stream",
     "text": [
      "      Success Metric           Channel 1           Channel 2  \\\n",
      "0    Objective Score  0.7239246218080847  0.7550561886318273   \n",
      "1  Balanced Accuracy  0.6901960784313724  0.7381704446921837   \n",
      "\n",
      "            Channel 3           Channel 4           Channel 5  \\\n",
      "0   0.762209145359933  0.7507550921172568  0.7182577472027013   \n",
      "1  0.7932900432900433   0.668738754307672  0.7134038800705467   \n",
      "\n",
      "            Channel 6  \n",
      "0  0.7556114281674255  \n",
      "1  0.7612216923537679  \n",
      "0.8569323494540886 [2, 3, 4, 5]\n",
      "Filtering Database\n"
     ]
    },
    {
     "name": "stderr",
     "output_type": "stream",
     "text": [
      "100%|██████████| 549/549 [01:33<00:00,  5.90it/s]\n",
      "100%|██████████| 221/221 [00:01<00:00, 198.70it/s]\n"
     ]
    },
    {
     "name": "stdout",
     "output_type": "stream",
     "text": [
      "denoising signals through Discrete Wavelet Transform\n",
      "normalising signals\n",
      "calculating time domain parameters\n",
      "calculating frequency domain parameters\n",
      "calculating non linear domain parameters\n",
      "selecting 4 most important features\n",
      "Selected features for channel 1:\n",
      "['rr_amps', 'RMSSD', 'sd2', 'age']\n",
      "Selected features for channel 2:\n",
      "['rr_std', 'rr_amps', 'sd2', 'age']\n",
      "Selected features for channel 3:\n",
      "['rr_amps', 'skews', 'lf', 'age']\n",
      "Selected features for channel 4:\n",
      "['rr_amps', 'std', 'sd_ratio', 'age']\n",
      "Selected features for channel 5:\n",
      "['lf', 'total_power', 'sd2', 'age']\n",
      "Selected features for channel 6:\n",
      "['rr_std', 'mean', 'sd1', 'age']\n"
     ]
    },
    {
     "name": "stderr",
     "output_type": "stream",
     "text": [
      " 70%|███████   | 7/10 [22:50<10:11, 203.79s/it]"
     ]
    },
    {
     "name": "stdout",
     "output_type": "stream",
     "text": [
      "      Success Metric           Channel 1           Channel 2  \\\n",
      "0    Objective Score  0.6879069995867271  0.7255193629085707   \n",
      "1  Balanced Accuracy  0.7351820728291316   0.729127957388827   \n",
      "\n",
      "            Channel 3           Channel 4           Channel 5  \\\n",
      "0  0.7530844155844155  0.7451978479429914  0.7121689492434583   \n",
      "1  0.7068903318903318  0.6758309528892322  0.7512345679012347   \n",
      "\n",
      "            Channel 6  \n",
      "0  0.7398898795125209  \n",
      "1  0.7200428502315295  \n",
      "0.8589360728968303 [0, 2, 4, 5]\n",
      "Filtering Database\n"
     ]
    },
    {
     "name": "stderr",
     "output_type": "stream",
     "text": [
      "100%|██████████| 549/549 [01:32<00:00,  5.93it/s]\n",
      "100%|██████████| 221/221 [00:01<00:00, 164.05it/s]\n"
     ]
    },
    {
     "name": "stdout",
     "output_type": "stream",
     "text": [
      "denoising signals through Discrete Wavelet Transform\n",
      "normalising signals\n",
      "calculating time domain parameters\n",
      "calculating frequency domain parameters\n",
      "calculating non linear domain parameters\n",
      "selecting 4 most important features\n",
      "Selected features for channel 1:\n",
      "['rr_amps', 'mean', 'sd2', 'age']\n",
      "Selected features for channel 2:\n",
      "['rr_amps', 'lf', 'sd_ratio', 'age']\n",
      "Selected features for channel 3:\n",
      "['shannon_en', 'sd1', 'sd2', 'age']\n",
      "Selected features for channel 4:\n",
      "['rr_amps', 'std', 'skews', 'age']\n",
      "Selected features for channel 5:\n",
      "['skews', 'lf', 'sd2', 'age']\n",
      "Selected features for channel 6:\n",
      "['mean', 'sd1', 'sd2', 'age']\n"
     ]
    },
    {
     "name": "stderr",
     "output_type": "stream",
     "text": [
      " 80%|████████  | 8/10 [25:55<06:35, 197.86s/it]"
     ]
    },
    {
     "name": "stdout",
     "output_type": "stream",
     "text": [
      "      Success Metric           Channel 1           Channel 2  \\\n",
      "0    Objective Score  0.7281122407978882  0.7472060031734333   \n",
      "1  Balanced Accuracy  0.7393557422969188  0.7126470952557908   \n",
      "\n",
      "            Channel 3           Channel 4           Channel 5  \\\n",
      "0  0.7484135030544895  0.7490237656004121  0.7367189021906002   \n",
      "1  0.7952741702741702  0.6908336806579175  0.7393298059964727   \n",
      "\n",
      "            Channel 6  \n",
      "0  0.7453072653809114  \n",
      "1  0.7605196166516922  \n",
      "0.8589360728968303 [0, 4, 5]\n",
      "Filtering Database\n"
     ]
    },
    {
     "name": "stderr",
     "output_type": "stream",
     "text": [
      "100%|██████████| 549/549 [01:21<00:00,  6.76it/s]\n",
      "100%|██████████| 221/221 [00:01<00:00, 198.51it/s]\n"
     ]
    },
    {
     "name": "stdout",
     "output_type": "stream",
     "text": [
      "denoising signals through Discrete Wavelet Transform\n",
      "normalising signals\n",
      "calculating time domain parameters\n",
      "calculating frequency domain parameters\n",
      "calculating non linear domain parameters\n",
      "selecting 4 most important features\n",
      "Selected features for channel 1:\n",
      "['rr_amps', 'mean', 'shannon_en', 'age']\n",
      "Selected features for channel 2:\n",
      "['rr_std', 'rr_amps', 'lf', 'age']\n",
      "Selected features for channel 3:\n",
      "['rr_std', 'sd1', 'sd2', 'age']\n",
      "Selected features for channel 4:\n",
      "['rr_amps', 'std', 'skews', 'age']\n",
      "Selected features for channel 5:\n",
      "['skews', 'lf', 'shannon_en', 'age']\n",
      "Selected features for channel 6:\n",
      "['rr_std', 'RMSSD', 'lf', 'age']\n"
     ]
    },
    {
     "name": "stderr",
     "output_type": "stream",
     "text": [
      " 90%|█████████ | 9/10 [28:40<03:07, 187.52s/it]"
     ]
    },
    {
     "name": "stdout",
     "output_type": "stream",
     "text": [
      "      Success Metric           Channel 1           Channel 2  \\\n",
      "0    Objective Score  0.7150618575535765  0.7212158798859566   \n",
      "1  Balanced Accuracy  0.6869281045751633  0.7186238077542425   \n",
      "\n",
      "            Channel 3           Channel 4           Channel 5  \\\n",
      "0  0.7542496586101236  0.7490237656004121   0.729058234230648   \n",
      "1  0.7602813852813853  0.6908336806579175  0.7035273368606701   \n",
      "\n",
      "            Channel 6  \n",
      "0  0.7336641898681527  \n",
      "1  0.7383590204344922  \n",
      "0.871675585284281 [1, 4, 5]\n",
      "Filtering Database\n"
     ]
    },
    {
     "name": "stderr",
     "output_type": "stream",
     "text": [
      "100%|██████████| 549/549 [01:08<00:00,  8.05it/s]\n",
      "100%|██████████| 221/221 [00:01<00:00, 186.03it/s]\n"
     ]
    },
    {
     "name": "stdout",
     "output_type": "stream",
     "text": [
      "denoising signals through Discrete Wavelet Transform\n",
      "normalising signals\n",
      "calculating time domain parameters\n",
      "calculating frequency domain parameters\n",
      "calculating non linear domain parameters\n",
      "selecting 4 most important features\n",
      "Selected features for channel 1:\n",
      "['rr_amps', 'mean', 'lf', 'age']\n",
      "Selected features for channel 2:\n",
      "['rr_amps', 'lf', 'total_power', 'age']\n",
      "Selected features for channel 3:\n",
      "['rr_std', 'sd1', 'sd2', 'age']\n",
      "Selected features for channel 4:\n",
      "['rr_std', 'rr_amps', 'std', 'age']\n",
      "Selected features for channel 5:\n",
      "['rr_std', 'lf', 'total_power', 'age']\n",
      "Selected features for channel 6:\n",
      "['rr_std', 'sd1', 'sd2', 'age']\n"
     ]
    },
    {
     "name": "stderr",
     "output_type": "stream",
     "text": [
      "100%|██████████| 10/10 [30:50<00:00, 185.03s/it]"
     ]
    },
    {
     "name": "stdout",
     "output_type": "stream",
     "text": [
      "      Success Metric           Channel 1           Channel 2  \\\n",
      "0    Objective Score  0.7150618575535765  0.7472060031734333   \n",
      "1  Balanced Accuracy  0.6758169934640522  0.7126470952557908   \n",
      "\n",
      "            Channel 3           Channel 4           Channel 5  \\\n",
      "0  0.7534476728810603  0.7229860592823266  0.6220481544571136   \n",
      "1  0.8084415584415584  0.6637313503640979  0.6592592592592593   \n",
      "\n",
      "            Channel 6  \n",
      "0  0.7348499665952496  \n",
      "1  0.7343268366853272  \n",
      "0.8589360728968303 [2, 3, 4, 5]\n"
     ]
    },
    {
     "name": "stderr",
     "output_type": "stream",
     "text": [
      "\n"
     ]
    }
   ],
   "source": [
    "repeats = 10\n",
    "best_scores = []\n",
    "best_channels = []\n",
    "\n",
    "for i in tqdm(range(repeats)):\n",
    "\n",
    "    ptb_binary_SVM.run()\n",
    "\n",
    "\n",
    "    #define classifier\n",
    "    svc = SVC(class_weight='balanced', probability = True)\n",
    "\n",
    "    #find the best set of hyperparameters for each channel, tuned on the desired scoring function\n",
    "    best_estimators = get_best_estimators(ptb_binary_SVM.selected_features, param_grid, scoring_function, svc, ptb_binary_SVM.health_state, ptb_binary_SVM.nan_indices)\n",
    "\n",
    "    #perform 3 way skfold to get scores for each channel as well as their probabilities\n",
    "    n_splits = 3\n",
    "    score, bal_acc, probabilities, thresholds, y_tests, test_indices = get_scores_and_probs(ptb_binary_SVM.selected_features, ptb_binary_SVM.health_state, ptb_binary_SVM.nan_indices, best_estimators, scoring_function, n_splits)\n",
    "\n",
    "    #printing scores for each channel\n",
    "    print_scores_for_channel(score, bal_acc)\n",
    "\n",
    "    #reconstructing calculated probabilities so can optimise over all channels\n",
    "    reconstructed_probs = get_reconstructed_probabilities(probabilities, test_indices, ptb_binary_SVM.nan_indices, ptb_binary_SVM.allowed_patients.count_patients(), n_splits)\n",
    "\n",
    "    #optimising over channels\n",
    "    best_score, best_channel_indices = optimise_score_over_channels(reconstructed_probs, thresholds, ptb_binary_SVM.health_state)\n",
    "\n",
    "    print(best_score, best_channel_indices)\n",
    "\n",
    "    best_scores.append(best_score)\n",
    "    best_channels.append(best_channel_indices)\n"
   ]
  },
  {
   "cell_type": "code",
   "execution_count": 5,
   "metadata": {},
   "outputs": [
    {
     "name": "stdout",
     "output_type": "stream",
     "text": [
      "0.8571936888653914\n",
      "0.007695470112347294\n",
      "[[0, 1, 4, 5], [0, 4, 5], [0, 1, 2, 4, 5], [0, 4, 5], [0, 1, 2, 4, 5], [2, 3, 4, 5], [0, 2, 4, 5], [0, 4, 5], [1, 4, 5], [2, 3, 4, 5]]\n"
     ]
    }
   ],
   "source": [
    "print(np.mean(best_scores))\n",
    "print(np.std(best_scores))\n",
    "\n",
    "print(best_channels)"
   ]
  },
  {
   "cell_type": "code",
   "execution_count": 14,
   "metadata": {},
   "outputs": [
    {
     "data": {
      "image/png": "[encoded data removed]",
      "text/plain": [
       "<Figure size 1000x600 with 1 Axes>"
      ]
     },
     "metadata": {},
     "output_type": "display_data"
    }
   ],
   "source": [
    "import matplotlib.pyplot as plt\n",
    "from collections import Counter\n",
    "\n",
    "\n",
    "# Flatten the list of lists\n",
    "flattened_list = [number for sublist in best_channels for number in sublist]\n",
    "\n",
    "# Count the occurrences of each number\n",
    "counted_numbers = Counter(flattened_list)\n",
    "\n",
    "# Sort the numbers to maintain a consistent order in the plot\n",
    "sorted_numbers = sorted(counted_numbers.keys())\n",
    "counts = [counted_numbers[number] for number in sorted_numbers]\n",
    "\n",
    "# Plotting the results\n",
    "fig, ax = plt.subplots(figsize=(10, 6))\n",
    "\n",
    "ax.bar(sorted_numbers, counts, color='skyblue')\n",
    "\n",
    "# Adding labels and title\n",
    "ax.set_xlabel('Channels')\n",
    "ax.set_ylabel('Frequency')\n",
    "ax.set_title('Frequency of Channels Used')\n",
    "ax.set_xticks(sorted_numbers)\n",
    "ax.set_xticklabels([1, 2, 3, 4, 5, 6])\n",
    "\n",
    "# Show the plot\n",
    "plt.tight_layout()\n",
    "plt.savefig('figures\\\\number_frequency_bar_chart.png', bbox_inches='tight')\n",
    "plt.show()"
   ]
  },
  {
   "cell_type": "code",
   "execution_count": null,
   "metadata": {},
   "outputs": [],
   "source": []
  }
 ],
 "metadata": {
  "kernelspec": {
   "display_name": "ECG-project",
   "language": "python",
   "name": "python3"
  },
  "language_info": {
   "codemirror_mode": {
    "name": "ipython",
    "version": 3
   },
   "file_extension": ".py",
   "mimetype": "text/x-python",
   "name": "python",
   "nbconvert_exporter": "python",
   "pygments_lexer": "ipython3",
   "version": "3.10.13"
  }
 },
 "nbformat": 4,
 "nbformat_minor": 2
}
