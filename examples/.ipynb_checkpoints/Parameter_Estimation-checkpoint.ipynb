{
 "cells": [
  {
   "cell_type": "markdown",
   "metadata": {},
   "source": [
    "This notebook assumes access to denoised, detrended signals and calculates the appropriate parameters for the signal."
   ]
  },
  {
   "cell_type": "code",
   "execution_count": 1,
   "metadata": {},
   "outputs": [
    {
     "name": "stderr",
     "output_type": "stream",
     "text": [
      "100%|████████████████████████████████████████████████████████████████████████████████| 549/549 [00:15<00:00, 35.90it/s]\n",
      "100%|████████████████████████████████████████████████████████████████████████████████| 229/229 [00:02<00:00, 91.69it/s]\n"
     ]
    }
   ],
   "source": [
    "%run \"Data_PreProcessing.ipynb\" #allowing access to the filtered database with preprocessed signals"
   ]
  },
  {
   "cell_type": "code",
   "execution_count": 2,
   "metadata": {},
   "outputs": [],
   "source": [
    "from scipy.signal import find_peaks #for peak finding"
   ]
  },
  {
   "cell_type": "code",
   "execution_count": 3,
   "metadata": {},
   "outputs": [],
   "source": [
    "def peak_to_peak(signal, distance):\n",
    "    peaks, _ = find_peaks(signal, distance = distance)\n",
    "    peak_to_peaks = peaks[1:-1]\n",
    "\n",
    "    # Calculate differences between adjacent peak indices\n",
    "    peak_distances = np.diff(peak_to_peaks)\n",
    "\n",
    "    # Compute the average distance between peaks\n",
    "    peak_av = np.mean(peak_distances)\n",
    "    #peak_std = np.std(peak_distances) dont think we want this??\n",
    "    \n",
    "    return peak_av\n",
    "\n",
    "peak_to_peak_averages = np.zeros(shape = no_patients)\n",
    "for i, signal in enumerate(butterworth_detrended_signals):\n",
    "    peak_av = peak_to_peak(signal, 600)\n",
    "    peak_to_peak_averages[i] = peak_av"
   ]
  },
  {
   "cell_type": "code",
   "execution_count": null,
   "metadata": {},
   "outputs": [],
   "source": []
  }
 ],
 "metadata": {
  "kernelspec": {
   "display_name": "Python 3",
   "language": "python",
   "name": "python3"
  },
  "language_info": {
   "codemirror_mode": {
    "name": "ipython",
    "version": 3
   },
   "file_extension": ".py",
   "mimetype": "text/x-python",
   "name": "python",
   "nbconvert_exporter": "python",
   "pygments_lexer": "ipython3",
   "version": "3.8.3"
  }
 },
 "nbformat": 4,
 "nbformat_minor": 4
}
