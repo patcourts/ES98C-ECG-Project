{
 "cells": [
  {
   "cell_type": "markdown",
   "metadata": {},
   "source": [
    "This notebook exists to experiment with different methods for classification"
   ]
  },
  {
   "cell_type": "code",
   "execution_count": 1,
   "metadata": {},
   "outputs": [
    {
     "name": "stderr",
     "output_type": "stream",
     "text": [
      "100%|████████████████████████████████████████████████████████████████████████████████| 549/549 [00:15<00:00, 36.10it/s]\n",
      "100%|████████████████████████████████████████████████████████████████████████████████| 229/229 [00:02<00:00, 91.90it/s]\n"
     ]
    }
   ],
   "source": [
    "%run \"Parameter_Estimation.ipynb\" #change to feature selection when is fixed"
   ]
  },
  {
   "cell_type": "code",
   "execution_count": 2,
   "metadata": {},
   "outputs": [],
   "source": [
    "from sklearn.model_selection import train_test_split\n",
    "from sklearn.svm import SVC\n",
    "from sklearn.metrics import accuracy_score, classification_report\n",
    "from sklearn.preprocessing import StandardScaler\n",
    "from sklearn.decomposition import PCA"
   ]
  },
  {
   "cell_type": "code",
   "execution_count": 3,
   "metadata": {},
   "outputs": [
    {
     "name": "stdout",
     "output_type": "stream",
     "text": [
      "229\n"
     ]
    }
   ],
   "source": [
    "health_state = allowed_patients.get_diagnoses()\n",
    "\n",
    "encoded_health_state = [True if label == 'Unhealthy' else False for label in health_state]\n",
    "\n",
    "print(len(health_state))\n",
    "# unhealthy_peak_to_peak_averages = peak_to_peak_averages[encoded_health_state]\n",
    "# healthy_peak_to_peak_averages = peak_to_peak_averages[~np.array(encoded_health_state)]\n",
    "\n",
    "# unhealthy_peak_amp = peak_amp_average[encoded_health_state]\n",
    "# healthy_peak_amp = peak_amp_average[~np.array(encoded_health_state)]\n"
   ]
  },
  {
   "cell_type": "code",
   "execution_count": 46,
   "metadata": {},
   "outputs": [
    {
     "data": {
      "text/html": [
       "<style>#sk-container-id-4 {color: black;}#sk-container-id-4 pre{padding: 0;}#sk-container-id-4 div.sk-toggleable {background-color: white;}#sk-container-id-4 label.sk-toggleable__label {cursor: pointer;display: block;width: 100%;margin-bottom: 0;padding: 0.3em;box-sizing: border-box;text-align: center;}#sk-container-id-4 label.sk-toggleable__label-arrow:before {content: \"▸\";float: left;margin-right: 0.25em;color: #696969;}#sk-container-id-4 label.sk-toggleable__label-arrow:hover:before {color: black;}#sk-container-id-4 div.sk-estimator:hover label.sk-toggleable__label-arrow:before {color: black;}#sk-container-id-4 div.sk-toggleable__content {max-height: 0;max-width: 0;overflow: hidden;text-align: left;background-color: #f0f8ff;}#sk-container-id-4 div.sk-toggleable__content pre {margin: 0.2em;color: black;border-radius: 0.25em;background-color: #f0f8ff;}#sk-container-id-4 input.sk-toggleable__control:checked~div.sk-toggleable__content {max-height: 200px;max-width: 100%;overflow: auto;}#sk-container-id-4 input.sk-toggleable__control:checked~label.sk-toggleable__label-arrow:before {content: \"▾\";}#sk-container-id-4 div.sk-estimator input.sk-toggleable__control:checked~label.sk-toggleable__label {background-color: #d4ebff;}#sk-container-id-4 div.sk-label input.sk-toggleable__control:checked~label.sk-toggleable__label {background-color: #d4ebff;}#sk-container-id-4 input.sk-hidden--visually {border: 0;clip: rect(1px 1px 1px 1px);clip: rect(1px, 1px, 1px, 1px);height: 1px;margin: -1px;overflow: hidden;padding: 0;position: absolute;width: 1px;}#sk-container-id-4 div.sk-estimator {font-family: monospace;background-color: #f0f8ff;border: 1px dotted black;border-radius: 0.25em;box-sizing: border-box;margin-bottom: 0.5em;}#sk-container-id-4 div.sk-estimator:hover {background-color: #d4ebff;}#sk-container-id-4 div.sk-parallel-item::after {content: \"\";width: 100%;border-bottom: 1px solid gray;flex-grow: 1;}#sk-container-id-4 div.sk-label:hover label.sk-toggleable__label {background-color: #d4ebff;}#sk-container-id-4 div.sk-serial::before {content: \"\";position: absolute;border-left: 1px solid gray;box-sizing: border-box;top: 0;bottom: 0;left: 50%;z-index: 0;}#sk-container-id-4 div.sk-serial {display: flex;flex-direction: column;align-items: center;background-color: white;padding-right: 0.2em;padding-left: 0.2em;position: relative;}#sk-container-id-4 div.sk-item {position: relative;z-index: 1;}#sk-container-id-4 div.sk-parallel {display: flex;align-items: stretch;justify-content: center;background-color: white;position: relative;}#sk-container-id-4 div.sk-item::before, #sk-container-id-4 div.sk-parallel-item::before {content: \"\";position: absolute;border-left: 1px solid gray;box-sizing: border-box;top: 0;bottom: 0;left: 50%;z-index: -1;}#sk-container-id-4 div.sk-parallel-item {display: flex;flex-direction: column;z-index: 1;position: relative;background-color: white;}#sk-container-id-4 div.sk-parallel-item:first-child::after {align-self: flex-end;width: 50%;}#sk-container-id-4 div.sk-parallel-item:last-child::after {align-self: flex-start;width: 50%;}#sk-container-id-4 div.sk-parallel-item:only-child::after {width: 0;}#sk-container-id-4 div.sk-dashed-wrapped {border: 1px dashed gray;margin: 0 0.4em 0.5em 0.4em;box-sizing: border-box;padding-bottom: 0.4em;background-color: white;}#sk-container-id-4 div.sk-label label {font-family: monospace;font-weight: bold;display: inline-block;line-height: 1.2em;}#sk-container-id-4 div.sk-label-container {text-align: center;}#sk-container-id-4 div.sk-container {/* jupyter's `normalize.less` sets `[hidden] { display: none; }` but bootstrap.min.css set `[hidden] { display: none !important; }` so we also need the `!important` here to be able to override the default hidden behavior on the sphinx rendered scikit-learn.org. See: https://github.com/scikit-learn/scikit-learn/issues/21755 */display: inline-block !important;position: relative;}#sk-container-id-4 div.sk-text-repr-fallback {display: none;}</style><div id=\"sk-container-id-4\" class=\"sk-top-container\"><div class=\"sk-text-repr-fallback\"><pre>RFE(estimator=SVC(kernel=&#x27;linear&#x27;), n_features_to_select=1)</pre><b>In a Jupyter environment, please rerun this cell to show the HTML representation or trust the notebook. <br />On GitHub, the HTML representation is unable to render, please try loading this page with nbviewer.org.</b></div><div class=\"sk-container\" hidden><div class=\"sk-item sk-dashed-wrapped\"><div class=\"sk-label-container\"><div class=\"sk-label sk-toggleable\"><input class=\"sk-toggleable__control sk-hidden--visually\" id=\"sk-estimator-id-10\" type=\"checkbox\" ><label for=\"sk-estimator-id-10\" class=\"sk-toggleable__label sk-toggleable__label-arrow\">RFE</label><div class=\"sk-toggleable__content\"><pre>RFE(estimator=SVC(kernel=&#x27;linear&#x27;), n_features_to_select=1)</pre></div></div></div><div class=\"sk-parallel\"><div class=\"sk-parallel-item\"><div class=\"sk-item\"><div class=\"sk-label-container\"><div class=\"sk-label sk-toggleable\"><input class=\"sk-toggleable__control sk-hidden--visually\" id=\"sk-estimator-id-11\" type=\"checkbox\" ><label for=\"sk-estimator-id-11\" class=\"sk-toggleable__label sk-toggleable__label-arrow\">estimator: SVC</label><div class=\"sk-toggleable__content\"><pre>SVC(kernel=&#x27;linear&#x27;)</pre></div></div></div><div class=\"sk-serial\"><div class=\"sk-item\"><div class=\"sk-estimator sk-toggleable\"><input class=\"sk-toggleable__control sk-hidden--visually\" id=\"sk-estimator-id-12\" type=\"checkbox\" ><label for=\"sk-estimator-id-12\" class=\"sk-toggleable__label sk-toggleable__label-arrow\">SVC</label><div class=\"sk-toggleable__content\"><pre>SVC(kernel=&#x27;linear&#x27;)</pre></div></div></div></div></div></div></div></div></div></div>"
      ],
      "text/plain": [
       "RFE(estimator=SVC(kernel='linear'), n_features_to_select=1)"
      ]
     },
     "execution_count": 46,
     "metadata": {},
     "output_type": "execute_result"
    }
   ],
   "source": [
    "from sklearn.feature_selection import RFE\n",
    "\n",
    "# initializing parameter array\n",
    "X = np.zeros((no_patients, 3))#need no. samples as rows, no. features as columns for machine learning analysis\n",
    "X[:, 0] = params['rr_mean']\n",
    "X[:, 1] = params['rr_std']\n",
    "X[:, 2] = params['RMSSD']\n",
    "#X[:, 3] = params['pNN50']\n",
    "\n",
    "#splitting data into test and train sets\n",
    "X_train, X_test, y_train, y_test = train_test_split(X, health_state, test_size=0.3)\n",
    "\n",
    "#initialise SVM -- have to use a linear kernel??\n",
    "svm = SVC(kernel=\"linear\")\n",
    "\n",
    "#initialize RFE with the SVM model and desired number of feauters\n",
    "rfe = RFE(estimator=svm, n_features_to_select=1)\n",
    "\n",
    "rfe.fit(X_train, y_train)"
   ]
  },
  {
   "cell_type": "code",
   "execution_count": 47,
   "metadata": {},
   "outputs": [
    {
     "name": "stdout",
     "output_type": "stream",
     "text": [
      "Selected features: [False False  True]\n",
      "Feature ranking: [3 2 1]\n"
     ]
    }
   ],
   "source": [
    "print(\"Selected features:\", rfe.support_)\n",
    "print(\"Feature ranking:\", rfe.ranking_)"
   ]
  },
  {
   "cell_type": "code",
   "execution_count": 38,
   "metadata": {},
   "outputs": [
    {
     "name": "stdout",
     "output_type": "stream",
     "text": [
      "Accuracy with selected features: 0.8985507246376812\n"
     ]
    }
   ],
   "source": [
    "# transform the dataset to include only the selected features\n",
    "X_train_rfe = rfe.transform(X_train)\n",
    "X_test_rfe = rfe.transform(X_test)\n",
    "\n",
    "# train the SVM on the selected features\n",
    "svm.fit(X_train_rfe, y_train)\n",
    "\n",
    "# Make predictions on the test set\n",
    "y_pred = svm.predict(X_test_rfe)\n",
    "\n",
    "# Evaluate the model performance\n",
    "accuracy = accuracy_score(y_test, y_pred)\n",
    "print(\"Accuracy with selected features:\", accuracy)"
   ]
  },
  {
   "cell_type": "markdown",
   "metadata": {},
   "source": [
    "### Forward/Backward Elimination\n",
    "\n",
    "May be slower than RFE but does not need to have coefficients i.e. a linear kernel."
   ]
  },
  {
   "cell_type": "code",
   "execution_count": 41,
   "metadata": {},
   "outputs": [
    {
     "data": {
      "text/plain": [
       "array([ True, False, False])"
      ]
     },
     "execution_count": 41,
     "metadata": {},
     "output_type": "execute_result"
    }
   ],
   "source": [
    "from sklearn.feature_selection import SequentialFeatureSelector \n",
    "\n",
    "svm_rbf = SVC(kernel='rbf')\n",
    "\n",
    "SFS_forward = SequentialFeatureSelector(estimator=svm_rbf, tol = 5)\n",
    "\n",
    "SFS_forward.fit(X_train, y_train)\n",
    "\n",
    "SFS_forward.get_support()"
   ]
  },
  {
   "cell_type": "code",
   "execution_count": 45,
   "metadata": {},
   "outputs": [
    {
     "data": {
      "text/plain": [
       "array([ True, False, False])"
      ]
     },
     "execution_count": 45,
     "metadata": {},
     "output_type": "execute_result"
    }
   ],
   "source": [
    "SFS_backward = SequentialFeatureSelector(estimator=svm_rbf, tol=-5, direction='backward')\n",
    "\n",
    "SFS_backward.fit(X_train, y_train)\n",
    "\n",
    "SFS_forward.get_support()"
   ]
  },
  {
   "cell_type": "code",
   "execution_count": null,
   "metadata": {},
   "outputs": [],
   "source": [
    "#these agree only first one should be kept but disagrees with RFE???"
   ]
  },
  {
   "cell_type": "markdown",
   "metadata": {},
   "source": [
    "## Embedded Methods:\n",
    "\n",
    "Also done whilst using the model\n",
    "\n",
    "- Regularization: Techniques like LASSO (L1 regularization) and Ridge (L2 regularization) penalize the magnitude of feature coefficients, forcing less important features to have coefficients close to zero."
   ]
  },
  {
   "cell_type": "code",
   "execution_count": 25,
   "metadata": {},
   "outputs": [],
   "source": [
    "#LASSO/Ridge Regression\n",
    "from sklearn.linear_model import Lasso\n",
    "from sklearn.linear_model import Ridge\n",
    "\n",
    "#changing health_state to binary for use in regression\n",
    "binary_health_state = [1 if label == 'Unhealthy' else 0 for label in health_state]\n",
    "\n",
    "#splitting the data into train and test sets\n",
    "X_train, X_test, y_train, y_test = train_test_split(X, binary_health_state, test_size=0.3)\n",
    "\n",
    "scaler = StandardScaler()\n",
    "X_train_scaled = scaler.fit_transform(X_train)\n",
    "\n",
    "#create and fit regression models\n",
    "lasso_alpha = 0.1  # Regularization strength (hyperparameter)\n",
    "lasso = Lasso(alpha=lasso_alpha)\n",
    "lasso.fit(X_train_scaled, y_train)\n",
    "\n",
    "ridge_alpha = 0.1 \n",
    "ridge = Ridge(alpha=ridge_alpha)\n",
    "ridge.fit(X_train_scaled, y_train)\n",
    "\n",
    "#use the trained models for prediction\n",
    "X_test_scaled = scaler.fit_transform(X_test)\n",
    "\n",
    "y_pred_ridge = ridge.predict(X_test_scaled)\n",
    "y_pred_lasso = lasso.predict(X_test_scaled)\n",
    "\n"
   ]
  },
  {
   "cell_type": "markdown",
   "metadata": {},
   "source": [
    "## Comparing Accuracy\n",
    "- MSE - average between true and predicted values\n",
    "- R2 score - measure of proportion of variance in dependent variable (target) that is explained by independent variables (features), indicates how well the model captures the variations in the data"
   ]
  },
  {
   "cell_type": "code",
   "execution_count": 26,
   "metadata": {},
   "outputs": [
    {
     "name": "stdout",
     "output_type": "stream",
     "text": [
      "LASSO Regression:\n",
      "MSE: 0.12358525815217393\n",
      "R2 Score: -0.08961002604166657\n",
      "\n",
      "Ridge Regression:\n",
      "MSE: 0.11076380627276888\n",
      "R2 Score: 0.023432441361754486\n"
     ]
    }
   ],
   "source": [
    "from sklearn.metrics import mean_squared_error, r2_score\n",
    "\n",
    "#calculate MSE\n",
    "mse_lasso = mean_squared_error(y_test, y_pred_lasso)\n",
    "mse_ridge = mean_squared_error(y_test, y_pred_ridge)\n",
    "\n",
    "#calculate R2\n",
    "r2_lasso = r2_score(y_test, y_pred_lasso)\n",
    "r2_ridge = r2_score(y_test, y_pred_ridge)\n",
    "\n",
    "print(\"LASSO Regression:\")\n",
    "print(\"MSE:\", mse_lasso)\n",
    "print(\"R2 Score:\", r2_lasso)\n",
    "print()\n",
    "print(\"Ridge Regression:\")\n",
    "print(\"MSE:\", mse_ridge)\n",
    "print(\"R2 Score:\", r2_ridge)"
   ]
  },
  {
   "cell_type": "markdown",
   "metadata": {},
   "source": [
    "## SVM"
   ]
  },
  {
   "cell_type": "code",
   "execution_count": 27,
   "metadata": {},
   "outputs": [
    {
     "name": "stdout",
     "output_type": "stream",
     "text": [
      "[[ 696.15662651]\n",
      " [ 760.53246753]\n",
      " [ 831.97101449]\n",
      " [ 727.95      ]\n",
      " [ 685.23809524]\n",
      " [ 666.72413793]\n",
      " [ 808.54166667]\n",
      " [1012.52631579]\n",
      " [ 672.81395349]\n",
      " [ 670.12643678]\n",
      " [1150.8       ]\n",
      " [ 703.37804878]\n",
      " [ 703.        ]\n",
      " [ 917.68253968]\n",
      " [1010.63157895]\n",
      " [ 712.07407407]\n",
      " [ 787.28767123]\n",
      " [ 671.91954023]\n",
      " [ 912.21875   ]\n",
      " [ 811.73239437]\n",
      " [ 912.15873016]\n",
      " [ 833.71014493]\n",
      " [ 884.16923077]\n",
      " [ 817.74285714]\n",
      " [ 799.34722222]\n",
      " [1009.64912281]\n",
      " [1013.92982456]\n",
      " [ 699.31325301]\n",
      " [ 729.58227848]\n",
      " [ 635.76086957]\n",
      " [ 926.33333333]\n",
      " [ 763.59210526]\n",
      " [ 905.84375   ]\n",
      " [ 666.72413793]\n",
      " [ 816.16901408]\n",
      " [ 844.63235294]\n",
      " [ 820.70422535]\n",
      " [ 686.64285714]\n",
      " [ 659.21590909]\n",
      " [ 739.38461538]\n",
      " [ 632.17391304]\n",
      " [ 693.89285714]\n",
      " [ 725.9875    ]\n",
      " [1018.875     ]\n",
      " [ 855.67647059]\n",
      " [ 728.125     ]\n",
      " [ 612.12631579]\n",
      " [ 778.89189189]\n",
      " [ 753.5       ]\n",
      " [ 748.76623377]\n",
      " [ 772.54666667]\n",
      " [ 747.2987013 ]\n",
      " [ 739.73417722]\n",
      " [1029.55357143]\n",
      " [ 900.15625   ]\n",
      " [ 817.70422535]\n",
      " [ 742.34615385]\n",
      " [ 680.22093023]\n",
      " [ 704.52439024]\n",
      " [ 754.12987013]\n",
      " [ 758.5974026 ]\n",
      " [ 825.92857143]\n",
      " [ 663.28409091]\n",
      " [ 881.60606061]\n",
      " [ 786.89189189]\n",
      " [ 736.39240506]\n",
      " [ 692.60714286]\n",
      " [ 962.15      ]\n",
      " [ 769.32894737]\n",
      " [ 950.42622951]\n",
      " [ 749.88311688]\n",
      " [ 877.31818182]\n",
      " [ 918.79365079]\n",
      " [ 708.90243902]\n",
      " [ 927.44444444]\n",
      " [ 891.92307692]\n",
      " [ 968.93220339]\n",
      " [ 746.45454545]\n",
      " [ 754.51948052]\n",
      " [ 745.66666667]\n",
      " [ 837.98550725]\n",
      " [ 761.75      ]\n",
      " [ 787.31506849]\n",
      " [ 805.36111111]\n",
      " [ 683.71764706]\n",
      " [ 883.04545455]\n",
      " [ 795.30136986]\n",
      " [ 906.875     ]\n",
      " [ 891.55384615]\n",
      " [ 688.27058824]\n",
      " [ 765.39473684]\n",
      " [ 662.95402299]\n",
      " [ 913.96825397]\n",
      " [ 740.58227848]\n",
      " [1036.78181818]\n",
      " [ 783.02739726]\n",
      " [ 815.74647887]\n",
      " [ 831.64285714]\n",
      " [ 814.23943662]\n",
      " [ 993.33898305]\n",
      " [ 802.01388889]\n",
      " [1146.04      ]\n",
      " [ 975.86440678]\n",
      " [ 793.16438356]\n",
      " [ 738.4556962 ]\n",
      " [ 876.15151515]\n",
      " [ 982.86440678]\n",
      " [ 896.546875  ]\n",
      " [ 782.55405405]\n",
      " [ 696.63855422]\n",
      " [ 904.625     ]\n",
      " [ 851.42647059]\n",
      " [ 891.828125  ]\n",
      " [ 850.88235294]\n",
      " [ 810.77777778]\n",
      " [ 924.57142857]\n",
      " [ 760.45454545]\n",
      " [ 697.60240964]\n",
      " [ 739.70512821]\n",
      " [ 875.96969697]\n",
      " [ 823.63380282]\n",
      " [ 771.69333333]\n",
      " [ 848.91176471]\n",
      " [ 770.02702703]\n",
      " [ 822.5       ]\n",
      " [ 679.        ]\n",
      " [1031.58928571]\n",
      " [1051.72727273]\n",
      " [ 784.95945946]\n",
      " [ 894.953125  ]\n",
      " [ 899.1875    ]\n",
      " [ 787.60273973]\n",
      " [ 801.23611111]\n",
      " [ 879.81818182]\n",
      " [ 826.58571429]\n",
      " [ 702.80487805]\n",
      " [ 950.62295082]\n",
      " [ 700.39759036]\n",
      " [ 865.89552239]\n",
      " [ 908.890625  ]\n",
      " [ 746.49350649]\n",
      " [ 897.046875  ]\n",
      " [ 810.83098592]\n",
      " [ 686.01176471]\n",
      " [1098.73076923]\n",
      " [ 677.74418605]\n",
      " [ 883.40909091]\n",
      " [ 858.29850746]\n",
      " [ 874.09090909]\n",
      " [ 882.44615385]\n",
      " [1000.98275862]\n",
      " [ 873.6969697 ]\n",
      " [ 945.27868852]\n",
      " [ 842.58823529]\n",
      " [ 700.14457831]\n",
      " [ 840.2173913 ]\n",
      " [ 654.28089888]\n",
      " [ 862.01470588]\n",
      " [ 922.51612903]\n",
      " [ 845.72463768]\n",
      " [ 816.4       ]\n",
      " [ 815.32394366]\n",
      " [ 994.51724138]\n",
      " [ 787.67567568]\n",
      " [ 848.63235294]\n",
      " [ 821.69014085]\n",
      " [ 621.22340426]\n",
      " [1025.98245614]\n",
      " [ 748.11688312]\n",
      " [ 948.1147541 ]\n",
      " [1026.22807018]\n",
      " [1030.39285714]\n",
      " [ 815.49295775]\n",
      " [ 654.17045455]\n",
      " [1063.2037037 ]\n",
      " [1057.37037037]\n",
      " [ 911.66666667]\n",
      " [ 972.88135593]\n",
      " [ 976.96610169]\n",
      " [ 779.14864865]\n",
      " [ 746.15584416]\n",
      " [ 769.14666667]\n",
      " [1035.85454545]\n",
      " [ 827.61428571]\n",
      " [ 647.70786517]\n",
      " [ 808.05633803]\n",
      " [ 766.34210526]\n",
      " [1044.76363636]\n",
      " [ 691.09638554]\n",
      " [ 936.61290323]\n",
      " [1057.90740741]\n",
      " [1075.77777778]\n",
      " [ 782.21621622]\n",
      " [ 989.57627119]\n",
      " [ 818.15714286]\n",
      " [ 778.87837838]\n",
      " [ 913.74603175]\n",
      " [ 853.42647059]\n",
      " [ 772.2       ]\n",
      " [1087.24528302]\n",
      " [1010.75438596]\n",
      " [ 856.13235294]\n",
      " [ 987.54237288]\n",
      " [ 778.64      ]\n",
      " [ 978.55932203]\n",
      " [ 898.        ]\n",
      " [ 818.17142857]\n",
      " [1103.51923077]\n",
      " [ 889.61538462]\n",
      " [1053.30909091]\n",
      " [ 838.55072464]\n",
      " [1064.25925926]\n",
      " [ 876.60606061]\n",
      " [ 688.        ]\n",
      " [1095.8490566 ]\n",
      " [ 935.67741935]\n",
      " [ 962.33333333]\n",
      " [ 995.12068966]\n",
      " [ 883.10769231]\n",
      " [ 783.5       ]\n",
      " [ 794.93150685]\n",
      " [ 645.15555556]\n",
      " [ 892.6       ]\n",
      " [ 777.97297297]\n",
      " [ 794.68493151]\n",
      " [ 711.23170732]\n",
      " [ 875.62121212]\n",
      " [ 812.58333333]\n",
      " [ 805.56944444]]\n"
     ]
    }
   ],
   "source": [
    "#will have feature selection to decide this number\n",
    "no_features = 1\n",
    "\n",
    "# Initialize the array\n",
    "selected_params = np.zeros((no_patients, no_features))#need no. samples as rows, no. features as columns for machine learning analysis\n",
    "\n",
    "# Populate the array with values from the dictionary\n",
    "selected_params[:, 0] = params['rr_mean']\n",
    "#selected_params[:, 1] = params['rr_std']\n",
    "#selected_params[:, 2] = params['RMSSD']\n",
    "#selected_params[:, 3] = params['pNN50']#fix this\n",
    "\n",
    "print(selected_params)"
   ]
  },
  {
   "cell_type": "code",
   "execution_count": 51,
   "metadata": {
    "scrolled": true
   },
   "outputs": [
    {
     "name": "stdout",
     "output_type": "stream",
     "text": [
      "[[0.212339   0.787661  ]\n",
      " [0.21339044 0.78660956]\n",
      " [0.233723   0.766277  ]\n",
      " [0.21577211 0.78422789]\n",
      " [0.19768837 0.80231163]\n",
      " [0.1974286  0.8025714 ]\n",
      " [0.19824469 0.80175531]\n",
      " [0.2247068  0.7752932 ]\n",
      " [0.19495832 0.80504168]\n",
      " [0.19506528 0.80493472]\n",
      " [0.20666914 0.79333086]\n",
      " [0.19734292 0.80265708]\n",
      " [0.23010159 0.76989841]\n",
      " [0.19508187 0.80491813]\n",
      " [0.21371596 0.78628404]\n",
      " [0.22712963 0.77287037]\n",
      " [0.21766809 0.78233191]\n",
      " [0.22302439 0.77697561]\n",
      " [0.19614697 0.80385303]\n",
      " [0.21029395 0.78970605]\n",
      " [0.19768468 0.80231532]\n",
      " [0.19706453 0.80293547]\n",
      " [0.21683004 0.78316996]\n",
      " [0.2023203  0.7976797 ]\n",
      " [0.19484458 0.80515542]\n",
      " [0.23001499 0.76998501]\n",
      " [0.19847034 0.80152966]\n",
      " [0.19784247 0.80215753]\n",
      " [0.22403739 0.77596261]\n",
      " [0.19575272 0.80424728]\n",
      " [0.21446551 0.78553449]\n",
      " [0.20487415 0.79512585]\n",
      " [0.21261513 0.78738487]\n",
      " [0.21525335 0.78474665]\n",
      " [0.20706215 0.79293785]\n",
      " [0.21627061 0.78372939]\n",
      " [0.21118088 0.78881912]\n",
      " [0.19505176 0.80494824]\n",
      " [0.2173406  0.7826594 ]\n",
      " [0.19773797 0.80226203]\n",
      " [0.20073144 0.79926856]\n",
      " [0.23090843 0.76909157]\n",
      " [0.21810128 0.78189872]\n",
      " [0.22274628 0.77725372]\n",
      " [0.21177122 0.78822878]\n",
      " [0.19908837 0.80091163]\n",
      " [0.19946395 0.80053605]\n",
      " [0.19559855 0.80440145]\n",
      " [0.19925757 0.80074243]\n",
      " [0.21827481 0.78172519]\n",
      " [0.22562168 0.77437832]\n",
      " [0.22882854 0.77117146]\n",
      " [0.21526036 0.78473964]\n",
      " [0.21784118 0.78215882]\n",
      " [0.1992572  0.8007428 ]\n",
      " [0.20531919 0.79468081]\n",
      " [0.20015174 0.79984826]\n",
      " [0.21214414 0.78785586]\n",
      " [0.22703025 0.77296975]\n",
      " [0.22282739 0.77717261]\n",
      " [0.19538043 0.80461957]\n",
      " [0.22942405 0.77057595]\n",
      " [0.19653187 0.80346813]\n",
      " [0.19814459 0.80185541]\n",
      " [0.21510439 0.78489561]\n",
      " [0.21798072 0.78201928]\n",
      " [0.19684525 0.80315475]\n",
      " [0.19498495 0.80501505]\n",
      " [0.19990055 0.80009945]]\n",
      "Accuracy: 0.8260869565217391\n",
      "['Unhealthy' 'Unhealthy' 'Unhealthy' 'Unhealthy' 'Unhealthy' 'Unhealthy'\n",
      " 'Unhealthy' 'Unhealthy' 'Unhealthy' 'Unhealthy' 'Unhealthy' 'Unhealthy'\n",
      " 'Unhealthy' 'Unhealthy' 'Unhealthy' 'Unhealthy' 'Unhealthy' 'Unhealthy'\n",
      " 'Unhealthy' 'Unhealthy' 'Unhealthy' 'Unhealthy' 'Unhealthy' 'Unhealthy'\n",
      " 'Unhealthy' 'Unhealthy' 'Unhealthy' 'Unhealthy' 'Unhealthy' 'Unhealthy'\n",
      " 'Unhealthy' 'Unhealthy' 'Unhealthy' 'Unhealthy' 'Unhealthy' 'Unhealthy'\n",
      " 'Unhealthy' 'Unhealthy' 'Unhealthy' 'Unhealthy' 'Unhealthy' 'Unhealthy'\n",
      " 'Unhealthy' 'Unhealthy' 'Unhealthy' 'Unhealthy' 'Unhealthy' 'Unhealthy'\n",
      " 'Unhealthy' 'Unhealthy' 'Unhealthy' 'Unhealthy' 'Unhealthy' 'Unhealthy'\n",
      " 'Unhealthy' 'Unhealthy' 'Unhealthy' 'Unhealthy' 'Unhealthy' 'Unhealthy'\n",
      " 'Unhealthy' 'Unhealthy' 'Unhealthy' 'Unhealthy' 'Unhealthy' 'Unhealthy'\n",
      " 'Unhealthy' 'Unhealthy' 'Unhealthy']\n"
     ]
    }
   ],
   "source": [
    "#splitting the data into train and test sets\n",
    "X_train, X_test, y_train, y_test = train_test_split(selected_params, health_state, test_size=0.3) \n",
    "\n",
    "#init and train model, using radial basis functions\n",
    "svm_model = SVC(kernel='rbf', gamma='scale', probability=True)  #'scale' normalises data, prevents overfitting\n",
    "#probability = True allows calculation of probabilities through 5-fold CV\n",
    "\n",
    "svm_model.fit(X_train, y_train)\n",
    "\n",
    "#predicting probabilities\n",
    "probabilities = svm_model.predict_proba(X_test)\n",
    "print(probabilities)\n",
    "\n",
    "\n",
    "#predictions\n",
    "y_pred = svm_model.predict(X_test)\n",
    "\n",
    "#evaluating accuracy of the model\n",
    "accuracy = accuracy_score(y_test, y_pred)\n",
    "print(\"Accuracy:\", accuracy)\n",
    "\n",
    "\n",
    "print(y_pred)\n",
    "\n",
    "#view a classification report\n",
    "# print(\"Classification Report:\")\n",
    "# print(classification_report(y_test, y_pred))"
   ]
  },
  {
   "cell_type": "markdown",
   "metadata": {},
   "source": [
    "### Hyper Parameter Tuning\n",
    "- c is inversely proportional to l2 regularisation parameter\n",
    "- gamma determines scaling of features\n"
   ]
  },
  {
   "cell_type": "code",
   "execution_count": 53,
   "metadata": {},
   "outputs": [
    {
     "name": "stdout",
     "output_type": "stream",
     "text": [
      "{'C': 0.01, 'gamma': 'scale', 'kernel': 'linear'}\n"
     ]
    },
    {
     "data": {
      "text/html": [
       "<style>#sk-container-id-6 {color: black;}#sk-container-id-6 pre{padding: 0;}#sk-container-id-6 div.sk-toggleable {background-color: white;}#sk-container-id-6 label.sk-toggleable__label {cursor: pointer;display: block;width: 100%;margin-bottom: 0;padding: 0.3em;box-sizing: border-box;text-align: center;}#sk-container-id-6 label.sk-toggleable__label-arrow:before {content: \"▸\";float: left;margin-right: 0.25em;color: #696969;}#sk-container-id-6 label.sk-toggleable__label-arrow:hover:before {color: black;}#sk-container-id-6 div.sk-estimator:hover label.sk-toggleable__label-arrow:before {color: black;}#sk-container-id-6 div.sk-toggleable__content {max-height: 0;max-width: 0;overflow: hidden;text-align: left;background-color: #f0f8ff;}#sk-container-id-6 div.sk-toggleable__content pre {margin: 0.2em;color: black;border-radius: 0.25em;background-color: #f0f8ff;}#sk-container-id-6 input.sk-toggleable__control:checked~div.sk-toggleable__content {max-height: 200px;max-width: 100%;overflow: auto;}#sk-container-id-6 input.sk-toggleable__control:checked~label.sk-toggleable__label-arrow:before {content: \"▾\";}#sk-container-id-6 div.sk-estimator input.sk-toggleable__control:checked~label.sk-toggleable__label {background-color: #d4ebff;}#sk-container-id-6 div.sk-label input.sk-toggleable__control:checked~label.sk-toggleable__label {background-color: #d4ebff;}#sk-container-id-6 input.sk-hidden--visually {border: 0;clip: rect(1px 1px 1px 1px);clip: rect(1px, 1px, 1px, 1px);height: 1px;margin: -1px;overflow: hidden;padding: 0;position: absolute;width: 1px;}#sk-container-id-6 div.sk-estimator {font-family: monospace;background-color: #f0f8ff;border: 1px dotted black;border-radius: 0.25em;box-sizing: border-box;margin-bottom: 0.5em;}#sk-container-id-6 div.sk-estimator:hover {background-color: #d4ebff;}#sk-container-id-6 div.sk-parallel-item::after {content: \"\";width: 100%;border-bottom: 1px solid gray;flex-grow: 1;}#sk-container-id-6 div.sk-label:hover label.sk-toggleable__label {background-color: #d4ebff;}#sk-container-id-6 div.sk-serial::before {content: \"\";position: absolute;border-left: 1px solid gray;box-sizing: border-box;top: 0;bottom: 0;left: 50%;z-index: 0;}#sk-container-id-6 div.sk-serial {display: flex;flex-direction: column;align-items: center;background-color: white;padding-right: 0.2em;padding-left: 0.2em;position: relative;}#sk-container-id-6 div.sk-item {position: relative;z-index: 1;}#sk-container-id-6 div.sk-parallel {display: flex;align-items: stretch;justify-content: center;background-color: white;position: relative;}#sk-container-id-6 div.sk-item::before, #sk-container-id-6 div.sk-parallel-item::before {content: \"\";position: absolute;border-left: 1px solid gray;box-sizing: border-box;top: 0;bottom: 0;left: 50%;z-index: -1;}#sk-container-id-6 div.sk-parallel-item {display: flex;flex-direction: column;z-index: 1;position: relative;background-color: white;}#sk-container-id-6 div.sk-parallel-item:first-child::after {align-self: flex-end;width: 50%;}#sk-container-id-6 div.sk-parallel-item:last-child::after {align-self: flex-start;width: 50%;}#sk-container-id-6 div.sk-parallel-item:only-child::after {width: 0;}#sk-container-id-6 div.sk-dashed-wrapped {border: 1px dashed gray;margin: 0 0.4em 0.5em 0.4em;box-sizing: border-box;padding-bottom: 0.4em;background-color: white;}#sk-container-id-6 div.sk-label label {font-family: monospace;font-weight: bold;display: inline-block;line-height: 1.2em;}#sk-container-id-6 div.sk-label-container {text-align: center;}#sk-container-id-6 div.sk-container {/* jupyter's `normalize.less` sets `[hidden] { display: none; }` but bootstrap.min.css set `[hidden] { display: none !important; }` so we also need the `!important` here to be able to override the default hidden behavior on the sphinx rendered scikit-learn.org. See: https://github.com/scikit-learn/scikit-learn/issues/21755 */display: inline-block !important;position: relative;}#sk-container-id-6 div.sk-text-repr-fallback {display: none;}</style><div id=\"sk-container-id-6\" class=\"sk-top-container\"><div class=\"sk-text-repr-fallback\"><pre>SVC(C=0.01, kernel=&#x27;linear&#x27;)</pre><b>In a Jupyter environment, please rerun this cell to show the HTML representation or trust the notebook. <br />On GitHub, the HTML representation is unable to render, please try loading this page with nbviewer.org.</b></div><div class=\"sk-container\" hidden><div class=\"sk-item\"><div class=\"sk-estimator sk-toggleable\"><input class=\"sk-toggleable__control sk-hidden--visually\" id=\"sk-estimator-id-14\" type=\"checkbox\" checked><label for=\"sk-estimator-id-14\" class=\"sk-toggleable__label sk-toggleable__label-arrow\">SVC</label><div class=\"sk-toggleable__content\"><pre>SVC(C=0.01, kernel=&#x27;linear&#x27;)</pre></div></div></div></div></div>"
      ],
      "text/plain": [
       "SVC(C=0.01, kernel='linear')"
      ]
     },
     "execution_count": 53,
     "metadata": {},
     "output_type": "execute_result"
    }
   ],
   "source": [
    "from sklearn.model_selection import GridSearchCV\n",
    "\n",
    "# Define parameter grid\n",
    "param_grid = {\n",
    "    'C': [0.01, 0.1, 1, 10],\n",
    "    'kernel': ['linear', 'rbf'],\n",
    "    'gamma': ['scale', 'auto']\n",
    "}\n",
    "\n",
    "# Initialize SVM\n",
    "svc = SVC()\n",
    "\n",
    "# Perform grid search\n",
    "grid_search = GridSearchCV(svc, param_grid, cv=5)\n",
    "grid_search.fit(X_train, y_train)\n",
    "\n",
    "# Best parameters\n",
    "print(grid_search.best_params_)\n",
    "\n",
    "# Train with best parameters\n",
    "best_svc = grid_search.best_estimator_\n",
    "best_svc.fit(X_train, y_train)"
   ]
  },
  {
   "cell_type": "code",
   "execution_count": 54,
   "metadata": {},
   "outputs": [
    {
     "name": "stdout",
     "output_type": "stream",
     "text": [
      "Accuracy: 0.8260869565217391\n"
     ]
    }
   ],
   "source": [
    "#predictions\n",
    "y_pred = best_svc.predict(X_test)\n",
    "\n",
    "#evaluating accuracy of the model\n",
    "accuracy = accuracy_score(y_test, y_pred)\n",
    "print(\"Accuracy:\", accuracy)"
   ]
  },
  {
   "cell_type": "code",
   "execution_count": 55,
   "metadata": {},
   "outputs": [
    {
     "name": "stdout",
     "output_type": "stream",
     "text": [
      "['Unhealthy' 'Unhealthy' 'Unhealthy' 'Unhealthy' 'Unhealthy' 'Unhealthy'\n",
      " 'Unhealthy' 'Unhealthy' 'Unhealthy' 'Unhealthy' 'Unhealthy' 'Unhealthy'\n",
      " 'Unhealthy' 'Unhealthy' 'Unhealthy' 'Unhealthy' 'Unhealthy' 'Unhealthy'\n",
      " 'Unhealthy' 'Unhealthy' 'Unhealthy' 'Unhealthy' 'Unhealthy' 'Unhealthy'\n",
      " 'Unhealthy' 'Unhealthy' 'Unhealthy' 'Unhealthy' 'Unhealthy' 'Unhealthy'\n",
      " 'Unhealthy' 'Unhealthy' 'Unhealthy' 'Unhealthy' 'Unhealthy' 'Unhealthy'\n",
      " 'Unhealthy' 'Unhealthy' 'Unhealthy' 'Unhealthy' 'Unhealthy' 'Unhealthy'\n",
      " 'Unhealthy' 'Unhealthy' 'Unhealthy' 'Unhealthy' 'Unhealthy' 'Unhealthy'\n",
      " 'Unhealthy' 'Unhealthy' 'Unhealthy' 'Unhealthy' 'Unhealthy' 'Unhealthy'\n",
      " 'Unhealthy' 'Unhealthy' 'Unhealthy' 'Unhealthy' 'Unhealthy' 'Unhealthy'\n",
      " 'Unhealthy' 'Unhealthy' 'Unhealthy' 'Unhealthy' 'Unhealthy' 'Unhealthy'\n",
      " 'Unhealthy' 'Unhealthy' 'Unhealthy']\n"
     ]
    }
   ],
   "source": [
    "print(y_pred)"
   ]
  },
  {
   "cell_type": "code",
   "execution_count": null,
   "metadata": {},
   "outputs": [],
   "source": []
  }
 ],
 "metadata": {
  "kernelspec": {
   "display_name": "Python 3",
   "language": "python",
   "name": "python3"
  },
  "language_info": {
   "codemirror_mode": {
    "name": "ipython",
    "version": 3
   },
   "file_extension": ".py",
   "mimetype": "text/x-python",
   "name": "python",
   "nbconvert_exporter": "python",
   "pygments_lexer": "ipython3",
   "version": "3.8.3"
  }
 },
 "nbformat": 4,
 "nbformat_minor": 4
}
