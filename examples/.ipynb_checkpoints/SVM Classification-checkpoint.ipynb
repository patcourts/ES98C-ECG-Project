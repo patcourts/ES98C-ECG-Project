{
 "cells": [
  {
   "cell_type": "code",
   "execution_count": 1,
   "metadata": {},
   "outputs": [
    {
     "name": "stderr",
     "output_type": "stream",
     "text": [
      "100%|████████████████████████████████████████████████████████████████████████████████| 549/549 [00:12<00:00, 42.84it/s]\n",
      "100%|████████████████████████████████████████████████████████████████████████████████| 196/196 [00:06<00:00, 29.18it/s]\n"
     ]
    }
   ],
   "source": [
    "%run \"Feature_Selection.ipynb\" "
   ]
  },
  {
   "cell_type": "code",
   "execution_count": 2,
   "metadata": {},
   "outputs": [],
   "source": [
    "from sklearn.model_selection import train_test_split, GridSearchCV, StratifiedKFold\n",
    "from sklearn.svm import SVC\n",
    "from sklearn.metrics import accuracy_score, classification_report, confusion_matrix, balanced_accuracy_score\n",
    "from sklearn.preprocessing import StandardScaler\n",
    "from sklearn.decomposition import PCA\n",
    "import itertools"
   ]
  },
  {
   "cell_type": "code",
   "execution_count": 3,
   "metadata": {},
   "outputs": [],
   "source": [
    "health_state = np.array(allowed_patients.get_diagnoses())\n",
    "\n",
    "encoded_health_state = [1 if label == 'Unhealthy' else -1 for label in health_state]"
   ]
  },
  {
   "cell_type": "code",
   "execution_count": 17,
   "metadata": {},
   "outputs": [],
   "source": [
    "def get_av_confusion_matrix(y_test, y_pred):\n",
    "    av_confusion_mat = np.zeros(shape = (len(y_test), 2, 2))\n",
    "    for i in range(0, len(y_test)):\n",
    "        av_confusion_mat[i] = confusion_matrix(y_test[i], y_pred[i])\n",
    "    return np.mean(av_confusion_mat, axis=0)\n",
    "\n",
    "def objective_score(y_test, y_pred):\n",
    "    \"\"\"\n",
    "    change to incorporate balanced accuracy \n",
    "    \"\"\"\n",
    "    balanced_acc = get_balanced_accuracy(y_test, y_pred)\n",
    "    specificity = get_specificity(y_test, y_pred)\n",
    "    f1 = get_f1_score(y_test, y_pred)\n",
    "    \n",
    "    \n",
    "    return f1*0.7 + balanced_acc*0.3\n",
    "\n",
    "def convert_dict_to_array1(params_dict):\n",
    "    no_features = len(params_dict[0])\n",
    "    params_array = np.zeros((no_channels, no_patients, no_features))\n",
    "    for j in range(0, no_channels):\n",
    "        for i, values in enumerate(params_dict[j].values()):\n",
    "            params_array[j][:, i] = values\n",
    "    return params_array, no_features"
   ]
  },
  {
   "cell_type": "markdown",
   "metadata": {},
   "source": [
    "\n",
    "\n",
    "\n",
    "First convert the dictionary containing the parameters to use for each channel into an array of suitable shape for svm models. "
   ]
  },
  {
   "cell_type": "code",
   "execution_count": 31,
   "metadata": {},
   "outputs": [],
   "source": [
    "selected_params_array, no_features = convert_dict_to_array1(selected_params)"
   ]
  },
  {
   "cell_type": "code",
   "execution_count": 32,
   "metadata": {},
   "outputs": [],
   "source": [
    "def tune_hyperparams(params, health_state, param_grid, scorer='balanced_accuracy'):\n",
    "    \n",
    "    X_train, X_test, y_train, y_test = train_test_split(params, health_state, test_size=0.3, stratify=health_state)\n",
    "    \n",
    "    #initialise classifier\n",
    "    svc = SVC(class_weight='balanced', probability = True)\n",
    "\n",
    "    # perform grid search\n",
    "    grid_search = GridSearchCV(svc, param_grid, cv=3, scoring=scorer)\n",
    "    \n",
    "    grid_search.fit(X_train, y_train)\n",
    "    \n",
    "    return grid_search.best_estimator_"
   ]
  },
  {
   "cell_type": "markdown",
   "metadata": {},
   "source": [
    "Then we are optimizing the hyperparameters that are used to train the model by perfroma grid search over the ``param_grid`` dictionary. The hyperparameters are chosen based on their optimisation of the manually defined ``scoring_function``. This takes a while as it has to perform a search over all the possible hyperparameters for each channel."
   ]
  },
  {
   "cell_type": "code",
   "execution_count": 33,
   "metadata": {},
   "outputs": [],
   "source": [
    "# define hyperparameter grid to test\n",
    "param_grid = {\n",
    "    'C': [0.01, 0.1, 1, 10],\n",
    "    'kernel': ['linear', 'rbf', 'poly'],\n",
    "    'gamma': ['scale']#including 'auto' aswell takes forever\n",
    "}\n",
    "\n",
    "\n",
    "best_estimators = []\n",
    "for i in range(0, no_channels):\n",
    "    best_estimators.append(tune_hyperparams(selected_params_array[i], health_state, param_grid, scoring_function))\n",
    "    "
   ]
  },
  {
   "cell_type": "code",
   "execution_count": 34,
   "metadata": {},
   "outputs": [
    {
     "name": "stdout",
     "output_type": "stream",
     "text": [
      "[SVC(C=0.1, class_weight='balanced', kernel='poly', probability=True), SVC(C=0.01, class_weight='balanced', probability=True), SVC(C=0.1, class_weight='balanced', kernel='poly', probability=True), SVC(C=0.01, class_weight='balanced', probability=True), SVC(C=1, class_weight='balanced', kernel='poly', probability=True), SVC(C=0.01, class_weight='balanced', probability=True)]\n"
     ]
    }
   ],
   "source": [
    "print(best_estimators)"
   ]
  },
  {
   "cell_type": "markdown",
   "metadata": {},
   "source": [
    "Now using the best set of hyperparameters we perform a 3 fold stratisfied split to investigate the accuracy. Firstly we can investigate the average accuracy of each channel."
   ]
  },
  {
   "cell_type": "code",
   "execution_count": 35,
   "metadata": {},
   "outputs": [],
   "source": [
    "def skfold_with_probabilities(params, health_state, n_splits, best_estimator, scorer):\n",
    "    \n",
    "    skf = StratifiedKFold(n_splits=n_splits, shuffle=True, random_state=42) #can do repeated skf for better validation\n",
    "    \n",
    "    probabilities = []\n",
    "    sample_percentages = []\n",
    "    y_tests = []\n",
    "    balanced_accuracy = []\n",
    "    score_func = []\n",
    "    for train_index, test_index in skf.split(params, health_state):\n",
    "        #getting test and train data sets\n",
    "        X_train, X_test = params[train_index], params[test_index]\n",
    "        y_train, y_test = health_state[train_index], health_state[test_index]\n",
    "        \n",
    "        \n",
    "        #calculating percentage of healthy in training data\n",
    "        sample_percentages.append(np.mean(y_train == 'Healthy')) #how is threshold measured??? health_state[train_index]??\n",
    "        \n",
    "        #fitting data on previously calculated best estimator\n",
    "        best_estimator.fit(X_train, y_train)\n",
    "        \n",
    "        #evaluating model\n",
    "        y_pred = best_estimator.predict(X_test)\n",
    "        score_func.append(scorer(best_estimator, X_train, y_test))\n",
    "        balanced_accuracy.append(get_balanced_accuracy(y_test, y_pred))\n",
    "        \n",
    "        #for evaluation of model later\n",
    "        probabilities.append(best_estimator.predict_proba(X_test))\n",
    "        y_tests.append(y_test)\n",
    "\n",
    "    return np.mean(np.array(score_func)), np.mean(np.array(balanced_accuracy)), probabilities, sample_percentages, y_tests"
   ]
  },
  {
   "cell_type": "code",
   "execution_count": 36,
   "metadata": {},
   "outputs": [],
   "source": [
    "score_accuracy = []\n",
    "balanced_accuracy = []\n",
    "n_splits=3\n",
    "\n",
    "probs = []\n",
    "thresholds = []\n",
    "y_tests = []\n",
    "\n",
    "for i in range(0, no_channels):\n",
    "    score_acc, bal_acc, prob, threshold, y_test = skfold_with_probabilities(selected_params_array[i], health_state, n_splits, best_estimators[i], scoring_function)\n",
    "    score_accuracy.append(score_acc)\n",
    "    balanced_accuracy.append(bal_acc)\n",
    "    probs.append(prob)\n",
    "    thresholds.append(threshold)\n",
    "    y_tests.append(y_test)\n",
    "    "
   ]
  },
  {
   "cell_type": "code",
   "execution_count": 37,
   "metadata": {},
   "outputs": [
    {
     "data": {
      "text/html": [
       "<div>\n",
       "<style scoped>\n",
       "    .dataframe tbody tr th:only-of-type {\n",
       "        vertical-align: middle;\n",
       "    }\n",
       "\n",
       "    .dataframe tbody tr th {\n",
       "        vertical-align: top;\n",
       "    }\n",
       "\n",
       "    .dataframe thead th {\n",
       "        text-align: right;\n",
       "    }\n",
       "</style>\n",
       "<table border=\"1\" class=\"dataframe\">\n",
       "  <thead>\n",
       "    <tr style=\"text-align: right;\">\n",
       "      <th></th>\n",
       "      <th>Success Metric</th>\n",
       "      <th>Channel 1</th>\n",
       "      <th>Channel 2</th>\n",
       "      <th>Channel 3</th>\n",
       "      <th>Channel 4</th>\n",
       "      <th>Channel 5</th>\n",
       "      <th>Channel 6</th>\n",
       "    </tr>\n",
       "  </thead>\n",
       "  <tbody>\n",
       "    <tr>\n",
       "      <th>0</th>\n",
       "      <td>Objective Score</td>\n",
       "      <td>0.69516838340291</td>\n",
       "      <td>0.5585912172119069</td>\n",
       "      <td>0.6273051199861387</td>\n",
       "      <td>0.5585912172119069</td>\n",
       "      <td>0.5879495602485815</td>\n",
       "      <td>0.5585912172119069</td>\n",
       "    </tr>\n",
       "    <tr>\n",
       "      <th>1</th>\n",
       "      <td>Balanced Accuracy</td>\n",
       "      <td>0.6972175536881419</td>\n",
       "      <td>0.5</td>\n",
       "      <td>0.656610644257703</td>\n",
       "      <td>0.5</td>\n",
       "      <td>0.6078057889822596</td>\n",
       "      <td>0.5</td>\n",
       "    </tr>\n",
       "  </tbody>\n",
       "</table>\n",
       "</div>"
      ],
      "text/plain": [
       "      Success Metric           Channel 1           Channel 2  \\\n",
       "0    Objective Score    0.69516838340291  0.5585912172119069   \n",
       "1  Balanced Accuracy  0.6972175536881419                 0.5   \n",
       "\n",
       "            Channel 3           Channel 4           Channel 5  \\\n",
       "0  0.6273051199861387  0.5585912172119069  0.5879495602485815   \n",
       "1   0.656610644257703                 0.5  0.6078057889822596   \n",
       "\n",
       "            Channel 6  \n",
       "0  0.5585912172119069  \n",
       "1                 0.5  "
      ]
     },
     "execution_count": 37,
     "metadata": {},
     "output_type": "execute_result"
    }
   ],
   "source": [
    "import pandas as pd\n",
    "\n",
    "#presenting results as pandas df\n",
    "data = {\n",
    "    'Success Metric': ['Objective Score', 'Balanced Accuracy'],\n",
    "    'Channel 1': [f'{score_accuracy[0]}', f'{balanced_accuracy[0]}'],\n",
    "    'Channel 2': [f'{score_accuracy[1]}', f'{balanced_accuracy[1]}'],\n",
    "    'Channel 3': [f'{score_accuracy[2]}', f'{balanced_accuracy[2]}'],\n",
    "    'Channel 4': [f'{score_accuracy[3]}', f'{balanced_accuracy[3]}'],\n",
    "    'Channel 5': [f'{score_accuracy[4]}', f'{balanced_accuracy[4]}'],\n",
    "    'Channel 6': [f'{score_accuracy[5]}', f'{balanced_accuracy[5]}'],\n",
    "    \n",
    "}\n",
    "\n",
    "df = pd.DataFrame(data)\n",
    "\n",
    "df"
   ]
  },
  {
   "cell_type": "markdown",
   "metadata": {},
   "source": [
    "Then can average the probabilities for each channel to get an overall accuracy for the method."
   ]
  },
  {
   "cell_type": "code",
   "execution_count": 38,
   "metadata": {},
   "outputs": [
    {
     "name": "stdout",
     "output_type": "stream",
     "text": [
      "[[0.2230769230769231, 0.22900763358778625, 0.22137404580152673], [0.2230769230769231, 0.22900763358778625, 0.22137404580152673], [0.2230769230769231, 0.22900763358778625, 0.22137404580152673], [0.2230769230769231, 0.22900763358778625, 0.22137404580152673], [0.2230769230769231, 0.22900763358778625, 0.22137404580152673], [0.2230769230769231, 0.22900763358778625, 0.22137404580152673]]\n",
      "[0]\n",
      "0.7698095238095237\n",
      "[1]\n",
      "0.35289855072463766\n",
      "[2]\n",
      "0.635310477814314\n",
      "[3]\n",
      "0.35289855072463766\n",
      "[4]\n",
      "0.6687421759527021\n",
      "[5]\n",
      "0.35289855072463766\n",
      "[0, 1]\n",
      "0.5862664096423077\n",
      "[0, 2]\n",
      "0.7785317715359423\n",
      "[0, 3]\n",
      "0.41415878186872107\n",
      "[0, 4]\n",
      "0.733318211342508\n",
      "[0, 5]\n",
      "0.6332009276829011\n",
      "[1, 2]\n",
      "0.4573069684013957\n",
      "[1, 3]\n",
      "0.35289855072463766\n",
      "[1, 4]\n",
      "0.5649557506170785\n",
      "[1, 5]\n",
      "0.35289855072463766\n",
      "[2, 3]\n",
      "0.3588044920666203\n",
      "[2, 4]\n",
      "0.6759542520565538\n",
      "[2, 5]\n",
      "0.49941201041820243\n",
      "[3, 4]\n",
      "0.44544979646118166\n",
      "[3, 5]\n",
      "0.35289855072463766\n",
      "[4, 5]\n",
      "0.5356494389770713\n",
      "[0, 1, 2]\n",
      "0.6744592486970459\n",
      "[0, 1, 3]\n",
      "0.3633527508090615\n",
      "[0, 1, 4]\n",
      "0.6789650968204638\n",
      "[0, 1, 5]\n",
      "0.46492070021481785\n",
      "[0, 2, 3]\n",
      "0.46217591159270716\n",
      "[0, 2, 4]\n",
      "0.7575100465702772\n",
      "[0, 2, 5]\n",
      "0.6983679564849194\n",
      "[0, 3, 4]\n",
      "0.5043720132861887\n",
      "[0, 3, 5]\n",
      "0.36166666666666664\n",
      "[0, 4, 5]\n",
      "0.7015492264416313\n",
      "[1, 2, 3]\n",
      "0.3497272727272727\n",
      "[1, 2, 4]\n",
      "0.5808080443745229\n",
      "[1, 2, 5]\n",
      "0.3545523487288193\n",
      "[1, 3, 4]\n",
      "0.35888434502973904\n",
      "[1, 3, 5]\n",
      "0.35289855072463766\n",
      "[1, 4, 5]\n",
      "0.4352362477075819\n",
      "[2, 3, 4]\n",
      "0.46779601154002526\n",
      "[2, 3, 5]\n",
      "0.3445975975975976\n",
      "[2, 4, 5]\n",
      "0.5542147574583449\n",
      "[3, 4, 5]\n",
      "0.385543470218276\n",
      "[0, 1, 2, 3]\n",
      "0.36468685692098624\n",
      "[0, 1, 2, 4]\n",
      "0.6877190469568442\n",
      "[0, 1, 2, 5]\n",
      "0.45940028075205713\n",
      "[0, 1, 3, 4]\n",
      "0.41669026427607375\n",
      "[0, 1, 3, 5]\n",
      "0.35476543209876543\n",
      "[0, 1, 4, 5]\n",
      "0.5105251341640746\n",
      "[0, 2, 3, 4]\n",
      "0.5590187780159092\n",
      "[0, 2, 3, 5]\n",
      "0.3563986928104575\n",
      "[0, 2, 4, 5]\n",
      "0.6809273504273503\n",
      "[0, 3, 4, 5]\n",
      "0.40123766429648783\n",
      "[1, 2, 3, 4]\n",
      "0.39546669842025883\n",
      "[1, 2, 3, 5]\n",
      "0.3428333333333333\n",
      "[1, 2, 4, 5]\n",
      "0.45445039343749105\n",
      "[1, 3, 4, 5]\n",
      "0.3489295938985173\n",
      "[2, 3, 4, 5]\n",
      "0.4115815118746325\n",
      "[0, 1, 2, 3, 4]\n",
      "0.41697211711195187\n",
      "[0, 1, 2, 3, 5]\n",
      "0.3511553398058252\n",
      "[0, 1, 2, 4, 5]\n",
      "0.5531943308750171\n",
      "[0, 1, 3, 4, 5]\n",
      "0.3518697838109603\n",
      "[0, 2, 3, 4, 5]\n",
      "0.44656826788865867\n",
      "[1, 2, 3, 4, 5]\n",
      "0.36932864085805256\n",
      "[0, 1, 2, 3, 4, 5]\n",
      "0.37597271295757023\n"
     ]
    }
   ],
   "source": [
    "def average_probabilities(probs, n_splits, channels):\n",
    "    average_probs = []\n",
    "    for i in range(0, n_splits):\n",
    "        probas = []\n",
    "        for channel in channels:\n",
    "            probas.append(probs[channel][i])\n",
    "        average_probs.append(np.mean(probas, axis=0)[:, 0])\n",
    "    return average_probs\n",
    "\n",
    "def manual_y_pred(average_probs, n_splits, thresholds):\n",
    "    manual_y_pred = []\n",
    "    for i in range(0, n_splits):\n",
    "        manual_predict = []\n",
    "        for j in range(0, len(average_probs[i])):\n",
    "            if average_probs[i][j] > thresholds[0][i]:\n",
    "                manual_predict.append('Healthy')\n",
    "            else:\n",
    "                manual_predict.append('Unhealthy')\n",
    "        manual_y_pred.append(manual_predict)\n",
    "    return manual_y_pred\n",
    "\n",
    "\n",
    "channel_indices_list = [0, 1, 2, 3, 4, 5]\n",
    "all_combinations = []\n",
    "for r in range(1, len(probs) + 1):\n",
    "    combination = list(itertools.combinations(channel_indices_list, r))\n",
    "    all_combinations.extend(combination)\n",
    "    \n",
    "print(thresholds)\n",
    "best_score = 0\n",
    "best_channel_indices = []\n",
    "for combo in all_combinations:\n",
    "        \n",
    "        # Use combo to get channel indices\n",
    "        selected_channel_indices = [channel_indices_list[i] for i in combo]\n",
    "        print(selected_channel_indices)\n",
    "        combo_probs = average_probabilities(probs, n_splits, selected_channel_indices)\n",
    "        manual_pred = manual_y_pred(combo_probs, n_splits, thresholds)\n",
    "        \n",
    "        score = []\n",
    "        for i in range(0, n_splits):\n",
    "            score.append(objective_score(y_tests[0][i], manual_pred[i]))\n",
    "            \n",
    "        print(np.average(score))\n",
    "        if np.average(score) > best_score:\n",
    "                best_score = np.average(score)\n",
    "                best_channel_indices = selected_channel_indices\n"
   ]
  },
  {
   "cell_type": "code",
   "execution_count": 39,
   "metadata": {},
   "outputs": [
    {
     "name": "stdout",
     "output_type": "stream",
     "text": [
      "0.7785317715359423\n",
      "[0, 2]\n"
     ]
    }
   ],
   "source": [
    "print(best_score)\n",
    "print(best_channel_indices)"
   ]
  },
  {
   "cell_type": "code",
   "execution_count": 40,
   "metadata": {},
   "outputs": [
    {
     "name": "stdout",
     "output_type": "stream",
     "text": [
      "dict_keys(['kurtosis', 'shannon_en', 'sd_ratio'])\n",
      "dict_keys(['lf', 'shannon_en', 'sd_ratio'])\n",
      "dict_keys(['skews', 'shannon_en', 'sd_ratio'])\n",
      "dict_keys(['skews', 'lf', 'sd_ratio'])\n",
      "dict_keys(['std', 'skews', 'sd_ratio'])\n",
      "dict_keys(['rr_std', 'RMSSD', 'std'])\n"
     ]
    }
   ],
   "source": [
    "for i in range(0, no_channels):\n",
    "    print(selected_params[i].keys())"
   ]
  }
 ],
 "metadata": {
  "kernelspec": {
   "display_name": "Python 3",
   "language": "python",
   "name": "python3"
  },
  "language_info": {
   "codemirror_mode": {
    "name": "ipython",
    "version": 3
   },
   "file_extension": ".py",
   "mimetype": "text/x-python",
   "name": "python",
   "nbconvert_exporter": "python",
   "pygments_lexer": "ipython3",
   "version": "3.8.3"
  }
 },
 "nbformat": 4,
 "nbformat_minor": 4
}
